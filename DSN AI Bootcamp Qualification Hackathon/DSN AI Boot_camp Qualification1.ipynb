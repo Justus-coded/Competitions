{
  "nbformat": 4,
  "nbformat_minor": 0,
  "metadata": {
    "kernelspec": {
      "language": "python",
      "display_name": "Python 3",
      "name": "python3"
    },
    "language_info": {
      "name": "python",
      "version": "3.7.6",
      "mimetype": "text/x-python",
      "codemirror_mode": {
        "name": "ipython",
        "version": 3
      },
      "pygments_lexer": "ipython3",
      "nbconvert_exporter": "python",
      "file_extension": ".py"
    },
    "colab": {
      "name": "DSN AI Boot camp Qualification1.ipynb",
      "provenance": [],
      "include_colab_link": true
    },
    "accelerator": "GPU"
  },
  "cells": [
    {
      "cell_type": "markdown",
      "metadata": {
        "id": "view-in-github",
        "colab_type": "text"
      },
      "source": [
        "<a href=\"https://colab.research.google.com/github/Justus-coded/Competitions/blob/master/DSN%20AI%20Bootcamp%20Qualification%20Hackathon/DSN%20AI%20Boot_camp%20Qualification1.ipynb\" target=\"_parent\"><img src=\"https://colab.research.google.com/assets/colab-badge.svg\" alt=\"Open In Colab\"/></a>"
      ]
    },
    {
      "cell_type": "code",
      "metadata": {
        "id": "lTYsttC3sjHh",
        "trusted": true,
        "outputId": "c2a09f40-bb97-4ecf-df12-2c17d68871a8",
        "colab": {
          "base_uri": "https://localhost:8080/",
          "height": 72
        }
      },
      "source": [
        "import pandas as pd\n",
        "import numpy as np\n",
        "import seaborn as sns\n",
        "import matplotlib.pyplot as plt\n",
        " \n",
        "%matplotlib inline\n",
        " \n",
        "import warnings\n",
        "warnings.filterwarnings('ignore')"
      ],
      "execution_count": 1,
      "outputs": [
        {
          "output_type": "stream",
          "text": [
            "/usr/local/lib/python3.6/dist-packages/statsmodels/tools/_testing.py:19: FutureWarning: pandas.util.testing is deprecated. Use the functions in the public API at pandas.testing instead.\n",
            "  import pandas.util.testing as tm\n"
          ],
          "name": "stderr"
        }
      ]
    },
    {
      "cell_type": "code",
      "metadata": {
        "id": "lJdWtcbpgDWK",
        "trusted": true,
        "outputId": "ac1e1a6a-2e13-4bd5-827a-33e343f3bc25",
        "colab": {
          "base_uri": "https://localhost:8080/",
          "height": 34
        }
      },
      "source": [
        "from google.colab import drive\n",
        "drive.mount('/content/drive')"
      ],
      "execution_count": 2,
      "outputs": [
        {
          "output_type": "stream",
          "text": [
            "Mounted at /content/drive\n"
          ],
          "name": "stdout"
        }
      ]
    },
    {
      "cell_type": "code",
      "metadata": {
        "id": "ygKIugwesjH5",
        "trusted": true
      },
      "source": [
        "train = pd.read_csv('/content/drive/My Drive/DSN AI Bootcamp Qualification Hackathon/Train.csv')\n",
        "test  = pd.read_csv('/content/drive/My Drive/DSN AI Bootcamp Qualification Hackathon/Test.csv')\n",
        " \n",
        "#train = pd.read_csv('../input/dsn-ai-bootcamp-data/Train.csv')\n",
        "#test = pd.read_csv('../input/dsn-ai-bootcamp-data/Test.csv')\n",
        "#sub = pd.read_csv('../input/dsn-ai-bootcamp-data/SampleSubmission.csv')"
      ],
      "execution_count": 3,
      "outputs": []
    },
    {
      "cell_type": "code",
      "metadata": {
        "id": "ixvLHcBnsjIL",
        "trusted": true
      },
      "source": [
        "dict_ = {'charge': 1,\n",
        "         'lending': 0}\n",
        " \n",
        "target_map = {\n",
        "    'yes': 1,\n",
        "    'no': 0}\n",
        " \n",
        "train.default_status.replace(target_map, inplace = True)\n",
        " \n",
        "train['form_field47'].replace(dict_, inplace = True)\n",
        "test['form_field47'].replace(dict_, inplace = True)"
      ],
      "execution_count": 4,
      "outputs": []
    },
    {
      "cell_type": "code",
      "metadata": {
        "id": "6ZJIgEJkhkqM",
        "trusted": true,
        "outputId": "ee9fc38f-e509-4bbe-ce78-f2a2ea8b5c77",
        "colab": {
          "base_uri": "https://localhost:8080/",
          "height": 356
        }
      },
      "source": [
        "pip install catboost"
      ],
      "execution_count": 5,
      "outputs": [
        {
          "output_type": "stream",
          "text": [
            "Collecting catboost\n",
            "\u001b[?25l  Downloading https://files.pythonhosted.org/packages/90/86/c3dcb600b4f9e7584ed90ea9d30a717fb5c0111574675f442c3e7bc19535/catboost-0.24.1-cp36-none-manylinux1_x86_64.whl (66.1MB)\n",
            "\u001b[K     |████████████████████████████████| 66.1MB 44kB/s \n",
            "\u001b[?25hRequirement already satisfied: plotly in /usr/local/lib/python3.6/dist-packages (from catboost) (4.4.1)\n",
            "Requirement already satisfied: six in /usr/local/lib/python3.6/dist-packages (from catboost) (1.15.0)\n",
            "Requirement already satisfied: pandas>=0.24.0 in /usr/local/lib/python3.6/dist-packages (from catboost) (1.0.5)\n",
            "Requirement already satisfied: numpy>=1.16.0 in /usr/local/lib/python3.6/dist-packages (from catboost) (1.18.5)\n",
            "Requirement already satisfied: graphviz in /usr/local/lib/python3.6/dist-packages (from catboost) (0.10.1)\n",
            "Requirement already satisfied: scipy in /usr/local/lib/python3.6/dist-packages (from catboost) (1.4.1)\n",
            "Requirement already satisfied: matplotlib in /usr/local/lib/python3.6/dist-packages (from catboost) (3.2.2)\n",
            "Requirement already satisfied: retrying>=1.3.3 in /usr/local/lib/python3.6/dist-packages (from plotly->catboost) (1.3.3)\n",
            "Requirement already satisfied: pytz>=2017.2 in /usr/local/lib/python3.6/dist-packages (from pandas>=0.24.0->catboost) (2018.9)\n",
            "Requirement already satisfied: python-dateutil>=2.6.1 in /usr/local/lib/python3.6/dist-packages (from pandas>=0.24.0->catboost) (2.8.1)\n",
            "Requirement already satisfied: pyparsing!=2.0.4,!=2.1.2,!=2.1.6,>=2.0.1 in /usr/local/lib/python3.6/dist-packages (from matplotlib->catboost) (2.4.7)\n",
            "Requirement already satisfied: kiwisolver>=1.0.1 in /usr/local/lib/python3.6/dist-packages (from matplotlib->catboost) (1.2.0)\n",
            "Requirement already satisfied: cycler>=0.10 in /usr/local/lib/python3.6/dist-packages (from matplotlib->catboost) (0.10.0)\n",
            "Installing collected packages: catboost\n",
            "Successfully installed catboost-0.24.1\n"
          ],
          "name": "stdout"
        }
      ]
    },
    {
      "cell_type": "code",
      "metadata": {
        "id": "nA1fJeNFsjIc",
        "trusted": true
      },
      "source": [
        "from sklearn.metrics import roc_auc_score\n",
        "from catboost import CatBoostClassifier"
      ],
      "execution_count": 6,
      "outputs": []
    },
    {
      "cell_type": "code",
      "metadata": {
        "id": "kw9u6xuNsjIt",
        "trusted": true
      },
      "source": [
        "features = train.select_dtypes(exclude = object).columns.drop(['default_status'])"
      ],
      "execution_count": 7,
      "outputs": []
    },
    {
      "cell_type": "code",
      "metadata": {
        "id": "WUnZZc7-sjI9",
        "trusted": true
      },
      "source": [
        "# features"
      ],
      "execution_count": null,
      "outputs": []
    },
    {
      "cell_type": "code",
      "metadata": {
        "id": "hPhK0BEosjJM",
        "trusted": true
      },
      "source": [
        "for col in features:\n",
        "    train[col].fillna(-999, inplace = True)\n",
        "    test[col].fillna(-999, inplace = True)"
      ],
      "execution_count": 8,
      "outputs": []
    },
    {
      "cell_type": "code",
      "metadata": {
        "trusted": true,
        "id": "uJ8ym8YKEZBd"
      },
      "source": [
        "train['form_field1*formfield2'] = train['form_field1'] * train['form_field2']\n",
        "train['form_field1/formfield2'] = train['form_field1'] / train['form_field2']\n",
        " \n",
        "train['form_field1*formfield3'] = train['form_field1'] * train.form_field3\n",
        "train['form_field1*formfield4'] = train.form_field1 * train.form_field4\n",
        "train['form_field1*formfield5'] = train.form_field1 * train.form_field5\n",
        " \n",
        "#train['form_field30*formfield41'] = train['form_field30'] * train['form_field41']\n",
        "#train['form_field31*formfield40'] = train['form_field31'] * train['form_field40']\n",
        " \n",
        "train['form_field6+field7'] =  (train.form_field6 + train.form_field8)/2\n",
        " \n",
        "train['form_field1*formfield6'] = train['form_field1'] * train['form_field6']\n",
        "train['form_field2*formfield6'] = train['form_field2'] * train['form_field6']\n",
        " \n",
        "train['form_field1*formfield9'] = train['form_field1'] * train['form_field9']\n",
        "train['form_field2*formfield9'] = train['form_field2'] * train['form_field9']\n",
        " \n",
        "train['form_field1*formfield37'] = train['form_field1'] * train['form_field37']\n",
        "train['form_field2*formfield37'] = train['form_field2'] * train['form_field37']\n",
        " \n",
        "train['form_field9*formfield6'] = train['form_field9'] * train['form_field6']\n",
        "train['form_field37*formfield6'] = train['form_field37'] * train['form_field6']\n",
        " \n",
        "train['form_field9*formfield37'] = train['form_field9'] * train['form_field37']\n",
        "train['form_field1*formfield8'] = train['form_field1'] * train['form_field8']\n",
        " \n",
        " \n",
        " \n",
        " \n",
        "#train['form_field13/field14'] =(train.form_field13 / train.form_field14)*100\n",
        " \n",
        "#train['form_field32/field33'] = (train['form_field32']+ train['form_field33'])/2\n",
        "#train['form_field36/field38'] = train['form_field36'] / train['form_field38']\n",
        "#train['form_field36/field39'] = train['form_field36'] / train['form_field39']\n",
        "#train['form_field36/field18'] = train['form_field36'] / train['form_field18']\n",
        "#train['form_field36/field20'] = train['form_field36'] / train['form_field20']\n",
        "#train['form_field44*field50'] = train['form_field44'] * train['form_field50']"
      ],
      "execution_count": null,
      "outputs": []
    },
    {
      "cell_type": "code",
      "metadata": {
        "trusted": true,
        "id": "wmDTpph2EZBk"
      },
      "source": [
        "test['form_field1*formfield2'] = test['form_field1'] * test['form_field2']\n",
        "test['form_field1/formfield2'] = test['form_field1'] / test['form_field2']\n",
        " \n",
        "test['form_field1*formfield3'] = test['form_field1'] * test.form_field3\n",
        "test['form_field1*formfield4'] = test.form_field1 * test.form_field4\n",
        "test['form_field1*formfield5'] = test.form_field1 * test.form_field5\n",
        " \n",
        "#test['form_field30*formfield41'] = test['form_field30'] * test['form_field41']\n",
        "#test['form_field31*formfield40'] = test['form_field31'] * test['form_field40']\n",
        " \n",
        "test['form_field6+field7'] =  (test.form_field6 + test.form_field8)/2\n",
        " \n",
        "test['form_field1*formfield6'] = test['form_field1'] * test['form_field6']\n",
        "test['form_field2*formfield6'] = test['form_field2'] * test['form_field6']\n",
        " \n",
        "test['form_field1*formfield9'] = test['form_field1'] * test['form_field9']\n",
        "test['form_field2*formfield9'] = test['form_field2'] * test['form_field9']\n",
        " \n",
        "test['form_field1*formfield37'] = test['form_field1'] * test['form_field37']\n",
        "test['form_field2*formfield37'] = test['form_field2'] * test['form_field37']\n",
        " \n",
        "test['form_field9*formfield6'] = test['form_field9'] * test['form_field6']\n",
        "test['form_field37*formfield6'] = test['form_field37'] *test['form_field6']\n",
        " \n",
        "test['form_field9*formfield37'] = test['form_field9'] * test['form_field37']\n",
        "test['form_field1*formfield8'] = test['form_field1'] * test['form_field8']\n",
        " \n",
        " \n",
        " \n",
        "#test['form_field13/field14'] = (test.form_field13 / test.form_field14)*100\n",
        "#test['form_field32/field33'] = (test['form_field32']+ test['form_field33'])/2\n",
        "#test['form_field36/field38'] = test['form_field36'] / test['form_field38']\n",
        "#test['form_field36/field39'] = test['form_field36'] / test['form_field39']\n",
        "#test['form_field36/field18'] = test['form_field36'] / test['form_field18']\n",
        " \n",
        "#test['form_field36/field20'] = test['form_field36'] / test['form_field20']\n",
        "#test['form_field44*field50'] =test['form_field44'] * test['form_field50']"
      ],
      "execution_count": null,
      "outputs": []
    },
    {
      "cell_type": "code",
      "metadata": {
        "id": "r-ufe1354lL8"
      },
      "source": [
        " for col in features: \n",
        "   \n",
        " \n",
        "    train[col + '_mean_on_field1_'] = train[col].groupby([train['form_field47'],train['form_field1']]).transform('mean')\n",
        "    train[col + '_mean_on_field2_'] = train[col].groupby([train['form_field47'],train['form_field2']]).transform('mean')\n",
        " \n",
        "    train[col + '_sum_on_field1_'] = train[col].groupby([train['form_field47'],train['form_field1']]).transform('sum')\n",
        "    train[col + '_sum_on_field2_'] = train[col].groupby([train['form_field47'],train['form_field2']]).transform('sum')\n",
        "\n",
        "    test[col + '_mean_on_field1_'] = test[col].groupby([test['form_field47'],test['form_field1']]).transform('mean')\n",
        "    test[col + '_mean_on_field2_'] = test[col].groupby([test['form_field47'],test['form_field2']]).transform('mean')\n",
        "\n",
        "    test[col + '_sum_on_field1_'] = test[col].groupby([test['form_field47'],test['form_field1']]).transform('sum')\n",
        "    test[col + '_sum_on_field2_'] = test[col].groupby([test['form_field47'],test['form_field2']]).transform('sum')"
      ],
      "execution_count": null,
      "outputs": []
    },
    {
      "cell_type": "code",
      "metadata": {
        "id": "R1sBwoZNXPDc",
        "outputId": "22ec8108-045d-4465-b89c-9df9f3871de3",
        "colab": {
          "base_uri": "https://localhost:8080/",
          "height": 34
        }
      },
      "source": [
        "num_cols = train.select_dtypes(exclude = object).columns.drop(['default_status'])\n",
        "len(num_cols), len(features)\n"
      ],
      "execution_count": null,
      "outputs": [
        {
          "output_type": "execute_result",
          "data": {
            "text/plain": [
              "(266, 50)"
            ]
          },
          "metadata": {
            "tags": []
          },
          "execution_count": 50
        }
      ]
    },
    {
      "cell_type": "code",
      "metadata": {
        "id": "mx7-5t79YEe8"
      },
      "source": [
        "#features"
      ],
      "execution_count": null,
      "outputs": []
    },
    {
      "cell_type": "code",
      "metadata": {
        "id": "qsaVd8sGsjJi",
        "trusted": true
      },
      "source": [
        "X = train[features]\n",
        "y = train['default_status']"
      ],
      "execution_count": 9,
      "outputs": []
    },
    {
      "cell_type": "code",
      "metadata": {
        "id": "9gxp50oMYqaO"
      },
      "source": [
        "test_cols = test.select_dtypes(exclude = object).columns\n"
      ],
      "execution_count": null,
      "outputs": []
    },
    {
      "cell_type": "code",
      "metadata": {
        "id": "2vzw4M_-sjJw",
        "trusted": true
      },
      "source": [
        "from sklearn.model_selection import StratifiedKFold"
      ],
      "execution_count": 10,
      "outputs": []
    },
    {
      "cell_type": "code",
      "metadata": {
        "id": "Pqumr-QosjJ-",
        "trusted": true
      },
      "source": [
        "def metric(y, pred):\n",
        "    return roc_auc_score(y, pred, labels=[0, 1])"
      ],
      "execution_count": 11,
      "outputs": []
    },
    {
      "cell_type": "code",
      "metadata": {
        "id": "mSzq68IusjKM",
        "trusted": true
      },
      "source": [
        "# Specify number of folds\n",
        "n_skf = 10\n",
        "kf = StratifiedKFold(n_skf)\n",
        " \n",
        "#seed = 42\n",
        " \n",
        "## Manually tweak the hyperparameter, learning rate and n_estimators especially\n",
        "params = {'max_depth':8,\n",
        "    'n_estimators': 4000,\n",
        "    'learning_rate': 0.01,\n",
        "    'objective': 'CrossEntropy',\n",
        "      'eval_metric':'AUC',\n",
        "    \n",
        "    'early_stopping_rounds': 200,\n",
        "    'use_best_model': True,\n",
        "}"
      ],
      "execution_count": 12,
      "outputs": []
    },
    {
      "cell_type": "code",
      "metadata": {
        "scrolled": true,
        "id": "CVC4mh-nsjKa",
        "trusted": true,
        "outputId": "523ae6ff-2efa-44bf-b569-c9b09efc88a4",
        "colab": {
          "base_uri": "https://localhost:8080/",
          "height": 247
        }
      },
      "source": [
        "score_list = []\n",
        "score = 0\n",
        "test_oofs = []\n",
        " \n",
        "for i, (tr_idx, vr_idx) in enumerate(kf.split(X, y)):\n",
        "    \n",
        "    xtrain, ytrain = X.loc[tr_idx, features], y.loc[tr_idx]\n",
        "    xval, yval = X.loc[vr_idx, features], y.loc[vr_idx]\n",
        " \n",
        "    model = CatBoostClassifier(**params, task_type='GPU',random_seed = i)\n",
        "    model.fit(xtrain, ytrain, eval_set=[(xval,yval)], verbose=0)\n",
        "    \n",
        "    p = model.predict_proba(xval)[:, 1]\n",
        "    sc = metric(yval, p)\n",
        "    score_list.append(sc)\n",
        "    score += sc/n_skf\n",
        "    \n",
        "    pred = model.predict_proba(test[features])[:, 1]\n",
        "    test_oofs.append(pred)\n",
        " \n",
        "    print('Fold {} : {}'.format(i, sc))\n",
        " \n",
        "print()\n",
        "print()\n",
        "print('Avg log : ', score)"
      ],
      "execution_count": 14,
      "outputs": [
        {
          "output_type": "stream",
          "text": [
            "Fold 0 : 0.8334898539296328\n",
            "Fold 1 : 0.8490768906782543\n",
            "Fold 2 : 0.8414430836782392\n",
            "Fold 3 : 0.8358279180656504\n",
            "Fold 4 : 0.8443776508250574\n",
            "Fold 5 : 0.8422911535204702\n",
            "Fold 6 : 0.8209136438735516\n",
            "Fold 7 : 0.8436073476559159\n",
            "Fold 8 : 0.8570647646813827\n",
            "Fold 9 : 0.8475554128936342\n",
            "\n",
            "\n",
            "Avg log :  0.841564771980179\n"
          ],
          "name": "stdout"
        }
      ]
    },
    {
      "cell_type": "code",
      "metadata": {
        "scrolled": true,
        "id": "rEp1xVpysjKw",
        "trusted": true,
        "outputId": "fc5f4f44-1003-46ad-fc98-335ec7916a7c",
        "colab": {
          "base_uri": "https://localhost:8080/",
          "height": 35
        }
      },
      "source": [
        "f\"{n_skf} fold CV, score: {score}\" #Increase in local cv score should probably lead to increase in Leaderboard score"
      ],
      "execution_count": null,
      "outputs": [
        {
          "output_type": "execute_result",
          "data": {
            "application/vnd.google.colaboratory.intrinsic+json": {
              "type": "string"
            },
            "text/plain": [
              "'15 fold CV, score: 0.8419128124711005'"
            ]
          },
          "metadata": {
            "tags": []
          },
          "execution_count": 18
        }
      ]
    },
    {
      "cell_type": "markdown",
      "metadata": {
        "id": "uxzFzkgeRwvS"
      },
      "source": [
        "15 fold CV, score: 0.8419128124711005, LR-0.008, n_estimator = 5000, seed = i, depth = 7, submit12.csv, Added more aggregate features"
      ]
    },
    {
      "cell_type": "markdown",
      "metadata": {
        "id": "2tvXmEs5EZCb"
      },
      "source": [
        "'15 fold CV, score: 0.8416762360251805', LR-0.005, n_estimator = 10000, seed = i, depth = 7, submit10.csv"
      ]
    },
    {
      "cell_type": "markdown",
      "metadata": {
        "id": "LEOZcyX8EZCc"
      },
      "source": [
        "'15 fold CV, score: 0.8416215384358319', LR-0.008, n_estimator = 5000, seed = i, depth = 8"
      ]
    },
    {
      "cell_type": "markdown",
      "metadata": {
        "id": "bXCoakuiEZCe"
      },
      "source": [
        "'20 fold CV, score: 0.8419991965085709',LR-0.008, n_estimator = 5000, seed = i, depth = 7, submit9.csv"
      ]
    },
    {
      "cell_type": "markdown",
      "metadata": {
        "id": "fY0XdYylEZCf"
      },
      "source": [
        "'15 fold CV, score: 0.8419018702724905', LR-0.008, n_estimator = 5000, seed = i, depth = 7, submit8.csv, Best score on LB"
      ]
    },
    {
      "cell_type": "markdown",
      "metadata": {
        "id": "GJyuNaq0EZCh"
      },
      "source": [
        "'15 fold CV, score: 0.8418325697189986, LR-0.008, n_estimator = 5000, seed = 42, depth = 7, submit7.csv"
      ]
    },
    {
      "cell_type": "markdown",
      "metadata": {
        "id": "Br93cxfnEZCi"
      },
      "source": [
        "'10 fold CV, score: 0.8416283637107365', LR-0.008, n_estimator = 5000, seed = 42, depth = 7, submit5.csv"
      ]
    },
    {
      "cell_type": "markdown",
      "metadata": {
        "id": "4vsUl6wxEZCk"
      },
      "source": [
        "'10 fold CV, score: 0.8404761359972677', LR-0.008, n_estimator = 5000, seed = 42, depth = 10, submit4.csv"
      ]
    },
    {
      "cell_type": "markdown",
      "metadata": {
        "id": "4A-JXnsTEZCl"
      },
      "source": [
        "'10 fold CV, score: 0.8416127641119365', LR-0.008, n_estimator = 5000, seed = 2020"
      ]
    },
    {
      "cell_type": "markdown",
      "metadata": {
        "id": "L5-0vhtIEZCn"
      },
      "source": [
        "'10 fold CV, score: 0.8415039416559706', LR-0.008, n_estimator = 5000, seed = 42"
      ]
    },
    {
      "cell_type": "markdown",
      "metadata": {
        "id": "rnU3HLczsjLA"
      },
      "source": [
        "### Since we are using cross validation, We'll have `n` different predictions (where n is the number of fold)"
      ]
    },
    {
      "cell_type": "code",
      "metadata": {
        "id": "VO7c0-a6sjLD",
        "trusted": true
      },
      "source": [
        "oof_prediction = pd.DataFrame(test_oofs).T"
      ],
      "execution_count": 15,
      "outputs": []
    },
    {
      "cell_type": "code",
      "metadata": {
        "id": "vKYZMsjWsjLU",
        "trusted": true
      },
      "source": [
        "oof_prediction.columns = ['fold_'+ str(i) for i in range(1, n_skf + 1)]"
      ],
      "execution_count": 16,
      "outputs": []
    },
    {
      "cell_type": "code",
      "metadata": {
        "id": "w6aN3-LPsjLk",
        "trusted": true,
        "outputId": "0fd3daea-bdd2-4eea-dd08-233cf0104878",
        "colab": {
          "base_uri": "https://localhost:8080/",
          "height": 197
        }
      },
      "source": [
        "oof_prediction.head()"
      ],
      "execution_count": 17,
      "outputs": [
        {
          "output_type": "execute_result",
          "data": {
            "text/html": [
              "<div>\n",
              "<style scoped>\n",
              "    .dataframe tbody tr th:only-of-type {\n",
              "        vertical-align: middle;\n",
              "    }\n",
              "\n",
              "    .dataframe tbody tr th {\n",
              "        vertical-align: top;\n",
              "    }\n",
              "\n",
              "    .dataframe thead th {\n",
              "        text-align: right;\n",
              "    }\n",
              "</style>\n",
              "<table border=\"1\" class=\"dataframe\">\n",
              "  <thead>\n",
              "    <tr style=\"text-align: right;\">\n",
              "      <th></th>\n",
              "      <th>fold_1</th>\n",
              "      <th>fold_2</th>\n",
              "      <th>fold_3</th>\n",
              "      <th>fold_4</th>\n",
              "      <th>fold_5</th>\n",
              "      <th>fold_6</th>\n",
              "      <th>fold_7</th>\n",
              "      <th>fold_8</th>\n",
              "      <th>fold_9</th>\n",
              "      <th>fold_10</th>\n",
              "    </tr>\n",
              "  </thead>\n",
              "  <tbody>\n",
              "    <tr>\n",
              "      <th>0</th>\n",
              "      <td>0.327244</td>\n",
              "      <td>0.324674</td>\n",
              "      <td>0.333337</td>\n",
              "      <td>0.304608</td>\n",
              "      <td>0.319883</td>\n",
              "      <td>0.342275</td>\n",
              "      <td>0.283555</td>\n",
              "      <td>0.311426</td>\n",
              "      <td>0.305262</td>\n",
              "      <td>0.318164</td>\n",
              "    </tr>\n",
              "    <tr>\n",
              "      <th>1</th>\n",
              "      <td>0.398942</td>\n",
              "      <td>0.336992</td>\n",
              "      <td>0.408051</td>\n",
              "      <td>0.373750</td>\n",
              "      <td>0.442569</td>\n",
              "      <td>0.395461</td>\n",
              "      <td>0.385470</td>\n",
              "      <td>0.297000</td>\n",
              "      <td>0.465989</td>\n",
              "      <td>0.307133</td>\n",
              "    </tr>\n",
              "    <tr>\n",
              "      <th>2</th>\n",
              "      <td>0.336743</td>\n",
              "      <td>0.367640</td>\n",
              "      <td>0.393076</td>\n",
              "      <td>0.383906</td>\n",
              "      <td>0.395903</td>\n",
              "      <td>0.399500</td>\n",
              "      <td>0.409773</td>\n",
              "      <td>0.373667</td>\n",
              "      <td>0.341394</td>\n",
              "      <td>0.384899</td>\n",
              "    </tr>\n",
              "    <tr>\n",
              "      <th>3</th>\n",
              "      <td>0.728965</td>\n",
              "      <td>0.781458</td>\n",
              "      <td>0.744904</td>\n",
              "      <td>0.760769</td>\n",
              "      <td>0.732282</td>\n",
              "      <td>0.764461</td>\n",
              "      <td>0.786223</td>\n",
              "      <td>0.739729</td>\n",
              "      <td>0.761044</td>\n",
              "      <td>0.746428</td>\n",
              "    </tr>\n",
              "    <tr>\n",
              "      <th>4</th>\n",
              "      <td>0.144130</td>\n",
              "      <td>0.142260</td>\n",
              "      <td>0.161318</td>\n",
              "      <td>0.170247</td>\n",
              "      <td>0.182970</td>\n",
              "      <td>0.166676</td>\n",
              "      <td>0.159313</td>\n",
              "      <td>0.150797</td>\n",
              "      <td>0.169423</td>\n",
              "      <td>0.132669</td>\n",
              "    </tr>\n",
              "  </tbody>\n",
              "</table>\n",
              "</div>"
            ],
            "text/plain": [
              "     fold_1    fold_2    fold_3  ...    fold_8    fold_9   fold_10\n",
              "0  0.327244  0.324674  0.333337  ...  0.311426  0.305262  0.318164\n",
              "1  0.398942  0.336992  0.408051  ...  0.297000  0.465989  0.307133\n",
              "2  0.336743  0.367640  0.393076  ...  0.373667  0.341394  0.384899\n",
              "3  0.728965  0.781458  0.744904  ...  0.739729  0.761044  0.746428\n",
              "4  0.144130  0.142260  0.161318  ...  0.150797  0.169423  0.132669\n",
              "\n",
              "[5 rows x 10 columns]"
            ]
          },
          "metadata": {
            "tags": []
          },
          "execution_count": 17
        }
      ]
    },
    {
      "cell_type": "code",
      "metadata": {
        "id": "LUBJMAt5sjLz",
        "trusted": true
      },
      "source": [
        "sub = pd.read_csv('/content/drive/My Drive/DSN AI Bootcamp Qualification Hackathon/SampleSubmission.csv')"
      ],
      "execution_count": 18,
      "outputs": []
    },
    {
      "cell_type": "code",
      "metadata": {
        "id": "cAb7F5E-sjMB",
        "trusted": true
      },
      "source": [
        "### We take the mean of all 5 predictions to generate submission"
      ],
      "execution_count": 19,
      "outputs": []
    },
    {
      "cell_type": "code",
      "metadata": {
        "id": "bkDFca5-sjMR",
        "trusted": true
      },
      "source": [
        "sub['default_status'] = np.mean(test_oofs, axis = 0)"
      ],
      "execution_count": 20,
      "outputs": []
    },
    {
      "cell_type": "code",
      "metadata": {
        "id": "m5ib6M4isjMk",
        "trusted": true
      },
      "source": [
        "sub.to_csv('submit13.csv', index = False)"
      ],
      "execution_count": 21,
      "outputs": []
    },
    {
      "cell_type": "code",
      "metadata": {
        "id": "X2wyo8qOVOHg",
        "outputId": "f3e31268-1b82-491c-9367-f0485cbe3942",
        "colab": {
          "base_uri": "https://localhost:8080/",
          "height": 34
        }
      },
      "source": [
        "len(model.feature_importances_)"
      ],
      "execution_count": 22,
      "outputs": [
        {
          "output_type": "execute_result",
          "data": {
            "text/plain": [
              "50"
            ]
          },
          "metadata": {
            "tags": []
          },
          "execution_count": 22
        }
      ]
    },
    {
      "cell_type": "code",
      "metadata": {
        "id": "Twas44HaVex5"
      },
      "source": [
        "#feature_importance_df"
      ],
      "execution_count": 24,
      "outputs": []
    },
    {
      "cell_type": "code",
      "metadata": {
        "id": "hsywudQTVkRn"
      },
      "source": [
        "#len(test.columns)"
      ],
      "execution_count": 25,
      "outputs": []
    },
    {
      "cell_type": "code",
      "metadata": {
        "id": "BLxRIEjYU1GX",
        "outputId": "e0dc4457-9b96-446b-cb6c-dc3d544ffc3a",
        "colab": {
          "base_uri": "https://localhost:8080/",
          "height": 377
        }
      },
      "source": [
        "feature_importance_df = pd.DataFrame(model.feature_importances_, columns=['importance'])\n",
        "feature_importance_df['feature'] = features\n",
        "\n",
        "plt.figure(figsize=(12, 6));\n",
        "sns.barplot(x=\"importance\", y=\"feature\", data=feature_importance_df.sort_values(by = ['importance'], ascending = False).head(40))\n",
        "plt.title('CatBoostClassifier features importance:');"
      ],
      "execution_count": 26,
      "outputs": [
        {
          "output_type": "display_data",
          "data": {
            "image/png": "[encoded data removed]",
            "text/plain": [
              "<Figure size 864x432 with 1 Axes>"
            ]
          },
          "metadata": {
            "tags": [],
            "needs_background": "light"
          }
        }
      ]
    },
    {
      "cell_type": "markdown",
      "metadata": {
        "id": "u0VGKog9sjMz"
      },
      "source": [
        "### Suggestions:\n",
        "- Base your feature selection on the local cv score i.e When you add, remove or engineer feature check `score` (cell 17)\n",
        "- Increase number of fold to 10, 15. See how score imporve on leaderboard.\n",
        "- Try differnt value of learning rate. I'll advice anything < 0.01\n",
        "- Create as many features as possible.\n",
        "- Find code for Xgboost and lgbm using this method of modelling, or better still tweak this one (mind you, names of parameters may be slightly different."
      ]
    },
    {
      "cell_type": "code",
      "metadata": {
        "id": "7d8UrxzosjM1",
        "trusted": false
      },
      "source": [
        ""
      ],
      "execution_count": null,
      "outputs": []
    }
  ]
}