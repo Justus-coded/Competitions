{
  "nbformat": 4,
  "nbformat_minor": 0,
  "metadata": {
    "kernelspec": {
      "display_name": "Python 3",
      "language": "python",
      "name": "python3"
    },
    "language_info": {
      "codemirror_mode": {
        "name": "ipython",
        "version": 3
      },
      "file_extension": ".py",
      "mimetype": "text/x-python",
      "name": "python",
      "nbconvert_exporter": "python",
      "pygments_lexer": "ipython3",
      "version": "3.7.6"
    },
    "colab": {
      "name": "DSN AI Boot camp Qualification1.ipynb",
      "provenance": [],
      "include_colab_link": true
    },
    "accelerator": "GPU"
  },
  "cells": [
    {
      "cell_type": "markdown",
      "metadata": {
        "id": "view-in-github",
        "colab_type": "text"
      },
      "source": [
        "<a href=\"https://colab.research.google.com/github/Justus-coded/Competitions/blob/master/DSN%20AI%20Bootcamp%20Qualification%20Hackathon/DSN%20AI%20Boot_camp%20Qualification1.ipynb\" target=\"_parent\"><img src=\"https://colab.research.google.com/assets/colab-badge.svg\" alt=\"Open In Colab\"/></a>"
      ]
    },
    {
      "cell_type": "code",
      "metadata": {
        "id": "lTYsttC3sjHh",
        "outputId": "c891ec85-40dc-466b-9012-371bca27f84e",
        "colab": {
          "base_uri": "https://localhost:8080/",
          "height": 72
        }
      },
      "source": [
        "import pandas as pd\n",
        "import numpy as np\n",
        "import seaborn as sns\n",
        "import matplotlib.pyplot as plt\n",
        " \n",
        "%matplotlib inline\n",
        " \n",
        "import warnings\n",
        "warnings.filterwarnings('ignore')"
      ],
      "execution_count": 1,
      "outputs": [
        {
          "output_type": "stream",
          "text": [
            "/usr/local/lib/python3.6/dist-packages/statsmodels/tools/_testing.py:19: FutureWarning: pandas.util.testing is deprecated. Use the functions in the public API at pandas.testing instead.\n",
            "  import pandas.util.testing as tm\n"
          ],
          "name": "stderr"
        }
      ]
    },
    {
      "cell_type": "code",
      "metadata": {
        "id": "lJdWtcbpgDWK",
        "outputId": "f2df06ca-c086-42c7-c84c-ae8b76d18e1f",
        "colab": {
          "base_uri": "https://localhost:8080/",
          "height": 34
        }
      },
      "source": [
        "from google.colab import drive\n",
        "drive.mount('/content/drive')"
      ],
      "execution_count": 2,
      "outputs": [
        {
          "output_type": "stream",
          "text": [
            "Mounted at /content/drive\n"
          ],
          "name": "stdout"
        }
      ]
    },
    {
      "cell_type": "code",
      "metadata": {
        "id": "ygKIugwesjH5"
      },
      "source": [
        "train = pd.read_csv('/content/drive/My Drive/DSN AI Bootcamp Qualification Hackathon/Train.csv')\n",
        "test  = pd.read_csv('/content/drive/My Drive/DSN AI Bootcamp Qualification Hackathon/Test.csv')"
      ],
      "execution_count": 3,
      "outputs": []
    },
    {
      "cell_type": "code",
      "metadata": {
        "id": "ixvLHcBnsjIL"
      },
      "source": [
        "dict_ = {'charge': 1,\n",
        "         'lending': 0}\n",
        " \n",
        "target_map = {\n",
        "    'yes': 1,\n",
        "    'no': 0}\n",
        " \n",
        "train.default_status.replace(target_map, inplace = True)\n",
        " \n",
        "train['form_field47'].replace(dict_, inplace = True)\n",
        "test['form_field47'].replace(dict_, inplace = True)"
      ],
      "execution_count": 4,
      "outputs": []
    },
    {
      "cell_type": "code",
      "metadata": {
        "id": "6ZJIgEJkhkqM",
        "outputId": "113bb63a-709e-48fa-a23f-19572772bfa7",
        "colab": {
          "base_uri": "https://localhost:8080/",
          "height": 356
        }
      },
      "source": [
        "pip install catboost"
      ],
      "execution_count": 5,
      "outputs": [
        {
          "output_type": "stream",
          "text": [
            "Collecting catboost\n",
            "\u001b[?25l  Downloading https://files.pythonhosted.org/packages/90/86/c3dcb600b4f9e7584ed90ea9d30a717fb5c0111574675f442c3e7bc19535/catboost-0.24.1-cp36-none-manylinux1_x86_64.whl (66.1MB)\n",
            "\u001b[K     |████████████████████████████████| 66.1MB 42kB/s \n",
            "\u001b[?25hRequirement already satisfied: numpy>=1.16.0 in /usr/local/lib/python3.6/dist-packages (from catboost) (1.18.5)\n",
            "Requirement already satisfied: scipy in /usr/local/lib/python3.6/dist-packages (from catboost) (1.4.1)\n",
            "Requirement already satisfied: six in /usr/local/lib/python3.6/dist-packages (from catboost) (1.15.0)\n",
            "Requirement already satisfied: matplotlib in /usr/local/lib/python3.6/dist-packages (from catboost) (3.2.2)\n",
            "Requirement already satisfied: graphviz in /usr/local/lib/python3.6/dist-packages (from catboost) (0.10.1)\n",
            "Requirement already satisfied: plotly in /usr/local/lib/python3.6/dist-packages (from catboost) (4.4.1)\n",
            "Requirement already satisfied: pandas>=0.24.0 in /usr/local/lib/python3.6/dist-packages (from catboost) (1.0.5)\n",
            "Requirement already satisfied: python-dateutil>=2.1 in /usr/local/lib/python3.6/dist-packages (from matplotlib->catboost) (2.8.1)\n",
            "Requirement already satisfied: cycler>=0.10 in /usr/local/lib/python3.6/dist-packages (from matplotlib->catboost) (0.10.0)\n",
            "Requirement already satisfied: pyparsing!=2.0.4,!=2.1.2,!=2.1.6,>=2.0.1 in /usr/local/lib/python3.6/dist-packages (from matplotlib->catboost) (2.4.7)\n",
            "Requirement already satisfied: kiwisolver>=1.0.1 in /usr/local/lib/python3.6/dist-packages (from matplotlib->catboost) (1.2.0)\n",
            "Requirement already satisfied: retrying>=1.3.3 in /usr/local/lib/python3.6/dist-packages (from plotly->catboost) (1.3.3)\n",
            "Requirement already satisfied: pytz>=2017.2 in /usr/local/lib/python3.6/dist-packages (from pandas>=0.24.0->catboost) (2018.9)\n",
            "Installing collected packages: catboost\n",
            "Successfully installed catboost-0.24.1\n"
          ],
          "name": "stdout"
        }
      ]
    },
    {
      "cell_type": "code",
      "metadata": {
        "id": "nA1fJeNFsjIc"
      },
      "source": [
        "from sklearn.metrics import roc_auc_score\n",
        "from catboost import CatBoostClassifier"
      ],
      "execution_count": 6,
      "outputs": []
    },
    {
      "cell_type": "code",
      "metadata": {
        "id": "kw9u6xuNsjIt"
      },
      "source": [
        "features = train.select_dtypes(exclude = object).columns.drop(['default_status'])"
      ],
      "execution_count": 7,
      "outputs": []
    },
    {
      "cell_type": "code",
      "metadata": {
        "id": "WUnZZc7-sjI9"
      },
      "source": [
        "# features"
      ],
      "execution_count": 8,
      "outputs": []
    },
    {
      "cell_type": "code",
      "metadata": {
        "id": "hPhK0BEosjJM"
      },
      "source": [
        "for col in features:\n",
        "    train[col].fillna(-999, inplace = True)\n",
        "    test[col].fillna(-999, inplace = True)"
      ],
      "execution_count": 9,
      "outputs": []
    },
    {
      "cell_type": "markdown",
      "metadata": {
        "id": "TVZUt9uflE_u"
      },
      "source": [
        "## Feature engineering"
      ]
    },
    {
      "cell_type": "markdown",
      "metadata": {
        "id": "L7muvtuDlJG8"
      },
      "source": [
        "Feature Interaction"
      ]
    },
    {
      "cell_type": "code",
      "metadata": {
        "id": "sCmJE0vFlMwN"
      },
      "source": [
        "train['form_field1*formfield2'] = train['form_field1'] * train['form_field2']\n",
        "train['form_field1/formfield2'] = train['form_field1'] / train['form_field2']\n",
        "\n",
        "train['form_field1*formfield3'] = train['form_field1'] * train.form_field3\n",
        "train['form_field1*formfield4'] = train.form_field1 * train.form_field4\n",
        "train['form_field1*formfield5'] = train.form_field1 * train.form_field5\n",
        "\n",
        "#new_train['form_field30*formfield41'] = new_train['form_field30'] * new_train['form_field41']\n",
        "##new_train['form_field31*formfield40'] = new_train['form_field31'] * new_train['form_field40']\n",
        "\n",
        "train['form_field6+field7'] =  (train.form_field6 + train.form_field8)/2\n",
        "\n",
        "train['form_field1*formfield6'] = train['form_field1'] * train['form_field6']\n",
        "train['form_field2*formfield6'] = train['form_field2'] * train['form_field6']\n",
        "\n",
        "train['form_field1*formfield9'] = train['form_field1'] * train['form_field9']\n",
        "train['form_field2*formfield9'] = train['form_field2'] * train['form_field9']\n",
        "\n",
        "train['form_field1*formfield37'] = train['form_field1'] * train['form_field37']\n",
        "train['form_field2*formfield37'] = train['form_field2'] * train['form_field37']\n",
        "\n",
        "train['form_field9*formfield6'] = train['form_field9'] * train['form_field6']\n",
        "train['form_field37*formfield6'] = train['form_field37'] * train['form_field6']\n",
        "\n",
        "train['form_field9*formfield37'] = train['form_field9'] * train['form_field37']\n",
        "train['form_field1*formfield8'] = train['form_field1'] * train['form_field8']"
      ],
      "execution_count": 15,
      "outputs": []
    },
    {
      "cell_type": "code",
      "metadata": {
        "id": "wzwTn6kmmPRZ"
      },
      "source": [
        "test['form_field1*formfield2'] = test['form_field1'] * test['form_field2']\n",
        "test['form_field1/formfield2'] = test['form_field1'] / test['form_field2']\n",
        "\n",
        "test['form_field1*formfield3'] = test['form_field1'] * test.form_field3\n",
        "test['form_field1*formfield4'] = test.form_field1 * test.form_field4\n",
        "test['form_field1*formfield5'] = test.form_field1 * test.form_field5\n",
        "\n",
        "test['form_field6+field7'] =  (test.form_field6 + test.form_field8)/2\n",
        "\n",
        "test['form_field1*formfield6'] = test['form_field1'] * test['form_field6']\n",
        "test['form_field2*formfield6'] = test['form_field2'] * test['form_field6']\n",
        "\n",
        "test['form_field1*formfield9'] = test['form_field1'] * test['form_field9']\n",
        "test['form_field2*formfield9'] = test['form_field2'] * test['form_field9']\n",
        "\n",
        "test['form_field1*formfield37'] = test['form_field1'] * test['form_field37']\n",
        "test['form_field2*formfield37'] = test['form_field2'] * test['form_field37']\n",
        "\n",
        "test['form_field9*formfield6'] = test['form_field9'] * test['form_field6']\n",
        "test['form_field37*formfield6'] = test['form_field37'] *test['form_field6']\n",
        "\n",
        "test['form_field9*formfield37'] = test['form_field9'] * test['form_field37']\n",
        "test['form_field1*formfield8'] = test['form_field1'] * test['form_field8']"
      ],
      "execution_count": 16,
      "outputs": []
    },
    {
      "cell_type": "code",
      "metadata": {
        "id": "qsaVd8sGsjJi"
      },
      "source": [
        "X = train[features]\n",
        "y = train['default_status']"
      ],
      "execution_count": 17,
      "outputs": []
    },
    {
      "cell_type": "code",
      "metadata": {
        "id": "2vzw4M_-sjJw"
      },
      "source": [
        "from sklearn.model_selection import StratifiedKFold"
      ],
      "execution_count": 18,
      "outputs": []
    },
    {
      "cell_type": "code",
      "metadata": {
        "id": "Pqumr-QosjJ-"
      },
      "source": [
        "def metric(y, pred):\n",
        "    return roc_auc_score(y, pred, labels=[0, 1])"
      ],
      "execution_count": 19,
      "outputs": []
    },
    {
      "cell_type": "code",
      "metadata": {
        "id": "mSzq68IusjKM"
      },
      "source": [
        "# Specify number of folds\n",
        "n_skf = 5\n",
        "kf = StratifiedKFold(n_skf)\n",
        " \n",
        " \n",
        "seed = 2020\n",
        " \n",
        "## Manually tweak the hyperparameter, learning rate and n_estimators especially\n",
        "params = {\n",
        "    'n_estimators': 5000,\n",
        "    'learning_rate': 0.008,\n",
        "    'objective': 'CrossEntropy',\n",
        "      'eval_metric':'AUC',\n",
        "    'random_seed': seed,\n",
        "    'early_stopping_rounds': 200,\n",
        "    'use_best_model': True,\n",
        "}"
      ],
      "execution_count": 20,
      "outputs": []
    },
    {
      "cell_type": "code",
      "metadata": {
        "scrolled": true,
        "id": "CVC4mh-nsjKa",
        "outputId": "20007ed0-2391-4af7-ede2-036fbcccee39",
        "colab": {
          "base_uri": "https://localhost:8080/",
          "height": 1000
        }
      },
      "source": [
        "score_list = []\n",
        "score = 0\n",
        "test_oofs = []\n",
        " \n",
        "for i, (tr_idx, vr_idx) in enumerate(kf.split(X, y)):\n",
        "    \n",
        "    xtrain, ytrain = X.loc[tr_idx, features], y.loc[tr_idx]\n",
        "    xval, yval = X.loc[vr_idx, features], y.loc[vr_idx]\n",
        " \n",
        "    model = CatBoostClassifier(**params, task_type='GPU')\n",
        "    model.fit(xtrain, ytrain, eval_set=[(xval,yval)], verbose=100)\n",
        "    \n",
        "    p = model.predict_proba(xval)[:, 1]\n",
        "    sc = metric(yval, p)\n",
        "    score_list.append(sc)\n",
        "    score += sc/n_skf\n",
        "    \n",
        "    pred = model.predict_proba(test[features])[:, 1]\n",
        "    test_oofs.append(pred)\n",
        " \n",
        "    print('Fold {} : {}'.format(i, sc))\n",
        " \n",
        "print()\n",
        "print()\n",
        "print('Avg log : ', score)"
      ],
      "execution_count": 21,
      "outputs": [
        {
          "output_type": "stream",
          "text": [
            "0:\tlearn: 0.7882729\ttest: 0.7847513\tbest: 0.7847513 (0)\ttotal: 107ms\tremaining: 8m 55s\n",
            "100:\tlearn: 0.8276219\ttest: 0.8236265\tbest: 0.8236671 (99)\ttotal: 5.32s\tremaining: 4m 17s\n",
            "200:\tlearn: 0.8329277\ttest: 0.8278610\tbest: 0.8278610 (200)\ttotal: 10.4s\tremaining: 4m 7s\n",
            "300:\tlearn: 0.8360772\ttest: 0.8302315\tbest: 0.8302315 (300)\ttotal: 15.4s\tremaining: 4m\n",
            "400:\tlearn: 0.8384167\ttest: 0.8317417\tbest: 0.8317417 (400)\ttotal: 20.3s\tremaining: 3m 53s\n",
            "500:\tlearn: 0.8402665\ttest: 0.8328101\tbest: 0.8328101 (500)\ttotal: 25.3s\tremaining: 3m 47s\n",
            "600:\tlearn: 0.8416766\ttest: 0.8335868\tbest: 0.8335915 (599)\ttotal: 30.3s\tremaining: 3m 41s\n",
            "700:\tlearn: 0.8430179\ttest: 0.8342006\tbest: 0.8342093 (699)\ttotal: 35.3s\tremaining: 3m 36s\n",
            "800:\tlearn: 0.8442052\ttest: 0.8347365\tbest: 0.8347365 (800)\ttotal: 40.2s\tremaining: 3m 30s\n",
            "900:\tlearn: 0.8451248\ttest: 0.8350822\tbest: 0.8350828 (895)\ttotal: 45.1s\tremaining: 3m 25s\n",
            "1000:\tlearn: 0.8460628\ttest: 0.8354752\tbest: 0.8354752 (1000)\ttotal: 50s\tremaining: 3m 19s\n",
            "1100:\tlearn: 0.8468915\ttest: 0.8358334\tbest: 0.8358334 (1100)\ttotal: 54.9s\tremaining: 3m 14s\n",
            "1200:\tlearn: 0.8477288\ttest: 0.8360925\tbest: 0.8360960 (1198)\ttotal: 59.9s\tremaining: 3m 9s\n",
            "1300:\tlearn: 0.8485434\ttest: 0.8362622\tbest: 0.8362626 (1299)\ttotal: 1m 4s\tremaining: 3m 4s\n",
            "1400:\tlearn: 0.8492982\ttest: 0.8364738\tbest: 0.8364760 (1399)\ttotal: 1m 9s\tremaining: 2m 59s\n",
            "1500:\tlearn: 0.8500558\ttest: 0.8366345\tbest: 0.8366345 (1500)\ttotal: 1m 14s\tremaining: 2m 54s\n",
            "1600:\tlearn: 0.8508893\ttest: 0.8367944\tbest: 0.8367944 (1600)\ttotal: 1m 19s\tremaining: 2m 49s\n",
            "1700:\tlearn: 0.8516577\ttest: 0.8369003\tbest: 0.8369019 (1698)\ttotal: 1m 24s\tremaining: 2m 44s\n",
            "1800:\tlearn: 0.8524253\ttest: 0.8369883\tbest: 0.8369883 (1800)\ttotal: 1m 29s\tremaining: 2m 39s\n",
            "1900:\tlearn: 0.8532290\ttest: 0.8370966\tbest: 0.8370966 (1900)\ttotal: 1m 34s\tremaining: 2m 34s\n",
            "2000:\tlearn: 0.8539212\ttest: 0.8371780\tbest: 0.8371801 (1998)\ttotal: 1m 39s\tremaining: 2m 29s\n",
            "2100:\tlearn: 0.8545229\ttest: 0.8372187\tbest: 0.8372208 (2095)\ttotal: 1m 44s\tremaining: 2m 24s\n",
            "2200:\tlearn: 0.8551499\ttest: 0.8372630\tbest: 0.8372630 (2200)\ttotal: 1m 49s\tremaining: 2m 19s\n",
            "2300:\tlearn: 0.8558346\ttest: 0.8373516\tbest: 0.8373516 (2299)\ttotal: 1m 54s\tremaining: 2m 14s\n",
            "2400:\tlearn: 0.8564366\ttest: 0.8374070\tbest: 0.8374139 (2397)\ttotal: 1m 59s\tremaining: 2m 9s\n",
            "2500:\tlearn: 0.8570840\ttest: 0.8374775\tbest: 0.8374808 (2498)\ttotal: 2m 4s\tremaining: 2m 4s\n",
            "2600:\tlearn: 0.8577040\ttest: 0.8374991\tbest: 0.8375089 (2528)\ttotal: 2m 9s\tremaining: 1m 59s\n",
            "2700:\tlearn: 0.8583265\ttest: 0.8375024\tbest: 0.8375156 (2688)\ttotal: 2m 14s\tremaining: 1m 54s\n",
            "2800:\tlearn: 0.8589036\ttest: 0.8375335\tbest: 0.8375433 (2793)\ttotal: 2m 19s\tremaining: 1m 49s\n",
            "2900:\tlearn: 0.8594471\ttest: 0.8375912\tbest: 0.8375941 (2896)\ttotal: 2m 24s\tremaining: 1m 44s\n",
            "3000:\tlearn: 0.8600278\ttest: 0.8376220\tbest: 0.8376265 (2980)\ttotal: 2m 29s\tremaining: 1m 39s\n",
            "3100:\tlearn: 0.8605399\ttest: 0.8376395\tbest: 0.8376448 (3085)\ttotal: 2m 34s\tremaining: 1m 34s\n",
            "3200:\tlearn: 0.8610147\ttest: 0.8376227\tbest: 0.8376567 (3143)\ttotal: 2m 39s\tremaining: 1m 29s\n",
            "3300:\tlearn: 0.8614700\ttest: 0.8376601\tbest: 0.8376603 (3298)\ttotal: 2m 44s\tremaining: 1m 24s\n",
            "3400:\tlearn: 0.8619723\ttest: 0.8377225\tbest: 0.8377225 (3400)\ttotal: 2m 49s\tremaining: 1m 19s\n",
            "3500:\tlearn: 0.8624727\ttest: 0.8377418\tbest: 0.8377471 (3487)\ttotal: 2m 54s\tremaining: 1m 14s\n",
            "3600:\tlearn: 0.8629526\ttest: 0.8377755\tbest: 0.8377852 (3576)\ttotal: 2m 59s\tremaining: 1m 9s\n",
            "3700:\tlearn: 0.8634465\ttest: 0.8378117\tbest: 0.8378122 (3696)\ttotal: 3m 4s\tremaining: 1m 4s\n",
            "3800:\tlearn: 0.8639297\ttest: 0.8378546\tbest: 0.8378552 (3795)\ttotal: 3m 9s\tremaining: 59.8s\n",
            "3900:\tlearn: 0.8644266\ttest: 0.8378986\tbest: 0.8379068 (3895)\ttotal: 3m 14s\tremaining: 54.8s\n",
            "4000:\tlearn: 0.8649226\ttest: 0.8379372\tbest: 0.8379412 (3996)\ttotal: 3m 19s\tremaining: 49.8s\n",
            "4100:\tlearn: 0.8653677\ttest: 0.8379769\tbest: 0.8379877 (4074)\ttotal: 3m 24s\tremaining: 44.9s\n",
            "4200:\tlearn: 0.8658031\ttest: 0.8379762\tbest: 0.8379877 (4074)\ttotal: 3m 29s\tremaining: 39.9s\n",
            "4300:\tlearn: 0.8662589\ttest: 0.8379784\tbest: 0.8379948 (4241)\ttotal: 3m 34s\tremaining: 34.9s\n",
            "4400:\tlearn: 0.8666687\ttest: 0.8379827\tbest: 0.8379948 (4241)\ttotal: 3m 39s\tremaining: 29.9s\n",
            "4500:\tlearn: 0.8670170\ttest: 0.8380041\tbest: 0.8380077 (4455)\ttotal: 3m 44s\tremaining: 24.9s\n",
            "4600:\tlearn: 0.8675091\ttest: 0.8380213\tbest: 0.8380246 (4550)\ttotal: 3m 49s\tremaining: 19.9s\n",
            "4700:\tlearn: 0.8679137\ttest: 0.8380265\tbest: 0.8380352 (4683)\ttotal: 3m 54s\tremaining: 14.9s\n",
            "4800:\tlearn: 0.8683042\ttest: 0.8380035\tbest: 0.8380479 (4720)\ttotal: 3m 59s\tremaining: 9.93s\n",
            "4900:\tlearn: 0.8686521\ttest: 0.8379972\tbest: 0.8380479 (4720)\ttotal: 4m 4s\tremaining: 4.94s\n",
            "bestTest = 0.8380479217\n",
            "bestIteration = 4720\n",
            "Shrink model to first 4721 iterations.\n",
            "Fold 0 : 0.8380478611729316\n",
            "0:\tlearn: 0.7789893\ttest: 0.7642141\tbest: 0.7642141 (0)\ttotal: 51.8ms\tremaining: 4m 18s\n",
            "100:\tlearn: 0.8279577\ttest: 0.8195009\tbest: 0.8195117 (99)\ttotal: 5.32s\tremaining: 4m 18s\n",
            "200:\tlearn: 0.8334378\ttest: 0.8250321\tbest: 0.8250321 (200)\ttotal: 10.6s\tremaining: 4m 13s\n",
            "300:\tlearn: 0.8369774\ttest: 0.8281775\tbest: 0.8281775 (300)\ttotal: 15.7s\tremaining: 4m 5s\n",
            "400:\tlearn: 0.8392692\ttest: 0.8300880\tbest: 0.8300880 (400)\ttotal: 20.8s\tremaining: 3m 58s\n",
            "500:\tlearn: 0.8410588\ttest: 0.8314421\tbest: 0.8314426 (499)\ttotal: 25.9s\tremaining: 3m 52s\n",
            "600:\tlearn: 0.8423509\ttest: 0.8322674\tbest: 0.8322674 (600)\ttotal: 30.8s\tremaining: 3m 45s\n",
            "700:\tlearn: 0.8436117\ttest: 0.8329490\tbest: 0.8329490 (700)\ttotal: 35.8s\tremaining: 3m 39s\n",
            "800:\tlearn: 0.8447946\ttest: 0.8335574\tbest: 0.8335574 (800)\ttotal: 40.8s\tremaining: 3m 33s\n",
            "900:\tlearn: 0.8458100\ttest: 0.8340190\tbest: 0.8340190 (900)\ttotal: 45.7s\tremaining: 3m 27s\n",
            "1000:\tlearn: 0.8467640\ttest: 0.8344257\tbest: 0.8344257 (1000)\ttotal: 50.6s\tremaining: 3m 22s\n",
            "1100:\tlearn: 0.8477046\ttest: 0.8347887\tbest: 0.8347897 (1099)\ttotal: 55.6s\tremaining: 3m 16s\n",
            "1200:\tlearn: 0.8485209\ttest: 0.8350975\tbest: 0.8351001 (1198)\ttotal: 1m\tremaining: 3m 11s\n",
            "1300:\tlearn: 0.8493577\ttest: 0.8353426\tbest: 0.8353433 (1299)\ttotal: 1m 5s\tremaining: 3m 6s\n",
            "1400:\tlearn: 0.8503097\ttest: 0.8356020\tbest: 0.8356029 (1399)\ttotal: 1m 10s\tremaining: 3m\n",
            "1500:\tlearn: 0.8511593\ttest: 0.8358223\tbest: 0.8358223 (1500)\ttotal: 1m 15s\tremaining: 2m 55s\n",
            "1600:\tlearn: 0.8520471\ttest: 0.8360205\tbest: 0.8360214 (1599)\ttotal: 1m 20s\tremaining: 2m 50s\n",
            "1700:\tlearn: 0.8528767\ttest: 0.8362016\tbest: 0.8362029 (1692)\ttotal: 1m 25s\tremaining: 2m 45s\n",
            "1800:\tlearn: 0.8536221\ttest: 0.8363604\tbest: 0.8363604 (1800)\ttotal: 1m 30s\tremaining: 2m 40s\n",
            "1900:\tlearn: 0.8543930\ttest: 0.8365616\tbest: 0.8365668 (1898)\ttotal: 1m 35s\tremaining: 2m 35s\n",
            "2000:\tlearn: 0.8551825\ttest: 0.8366567\tbest: 0.8366626 (1996)\ttotal: 1m 40s\tremaining: 2m 30s\n",
            "2100:\tlearn: 0.8558624\ttest: 0.8367797\tbest: 0.8367797 (2100)\ttotal: 1m 45s\tremaining: 2m 25s\n",
            "2200:\tlearn: 0.8565628\ttest: 0.8369016\tbest: 0.8369041 (2197)\ttotal: 1m 50s\tremaining: 2m 20s\n",
            "2300:\tlearn: 0.8572242\ttest: 0.8369903\tbest: 0.8369982 (2294)\ttotal: 1m 55s\tremaining: 2m 15s\n",
            "2400:\tlearn: 0.8578498\ttest: 0.8370422\tbest: 0.8370600 (2374)\ttotal: 2m\tremaining: 2m 10s\n",
            "2500:\tlearn: 0.8584704\ttest: 0.8370586\tbest: 0.8370701 (2436)\ttotal: 2m 5s\tremaining: 2m 5s\n",
            "2600:\tlearn: 0.8590667\ttest: 0.8370964\tbest: 0.8370964 (2600)\ttotal: 2m 10s\tremaining: 2m\n",
            "2700:\tlearn: 0.8596309\ttest: 0.8371615\tbest: 0.8371619 (2697)\ttotal: 2m 15s\tremaining: 1m 55s\n",
            "2800:\tlearn: 0.8601617\ttest: 0.8372094\tbest: 0.8372147 (2786)\ttotal: 2m 20s\tremaining: 1m 50s\n",
            "2900:\tlearn: 0.8607374\ttest: 0.8372557\tbest: 0.8372642 (2890)\ttotal: 2m 25s\tremaining: 1m 45s\n",
            "3000:\tlearn: 0.8612834\ttest: 0.8373157\tbest: 0.8373172 (2990)\ttotal: 2m 30s\tremaining: 1m 40s\n",
            "3100:\tlearn: 0.8617629\ttest: 0.8373615\tbest: 0.8373666 (3085)\ttotal: 2m 35s\tremaining: 1m 35s\n",
            "3200:\tlearn: 0.8622738\ttest: 0.8373877\tbest: 0.8373968 (3191)\ttotal: 2m 40s\tremaining: 1m 30s\n",
            "3300:\tlearn: 0.8627442\ttest: 0.8373872\tbest: 0.8374003 (3283)\ttotal: 2m 45s\tremaining: 1m 25s\n",
            "3400:\tlearn: 0.8631429\ttest: 0.8373737\tbest: 0.8374003 (3283)\ttotal: 2m 50s\tremaining: 1m 20s\n",
            "3500:\tlearn: 0.8636352\ttest: 0.8374179\tbest: 0.8374180 (3499)\ttotal: 2m 55s\tremaining: 1m 15s\n",
            "3600:\tlearn: 0.8640926\ttest: 0.8373939\tbest: 0.8374205 (3506)\ttotal: 3m\tremaining: 1m 10s\n",
            "3700:\tlearn: 0.8645102\ttest: 0.8374492\tbest: 0.8374492 (3700)\ttotal: 3m 5s\tremaining: 1m 5s\n",
            "3800:\tlearn: 0.8649285\ttest: 0.8375079\tbest: 0.8375122 (3782)\ttotal: 3m 10s\tremaining: 1m\n",
            "3900:\tlearn: 0.8653937\ttest: 0.8375456\tbest: 0.8375456 (3900)\ttotal: 3m 15s\tremaining: 55s\n",
            "4000:\tlearn: 0.8658121\ttest: 0.8375469\tbest: 0.8375648 (3961)\ttotal: 3m 20s\tremaining: 50s\n",
            "4100:\tlearn: 0.8662112\ttest: 0.8375347\tbest: 0.8375648 (3961)\ttotal: 3m 25s\tremaining: 45s\n",
            "bestTest = 0.8375647962\n",
            "bestIteration = 3961\n",
            "Shrink model to first 3962 iterations.\n",
            "Fold 1 : 0.8375647929387029\n",
            "0:\tlearn: 0.7871199\ttest: 0.7842184\tbest: 0.7842184 (0)\ttotal: 51.5ms\tremaining: 4m 17s\n",
            "100:\tlearn: 0.8264248\ttest: 0.8254676\tbest: 0.8254676 (100)\ttotal: 5.18s\tremaining: 4m 11s\n",
            "200:\tlearn: 0.8323559\ttest: 0.8303744\tbest: 0.8303744 (200)\ttotal: 10.2s\tremaining: 4m 4s\n",
            "300:\tlearn: 0.8357050\ttest: 0.8332444\tbest: 0.8332444 (300)\ttotal: 15.3s\tremaining: 3m 58s\n",
            "400:\tlearn: 0.8380032\ttest: 0.8349424\tbest: 0.8349424 (400)\ttotal: 20.3s\tremaining: 3m 52s\n",
            "500:\tlearn: 0.8396801\ttest: 0.8361852\tbest: 0.8361852 (500)\ttotal: 25.3s\tremaining: 3m 46s\n",
            "600:\tlearn: 0.8410521\ttest: 0.8369952\tbest: 0.8369952 (600)\ttotal: 30.3s\tremaining: 3m 41s\n",
            "700:\tlearn: 0.8423302\ttest: 0.8377091\tbest: 0.8377091 (700)\ttotal: 35.2s\tremaining: 3m 36s\n",
            "800:\tlearn: 0.8434316\ttest: 0.8382768\tbest: 0.8382768 (800)\ttotal: 40.1s\tremaining: 3m 30s\n",
            "900:\tlearn: 0.8444000\ttest: 0.8387622\tbest: 0.8387622 (900)\ttotal: 44.8s\tremaining: 3m 23s\n",
            "1000:\tlearn: 0.8453913\ttest: 0.8391878\tbest: 0.8391878 (1000)\ttotal: 49.8s\tremaining: 3m 18s\n",
            "1100:\tlearn: 0.8463319\ttest: 0.8396143\tbest: 0.8396143 (1100)\ttotal: 54.7s\tremaining: 3m 13s\n",
            "1200:\tlearn: 0.8471603\ttest: 0.8398930\tbest: 0.8399014 (1199)\ttotal: 59.6s\tremaining: 3m 8s\n",
            "1300:\tlearn: 0.8479378\ttest: 0.8402014\tbest: 0.8402014 (1300)\ttotal: 1m 4s\tremaining: 3m 3s\n",
            "1400:\tlearn: 0.8487933\ttest: 0.8404762\tbest: 0.8404762 (1400)\ttotal: 1m 9s\tremaining: 2m 58s\n",
            "1500:\tlearn: 0.8496742\ttest: 0.8407581\tbest: 0.8407582 (1499)\ttotal: 1m 14s\tremaining: 2m 54s\n",
            "1600:\tlearn: 0.8505911\ttest: 0.8410598\tbest: 0.8410615 (1598)\ttotal: 1m 19s\tremaining: 2m 49s\n",
            "1700:\tlearn: 0.8515007\ttest: 0.8412529\tbest: 0.8412539 (1698)\ttotal: 1m 24s\tremaining: 2m 44s\n",
            "1800:\tlearn: 0.8523341\ttest: 0.8414360\tbest: 0.8414360 (1800)\ttotal: 1m 29s\tremaining: 2m 39s\n",
            "1900:\tlearn: 0.8530734\ttest: 0.8416317\tbest: 0.8416317 (1900)\ttotal: 1m 34s\tremaining: 2m 34s\n",
            "2000:\tlearn: 0.8538570\ttest: 0.8417830\tbest: 0.8417830 (2000)\ttotal: 1m 39s\tremaining: 2m 29s\n",
            "2100:\tlearn: 0.8546555\ttest: 0.8419288\tbest: 0.8419381 (2095)\ttotal: 1m 44s\tremaining: 2m 24s\n",
            "2200:\tlearn: 0.8553191\ttest: 0.8420246\tbest: 0.8420246 (2200)\ttotal: 1m 49s\tremaining: 2m 19s\n",
            "2300:\tlearn: 0.8559805\ttest: 0.8421007\tbest: 0.8421007 (2300)\ttotal: 1m 55s\tremaining: 2m 15s\n",
            "2400:\tlearn: 0.8566176\ttest: 0.8421965\tbest: 0.8422015 (2398)\ttotal: 2m\tremaining: 2m 9s\n",
            "2500:\tlearn: 0.8573508\ttest: 0.8422822\tbest: 0.8422861 (2499)\ttotal: 2m 5s\tremaining: 2m 4s\n",
            "2600:\tlearn: 0.8579640\ttest: 0.8423820\tbest: 0.8423879 (2593)\ttotal: 2m 10s\tremaining: 1m 59s\n",
            "2700:\tlearn: 0.8586227\ttest: 0.8424175\tbest: 0.8424312 (2693)\ttotal: 2m 15s\tremaining: 1m 54s\n",
            "2800:\tlearn: 0.8592532\ttest: 0.8425047\tbest: 0.8425059 (2798)\ttotal: 2m 19s\tremaining: 1m 49s\n",
            "2900:\tlearn: 0.8599018\ttest: 0.8425725\tbest: 0.8425887 (2868)\ttotal: 2m 24s\tremaining: 1m 44s\n",
            "3000:\tlearn: 0.8604410\ttest: 0.8426432\tbest: 0.8426456 (2994)\ttotal: 2m 29s\tremaining: 1m 39s\n",
            "3100:\tlearn: 0.8610612\ttest: 0.8426644\tbest: 0.8426710 (3054)\ttotal: 2m 34s\tremaining: 1m 34s\n",
            "3200:\tlearn: 0.8616275\ttest: 0.8427421\tbest: 0.8427421 (3200)\ttotal: 2m 39s\tremaining: 1m 29s\n",
            "3300:\tlearn: 0.8621030\ttest: 0.8427725\tbest: 0.8427795 (3278)\ttotal: 2m 44s\tremaining: 1m 24s\n",
            "3400:\tlearn: 0.8625917\ttest: 0.8428072\tbest: 0.8428074 (3398)\ttotal: 2m 49s\tremaining: 1m 19s\n",
            "3500:\tlearn: 0.8631030\ttest: 0.8428691\tbest: 0.8428733 (3497)\ttotal: 2m 54s\tremaining: 1m 14s\n",
            "3600:\tlearn: 0.8635966\ttest: 0.8428912\tbest: 0.8428956 (3594)\ttotal: 2m 59s\tremaining: 1m 9s\n",
            "3700:\tlearn: 0.8641267\ttest: 0.8429367\tbest: 0.8429409 (3693)\ttotal: 3m 4s\tremaining: 1m 4s\n",
            "3800:\tlearn: 0.8645853\ttest: 0.8429444\tbest: 0.8429677 (3753)\ttotal: 3m 9s\tremaining: 59.9s\n",
            "3900:\tlearn: 0.8651235\ttest: 0.8429882\tbest: 0.8429882 (3900)\ttotal: 3m 14s\tremaining: 54.9s\n",
            "4000:\tlearn: 0.8656451\ttest: 0.8430086\tbest: 0.8430102 (3987)\ttotal: 3m 19s\tremaining: 49.9s\n",
            "4100:\tlearn: 0.8661595\ttest: 0.8430555\tbest: 0.8430605 (4096)\ttotal: 3m 24s\tremaining: 44.9s\n",
            "4200:\tlearn: 0.8666411\ttest: 0.8430763\tbest: 0.8430883 (4172)\ttotal: 3m 29s\tremaining: 39.9s\n",
            "4300:\tlearn: 0.8671072\ttest: 0.8431026\tbest: 0.8431145 (4286)\ttotal: 3m 34s\tremaining: 34.9s\n",
            "4400:\tlearn: 0.8675486\ttest: 0.8431334\tbest: 0.8431334 (4400)\ttotal: 3m 39s\tremaining: 29.9s\n",
            "4500:\tlearn: 0.8680217\ttest: 0.8431652\tbest: 0.8431810 (4482)\ttotal: 3m 44s\tremaining: 24.9s\n",
            "4600:\tlearn: 0.8685612\ttest: 0.8432050\tbest: 0.8432214 (4586)\ttotal: 3m 49s\tremaining: 19.9s\n",
            "4700:\tlearn: 0.8690088\ttest: 0.8432399\tbest: 0.8432399 (4693)\ttotal: 3m 54s\tremaining: 14.9s\n",
            "4800:\tlearn: 0.8694309\ttest: 0.8432368\tbest: 0.8432449 (4756)\ttotal: 3m 59s\tremaining: 9.94s\n",
            "4900:\tlearn: 0.8697946\ttest: 0.8432391\tbest: 0.8432600 (4830)\ttotal: 4m 4s\tremaining: 4.94s\n",
            "4999:\tlearn: 0.8701808\ttest: 0.8432562\tbest: 0.8432600 (4830)\ttotal: 4m 9s\tremaining: 0us\n",
            "bestTest = 0.8432599902\n",
            "bestIteration = 4830\n",
            "Shrink model to first 4831 iterations.\n",
            "Fold 2 : 0.8432600493043425\n",
            "0:\tlearn: 0.7907878\ttest: 0.7741335\tbest: 0.7741335 (0)\ttotal: 52.1ms\tremaining: 4m 20s\n",
            "100:\tlearn: 0.8293637\ttest: 0.8140777\tbest: 0.8140777 (100)\ttotal: 5.14s\tremaining: 4m 9s\n",
            "200:\tlearn: 0.8345702\ttest: 0.8191264\tbest: 0.8191264 (200)\ttotal: 10.2s\tremaining: 4m 3s\n",
            "300:\tlearn: 0.8377919\ttest: 0.8220139\tbest: 0.8220139 (300)\ttotal: 15.3s\tremaining: 3m 58s\n",
            "400:\tlearn: 0.8401822\ttest: 0.8240553\tbest: 0.8240553 (400)\ttotal: 20.2s\tremaining: 3m 52s\n",
            "500:\tlearn: 0.8419553\ttest: 0.8253831\tbest: 0.8253831 (500)\ttotal: 25.2s\tremaining: 3m 46s\n",
            "600:\tlearn: 0.8434002\ttest: 0.8263537\tbest: 0.8263537 (600)\ttotal: 30.1s\tremaining: 3m 40s\n",
            "700:\tlearn: 0.8446219\ttest: 0.8271098\tbest: 0.8271098 (700)\ttotal: 35.1s\tremaining: 3m 35s\n",
            "800:\tlearn: 0.8458524\ttest: 0.8277789\tbest: 0.8277789 (800)\ttotal: 40s\tremaining: 3m 29s\n",
            "900:\tlearn: 0.8469146\ttest: 0.8283074\tbest: 0.8283074 (900)\ttotal: 45s\tremaining: 3m 24s\n",
            "1000:\tlearn: 0.8479241\ttest: 0.8287598\tbest: 0.8287598 (1000)\ttotal: 50s\tremaining: 3m 19s\n",
            "1100:\tlearn: 0.8489806\ttest: 0.8292414\tbest: 0.8292414 (1100)\ttotal: 54.9s\tremaining: 3m 14s\n",
            "1200:\tlearn: 0.8498994\ttest: 0.8295700\tbest: 0.8295700 (1200)\ttotal: 59.9s\tremaining: 3m 9s\n",
            "1300:\tlearn: 0.8509084\ttest: 0.8299083\tbest: 0.8299083 (1300)\ttotal: 1m 4s\tremaining: 3m 4s\n",
            "1400:\tlearn: 0.8519071\ttest: 0.8302270\tbest: 0.8302297 (1399)\ttotal: 1m 9s\tremaining: 2m 59s\n",
            "1500:\tlearn: 0.8528399\ttest: 0.8304871\tbest: 0.8304875 (1499)\ttotal: 1m 14s\tremaining: 2m 54s\n",
            "1600:\tlearn: 0.8538403\ttest: 0.8307160\tbest: 0.8307196 (1599)\ttotal: 1m 19s\tremaining: 2m 49s\n",
            "1700:\tlearn: 0.8548119\ttest: 0.8309657\tbest: 0.8309657 (1700)\ttotal: 1m 24s\tremaining: 2m 44s\n",
            "1800:\tlearn: 0.8556836\ttest: 0.8311895\tbest: 0.8311895 (1800)\ttotal: 1m 29s\tremaining: 2m 39s\n",
            "1900:\tlearn: 0.8564932\ttest: 0.8313434\tbest: 0.8313434 (1900)\ttotal: 1m 34s\tremaining: 2m 34s\n",
            "2000:\tlearn: 0.8573040\ttest: 0.8315117\tbest: 0.8315117 (2000)\ttotal: 1m 39s\tremaining: 2m 29s\n",
            "2100:\tlearn: 0.8581001\ttest: 0.8316796\tbest: 0.8316796 (2100)\ttotal: 1m 44s\tremaining: 2m 24s\n",
            "2200:\tlearn: 0.8589104\ttest: 0.8318124\tbest: 0.8318162 (2198)\ttotal: 1m 50s\tremaining: 2m 19s\n",
            "2300:\tlearn: 0.8596010\ttest: 0.8319224\tbest: 0.8319224 (2300)\ttotal: 1m 55s\tremaining: 2m 14s\n",
            "2400:\tlearn: 0.8603388\ttest: 0.8320056\tbest: 0.8320166 (2395)\ttotal: 2m\tremaining: 2m 9s\n",
            "2500:\tlearn: 0.8610388\ttest: 0.8321180\tbest: 0.8321194 (2496)\ttotal: 2m 5s\tremaining: 2m 4s\n",
            "2600:\tlearn: 0.8616634\ttest: 0.8321765\tbest: 0.8321782 (2592)\ttotal: 2m 10s\tremaining: 2m\n",
            "2700:\tlearn: 0.8623638\ttest: 0.8322068\tbest: 0.8322095 (2661)\ttotal: 2m 15s\tremaining: 1m 55s\n",
            "2800:\tlearn: 0.8630420\ttest: 0.8322868\tbest: 0.8322876 (2796)\ttotal: 2m 20s\tremaining: 1m 50s\n",
            "2900:\tlearn: 0.8636915\ttest: 0.8323213\tbest: 0.8323295 (2881)\ttotal: 2m 25s\tremaining: 1m 45s\n",
            "3000:\tlearn: 0.8644178\ttest: 0.8323823\tbest: 0.8323830 (2999)\ttotal: 2m 30s\tremaining: 1m 40s\n",
            "3100:\tlearn: 0.8650696\ttest: 0.8324263\tbest: 0.8324325 (3091)\ttotal: 2m 35s\tremaining: 1m 35s\n",
            "3200:\tlearn: 0.8656091\ttest: 0.8324411\tbest: 0.8324507 (3131)\ttotal: 2m 40s\tremaining: 1m 30s\n",
            "3300:\tlearn: 0.8661529\ttest: 0.8324605\tbest: 0.8324617 (3297)\ttotal: 2m 45s\tremaining: 1m 25s\n",
            "3400:\tlearn: 0.8666861\ttest: 0.8324744\tbest: 0.8324949 (3375)\ttotal: 2m 50s\tremaining: 1m 20s\n",
            "3500:\tlearn: 0.8672743\ttest: 0.8325118\tbest: 0.8325202 (3495)\ttotal: 2m 55s\tremaining: 1m 15s\n",
            "3600:\tlearn: 0.8678229\ttest: 0.8325694\tbest: 0.8325694 (3600)\ttotal: 3m\tremaining: 1m 10s\n",
            "3700:\tlearn: 0.8683275\ttest: 0.8325765\tbest: 0.8325818 (3627)\ttotal: 3m 5s\tremaining: 1m 5s\n",
            "3800:\tlearn: 0.8688103\ttest: 0.8326268\tbest: 0.8326274 (3799)\ttotal: 3m 10s\tremaining: 1m\n",
            "3900:\tlearn: 0.8693157\ttest: 0.8326440\tbest: 0.8326471 (3896)\ttotal: 3m 15s\tremaining: 55s\n",
            "4000:\tlearn: 0.8697837\ttest: 0.8326476\tbest: 0.8326623 (3961)\ttotal: 3m 20s\tremaining: 50s\n",
            "4100:\tlearn: 0.8702456\ttest: 0.8326582\tbest: 0.8326735 (4061)\ttotal: 3m 25s\tremaining: 45s\n",
            "4200:\tlearn: 0.8707362\ttest: 0.8327336\tbest: 0.8327336 (4200)\ttotal: 3m 30s\tremaining: 40s\n",
            "4300:\tlearn: 0.8711596\ttest: 0.8327179\tbest: 0.8327336 (4200)\ttotal: 3m 35s\tremaining: 35s\n",
            "4400:\tlearn: 0.8715881\ttest: 0.8327098\tbest: 0.8327336 (4200)\ttotal: 3m 40s\tremaining: 30s\n",
            "bestTest = 0.8327335715\n",
            "bestIteration = 4200\n",
            "Shrink model to first 4201 iterations.\n",
            "Fold 3 : 0.832733550192432\n",
            "0:\tlearn: 0.7860303\ttest: 0.7971761\tbest: 0.7971761 (0)\ttotal: 51.4ms\tremaining: 4m 16s\n",
            "100:\tlearn: 0.8247332\ttest: 0.8351219\tbest: 0.8351219 (100)\ttotal: 5.19s\tremaining: 4m 11s\n",
            "200:\tlearn: 0.8302927\ttest: 0.8394369\tbest: 0.8394369 (200)\ttotal: 10.2s\tremaining: 4m 4s\n",
            "300:\tlearn: 0.8337770\ttest: 0.8422411\tbest: 0.8422411 (300)\ttotal: 15.3s\tremaining: 3m 58s\n",
            "400:\tlearn: 0.8361821\ttest: 0.8437228\tbest: 0.8437228 (400)\ttotal: 20.3s\tremaining: 3m 52s\n",
            "500:\tlearn: 0.8379975\ttest: 0.8446664\tbest: 0.8446664 (500)\ttotal: 25.2s\tremaining: 3m 46s\n",
            "600:\tlearn: 0.8394179\ttest: 0.8453094\tbest: 0.8453127 (599)\ttotal: 30.2s\tremaining: 3m 40s\n",
            "700:\tlearn: 0.8407411\ttest: 0.8458999\tbest: 0.8458999 (700)\ttotal: 35.1s\tremaining: 3m 35s\n",
            "800:\tlearn: 0.8419086\ttest: 0.8464188\tbest: 0.8464188 (800)\ttotal: 40s\tremaining: 3m 29s\n",
            "900:\tlearn: 0.8429348\ttest: 0.8468068\tbest: 0.8468068 (900)\ttotal: 44.8s\tremaining: 3m 23s\n",
            "1000:\tlearn: 0.8439708\ttest: 0.8472005\tbest: 0.8472015 (999)\ttotal: 49.7s\tremaining: 3m 18s\n",
            "1100:\tlearn: 0.8449324\ttest: 0.8475118\tbest: 0.8475155 (1099)\ttotal: 54.7s\tremaining: 3m 13s\n",
            "1200:\tlearn: 0.8458936\ttest: 0.8477940\tbest: 0.8477940 (1200)\ttotal: 59.6s\tremaining: 3m 8s\n",
            "1300:\tlearn: 0.8467869\ttest: 0.8480555\tbest: 0.8480555 (1300)\ttotal: 1m 4s\tremaining: 3m 3s\n",
            "1400:\tlearn: 0.8476703\ttest: 0.8482285\tbest: 0.8482285 (1400)\ttotal: 1m 9s\tremaining: 2m 58s\n",
            "1500:\tlearn: 0.8486000\ttest: 0.8483987\tbest: 0.8484011 (1493)\ttotal: 1m 14s\tremaining: 2m 53s\n",
            "1600:\tlearn: 0.8495178\ttest: 0.8485619\tbest: 0.8485619 (1600)\ttotal: 1m 19s\tremaining: 2m 48s\n",
            "1700:\tlearn: 0.8504041\ttest: 0.8486854\tbest: 0.8486862 (1699)\ttotal: 1m 24s\tremaining: 2m 43s\n",
            "1800:\tlearn: 0.8513307\ttest: 0.8487847\tbest: 0.8487851 (1796)\ttotal: 1m 29s\tremaining: 2m 39s\n",
            "1900:\tlearn: 0.8522008\ttest: 0.8489249\tbest: 0.8489259 (1889)\ttotal: 1m 34s\tremaining: 2m 34s\n",
            "2000:\tlearn: 0.8529532\ttest: 0.8490051\tbest: 0.8490059 (1996)\ttotal: 1m 39s\tremaining: 2m 29s\n",
            "2100:\tlearn: 0.8537555\ttest: 0.8490674\tbest: 0.8490775 (2076)\ttotal: 1m 44s\tremaining: 2m 24s\n",
            "2200:\tlearn: 0.8545066\ttest: 0.8490990\tbest: 0.8491044 (2197)\ttotal: 1m 49s\tremaining: 2m 19s\n",
            "2300:\tlearn: 0.8552763\ttest: 0.8491689\tbest: 0.8491704 (2298)\ttotal: 1m 54s\tremaining: 2m 14s\n",
            "2400:\tlearn: 0.8559644\ttest: 0.8492107\tbest: 0.8492107 (2400)\ttotal: 1m 59s\tremaining: 2m 9s\n",
            "2500:\tlearn: 0.8566450\ttest: 0.8493162\tbest: 0.8493162 (2500)\ttotal: 2m 4s\tremaining: 2m 4s\n",
            "2600:\tlearn: 0.8572805\ttest: 0.8493896\tbest: 0.8493900 (2598)\ttotal: 2m 9s\tremaining: 1m 59s\n",
            "2700:\tlearn: 0.8579391\ttest: 0.8494043\tbest: 0.8494120 (2686)\ttotal: 2m 14s\tremaining: 1m 54s\n",
            "2800:\tlearn: 0.8586040\ttest: 0.8494565\tbest: 0.8494584 (2799)\ttotal: 2m 19s\tremaining: 1m 49s\n",
            "2900:\tlearn: 0.8592628\ttest: 0.8495126\tbest: 0.8495165 (2878)\ttotal: 2m 24s\tremaining: 1m 44s\n",
            "3000:\tlearn: 0.8598418\ttest: 0.8495431\tbest: 0.8495431 (3000)\ttotal: 2m 29s\tremaining: 1m 39s\n",
            "3100:\tlearn: 0.8604242\ttest: 0.8495641\tbest: 0.8495641 (3100)\ttotal: 2m 34s\tremaining: 1m 34s\n",
            "3200:\tlearn: 0.8610460\ttest: 0.8495825\tbest: 0.8495910 (3153)\ttotal: 2m 39s\tremaining: 1m 29s\n",
            "3300:\tlearn: 0.8616352\ttest: 0.8495929\tbest: 0.8496026 (3233)\ttotal: 2m 44s\tremaining: 1m 24s\n",
            "3400:\tlearn: 0.8621784\ttest: 0.8496416\tbest: 0.8496450 (3395)\ttotal: 2m 49s\tremaining: 1m 19s\n",
            "3500:\tlearn: 0.8626668\ttest: 0.8496454\tbest: 0.8496510 (3496)\ttotal: 2m 54s\tremaining: 1m 14s\n",
            "3600:\tlearn: 0.8631455\ttest: 0.8496407\tbest: 0.8496510 (3496)\ttotal: 2m 59s\tremaining: 1m 9s\n",
            "3700:\tlearn: 0.8636356\ttest: 0.8496540\tbest: 0.8496580 (3667)\ttotal: 3m 5s\tremaining: 1m 4s\n",
            "3800:\tlearn: 0.8641033\ttest: 0.8496914\tbest: 0.8496977 (3791)\ttotal: 3m 10s\tremaining: 59.9s\n",
            "3900:\tlearn: 0.8645958\ttest: 0.8496847\tbest: 0.8497015 (3885)\ttotal: 3m 15s\tremaining: 55s\n",
            "4000:\tlearn: 0.8649883\ttest: 0.8496628\tbest: 0.8497015 (3885)\ttotal: 3m 20s\tremaining: 49.9s\n",
            "bestTest = 0.8497014642\n",
            "bestIteration = 3885\n",
            "Shrink model to first 3886 iterations.\n",
            "Fold 4 : 0.8497014620207106\n",
            "\n",
            "\n",
            "Avg log :  0.8402615431258239\n"
          ],
          "name": "stdout"
        }
      ]
    },
    {
      "cell_type": "code",
      "metadata": {
        "scrolled": true,
        "id": "rEp1xVpysjKw",
        "outputId": "d7ab0944-3130-4ef7-ea57-30108d9f72f5",
        "colab": {
          "base_uri": "https://localhost:8080/",
          "height": 35
        }
      },
      "source": [
        "f\"{n_skf} fold CV, score: {score}\" #Increase in local cv score should probably lead to increase in Leaderboard score"
      ],
      "execution_count": 22,
      "outputs": [
        {
          "output_type": "execute_result",
          "data": {
            "application/vnd.google.colaboratory.intrinsic+json": {
              "type": "string"
            },
            "text/plain": [
              "'5 fold CV, score: 0.8402615431258239'"
            ]
          },
          "metadata": {
            "tags": []
          },
          "execution_count": 22
        }
      ]
    },
    {
      "cell_type": "markdown",
      "metadata": {
        "id": "rnU3HLczsjLA"
      },
      "source": [
        "### Since we are using cross validation, We'll have `n` different predictions (where n is the number of fold)"
      ]
    },
    {
      "cell_type": "code",
      "metadata": {
        "id": "VO7c0-a6sjLD"
      },
      "source": [
        "oof_prediction = pd.DataFrame(test_oofs).T"
      ],
      "execution_count": 23,
      "outputs": []
    },
    {
      "cell_type": "code",
      "metadata": {
        "id": "vKYZMsjWsjLU"
      },
      "source": [
        "oof_prediction.columns = ['fold_'+ str(i) for i in range(1, n_skf + 1)]"
      ],
      "execution_count": 24,
      "outputs": []
    },
    {
      "cell_type": "code",
      "metadata": {
        "id": "w6aN3-LPsjLk",
        "outputId": "ae45abaa-9ae5-4b77-9dd5-02df47a2aef6",
        "colab": {
          "base_uri": "https://localhost:8080/",
          "height": 197
        }
      },
      "source": [
        "oof_prediction.head()"
      ],
      "execution_count": 25,
      "outputs": [
        {
          "output_type": "execute_result",
          "data": {
            "text/html": [
              "<div>\n",
              "<style scoped>\n",
              "    .dataframe tbody tr th:only-of-type {\n",
              "        vertical-align: middle;\n",
              "    }\n",
              "\n",
              "    .dataframe tbody tr th {\n",
              "        vertical-align: top;\n",
              "    }\n",
              "\n",
              "    .dataframe thead th {\n",
              "        text-align: right;\n",
              "    }\n",
              "</style>\n",
              "<table border=\"1\" class=\"dataframe\">\n",
              "  <thead>\n",
              "    <tr style=\"text-align: right;\">\n",
              "      <th></th>\n",
              "      <th>fold_1</th>\n",
              "      <th>fold_2</th>\n",
              "      <th>fold_3</th>\n",
              "      <th>fold_4</th>\n",
              "      <th>fold_5</th>\n",
              "    </tr>\n",
              "  </thead>\n",
              "  <tbody>\n",
              "    <tr>\n",
              "      <th>0</th>\n",
              "      <td>0.342935</td>\n",
              "      <td>0.333955</td>\n",
              "      <td>0.365686</td>\n",
              "      <td>0.336708</td>\n",
              "      <td>0.330304</td>\n",
              "    </tr>\n",
              "    <tr>\n",
              "      <th>1</th>\n",
              "      <td>0.417118</td>\n",
              "      <td>0.361576</td>\n",
              "      <td>0.407666</td>\n",
              "      <td>0.322951</td>\n",
              "      <td>0.375386</td>\n",
              "    </tr>\n",
              "    <tr>\n",
              "      <th>2</th>\n",
              "      <td>0.340778</td>\n",
              "      <td>0.391729</td>\n",
              "      <td>0.427155</td>\n",
              "      <td>0.403827</td>\n",
              "      <td>0.346953</td>\n",
              "    </tr>\n",
              "    <tr>\n",
              "      <th>3</th>\n",
              "      <td>0.720198</td>\n",
              "      <td>0.734151</td>\n",
              "      <td>0.736173</td>\n",
              "      <td>0.751253</td>\n",
              "      <td>0.725948</td>\n",
              "    </tr>\n",
              "    <tr>\n",
              "      <th>4</th>\n",
              "      <td>0.200629</td>\n",
              "      <td>0.189707</td>\n",
              "      <td>0.175935</td>\n",
              "      <td>0.145036</td>\n",
              "      <td>0.166993</td>\n",
              "    </tr>\n",
              "  </tbody>\n",
              "</table>\n",
              "</div>"
            ],
            "text/plain": [
              "     fold_1    fold_2    fold_3    fold_4    fold_5\n",
              "0  0.342935  0.333955  0.365686  0.336708  0.330304\n",
              "1  0.417118  0.361576  0.407666  0.322951  0.375386\n",
              "2  0.340778  0.391729  0.427155  0.403827  0.346953\n",
              "3  0.720198  0.734151  0.736173  0.751253  0.725948\n",
              "4  0.200629  0.189707  0.175935  0.145036  0.166993"
            ]
          },
          "metadata": {
            "tags": []
          },
          "execution_count": 25
        }
      ]
    },
    {
      "cell_type": "code",
      "metadata": {
        "id": "LUBJMAt5sjLz"
      },
      "source": [
        "sub = pd.read_csv('/content/drive/My Drive/DSN AI Bootcamp Qualification Hackathon/SampleSubmission.csv')"
      ],
      "execution_count": 26,
      "outputs": []
    },
    {
      "cell_type": "code",
      "metadata": {
        "id": "cAb7F5E-sjMB"
      },
      "source": [
        "### We take the mean of all 5 predictions to generate submission"
      ],
      "execution_count": null,
      "outputs": []
    },
    {
      "cell_type": "code",
      "metadata": {
        "id": "lrS9e_xeuof4"
      },
      "source": [
        "from google.colab import files\n"
      ],
      "execution_count": 28,
      "outputs": []
    },
    {
      "cell_type": "code",
      "metadata": {
        "id": "bkDFca5-sjMR"
      },
      "source": [
        "sub['default_status'] = np.mean(test_oofs, axis = 0)"
      ],
      "execution_count": 29,
      "outputs": []
    },
    {
      "cell_type": "code",
      "metadata": {
        "id": "m5ib6M4isjMk"
      },
      "source": [
        "sub.to_csv('submit3.csv', index = False)"
      ],
      "execution_count": 31,
      "outputs": []
    },
    {
      "cell_type": "code",
      "metadata": {
        "id": "K-JeGMjnuutm",
        "outputId": "c41ab7ac-200a-41bd-8a4c-d6d9852bc19b",
        "colab": {
          "base_uri": "https://localhost:8080/",
          "height": 16
        }
      },
      "source": [
        "files.download('submit3.csv')"
      ],
      "execution_count": 32,
      "outputs": [
        {
          "output_type": "display_data",
          "data": {
            "application/javascript": [
              "\n",
              "    async function download(id, filename, size) {\n",
              "      if (!google.colab.kernel.accessAllowed) {\n",
              "        return;\n",
              "      }\n",
              "      const div = document.createElement('div');\n",
              "      const label = document.createElement('label');\n",
              "      label.textContent = `Downloading \"${filename}\": `;\n",
              "      div.appendChild(label);\n",
              "      const progress = document.createElement('progress');\n",
              "      progress.max = size;\n",
              "      div.appendChild(progress);\n",
              "      document.body.appendChild(div);\n",
              "\n",
              "      const buffers = [];\n",
              "      let downloaded = 0;\n",
              "\n",
              "      const channel = await google.colab.kernel.comms.open(id);\n",
              "      // Send a message to notify the kernel that we're ready.\n",
              "      channel.send({})\n",
              "\n",
              "      for await (const message of channel.messages) {\n",
              "        // Send a message to notify the kernel that we're ready.\n",
              "        channel.send({})\n",
              "        if (message.buffers) {\n",
              "          for (const buffer of message.buffers) {\n",
              "            buffers.push(buffer);\n",
              "            downloaded += buffer.byteLength;\n",
              "            progress.value = downloaded;\n",
              "          }\n",
              "        }\n",
              "      }\n",
              "      const blob = new Blob(buffers, {type: 'application/binary'});\n",
              "      const a = document.createElement('a');\n",
              "      a.href = window.URL.createObjectURL(blob);\n",
              "      a.download = filename;\n",
              "      div.appendChild(a);\n",
              "      a.click();\n",
              "      div.remove();\n",
              "    }\n",
              "  "
            ],
            "text/plain": [
              "<IPython.core.display.Javascript object>"
            ]
          },
          "metadata": {
            "tags": []
          }
        },
        {
          "output_type": "display_data",
          "data": {
            "application/javascript": [
              "download(\"download_6e6f1a73-e834-49ac-8844-c50aef951fc8\", \"submit3.csv\", 804885)"
            ],
            "text/plain": [
              "<IPython.core.display.Javascript object>"
            ]
          },
          "metadata": {
            "tags": []
          }
        }
      ]
    },
    {
      "cell_type": "markdown",
      "metadata": {
        "id": "u0VGKog9sjMz"
      },
      "source": [
        "### Suggestions:\n",
        "- Base your feature selection on the local cv score i.e When you add, remove or engineer feature check `score` (cell 17)\n",
        "- Increase number of fold to 10, 15. See how score imporve on leaderboard.\n",
        "- Try differnt value of learning rate. I'll advice anything < 0.01\n",
        "- Create as many features as possible.\n",
        "- Find code for Xgboost and lgbm using this method of modelling, or better still tweak this one (mind you, names of parameters may be slightly different."
      ]
    },
    {
      "cell_type": "code",
      "metadata": {
        "id": "7d8UrxzosjM1"
      },
      "source": [
        ""
      ],
      "execution_count": null,
      "outputs": []
    }
  ]
}