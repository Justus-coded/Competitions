{
  "nbformat": 4,
  "nbformat_minor": 0,
  "metadata": {
    "kernelspec": {
      "language": "python",
      "display_name": "Python 3",
      "name": "python3"
    },
    "language_info": {
      "name": "python",
      "version": "3.7.6",
      "mimetype": "text/x-python",
      "codemirror_mode": {
        "name": "ipython",
        "version": 3
      },
      "pygments_lexer": "ipython3",
      "nbconvert_exporter": "python",
      "file_extension": ".py"
    },
    "colab": {
      "name": "DSN AI Boot camp Qualification1.ipynb",
      "provenance": [],
      "include_colab_link": true
    },
    "accelerator": "GPU"
  },
  "cells": [
    {
      "cell_type": "markdown",
      "metadata": {
        "id": "view-in-github",
        "colab_type": "text"
      },
      "source": [
        "<a href=\"https://colab.research.google.com/github/Justus-coded/Competitions/blob/master/DSN%20AI%20Bootcamp%20Qualification%20Hackathon/DSN%20AI%20Boot_camp%20Qualification1.ipynb\" target=\"_parent\"><img src=\"https://colab.research.google.com/assets/colab-badge.svg\" alt=\"Open In Colab\"/></a>"
      ]
    },
    {
      "cell_type": "code",
      "metadata": {
        "id": "lTYsttC3sjHh",
        "trusted": true,
        "outputId": "87f4f3d8-d8eb-4b94-cb64-a06ff946a7e4",
        "colab": {
          "base_uri": "https://localhost:8080/",
          "height": 72
        }
      },
      "source": [
        "import pandas as pd\n",
        "import numpy as np\n",
        "import seaborn as sns\n",
        "import matplotlib.pyplot as plt\n",
        " \n",
        "%matplotlib inline\n",
        " \n",
        "import warnings\n",
        "warnings.filterwarnings('ignore')"
      ],
      "execution_count": 1,
      "outputs": [
        {
          "output_type": "stream",
          "text": [
            "/usr/local/lib/python3.6/dist-packages/statsmodels/tools/_testing.py:19: FutureWarning: pandas.util.testing is deprecated. Use the functions in the public API at pandas.testing instead.\n",
            "  import pandas.util.testing as tm\n"
          ],
          "name": "stderr"
        }
      ]
    },
    {
      "cell_type": "code",
      "metadata": {
        "id": "lJdWtcbpgDWK",
        "trusted": true,
        "outputId": "833be16f-7313-47c0-8e89-449ed22c9601",
        "colab": {
          "base_uri": "https://localhost:8080/",
          "height": 34
        }
      },
      "source": [
        "from google.colab import drive\n",
        "drive.mount('/content/drive')"
      ],
      "execution_count": 2,
      "outputs": [
        {
          "output_type": "stream",
          "text": [
            "Mounted at /content/drive\n"
          ],
          "name": "stdout"
        }
      ]
    },
    {
      "cell_type": "code",
      "metadata": {
        "id": "ygKIugwesjH5",
        "trusted": true
      },
      "source": [
        "train = pd.read_csv('/content/drive/My Drive/DSN AI Bootcamp Qualification Hackathon/Train.csv')\n",
        "test  = pd.read_csv('/content/drive/My Drive/DSN AI Bootcamp Qualification Hackathon/Test.csv')\n",
        " \n",
        "#train = pd.read_csv('../input/dsn-ai-bootcamp-data/Train.csv')\n",
        "#test = pd.read_csv('../input/dsn-ai-bootcamp-data/Test.csv')\n",
        "#sub = pd.read_csv('../input/dsn-ai-bootcamp-data/SampleSubmission.csv')"
      ],
      "execution_count": 3,
      "outputs": []
    },
    {
      "cell_type": "code",
      "metadata": {
        "id": "ixvLHcBnsjIL",
        "trusted": true
      },
      "source": [
        "dict_ = {'charge': 1,\n",
        "         'lending': 0}\n",
        " \n",
        "target_map = {\n",
        "    'yes': 1,\n",
        "    'no': 0}\n",
        " \n",
        "train.default_status.replace(target_map, inplace = True)\n",
        " \n",
        "train['form_field47'].replace(dict_, inplace = True)\n",
        "test['form_field47'].replace(dict_, inplace = True)"
      ],
      "execution_count": 4,
      "outputs": []
    },
    {
      "cell_type": "code",
      "metadata": {
        "id": "6ZJIgEJkhkqM",
        "trusted": true,
        "outputId": "93842818-c5e0-4da0-98ff-2ecfd6a1b889",
        "colab": {
          "base_uri": "https://localhost:8080/",
          "height": 356
        }
      },
      "source": [
        "pip install catboost"
      ],
      "execution_count": 5,
      "outputs": [
        {
          "output_type": "stream",
          "text": [
            "Collecting catboost\n",
            "\u001b[?25l  Downloading https://files.pythonhosted.org/packages/90/86/c3dcb600b4f9e7584ed90ea9d30a717fb5c0111574675f442c3e7bc19535/catboost-0.24.1-cp36-none-manylinux1_x86_64.whl (66.1MB)\n",
            "\u001b[K     |████████████████████████████████| 66.1MB 87kB/s \n",
            "\u001b[?25hRequirement already satisfied: numpy>=1.16.0 in /usr/local/lib/python3.6/dist-packages (from catboost) (1.18.5)\n",
            "Requirement already satisfied: matplotlib in /usr/local/lib/python3.6/dist-packages (from catboost) (3.2.2)\n",
            "Requirement already satisfied: scipy in /usr/local/lib/python3.6/dist-packages (from catboost) (1.4.1)\n",
            "Requirement already satisfied: graphviz in /usr/local/lib/python3.6/dist-packages (from catboost) (0.10.1)\n",
            "Requirement already satisfied: pandas>=0.24.0 in /usr/local/lib/python3.6/dist-packages (from catboost) (1.0.5)\n",
            "Requirement already satisfied: six in /usr/local/lib/python3.6/dist-packages (from catboost) (1.15.0)\n",
            "Requirement already satisfied: plotly in /usr/local/lib/python3.6/dist-packages (from catboost) (4.4.1)\n",
            "Requirement already satisfied: python-dateutil>=2.1 in /usr/local/lib/python3.6/dist-packages (from matplotlib->catboost) (2.8.1)\n",
            "Requirement already satisfied: pyparsing!=2.0.4,!=2.1.2,!=2.1.6,>=2.0.1 in /usr/local/lib/python3.6/dist-packages (from matplotlib->catboost) (2.4.7)\n",
            "Requirement already satisfied: cycler>=0.10 in /usr/local/lib/python3.6/dist-packages (from matplotlib->catboost) (0.10.0)\n",
            "Requirement already satisfied: kiwisolver>=1.0.1 in /usr/local/lib/python3.6/dist-packages (from matplotlib->catboost) (1.2.0)\n",
            "Requirement already satisfied: pytz>=2017.2 in /usr/local/lib/python3.6/dist-packages (from pandas>=0.24.0->catboost) (2018.9)\n",
            "Requirement already satisfied: retrying>=1.3.3 in /usr/local/lib/python3.6/dist-packages (from plotly->catboost) (1.3.3)\n",
            "Installing collected packages: catboost\n",
            "Successfully installed catboost-0.24.1\n"
          ],
          "name": "stdout"
        }
      ]
    },
    {
      "cell_type": "code",
      "metadata": {
        "id": "nA1fJeNFsjIc",
        "trusted": true
      },
      "source": [
        "from sklearn.metrics import roc_auc_score\n",
        "from catboost import CatBoostClassifier"
      ],
      "execution_count": 6,
      "outputs": []
    },
    {
      "cell_type": "code",
      "metadata": {
        "id": "kw9u6xuNsjIt",
        "trusted": true
      },
      "source": [
        "features = train.select_dtypes(exclude = object).columns.drop(['default_status'])"
      ],
      "execution_count": 7,
      "outputs": []
    },
    {
      "cell_type": "code",
      "metadata": {
        "id": "WUnZZc7-sjI9",
        "trusted": true
      },
      "source": [
        "# features"
      ],
      "execution_count": 8,
      "outputs": []
    },
    {
      "cell_type": "code",
      "metadata": {
        "id": "hPhK0BEosjJM",
        "trusted": true
      },
      "source": [
        "for col in features:\n",
        "    train[col].fillna(-999, inplace = True)\n",
        "    test[col].fillna(-999, inplace = True)"
      ],
      "execution_count": 9,
      "outputs": []
    },
    {
      "cell_type": "code",
      "metadata": {
        "trusted": true,
        "id": "uJ8ym8YKEZBd"
      },
      "source": [
        "train['form_field1*formfield2'] = train['form_field1'] * train['form_field2']\n",
        "train['form_field1/formfield2'] = train['form_field1'] / train['form_field2']\n",
        " \n",
        "train['form_field1*formfield3'] = train['form_field1'] * train.form_field3\n",
        "train['form_field1*formfield4'] = train.form_field1 * train.form_field4\n",
        "train['form_field1*formfield5'] = train.form_field1 * train.form_field5\n",
        " \n",
        "#train['form_field30*formfield41'] = train['form_field30'] * train['form_field41']\n",
        "#train['form_field31*formfield40'] = train['form_field31'] * train['form_field40']\n",
        " \n",
        "train['form_field6+field7'] =  (train.form_field6 + train.form_field8)/2\n",
        " \n",
        "train['form_field1*formfield6'] = train['form_field1'] * train['form_field6']\n",
        "train['form_field2*formfield6'] = train['form_field2'] * train['form_field6']\n",
        " \n",
        "train['form_field1*formfield9'] = train['form_field1'] * train['form_field9']\n",
        "train['form_field2*formfield9'] = train['form_field2'] * train['form_field9']\n",
        " \n",
        "train['form_field1*formfield37'] = train['form_field1'] * train['form_field37']\n",
        "train['form_field2*formfield37'] = train['form_field2'] * train['form_field37']\n",
        " \n",
        "train['form_field9*formfield6'] = train['form_field9'] * train['form_field6']\n",
        "train['form_field37*formfield6'] = train['form_field37'] * train['form_field6']\n",
        " \n",
        "train['form_field9*formfield37'] = train['form_field9'] * train['form_field37']\n",
        "train['form_field1*formfield8'] = train['form_field1'] * train['form_field8']\n",
        " \n",
        " \n",
        " \n",
        " \n",
        "#train['form_field13/field14'] =(train.form_field13 / train.form_field14)*100\n",
        " \n",
        "#train['form_field32/field33'] = (train['form_field32']+ train['form_field33'])/2\n",
        "#train['form_field36/field38'] = train['form_field36'] / train['form_field38']\n",
        "#train['form_field36/field39'] = train['form_field36'] / train['form_field39']\n",
        "#train['form_field36/field18'] = train['form_field36'] / train['form_field18']\n",
        "#train['form_field36/field20'] = train['form_field36'] / train['form_field20']\n",
        "#train['form_field44*field50'] = train['form_field44'] * train['form_field50']"
      ],
      "execution_count": 32,
      "outputs": []
    },
    {
      "cell_type": "code",
      "metadata": {
        "trusted": true,
        "id": "wmDTpph2EZBk"
      },
      "source": [
        "test['form_field1*formfield2'] = test['form_field1'] * test['form_field2']\n",
        "test['form_field1/formfield2'] = test['form_field1'] / test['form_field2']\n",
        " \n",
        "test['form_field1*formfield3'] = test['form_field1'] * test.form_field3\n",
        "test['form_field1*formfield4'] = test.form_field1 * test.form_field4\n",
        "test['form_field1*formfield5'] = test.form_field1 * test.form_field5\n",
        " \n",
        "#test['form_field30*formfield41'] = test['form_field30'] * test['form_field41']\n",
        "#test['form_field31*formfield40'] = test['form_field31'] * test['form_field40']\n",
        " \n",
        "test['form_field6+field7'] =  (test.form_field6 + test.form_field8)/2\n",
        " \n",
        "test['form_field1*formfield6'] = test['form_field1'] * test['form_field6']\n",
        "test['form_field2*formfield6'] = test['form_field2'] * test['form_field6']\n",
        " \n",
        "test['form_field1*formfield9'] = test['form_field1'] * test['form_field9']\n",
        "test['form_field2*formfield9'] = test['form_field2'] * test['form_field9']\n",
        " \n",
        "test['form_field1*formfield37'] = test['form_field1'] * test['form_field37']\n",
        "test['form_field2*formfield37'] = test['form_field2'] * test['form_field37']\n",
        " \n",
        "test['form_field9*formfield6'] = test['form_field9'] * test['form_field6']\n",
        "test['form_field37*formfield6'] = test['form_field37'] *test['form_field6']\n",
        " \n",
        "test['form_field9*formfield37'] = test['form_field9'] * test['form_field37']\n",
        "test['form_field1*formfield8'] = test['form_field1'] * test['form_field8']\n",
        " \n",
        " \n",
        " \n",
        "#test['form_field13/field14'] = (test.form_field13 / test.form_field14)*100\n",
        "#test['form_field32/field33'] = (test['form_field32']+ test['form_field33'])/2\n",
        "#test['form_field36/field38'] = test['form_field36'] / test['form_field38']\n",
        "#test['form_field36/field39'] = test['form_field36'] / test['form_field39']\n",
        "#test['form_field36/field18'] = test['form_field36'] / test['form_field18']\n",
        " \n",
        "#test['form_field36/field20'] = test['form_field36'] / test['form_field20']\n",
        "#test['form_field44*field50'] =test['form_field44'] * test['form_field50']"
      ],
      "execution_count": 33,
      "outputs": []
    },
    {
      "cell_type": "code",
      "metadata": {
        "id": "r-ufe1354lL8"
      },
      "source": [
        " for col in features: \n",
        "   \n",
        " \n",
        "    train[col + '_mean_on_field1_'] = train[col].groupby([train['form_field47'],train['form_field1']]).transform('mean')\n",
        "    train[col + '_mean_on_field2_'] = train[col].groupby([train['form_field47'],train['form_field2']]).transform('mean')\n",
        " \n",
        "    train[col + '_sum_on_field1_'] = train[col].groupby([train['form_field47'],train['form_field1']]).transform('sum')\n",
        "    train[col + '_sum_on_field2_'] = train[col].groupby([train['form_field47'],train['form_field2']]).transform('sum')\n",
        "\n",
        "    test[col + '_mean_on_field1_'] = test[col].groupby([test['form_field47'],test['form_field1']]).transform('mean')\n",
        "    test[col + '_mean_on_field2_'] = test[col].groupby([test['form_field47'],test['form_field2']]).transform('mean')\n",
        "\n",
        "    test[col + '_sum_on_field1_'] = test[col].groupby([test['form_field47'],test['form_field1']]).transform('sum')\n",
        "    test[col + '_sum_on_field2_'] = test[col].groupby([test['form_field47'],test['form_field2']]).transform('sum')"
      ],
      "execution_count": 34,
      "outputs": []
    },
    {
      "cell_type": "code",
      "metadata": {
        "id": "R1sBwoZNXPDc",
        "outputId": "22ec8108-045d-4465-b89c-9df9f3871de3",
        "colab": {
          "base_uri": "https://localhost:8080/",
          "height": 34
        }
      },
      "source": [
        "num_cols = train.select_dtypes(exclude = object).columns.drop(['default_status'])\n",
        "len(num_cols), len(features)\n"
      ],
      "execution_count": 50,
      "outputs": [
        {
          "output_type": "execute_result",
          "data": {
            "text/plain": [
              "(266, 50)"
            ]
          },
          "metadata": {
            "tags": []
          },
          "execution_count": 50
        }
      ]
    },
    {
      "cell_type": "code",
      "metadata": {
        "id": "mx7-5t79YEe8"
      },
      "source": [
        "#features"
      ],
      "execution_count": 41,
      "outputs": []
    },
    {
      "cell_type": "code",
      "metadata": {
        "id": "qsaVd8sGsjJi",
        "trusted": true
      },
      "source": [
        "X = train[num_cols]\n",
        "y = train['default_status']"
      ],
      "execution_count": 37,
      "outputs": []
    },
    {
      "cell_type": "code",
      "metadata": {
        "id": "9gxp50oMYqaO"
      },
      "source": [
        "test_cols = test.select_dtypes(exclude = object).columns\n"
      ],
      "execution_count": 47,
      "outputs": []
    },
    {
      "cell_type": "code",
      "metadata": {
        "id": "2vzw4M_-sjJw",
        "trusted": true
      },
      "source": [
        "from sklearn.model_selection import StratifiedKFold"
      ],
      "execution_count": 14,
      "outputs": []
    },
    {
      "cell_type": "code",
      "metadata": {
        "id": "Pqumr-QosjJ-",
        "trusted": true
      },
      "source": [
        "def metric(y, pred):\n",
        "    return roc_auc_score(y, pred, labels=[0, 1])"
      ],
      "execution_count": 15,
      "outputs": []
    },
    {
      "cell_type": "code",
      "metadata": {
        "id": "mSzq68IusjKM",
        "trusted": true
      },
      "source": [
        "# Specify number of folds\n",
        "n_skf = 15\n",
        "kf = StratifiedKFold(n_skf)\n",
        " \n",
        "#seed = 42\n",
        " \n",
        "## Manually tweak the hyperparameter, learning rate and n_estimators especially\n",
        "params = {'max_depth':7,\n",
        "    'n_estimators': 5000,\n",
        "    'learning_rate': 0.008,\n",
        "    'objective': 'CrossEntropy',\n",
        "      'eval_metric':'AUC',\n",
        "    \n",
        "    'early_stopping_rounds': 200,\n",
        "    'use_best_model': True,\n",
        "}"
      ],
      "execution_count": 42,
      "outputs": []
    },
    {
      "cell_type": "code",
      "metadata": {
        "scrolled": true,
        "id": "CVC4mh-nsjKa",
        "trusted": true,
        "outputId": "efdd4ac4-186f-45c2-abf6-4a5f53db8e63",
        "colab": {
          "base_uri": "https://localhost:8080/",
          "height": 34
        }
      },
      "source": [
        "score_list = []\n",
        "score = 0\n",
        "test_oofs = []\n",
        " \n",
        "for i, (tr_idx, vr_idx) in enumerate(kf.split(X, y)):\n",
        "    \n",
        "    xtrain, ytrain = X.loc[tr_idx, num_cols], y.loc[tr_idx]\n",
        "    xval, yval = X.loc[vr_idx, num_cols], y.loc[vr_idx]\n",
        " \n",
        "    model = CatBoostClassifier(**params, task_type='GPU',random_seed = i)\n",
        "    model.fit(xtrain, ytrain, eval_set=[(xval,yval)], verbose=0)\n",
        "    \n",
        "    p = model.predict_proba(xval)[:, 1]\n",
        "    sc = metric(yval, p)\n",
        "    score_list.append(sc)\n",
        "    score += sc/n_skf\n",
        "    \n",
        "    pred = model.predict_proba(test[num_cols])[:, 1]\n",
        "    test_oofs.append(pred)\n",
        " \n",
        "    print('Fold {} : {}'.format(i, sc))\n",
        " \n",
        "print()\n",
        "print()\n",
        "print('Avg log : ', score)"
      ],
      "execution_count": null,
      "outputs": [
        {
          "output_type": "stream",
          "text": [
            "Fold 0 : 0.8284280942937948\n"
          ],
          "name": "stdout"
        }
      ]
    },
    {
      "cell_type": "code",
      "metadata": {
        "scrolled": true,
        "id": "rEp1xVpysjKw",
        "trusted": true,
        "outputId": "fc5f4f44-1003-46ad-fc98-335ec7916a7c",
        "colab": {
          "base_uri": "https://localhost:8080/",
          "height": 35
        }
      },
      "source": [
        "f\"{n_skf} fold CV, score: {score}\" #Increase in local cv score should probably lead to increase in Leaderboard score"
      ],
      "execution_count": 18,
      "outputs": [
        {
          "output_type": "execute_result",
          "data": {
            "application/vnd.google.colaboratory.intrinsic+json": {
              "type": "string"
            },
            "text/plain": [
              "'15 fold CV, score: 0.8419128124711005'"
            ]
          },
          "metadata": {
            "tags": []
          },
          "execution_count": 18
        }
      ]
    },
    {
      "cell_type": "markdown",
      "metadata": {
        "id": "uxzFzkgeRwvS"
      },
      "source": [
        "15 fold CV, score: 0.8419128124711005, LR-0.008, n_estimator = 5000, seed = i, depth = 7, submit12.csv, Added more aggregate features"
      ]
    },
    {
      "cell_type": "markdown",
      "metadata": {
        "id": "2tvXmEs5EZCb"
      },
      "source": [
        "'15 fold CV, score: 0.8416762360251805', LR-0.005, n_estimator = 10000, seed = i, depth = 7, submit10.csv"
      ]
    },
    {
      "cell_type": "markdown",
      "metadata": {
        "id": "LEOZcyX8EZCc"
      },
      "source": [
        "'15 fold CV, score: 0.8416215384358319', LR-0.008, n_estimator = 5000, seed = i, depth = 8"
      ]
    },
    {
      "cell_type": "markdown",
      "metadata": {
        "id": "bXCoakuiEZCe"
      },
      "source": [
        "'20 fold CV, score: 0.8419991965085709',LR-0.008, n_estimator = 5000, seed = i, depth = 7, submit9.csv"
      ]
    },
    {
      "cell_type": "markdown",
      "metadata": {
        "id": "fY0XdYylEZCf"
      },
      "source": [
        "'15 fold CV, score: 0.8419018702724905', LR-0.008, n_estimator = 5000, seed = i, depth = 7, submit8.csv, Best score on LB"
      ]
    },
    {
      "cell_type": "markdown",
      "metadata": {
        "id": "GJyuNaq0EZCh"
      },
      "source": [
        "'15 fold CV, score: 0.8418325697189986, LR-0.008, n_estimator = 5000, seed = 42, depth = 7, submit7.csv"
      ]
    },
    {
      "cell_type": "markdown",
      "metadata": {
        "id": "Br93cxfnEZCi"
      },
      "source": [
        "'10 fold CV, score: 0.8416283637107365', LR-0.008, n_estimator = 5000, seed = 42, depth = 7, submit5.csv"
      ]
    },
    {
      "cell_type": "markdown",
      "metadata": {
        "id": "4vsUl6wxEZCk"
      },
      "source": [
        "'10 fold CV, score: 0.8404761359972677', LR-0.008, n_estimator = 5000, seed = 42, depth = 10, submit4.csv"
      ]
    },
    {
      "cell_type": "markdown",
      "metadata": {
        "id": "4A-JXnsTEZCl"
      },
      "source": [
        "'10 fold CV, score: 0.8416127641119365', LR-0.008, n_estimator = 5000, seed = 2020"
      ]
    },
    {
      "cell_type": "markdown",
      "metadata": {
        "id": "L5-0vhtIEZCn"
      },
      "source": [
        "'10 fold CV, score: 0.8415039416559706', LR-0.008, n_estimator = 5000, seed = 42"
      ]
    },
    {
      "cell_type": "markdown",
      "metadata": {
        "id": "rnU3HLczsjLA"
      },
      "source": [
        "### Since we are using cross validation, We'll have `n` different predictions (where n is the number of fold)"
      ]
    },
    {
      "cell_type": "code",
      "metadata": {
        "id": "VO7c0-a6sjLD",
        "trusted": true
      },
      "source": [
        "oof_prediction = pd.DataFrame(test_oofs).T"
      ],
      "execution_count": 19,
      "outputs": []
    },
    {
      "cell_type": "code",
      "metadata": {
        "id": "vKYZMsjWsjLU",
        "trusted": true
      },
      "source": [
        "oof_prediction.columns = ['fold_'+ str(i) for i in range(1, n_skf + 1)]"
      ],
      "execution_count": 20,
      "outputs": []
    },
    {
      "cell_type": "code",
      "metadata": {
        "id": "w6aN3-LPsjLk",
        "trusted": true,
        "outputId": "96717f4f-05f4-4a29-baa8-faa65046e306",
        "colab": {
          "base_uri": "https://localhost:8080/",
          "height": 217
        }
      },
      "source": [
        "oof_prediction.head()"
      ],
      "execution_count": 21,
      "outputs": [
        {
          "output_type": "execute_result",
          "data": {
            "text/html": [
              "<div>\n",
              "<style scoped>\n",
              "    .dataframe tbody tr th:only-of-type {\n",
              "        vertical-align: middle;\n",
              "    }\n",
              "\n",
              "    .dataframe tbody tr th {\n",
              "        vertical-align: top;\n",
              "    }\n",
              "\n",
              "    .dataframe thead th {\n",
              "        text-align: right;\n",
              "    }\n",
              "</style>\n",
              "<table border=\"1\" class=\"dataframe\">\n",
              "  <thead>\n",
              "    <tr style=\"text-align: right;\">\n",
              "      <th></th>\n",
              "      <th>fold_1</th>\n",
              "      <th>fold_2</th>\n",
              "      <th>fold_3</th>\n",
              "      <th>fold_4</th>\n",
              "      <th>fold_5</th>\n",
              "      <th>fold_6</th>\n",
              "      <th>fold_7</th>\n",
              "      <th>fold_8</th>\n",
              "      <th>fold_9</th>\n",
              "      <th>fold_10</th>\n",
              "      <th>fold_11</th>\n",
              "      <th>fold_12</th>\n",
              "      <th>fold_13</th>\n",
              "      <th>fold_14</th>\n",
              "      <th>fold_15</th>\n",
              "    </tr>\n",
              "  </thead>\n",
              "  <tbody>\n",
              "    <tr>\n",
              "      <th>0</th>\n",
              "      <td>0.314114</td>\n",
              "      <td>0.288612</td>\n",
              "      <td>0.342378</td>\n",
              "      <td>0.323852</td>\n",
              "      <td>0.310555</td>\n",
              "      <td>0.314716</td>\n",
              "      <td>0.314581</td>\n",
              "      <td>0.349372</td>\n",
              "      <td>0.324242</td>\n",
              "      <td>0.305471</td>\n",
              "      <td>0.319757</td>\n",
              "      <td>0.316901</td>\n",
              "      <td>0.303312</td>\n",
              "      <td>0.322182</td>\n",
              "      <td>0.304440</td>\n",
              "    </tr>\n",
              "    <tr>\n",
              "      <th>1</th>\n",
              "      <td>0.425212</td>\n",
              "      <td>0.332593</td>\n",
              "      <td>0.377943</td>\n",
              "      <td>0.390587</td>\n",
              "      <td>0.331499</td>\n",
              "      <td>0.396392</td>\n",
              "      <td>0.396912</td>\n",
              "      <td>0.444833</td>\n",
              "      <td>0.380451</td>\n",
              "      <td>0.385089</td>\n",
              "      <td>0.356461</td>\n",
              "      <td>0.352322</td>\n",
              "      <td>0.401058</td>\n",
              "      <td>0.397946</td>\n",
              "      <td>0.351174</td>\n",
              "    </tr>\n",
              "    <tr>\n",
              "      <th>2</th>\n",
              "      <td>0.354195</td>\n",
              "      <td>0.394853</td>\n",
              "      <td>0.381181</td>\n",
              "      <td>0.369549</td>\n",
              "      <td>0.395171</td>\n",
              "      <td>0.415803</td>\n",
              "      <td>0.415784</td>\n",
              "      <td>0.374056</td>\n",
              "      <td>0.404172</td>\n",
              "      <td>0.396937</td>\n",
              "      <td>0.412768</td>\n",
              "      <td>0.386719</td>\n",
              "      <td>0.356760</td>\n",
              "      <td>0.359079</td>\n",
              "      <td>0.369657</td>\n",
              "    </tr>\n",
              "    <tr>\n",
              "      <th>3</th>\n",
              "      <td>0.729698</td>\n",
              "      <td>0.743151</td>\n",
              "      <td>0.763501</td>\n",
              "      <td>0.756457</td>\n",
              "      <td>0.752966</td>\n",
              "      <td>0.765056</td>\n",
              "      <td>0.742584</td>\n",
              "      <td>0.752692</td>\n",
              "      <td>0.722089</td>\n",
              "      <td>0.755321</td>\n",
              "      <td>0.764258</td>\n",
              "      <td>0.751393</td>\n",
              "      <td>0.738476</td>\n",
              "      <td>0.725104</td>\n",
              "      <td>0.738868</td>\n",
              "    </tr>\n",
              "    <tr>\n",
              "      <th>4</th>\n",
              "      <td>0.167424</td>\n",
              "      <td>0.158714</td>\n",
              "      <td>0.173079</td>\n",
              "      <td>0.176668</td>\n",
              "      <td>0.158162</td>\n",
              "      <td>0.161879</td>\n",
              "      <td>0.158758</td>\n",
              "      <td>0.174698</td>\n",
              "      <td>0.173949</td>\n",
              "      <td>0.166391</td>\n",
              "      <td>0.147342</td>\n",
              "      <td>0.177701</td>\n",
              "      <td>0.189161</td>\n",
              "      <td>0.174128</td>\n",
              "      <td>0.151464</td>\n",
              "    </tr>\n",
              "  </tbody>\n",
              "</table>\n",
              "</div>"
            ],
            "text/plain": [
              "     fold_1    fold_2    fold_3  ...   fold_13   fold_14   fold_15\n",
              "0  0.314114  0.288612  0.342378  ...  0.303312  0.322182  0.304440\n",
              "1  0.425212  0.332593  0.377943  ...  0.401058  0.397946  0.351174\n",
              "2  0.354195  0.394853  0.381181  ...  0.356760  0.359079  0.369657\n",
              "3  0.729698  0.743151  0.763501  ...  0.738476  0.725104  0.738868\n",
              "4  0.167424  0.158714  0.173079  ...  0.189161  0.174128  0.151464\n",
              "\n",
              "[5 rows x 15 columns]"
            ]
          },
          "metadata": {
            "tags": []
          },
          "execution_count": 21
        }
      ]
    },
    {
      "cell_type": "code",
      "metadata": {
        "id": "LUBJMAt5sjLz",
        "trusted": true
      },
      "source": [
        "sub = pd.read_csv('/content/drive/My Drive/DSN AI Bootcamp Qualification Hackathon/SampleSubmission.csv')"
      ],
      "execution_count": 22,
      "outputs": []
    },
    {
      "cell_type": "code",
      "metadata": {
        "id": "cAb7F5E-sjMB",
        "trusted": true
      },
      "source": [
        "### We take the mean of all 5 predictions to generate submission"
      ],
      "execution_count": null,
      "outputs": []
    },
    {
      "cell_type": "code",
      "metadata": {
        "id": "bkDFca5-sjMR",
        "trusted": true
      },
      "source": [
        "sub['default_status'] = np.mean(test_oofs, axis = 0)"
      ],
      "execution_count": 23,
      "outputs": []
    },
    {
      "cell_type": "code",
      "metadata": {
        "id": "m5ib6M4isjMk",
        "trusted": true
      },
      "source": [
        "sub.to_csv('submit12.csv', index = False)"
      ],
      "execution_count": 24,
      "outputs": []
    },
    {
      "cell_type": "code",
      "metadata": {
        "id": "X2wyo8qOVOHg",
        "outputId": "b0fae5db-47f7-4ff9-b6bc-b40e7af0f0ae",
        "colab": {
          "base_uri": "https://localhost:8080/",
          "height": 34
        }
      },
      "source": [
        "len(model.feature_importances_)"
      ],
      "execution_count": 31,
      "outputs": [
        {
          "output_type": "execute_result",
          "data": {
            "text/plain": [
              "50"
            ]
          },
          "metadata": {
            "tags": []
          },
          "execution_count": 31
        }
      ]
    },
    {
      "cell_type": "code",
      "metadata": {
        "id": "Twas44HaVex5",
        "outputId": "6649c111-e5ac-4035-955a-e5234eb49b50",
        "colab": {
          "base_uri": "https://localhost:8080/",
          "height": 1000
        }
      },
      "source": [
        "feature_importance_df"
      ],
      "execution_count": 29,
      "outputs": [
        {
          "output_type": "execute_result",
          "data": {
            "text/html": [
              "<div>\n",
              "<style scoped>\n",
              "    .dataframe tbody tr th:only-of-type {\n",
              "        vertical-align: middle;\n",
              "    }\n",
              "\n",
              "    .dataframe tbody tr th {\n",
              "        vertical-align: top;\n",
              "    }\n",
              "\n",
              "    .dataframe thead th {\n",
              "        text-align: right;\n",
              "    }\n",
              "</style>\n",
              "<table border=\"1\" class=\"dataframe\">\n",
              "  <thead>\n",
              "    <tr style=\"text-align: right;\">\n",
              "      <th></th>\n",
              "      <th>importance</th>\n",
              "    </tr>\n",
              "  </thead>\n",
              "  <tbody>\n",
              "    <tr>\n",
              "      <th>0</th>\n",
              "      <td>7.992341</td>\n",
              "    </tr>\n",
              "    <tr>\n",
              "      <th>1</th>\n",
              "      <td>8.205858</td>\n",
              "    </tr>\n",
              "    <tr>\n",
              "      <th>2</th>\n",
              "      <td>2.586986</td>\n",
              "    </tr>\n",
              "    <tr>\n",
              "      <th>3</th>\n",
              "      <td>1.198259</td>\n",
              "    </tr>\n",
              "    <tr>\n",
              "      <th>4</th>\n",
              "      <td>0.702730</td>\n",
              "    </tr>\n",
              "    <tr>\n",
              "      <th>5</th>\n",
              "      <td>3.137814</td>\n",
              "    </tr>\n",
              "    <tr>\n",
              "      <th>6</th>\n",
              "      <td>1.894769</td>\n",
              "    </tr>\n",
              "    <tr>\n",
              "      <th>7</th>\n",
              "      <td>1.890604</td>\n",
              "    </tr>\n",
              "    <tr>\n",
              "      <th>8</th>\n",
              "      <td>2.341815</td>\n",
              "    </tr>\n",
              "    <tr>\n",
              "      <th>9</th>\n",
              "      <td>1.614640</td>\n",
              "    </tr>\n",
              "    <tr>\n",
              "      <th>10</th>\n",
              "      <td>1.856429</td>\n",
              "    </tr>\n",
              "    <tr>\n",
              "      <th>11</th>\n",
              "      <td>1.038550</td>\n",
              "    </tr>\n",
              "    <tr>\n",
              "      <th>12</th>\n",
              "      <td>1.520874</td>\n",
              "    </tr>\n",
              "    <tr>\n",
              "      <th>13</th>\n",
              "      <td>1.498717</td>\n",
              "    </tr>\n",
              "    <tr>\n",
              "      <th>14</th>\n",
              "      <td>1.938334</td>\n",
              "    </tr>\n",
              "    <tr>\n",
              "      <th>15</th>\n",
              "      <td>1.103915</td>\n",
              "    </tr>\n",
              "    <tr>\n",
              "      <th>16</th>\n",
              "      <td>1.460388</td>\n",
              "    </tr>\n",
              "    <tr>\n",
              "      <th>17</th>\n",
              "      <td>0.217587</td>\n",
              "    </tr>\n",
              "    <tr>\n",
              "      <th>18</th>\n",
              "      <td>1.089553</td>\n",
              "    </tr>\n",
              "    <tr>\n",
              "      <th>19</th>\n",
              "      <td>1.035362</td>\n",
              "    </tr>\n",
              "    <tr>\n",
              "      <th>20</th>\n",
              "      <td>1.447902</td>\n",
              "    </tr>\n",
              "    <tr>\n",
              "      <th>21</th>\n",
              "      <td>1.608628</td>\n",
              "    </tr>\n",
              "    <tr>\n",
              "      <th>22</th>\n",
              "      <td>0.996053</td>\n",
              "    </tr>\n",
              "    <tr>\n",
              "      <th>23</th>\n",
              "      <td>1.930342</td>\n",
              "    </tr>\n",
              "    <tr>\n",
              "      <th>24</th>\n",
              "      <td>2.287043</td>\n",
              "    </tr>\n",
              "    <tr>\n",
              "      <th>25</th>\n",
              "      <td>1.433314</td>\n",
              "    </tr>\n",
              "    <tr>\n",
              "      <th>26</th>\n",
              "      <td>1.538687</td>\n",
              "    </tr>\n",
              "    <tr>\n",
              "      <th>27</th>\n",
              "      <td>1.012848</td>\n",
              "    </tr>\n",
              "    <tr>\n",
              "      <th>28</th>\n",
              "      <td>1.662133</td>\n",
              "    </tr>\n",
              "    <tr>\n",
              "      <th>29</th>\n",
              "      <td>1.530245</td>\n",
              "    </tr>\n",
              "    <tr>\n",
              "      <th>30</th>\n",
              "      <td>0.952576</td>\n",
              "    </tr>\n",
              "    <tr>\n",
              "      <th>31</th>\n",
              "      <td>1.594528</td>\n",
              "    </tr>\n",
              "    <tr>\n",
              "      <th>32</th>\n",
              "      <td>1.569407</td>\n",
              "    </tr>\n",
              "    <tr>\n",
              "      <th>33</th>\n",
              "      <td>1.914958</td>\n",
              "    </tr>\n",
              "    <tr>\n",
              "      <th>34</th>\n",
              "      <td>1.342812</td>\n",
              "    </tr>\n",
              "    <tr>\n",
              "      <th>35</th>\n",
              "      <td>1.930324</td>\n",
              "    </tr>\n",
              "    <tr>\n",
              "      <th>36</th>\n",
              "      <td>2.177405</td>\n",
              "    </tr>\n",
              "    <tr>\n",
              "      <th>37</th>\n",
              "      <td>2.112077</td>\n",
              "    </tr>\n",
              "    <tr>\n",
              "      <th>38</th>\n",
              "      <td>0.644803</td>\n",
              "    </tr>\n",
              "    <tr>\n",
              "      <th>39</th>\n",
              "      <td>1.871662</td>\n",
              "    </tr>\n",
              "    <tr>\n",
              "      <th>40</th>\n",
              "      <td>1.159603</td>\n",
              "    </tr>\n",
              "    <tr>\n",
              "      <th>41</th>\n",
              "      <td>2.902707</td>\n",
              "    </tr>\n",
              "    <tr>\n",
              "      <th>42</th>\n",
              "      <td>2.039873</td>\n",
              "    </tr>\n",
              "    <tr>\n",
              "      <th>43</th>\n",
              "      <td>1.542816</td>\n",
              "    </tr>\n",
              "    <tr>\n",
              "      <th>44</th>\n",
              "      <td>1.675353</td>\n",
              "    </tr>\n",
              "    <tr>\n",
              "      <th>45</th>\n",
              "      <td>0.760150</td>\n",
              "    </tr>\n",
              "    <tr>\n",
              "      <th>46</th>\n",
              "      <td>10.690036</td>\n",
              "    </tr>\n",
              "    <tr>\n",
              "      <th>47</th>\n",
              "      <td>0.656370</td>\n",
              "    </tr>\n",
              "    <tr>\n",
              "      <th>48</th>\n",
              "      <td>1.988022</td>\n",
              "    </tr>\n",
              "    <tr>\n",
              "      <th>49</th>\n",
              "      <td>0.701802</td>\n",
              "    </tr>\n",
              "  </tbody>\n",
              "</table>\n",
              "</div>"
            ],
            "text/plain": [
              "    importance\n",
              "0     7.992341\n",
              "1     8.205858\n",
              "2     2.586986\n",
              "3     1.198259\n",
              "4     0.702730\n",
              "5     3.137814\n",
              "6     1.894769\n",
              "7     1.890604\n",
              "8     2.341815\n",
              "9     1.614640\n",
              "10    1.856429\n",
              "11    1.038550\n",
              "12    1.520874\n",
              "13    1.498717\n",
              "14    1.938334\n",
              "15    1.103915\n",
              "16    1.460388\n",
              "17    0.217587\n",
              "18    1.089553\n",
              "19    1.035362\n",
              "20    1.447902\n",
              "21    1.608628\n",
              "22    0.996053\n",
              "23    1.930342\n",
              "24    2.287043\n",
              "25    1.433314\n",
              "26    1.538687\n",
              "27    1.012848\n",
              "28    1.662133\n",
              "29    1.530245\n",
              "30    0.952576\n",
              "31    1.594528\n",
              "32    1.569407\n",
              "33    1.914958\n",
              "34    1.342812\n",
              "35    1.930324\n",
              "36    2.177405\n",
              "37    2.112077\n",
              "38    0.644803\n",
              "39    1.871662\n",
              "40    1.159603\n",
              "41    2.902707\n",
              "42    2.039873\n",
              "43    1.542816\n",
              "44    1.675353\n",
              "45    0.760150\n",
              "46   10.690036\n",
              "47    0.656370\n",
              "48    1.988022\n",
              "49    0.701802"
            ]
          },
          "metadata": {
            "tags": []
          },
          "execution_count": 29
        }
      ]
    },
    {
      "cell_type": "code",
      "metadata": {
        "id": "hsywudQTVkRn",
        "outputId": "3acbc0ac-d458-4ce8-db19-fb2003c18972",
        "colab": {
          "base_uri": "https://localhost:8080/",
          "height": 34
        }
      },
      "source": [
        "len(test.columns)"
      ],
      "execution_count": 30,
      "outputs": [
        {
          "output_type": "execute_result",
          "data": {
            "text/plain": [
              "267"
            ]
          },
          "metadata": {
            "tags": []
          },
          "execution_count": 30
        }
      ]
    },
    {
      "cell_type": "code",
      "metadata": {
        "id": "BLxRIEjYU1GX",
        "outputId": "45295b1d-7678-432a-c50d-99cbb77454a0",
        "colab": {
          "base_uri": "https://localhost:8080/",
          "height": 405
        }
      },
      "source": [
        "feature_importance_df = pd.DataFrame(model.feature_importances_, columns=['importance'])\n",
        "feature_importance_df['feature'] = train.columns\n",
        "\n",
        "plt.figure(figsize=(12, 6));\n",
        "sns.barplot(x=\"importance\", y=\"feature\", data=feature_importance_df.sort_values(by = ['importance'], ascending = False).head(40))\n",
        "plt.title('CatBoostClassifier features importance:');"
      ],
      "execution_count": 28,
      "outputs": [
        {
          "output_type": "error",
          "ename": "ValueError",
          "evalue": "ignored",
          "traceback": [
            "\u001b[0;31m---------------------------------------------------------------------------\u001b[0m",
            "\u001b[0;31mValueError\u001b[0m                                Traceback (most recent call last)",
            "\u001b[0;32m<ipython-input-28-56e769b3a059>\u001b[0m in \u001b[0;36m<module>\u001b[0;34m()\u001b[0m\n\u001b[1;32m      1\u001b[0m \u001b[0mfeature_importance_df\u001b[0m \u001b[0;34m=\u001b[0m \u001b[0mpd\u001b[0m\u001b[0;34m.\u001b[0m\u001b[0mDataFrame\u001b[0m\u001b[0;34m(\u001b[0m\u001b[0mmodel\u001b[0m\u001b[0;34m.\u001b[0m\u001b[0mfeature_importances_\u001b[0m\u001b[0;34m,\u001b[0m \u001b[0mcolumns\u001b[0m\u001b[0;34m=\u001b[0m\u001b[0;34m[\u001b[0m\u001b[0;34m'importance'\u001b[0m\u001b[0;34m]\u001b[0m\u001b[0;34m)\u001b[0m\u001b[0;34m\u001b[0m\u001b[0;34m\u001b[0m\u001b[0m\n\u001b[0;32m----> 2\u001b[0;31m \u001b[0mfeature_importance_df\u001b[0m\u001b[0;34m[\u001b[0m\u001b[0;34m'feature'\u001b[0m\u001b[0;34m]\u001b[0m \u001b[0;34m=\u001b[0m \u001b[0mtrain\u001b[0m\u001b[0;34m.\u001b[0m\u001b[0mcolumns\u001b[0m\u001b[0;34m\u001b[0m\u001b[0;34m\u001b[0m\u001b[0m\n\u001b[0m\u001b[1;32m      3\u001b[0m \u001b[0;34m\u001b[0m\u001b[0m\n\u001b[1;32m      4\u001b[0m \u001b[0mplt\u001b[0m\u001b[0;34m.\u001b[0m\u001b[0mfigure\u001b[0m\u001b[0;34m(\u001b[0m\u001b[0mfigsize\u001b[0m\u001b[0;34m=\u001b[0m\u001b[0;34m(\u001b[0m\u001b[0;36m12\u001b[0m\u001b[0;34m,\u001b[0m \u001b[0;36m6\u001b[0m\u001b[0;34m)\u001b[0m\u001b[0;34m)\u001b[0m\u001b[0;34m;\u001b[0m\u001b[0;34m\u001b[0m\u001b[0;34m\u001b[0m\u001b[0m\n\u001b[1;32m      5\u001b[0m \u001b[0msns\u001b[0m\u001b[0;34m.\u001b[0m\u001b[0mbarplot\u001b[0m\u001b[0;34m(\u001b[0m\u001b[0mx\u001b[0m\u001b[0;34m=\u001b[0m\u001b[0;34m\"importance\"\u001b[0m\u001b[0;34m,\u001b[0m \u001b[0my\u001b[0m\u001b[0;34m=\u001b[0m\u001b[0;34m\"feature\"\u001b[0m\u001b[0;34m,\u001b[0m \u001b[0mdata\u001b[0m\u001b[0;34m=\u001b[0m\u001b[0mfeature_importance_df\u001b[0m\u001b[0;34m.\u001b[0m\u001b[0msort_values\u001b[0m\u001b[0;34m(\u001b[0m\u001b[0mby\u001b[0m \u001b[0;34m=\u001b[0m \u001b[0;34m[\u001b[0m\u001b[0;34m'importance'\u001b[0m\u001b[0;34m]\u001b[0m\u001b[0;34m,\u001b[0m \u001b[0mascending\u001b[0m \u001b[0;34m=\u001b[0m \u001b[0;32mFalse\u001b[0m\u001b[0;34m)\u001b[0m\u001b[0;34m.\u001b[0m\u001b[0mhead\u001b[0m\u001b[0;34m(\u001b[0m\u001b[0;36m40\u001b[0m\u001b[0;34m)\u001b[0m\u001b[0;34m)\u001b[0m\u001b[0;34m\u001b[0m\u001b[0;34m\u001b[0m\u001b[0m\n",
            "\u001b[0;32m/usr/local/lib/python3.6/dist-packages/pandas/core/frame.py\u001b[0m in \u001b[0;36m__setitem__\u001b[0;34m(self, key, value)\u001b[0m\n\u001b[1;32m   2936\u001b[0m         \u001b[0;32melse\u001b[0m\u001b[0;34m:\u001b[0m\u001b[0;34m\u001b[0m\u001b[0;34m\u001b[0m\u001b[0m\n\u001b[1;32m   2937\u001b[0m             \u001b[0;31m# set column\u001b[0m\u001b[0;34m\u001b[0m\u001b[0;34m\u001b[0m\u001b[0;34m\u001b[0m\u001b[0m\n\u001b[0;32m-> 2938\u001b[0;31m             \u001b[0mself\u001b[0m\u001b[0;34m.\u001b[0m\u001b[0m_set_item\u001b[0m\u001b[0;34m(\u001b[0m\u001b[0mkey\u001b[0m\u001b[0;34m,\u001b[0m \u001b[0mvalue\u001b[0m\u001b[0;34m)\u001b[0m\u001b[0;34m\u001b[0m\u001b[0;34m\u001b[0m\u001b[0m\n\u001b[0m\u001b[1;32m   2939\u001b[0m \u001b[0;34m\u001b[0m\u001b[0m\n\u001b[1;32m   2940\u001b[0m     \u001b[0;32mdef\u001b[0m \u001b[0m_setitem_slice\u001b[0m\u001b[0;34m(\u001b[0m\u001b[0mself\u001b[0m\u001b[0;34m,\u001b[0m \u001b[0mkey\u001b[0m\u001b[0;34m,\u001b[0m \u001b[0mvalue\u001b[0m\u001b[0;34m)\u001b[0m\u001b[0;34m:\u001b[0m\u001b[0;34m\u001b[0m\u001b[0;34m\u001b[0m\u001b[0m\n",
            "\u001b[0;32m/usr/local/lib/python3.6/dist-packages/pandas/core/frame.py\u001b[0m in \u001b[0;36m_set_item\u001b[0;34m(self, key, value)\u001b[0m\n\u001b[1;32m   2998\u001b[0m \u001b[0;34m\u001b[0m\u001b[0m\n\u001b[1;32m   2999\u001b[0m         \u001b[0mself\u001b[0m\u001b[0;34m.\u001b[0m\u001b[0m_ensure_valid_index\u001b[0m\u001b[0;34m(\u001b[0m\u001b[0mvalue\u001b[0m\u001b[0;34m)\u001b[0m\u001b[0;34m\u001b[0m\u001b[0;34m\u001b[0m\u001b[0m\n\u001b[0;32m-> 3000\u001b[0;31m         \u001b[0mvalue\u001b[0m \u001b[0;34m=\u001b[0m \u001b[0mself\u001b[0m\u001b[0;34m.\u001b[0m\u001b[0m_sanitize_column\u001b[0m\u001b[0;34m(\u001b[0m\u001b[0mkey\u001b[0m\u001b[0;34m,\u001b[0m \u001b[0mvalue\u001b[0m\u001b[0;34m)\u001b[0m\u001b[0;34m\u001b[0m\u001b[0;34m\u001b[0m\u001b[0m\n\u001b[0m\u001b[1;32m   3001\u001b[0m         \u001b[0mNDFrame\u001b[0m\u001b[0;34m.\u001b[0m\u001b[0m_set_item\u001b[0m\u001b[0;34m(\u001b[0m\u001b[0mself\u001b[0m\u001b[0;34m,\u001b[0m \u001b[0mkey\u001b[0m\u001b[0;34m,\u001b[0m \u001b[0mvalue\u001b[0m\u001b[0;34m)\u001b[0m\u001b[0;34m\u001b[0m\u001b[0;34m\u001b[0m\u001b[0m\n\u001b[1;32m   3002\u001b[0m \u001b[0;34m\u001b[0m\u001b[0m\n",
            "\u001b[0;32m/usr/local/lib/python3.6/dist-packages/pandas/core/frame.py\u001b[0m in \u001b[0;36m_sanitize_column\u001b[0;34m(self, key, value, broadcast)\u001b[0m\n\u001b[1;32m   3634\u001b[0m \u001b[0;34m\u001b[0m\u001b[0m\n\u001b[1;32m   3635\u001b[0m             \u001b[0;31m# turn me into an ndarray\u001b[0m\u001b[0;34m\u001b[0m\u001b[0;34m\u001b[0m\u001b[0;34m\u001b[0m\u001b[0m\n\u001b[0;32m-> 3636\u001b[0;31m             \u001b[0mvalue\u001b[0m \u001b[0;34m=\u001b[0m \u001b[0msanitize_index\u001b[0m\u001b[0;34m(\u001b[0m\u001b[0mvalue\u001b[0m\u001b[0;34m,\u001b[0m \u001b[0mself\u001b[0m\u001b[0;34m.\u001b[0m\u001b[0mindex\u001b[0m\u001b[0;34m,\u001b[0m \u001b[0mcopy\u001b[0m\u001b[0;34m=\u001b[0m\u001b[0;32mFalse\u001b[0m\u001b[0;34m)\u001b[0m\u001b[0;34m\u001b[0m\u001b[0;34m\u001b[0m\u001b[0m\n\u001b[0m\u001b[1;32m   3637\u001b[0m             \u001b[0;32mif\u001b[0m \u001b[0;32mnot\u001b[0m \u001b[0misinstance\u001b[0m\u001b[0;34m(\u001b[0m\u001b[0mvalue\u001b[0m\u001b[0;34m,\u001b[0m \u001b[0;34m(\u001b[0m\u001b[0mnp\u001b[0m\u001b[0;34m.\u001b[0m\u001b[0mndarray\u001b[0m\u001b[0;34m,\u001b[0m \u001b[0mIndex\u001b[0m\u001b[0;34m)\u001b[0m\u001b[0;34m)\u001b[0m\u001b[0;34m:\u001b[0m\u001b[0;34m\u001b[0m\u001b[0;34m\u001b[0m\u001b[0m\n\u001b[1;32m   3638\u001b[0m                 \u001b[0;32mif\u001b[0m \u001b[0misinstance\u001b[0m\u001b[0;34m(\u001b[0m\u001b[0mvalue\u001b[0m\u001b[0;34m,\u001b[0m \u001b[0mlist\u001b[0m\u001b[0;34m)\u001b[0m \u001b[0;32mand\u001b[0m \u001b[0mlen\u001b[0m\u001b[0;34m(\u001b[0m\u001b[0mvalue\u001b[0m\u001b[0;34m)\u001b[0m \u001b[0;34m>\u001b[0m \u001b[0;36m0\u001b[0m\u001b[0;34m:\u001b[0m\u001b[0;34m\u001b[0m\u001b[0;34m\u001b[0m\u001b[0m\n",
            "\u001b[0;32m/usr/local/lib/python3.6/dist-packages/pandas/core/internals/construction.py\u001b[0m in \u001b[0;36msanitize_index\u001b[0;34m(data, index, copy)\u001b[0m\n\u001b[1;32m    609\u001b[0m \u001b[0;34m\u001b[0m\u001b[0m\n\u001b[1;32m    610\u001b[0m     \u001b[0;32mif\u001b[0m \u001b[0mlen\u001b[0m\u001b[0;34m(\u001b[0m\u001b[0mdata\u001b[0m\u001b[0;34m)\u001b[0m \u001b[0;34m!=\u001b[0m \u001b[0mlen\u001b[0m\u001b[0;34m(\u001b[0m\u001b[0mindex\u001b[0m\u001b[0;34m)\u001b[0m\u001b[0;34m:\u001b[0m\u001b[0;34m\u001b[0m\u001b[0;34m\u001b[0m\u001b[0m\n\u001b[0;32m--> 611\u001b[0;31m         \u001b[0;32mraise\u001b[0m \u001b[0mValueError\u001b[0m\u001b[0;34m(\u001b[0m\u001b[0;34m\"Length of values does not match length of index\"\u001b[0m\u001b[0;34m)\u001b[0m\u001b[0;34m\u001b[0m\u001b[0;34m\u001b[0m\u001b[0m\n\u001b[0m\u001b[1;32m    612\u001b[0m \u001b[0;34m\u001b[0m\u001b[0m\n\u001b[1;32m    613\u001b[0m     \u001b[0;32mif\u001b[0m \u001b[0misinstance\u001b[0m\u001b[0;34m(\u001b[0m\u001b[0mdata\u001b[0m\u001b[0;34m,\u001b[0m \u001b[0mABCIndexClass\u001b[0m\u001b[0;34m)\u001b[0m \u001b[0;32mand\u001b[0m \u001b[0;32mnot\u001b[0m \u001b[0mcopy\u001b[0m\u001b[0;34m:\u001b[0m\u001b[0;34m\u001b[0m\u001b[0;34m\u001b[0m\u001b[0m\n",
            "\u001b[0;31mValueError\u001b[0m: Length of values does not match length of index"
          ]
        }
      ]
    },
    {
      "cell_type": "markdown",
      "metadata": {
        "id": "u0VGKog9sjMz"
      },
      "source": [
        "### Suggestions:\n",
        "- Base your feature selection on the local cv score i.e When you add, remove or engineer feature check `score` (cell 17)\n",
        "- Increase number of fold to 10, 15. See how score imporve on leaderboard.\n",
        "- Try differnt value of learning rate. I'll advice anything < 0.01\n",
        "- Create as many features as possible.\n",
        "- Find code for Xgboost and lgbm using this method of modelling, or better still tweak this one (mind you, names of parameters may be slightly different."
      ]
    },
    {
      "cell_type": "code",
      "metadata": {
        "id": "7d8UrxzosjM1",
        "trusted": false
      },
      "source": [
        ""
      ],
      "execution_count": null,
      "outputs": []
    }
  ]
}