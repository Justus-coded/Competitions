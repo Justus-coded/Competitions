{
  "nbformat": 4,
  "nbformat_minor": 0,
  "metadata": {
    "kernelspec": {
      "language": "python",
      "display_name": "Python 3",
      "name": "python3"
    },
    "language_info": {
      "pygments_lexer": "ipython3",
      "nbconvert_exporter": "python",
      "version": "3.6.4",
      "file_extension": ".py",
      "codemirror_mode": {
        "name": "ipython",
        "version": 3
      },
      "name": "python",
      "mimetype": "text/x-python"
    },
    "colab": {
      "name": "DSN AI Boot camp Qualification1.ipynb",
      "provenance": [],
      "include_colab_link": true
    },
    "accelerator": "GPU"
  },
  "cells": [
    {
      "cell_type": "markdown",
      "metadata": {
        "id": "view-in-github",
        "colab_type": "text"
      },
      "source": [
        "<a href=\"https://colab.research.google.com/github/Justus-coded/Competitions/blob/master/DSN%20AI%20Bootcamp%20Qualification%20Hackathon/DSN%20AI%20Boot_camp%20Qualification1.ipynb\" target=\"_parent\"><img src=\"https://colab.research.google.com/assets/colab-badge.svg\" alt=\"Open In Colab\"/></a>"
      ]
    },
    {
      "cell_type": "code",
      "metadata": {
        "id": "lTYsttC3sjHh",
        "trusted": true,
        "outputId": "62128a16-a45f-4b09-8e4c-580e3783a591",
        "colab": {
          "base_uri": "https://localhost:8080/",
          "height": 72
        }
      },
      "source": [
        "import pandas as pd\n",
        "import numpy as np\n",
        "import seaborn as sns\n",
        "import matplotlib.pyplot as plt\n",
        " \n",
        "%matplotlib inline\n",
        " \n",
        "import warnings\n",
        "warnings.filterwarnings('ignore')"
      ],
      "execution_count": 1,
      "outputs": [
        {
          "output_type": "stream",
          "text": [
            "/usr/local/lib/python3.6/dist-packages/statsmodels/tools/_testing.py:19: FutureWarning: pandas.util.testing is deprecated. Use the functions in the public API at pandas.testing instead.\n",
            "  import pandas.util.testing as tm\n"
          ],
          "name": "stderr"
        }
      ]
    },
    {
      "cell_type": "code",
      "metadata": {
        "id": "lJdWtcbpgDWK",
        "trusted": true,
        "outputId": "a50c6088-0b2a-4e43-a89e-1d104f522ee0",
        "colab": {
          "base_uri": "https://localhost:8080/",
          "height": 34
        }
      },
      "source": [
        "from google.colab import drive\n",
        "drive.mount('/content/drive')"
      ],
      "execution_count": 2,
      "outputs": [
        {
          "output_type": "stream",
          "text": [
            "Mounted at /content/drive\n"
          ],
          "name": "stdout"
        }
      ]
    },
    {
      "cell_type": "code",
      "metadata": {
        "id": "ygKIugwesjH5",
        "trusted": true
      },
      "source": [
        "train = pd.read_csv('/content/drive/My Drive/DSN AI Bootcamp Qualification Hackathon/Train.csv')\n",
        "test  = pd.read_csv('/content/drive/My Drive/DSN AI Bootcamp Qualification Hackathon/Test.csv')\n",
        "\n",
        "#train = pd.read_csv('../input/dsn-ai-bootcamp-data/Train.csv')\n",
        "#test = pd.read_csv('../input/dsn-ai-bootcamp-data/Test.csv')\n",
        "#sub = pd.read_csv('../input/dsn-ai-bootcamp-data/SampleSubmission.csv')"
      ],
      "execution_count": 3,
      "outputs": []
    },
    {
      "cell_type": "code",
      "metadata": {
        "id": "ixvLHcBnsjIL",
        "trusted": true
      },
      "source": [
        "dict_ = {'charge': 1,\n",
        "         'lending': 0}\n",
        " \n",
        "target_map = {\n",
        "    'yes': 1,\n",
        "    'no': 0}\n",
        " \n",
        "train.default_status.replace(target_map, inplace = True)\n",
        " \n",
        "train['form_field47'].replace(dict_, inplace = True)\n",
        "test['form_field47'].replace(dict_, inplace = True)"
      ],
      "execution_count": 4,
      "outputs": []
    },
    {
      "cell_type": "code",
      "metadata": {
        "id": "6ZJIgEJkhkqM",
        "trusted": true,
        "outputId": "d61f7ecd-f18a-416d-e651-430b964df968",
        "colab": {
          "base_uri": "https://localhost:8080/",
          "height": 356
        }
      },
      "source": [
        "pip install catboost"
      ],
      "execution_count": 7,
      "outputs": [
        {
          "output_type": "stream",
          "text": [
            "Collecting catboost\n",
            "\u001b[?25l  Downloading https://files.pythonhosted.org/packages/90/86/c3dcb600b4f9e7584ed90ea9d30a717fb5c0111574675f442c3e7bc19535/catboost-0.24.1-cp36-none-manylinux1_x86_64.whl (66.1MB)\n",
            "\u001b[K     |████████████████████████████████| 66.1MB 44kB/s \n",
            "\u001b[?25hRequirement already satisfied: matplotlib in /usr/local/lib/python3.6/dist-packages (from catboost) (3.2.2)\n",
            "Requirement already satisfied: plotly in /usr/local/lib/python3.6/dist-packages (from catboost) (4.4.1)\n",
            "Requirement already satisfied: scipy in /usr/local/lib/python3.6/dist-packages (from catboost) (1.4.1)\n",
            "Requirement already satisfied: graphviz in /usr/local/lib/python3.6/dist-packages (from catboost) (0.10.1)\n",
            "Requirement already satisfied: numpy>=1.16.0 in /usr/local/lib/python3.6/dist-packages (from catboost) (1.18.5)\n",
            "Requirement already satisfied: six in /usr/local/lib/python3.6/dist-packages (from catboost) (1.15.0)\n",
            "Requirement already satisfied: pandas>=0.24.0 in /usr/local/lib/python3.6/dist-packages (from catboost) (1.0.5)\n",
            "Requirement already satisfied: kiwisolver>=1.0.1 in /usr/local/lib/python3.6/dist-packages (from matplotlib->catboost) (1.2.0)\n",
            "Requirement already satisfied: python-dateutil>=2.1 in /usr/local/lib/python3.6/dist-packages (from matplotlib->catboost) (2.8.1)\n",
            "Requirement already satisfied: cycler>=0.10 in /usr/local/lib/python3.6/dist-packages (from matplotlib->catboost) (0.10.0)\n",
            "Requirement already satisfied: pyparsing!=2.0.4,!=2.1.2,!=2.1.6,>=2.0.1 in /usr/local/lib/python3.6/dist-packages (from matplotlib->catboost) (2.4.7)\n",
            "Requirement already satisfied: retrying>=1.3.3 in /usr/local/lib/python3.6/dist-packages (from plotly->catboost) (1.3.3)\n",
            "Requirement already satisfied: pytz>=2017.2 in /usr/local/lib/python3.6/dist-packages (from pandas>=0.24.0->catboost) (2018.9)\n",
            "Installing collected packages: catboost\n",
            "Successfully installed catboost-0.24.1\n"
          ],
          "name": "stdout"
        }
      ]
    },
    {
      "cell_type": "code",
      "metadata": {
        "id": "nA1fJeNFsjIc",
        "trusted": true
      },
      "source": [
        "from sklearn.metrics import roc_auc_score\n",
        "from catboost import CatBoostClassifier"
      ],
      "execution_count": 8,
      "outputs": []
    },
    {
      "cell_type": "code",
      "metadata": {
        "id": "kw9u6xuNsjIt",
        "trusted": true
      },
      "source": [
        "features = train.select_dtypes(exclude = object).columns.drop(['default_status'])"
      ],
      "execution_count": 9,
      "outputs": []
    },
    {
      "cell_type": "code",
      "metadata": {
        "id": "WUnZZc7-sjI9",
        "trusted": true
      },
      "source": [
        "# features"
      ],
      "execution_count": 10,
      "outputs": []
    },
    {
      "cell_type": "code",
      "metadata": {
        "id": "hPhK0BEosjJM",
        "trusted": true
      },
      "source": [
        "for col in features:\n",
        "    train[col].fillna(-999, inplace = True)\n",
        "    test[col].fillna(-999, inplace = True)"
      ],
      "execution_count": 11,
      "outputs": []
    },
    {
      "cell_type": "code",
      "metadata": {
        "trusted": true,
        "id": "j0Q2psFZF1Oy"
      },
      "source": [
        "train['form_field1*formfield2'] = train['form_field1'] * train['form_field2']\n",
        "train['form_field1/formfield2'] = train['form_field1'] / train['form_field2']\n",
        "\n",
        "train['form_field1*formfield3'] = train['form_field1'] * train.form_field3\n",
        "train['form_field1*formfield4'] = train.form_field1 * train.form_field4\n",
        "train['form_field1*formfield5'] = train.form_field1 * train.form_field5\n",
        "\n",
        "#new_train['form_field30*formfield41'] = new_train['form_field30'] * new_train['form_field41']\n",
        "##new_train['form_field31*formfield40'] = new_train['form_field31'] * new_train['form_field40']\n",
        "\n",
        "train['form_field6+field7'] =  (train.form_field6 + train.form_field8)/2\n",
        "\n",
        "train['form_field1*formfield6'] = train['form_field1'] * train['form_field6']\n",
        "train['form_field2*formfield6'] = train['form_field2'] * train['form_field6']\n",
        "\n",
        "train['form_field1*formfield9'] = train['form_field1'] * train['form_field9']\n",
        "train['form_field2*formfield9'] = train['form_field2'] * train['form_field9']\n",
        "\n",
        "train['form_field1*formfield37'] = train['form_field1'] * train['form_field37']\n",
        "train['form_field2*formfield37'] = train['form_field2'] * train['form_field37']\n",
        "\n",
        "train['form_field9*formfield6'] = train['form_field9'] * train['form_field6']\n",
        "train['form_field37*formfield6'] = train['form_field37'] * train['form_field6']\n",
        "\n",
        "train['form_field9*formfield37'] = train['form_field9'] * train['form_field37']\n",
        "train['form_field1*formfield8'] = train['form_field1'] * train['form_field8']"
      ],
      "execution_count": 12,
      "outputs": []
    },
    {
      "cell_type": "code",
      "metadata": {
        "trusted": true,
        "id": "5ilqKp6lF1O8"
      },
      "source": [
        "test['form_field1*formfield2'] = test['form_field1'] * test['form_field2']\n",
        "test['form_field1/formfield2'] = test['form_field1'] / test['form_field2']\n",
        "\n",
        "test['form_field1*formfield3'] = test['form_field1'] * test.form_field3\n",
        "test['form_field1*formfield4'] = test.form_field1 * test.form_field4\n",
        "test['form_field1*formfield5'] = test.form_field1 * test.form_field5\n",
        "\n",
        "test['form_field6+field7'] =  (test.form_field6 + test.form_field8)/2\n",
        "\n",
        "test['form_field1*formfield6'] = test['form_field1'] * test['form_field6']\n",
        "test['form_field2*formfield6'] = test['form_field2'] * test['form_field6']\n",
        "\n",
        "test['form_field1*formfield9'] = test['form_field1'] * test['form_field9']\n",
        "test['form_field2*formfield9'] = test['form_field2'] * test['form_field9']\n",
        "\n",
        "test['form_field1*formfield37'] = test['form_field1'] * test['form_field37']\n",
        "test['form_field2*formfield37'] = test['form_field2'] * test['form_field37']\n",
        "\n",
        "test['form_field9*formfield6'] = test['form_field9'] * test['form_field6']\n",
        "test['form_field37*formfield6'] = test['form_field37'] *test['form_field6']\n",
        "\n",
        "test['form_field9*formfield37'] = test['form_field9'] * test['form_field37']\n",
        "test['form_field1*formfield8'] = test['form_field1'] * test['form_field8']"
      ],
      "execution_count": 13,
      "outputs": []
    },
    {
      "cell_type": "code",
      "metadata": {
        "id": "qsaVd8sGsjJi",
        "trusted": true
      },
      "source": [
        "X = train[features]\n",
        "y = train['default_status']"
      ],
      "execution_count": 14,
      "outputs": []
    },
    {
      "cell_type": "code",
      "metadata": {
        "id": "2vzw4M_-sjJw",
        "trusted": true
      },
      "source": [
        "from sklearn.model_selection import StratifiedKFold"
      ],
      "execution_count": 15,
      "outputs": []
    },
    {
      "cell_type": "code",
      "metadata": {
        "id": "Pqumr-QosjJ-",
        "trusted": true
      },
      "source": [
        "def metric(y, pred):\n",
        "    return roc_auc_score(y, pred, labels=[0, 1])"
      ],
      "execution_count": 16,
      "outputs": []
    },
    {
      "cell_type": "code",
      "metadata": {
        "id": "mSzq68IusjKM",
        "trusted": true
      },
      "source": [
        "# Specify number of folds\n",
        "n_skf = 10\n",
        "kf = StratifiedKFold(n_skf)\n",
        " \n",
        " \n",
        "seed = 42\n",
        " \n",
        "## Manually tweak the hyperparameter, learning rate and n_estimators especially\n",
        "params = {'max_depth':9,\n",
        "    'n_estimators': 5000,\n",
        "    'learning_rate': 0.008,\n",
        "    'objective': 'CrossEntropy',\n",
        "      'eval_metric':'AUC',\n",
        "    'random_seed': seed,\n",
        "    'early_stopping_rounds': 200,\n",
        "    'use_best_model': True,\n",
        "}"
      ],
      "execution_count": 31,
      "outputs": []
    },
    {
      "cell_type": "code",
      "metadata": {
        "scrolled": true,
        "id": "CVC4mh-nsjKa",
        "trusted": true,
        "outputId": "4a535d81-1111-4214-db29-2756a1fbd8a8",
        "colab": {
          "base_uri": "https://localhost:8080/",
          "height": 1000
        }
      },
      "source": [
        "score_list = []\n",
        "score = 0\n",
        "test_oofs = []\n",
        " \n",
        "for i, (tr_idx, vr_idx) in enumerate(kf.split(X, y)):\n",
        "    \n",
        "    xtrain, ytrain = X.loc[tr_idx, features], y.loc[tr_idx]\n",
        "    xval, yval = X.loc[vr_idx, features], y.loc[vr_idx]\n",
        " \n",
        "    model = CatBoostClassifier(**params, task_type='GPU')\n",
        "    model.fit(xtrain, ytrain, eval_set=[(xval,yval)], verbose=100)\n",
        "    \n",
        "    p = model.predict_proba(xval)[:, 1]\n",
        "    sc = metric(yval, p)\n",
        "    score_list.append(sc)\n",
        "    score += sc/n_skf\n",
        "    \n",
        "    pred = model.predict_proba(test[features])[:, 1]\n",
        "    test_oofs.append(pred)\n",
        " \n",
        "    print('Fold {} : {}'.format(i, sc))\n",
        " \n",
        "print()\n",
        "print()\n",
        "print('Avg log : ', score)"
      ],
      "execution_count": null,
      "outputs": [
        {
          "output_type": "stream",
          "text": [
            "0:\tlearn: 0.8161232\ttest: 0.8022582\tbest: 0.8022582 (0)\ttotal: 40.2ms\tremaining: 3m 21s\n",
            "100:\tlearn: 0.8412890\ttest: 0.8196656\tbest: 0.8197327 (97)\ttotal: 2.34s\tremaining: 1m 53s\n",
            "200:\tlearn: 0.8480620\ttest: 0.8231019\tbest: 0.8231019 (200)\ttotal: 4.61s\tremaining: 1m 50s\n",
            "300:\tlearn: 0.8534896\ttest: 0.8250932\tbest: 0.8250932 (300)\ttotal: 6.84s\tremaining: 1m 46s\n",
            "400:\tlearn: 0.8586220\ttest: 0.8263934\tbest: 0.8263934 (400)\ttotal: 9.09s\tremaining: 1m 44s\n",
            "500:\tlearn: 0.8631163\ttest: 0.8274922\tbest: 0.8274922 (500)\ttotal: 11.3s\tremaining: 1m 41s\n",
            "600:\tlearn: 0.8673791\ttest: 0.8283396\tbest: 0.8283396 (600)\ttotal: 13.4s\tremaining: 1m 38s\n",
            "700:\tlearn: 0.8711263\ttest: 0.8289496\tbest: 0.8289631 (698)\ttotal: 15.6s\tremaining: 1m 35s\n",
            "800:\tlearn: 0.8749952\ttest: 0.8294958\tbest: 0.8294958 (800)\ttotal: 17.8s\tremaining: 1m 33s\n",
            "900:\tlearn: 0.8785809\ttest: 0.8298051\tbest: 0.8298482 (875)\ttotal: 20s\tremaining: 1m 30s\n",
            "1000:\tlearn: 0.8820412\ttest: 0.8300580\tbest: 0.8300669 (980)\ttotal: 22.2s\tremaining: 1m 28s\n",
            "1100:\tlearn: 0.8853806\ttest: 0.8303703\tbest: 0.8303703 (1100)\ttotal: 24.4s\tremaining: 1m 26s\n",
            "1200:\tlearn: 0.8886435\ttest: 0.8307225\tbest: 0.8307375 (1196)\ttotal: 26.7s\tremaining: 1m 24s\n",
            "1300:\tlearn: 0.8920589\ttest: 0.8310545\tbest: 0.8310545 (1300)\ttotal: 28.9s\tremaining: 1m 22s\n",
            "1400:\tlearn: 0.8955677\ttest: 0.8314157\tbest: 0.8314160 (1386)\ttotal: 31.1s\tremaining: 1m 19s\n",
            "1500:\tlearn: 0.8989749\ttest: 0.8317187\tbest: 0.8317385 (1490)\ttotal: 33.3s\tremaining: 1m 17s\n",
            "1600:\tlearn: 0.9023872\ttest: 0.8317416\tbest: 0.8317727 (1569)\ttotal: 35.5s\tremaining: 1m 15s\n",
            "1700:\tlearn: 0.9057485\ttest: 0.8318871\tbest: 0.8319060 (1699)\ttotal: 37.8s\tremaining: 1m 13s\n",
            "1800:\tlearn: 0.9090261\ttest: 0.8320226\tbest: 0.8320302 (1798)\ttotal: 39.9s\tremaining: 1m 10s\n",
            "1900:\tlearn: 0.9120321\ttest: 0.8322034\tbest: 0.8322146 (1899)\ttotal: 42.2s\tremaining: 1m 8s\n",
            "2000:\tlearn: 0.9149218\ttest: 0.8322073\tbest: 0.8322474 (1986)\ttotal: 44.4s\tremaining: 1m 6s\n",
            "2100:\tlearn: 0.9178445\ttest: 0.8323538\tbest: 0.8324026 (2087)\ttotal: 46.6s\tremaining: 1m 4s\n",
            "2200:\tlearn: 0.9206623\ttest: 0.8324043\tbest: 0.8324516 (2140)\ttotal: 48.9s\tremaining: 1m 2s\n",
            "2300:\tlearn: 0.9234801\ttest: 0.8325480\tbest: 0.8325480 (2300)\ttotal: 51s\tremaining: 59.9s\n",
            "2400:\tlearn: 0.9261523\ttest: 0.8327122\tbest: 0.8327575 (2369)\ttotal: 53.2s\tremaining: 57.6s\n",
            "2500:\tlearn: 0.9285696\ttest: 0.8327091\tbest: 0.8328122 (2457)\ttotal: 55.4s\tremaining: 55.4s\n",
            "2600:\tlearn: 0.9309654\ttest: 0.8327477\tbest: 0.8328122 (2457)\ttotal: 57.7s\tremaining: 53.2s\n",
            "bestTest = 0.8328121901\n",
            "bestIteration = 2457\n",
            "Shrink model to first 2458 iterations.\n",
            "Fold 0 : 0.8328122016730372\n",
            "0:\tlearn: 0.8146466\ttest: 0.8152562\tbest: 0.8152562 (0)\ttotal: 24.3ms\tremaining: 2m 1s\n",
            "100:\tlearn: 0.8394172\ttest: 0.8350487\tbest: 0.8350487 (100)\ttotal: 2.27s\tremaining: 1m 49s\n",
            "200:\tlearn: 0.8463299\ttest: 0.8386098\tbest: 0.8386098 (200)\ttotal: 4.6s\tremaining: 1m 49s\n",
            "300:\tlearn: 0.8520549\ttest: 0.8408038\tbest: 0.8408038 (300)\ttotal: 6.8s\tremaining: 1m 46s\n",
            "400:\tlearn: 0.8570140\ttest: 0.8422833\tbest: 0.8422833 (400)\ttotal: 9.05s\tremaining: 1m 43s\n",
            "500:\tlearn: 0.8616571\ttest: 0.8434192\tbest: 0.8434192 (500)\ttotal: 11.2s\tremaining: 1m 40s\n",
            "600:\tlearn: 0.8658998\ttest: 0.8446269\tbest: 0.8446269 (600)\ttotal: 13.4s\tremaining: 1m 38s\n",
            "700:\tlearn: 0.8697367\ttest: 0.8452300\tbest: 0.8452345 (698)\ttotal: 15.7s\tremaining: 1m 36s\n",
            "800:\tlearn: 0.8734487\ttest: 0.8457311\tbest: 0.8457311 (800)\ttotal: 17.8s\tremaining: 1m 33s\n",
            "900:\tlearn: 0.8773335\ttest: 0.8461651\tbest: 0.8461838 (895)\ttotal: 20.1s\tremaining: 1m 31s\n",
            "1000:\tlearn: 0.8809784\ttest: 0.8467882\tbest: 0.8467882 (1000)\ttotal: 22.3s\tremaining: 1m 28s\n",
            "1100:\tlearn: 0.8843179\ttest: 0.8471472\tbest: 0.8471472 (1100)\ttotal: 24.5s\tremaining: 1m 26s\n",
            "1200:\tlearn: 0.8876870\ttest: 0.8474196\tbest: 0.8474523 (1196)\ttotal: 26.6s\tremaining: 1m 24s\n",
            "1300:\tlearn: 0.8912043\ttest: 0.8477437\tbest: 0.8477696 (1297)\ttotal: 28.8s\tremaining: 1m 21s\n",
            "1400:\tlearn: 0.8947953\ttest: 0.8478125\tbest: 0.8478818 (1354)\ttotal: 31.1s\tremaining: 1m 19s\n",
            "1500:\tlearn: 0.8982398\ttest: 0.8479016\tbest: 0.8479016 (1500)\ttotal: 33.3s\tremaining: 1m 17s\n",
            "1600:\tlearn: 0.9016439\ttest: 0.8480436\tbest: 0.8480553 (1569)\ttotal: 35.5s\tremaining: 1m 15s\n",
            "1700:\tlearn: 0.9050844\ttest: 0.8482019\tbest: 0.8482019 (1700)\ttotal: 37.7s\tremaining: 1m 13s\n",
            "1800:\tlearn: 0.9083935\ttest: 0.8483197\tbest: 0.8483442 (1790)\ttotal: 39.9s\tremaining: 1m 10s\n",
            "1900:\tlearn: 0.9115098\ttest: 0.8484516\tbest: 0.8484703 (1888)\ttotal: 42.1s\tremaining: 1m 8s\n",
            "2000:\tlearn: 0.9144778\ttest: 0.8485512\tbest: 0.8486047 (1978)\ttotal: 44.3s\tremaining: 1m 6s\n",
            "2100:\tlearn: 0.9173674\ttest: 0.8485935\tbest: 0.8486126 (2041)\ttotal: 46.5s\tremaining: 1m 4s\n",
            "2200:\tlearn: 0.9202608\ttest: 0.8486553\tbest: 0.8486652 (2195)\ttotal: 48.7s\tremaining: 1m 1s\n",
            "2300:\tlearn: 0.9229881\ttest: 0.8486912\tbest: 0.8487477 (2275)\ttotal: 50.9s\tremaining: 59.7s\n",
            "2400:\tlearn: 0.9256501\ttest: 0.8486717\tbest: 0.8487477 (2275)\ttotal: 53.1s\tremaining: 57.5s\n",
            "bestTest = 0.8487477005\n",
            "bestIteration = 2275\n",
            "Shrink model to first 2276 iterations.\n",
            "Fold 1 : 0.8487478093584311\n",
            "0:\tlearn: 0.8158641\ttest: 0.8085411\tbest: 0.8085411 (0)\ttotal: 22.1ms\tremaining: 1m 50s\n",
            "100:\tlearn: 0.8406797\ttest: 0.8287205\tbest: 0.8287205 (100)\ttotal: 2.27s\tremaining: 1m 50s\n",
            "200:\tlearn: 0.8473515\ttest: 0.8325115\tbest: 0.8325115 (200)\ttotal: 4.49s\tremaining: 1m 47s\n",
            "300:\tlearn: 0.8528259\ttest: 0.8345617\tbest: 0.8345617 (300)\ttotal: 6.7s\tremaining: 1m 44s\n",
            "400:\tlearn: 0.8576893\ttest: 0.8358200\tbest: 0.8358200 (400)\ttotal: 8.92s\tremaining: 1m 42s\n",
            "500:\tlearn: 0.8624758\ttest: 0.8368889\tbest: 0.8368889 (500)\ttotal: 11.1s\tremaining: 1m 39s\n",
            "600:\tlearn: 0.8665208\ttest: 0.8376628\tbest: 0.8376683 (599)\ttotal: 13.3s\tremaining: 1m 37s\n",
            "700:\tlearn: 0.8705093\ttest: 0.8381771\tbest: 0.8381771 (700)\ttotal: 15.6s\tremaining: 1m 35s\n",
            "800:\tlearn: 0.8742754\ttest: 0.8387732\tbest: 0.8387766 (798)\ttotal: 17.8s\tremaining: 1m 33s\n",
            "900:\tlearn: 0.8778908\ttest: 0.8390057\tbest: 0.8390057 (900)\ttotal: 19.9s\tremaining: 1m 30s\n",
            "1000:\tlearn: 0.8815324\ttest: 0.8393472\tbest: 0.8393638 (994)\ttotal: 22.1s\tremaining: 1m 28s\n",
            "1100:\tlearn: 0.8848633\ttest: 0.8394952\tbest: 0.8395208 (1087)\ttotal: 24.3s\tremaining: 1m 25s\n",
            "1200:\tlearn: 0.8882977\ttest: 0.8395638\tbest: 0.8395638 (1200)\ttotal: 26.5s\tremaining: 1m 23s\n",
            "1300:\tlearn: 0.8917940\ttest: 0.8397206\tbest: 0.8397366 (1292)\ttotal: 28.7s\tremaining: 1m 21s\n",
            "1400:\tlearn: 0.8953356\ttest: 0.8399931\tbest: 0.8400112 (1398)\ttotal: 30.9s\tremaining: 1m 19s\n",
            "1500:\tlearn: 0.8989120\ttest: 0.8401128\tbest: 0.8401895 (1472)\ttotal: 33.1s\tremaining: 1m 17s\n",
            "1600:\tlearn: 0.9022507\ttest: 0.8402780\tbest: 0.8402780 (1600)\ttotal: 35.4s\tremaining: 1m 15s\n",
            "1700:\tlearn: 0.9056118\ttest: 0.8403917\tbest: 0.8404320 (1692)\ttotal: 37.7s\tremaining: 1m 13s\n",
            "1800:\tlearn: 0.9089569\ttest: 0.8404505\tbest: 0.8404962 (1767)\ttotal: 39.9s\tremaining: 1m 10s\n",
            "1900:\tlearn: 0.9122277\ttest: 0.8403751\tbest: 0.8404962 (1767)\ttotal: 42.2s\tremaining: 1m 8s\n",
            "bestTest = 0.8404962122\n",
            "bestIteration = 1767\n",
            "Shrink model to first 1768 iterations.\n",
            "Fold 2 : 0.8404961987485596\n",
            "0:\tlearn: 0.8169574\ttest: 0.8048123\tbest: 0.8048123 (0)\ttotal: 29.1ms\tremaining: 2m 25s\n",
            "100:\tlearn: 0.8404340\ttest: 0.8226347\tbest: 0.8226347 (100)\ttotal: 2.21s\tremaining: 1m 47s\n",
            "200:\tlearn: 0.8477463\ttest: 0.8266374\tbest: 0.8266374 (200)\ttotal: 4.38s\tremaining: 1m 44s\n",
            "300:\tlearn: 0.8533519\ttest: 0.8293668\tbest: 0.8293668 (300)\ttotal: 6.57s\tremaining: 1m 42s\n",
            "400:\tlearn: 0.8581056\ttest: 0.8309249\tbest: 0.8309249 (400)\ttotal: 8.8s\tremaining: 1m 40s\n",
            "500:\tlearn: 0.8626109\ttest: 0.8321601\tbest: 0.8321601 (500)\ttotal: 11s\tremaining: 1m 38s\n",
            "600:\tlearn: 0.8668144\ttest: 0.8330938\tbest: 0.8331116 (599)\ttotal: 13.2s\tremaining: 1m 36s\n",
            "700:\tlearn: 0.8708006\ttest: 0.8335926\tbest: 0.8335926 (700)\ttotal: 15.4s\tremaining: 1m 34s\n",
            "800:\tlearn: 0.8744077\ttest: 0.8340581\tbest: 0.8340581 (800)\ttotal: 17.6s\tremaining: 1m 32s\n",
            "900:\tlearn: 0.8778458\ttest: 0.8343177\tbest: 0.8343427 (872)\ttotal: 19.8s\tremaining: 1m 30s\n",
            "1000:\tlearn: 0.8814982\ttest: 0.8346267\tbest: 0.8346267 (999)\ttotal: 22s\tremaining: 1m 27s\n",
            "1100:\tlearn: 0.8848986\ttest: 0.8349496\tbest: 0.8349496 (1100)\ttotal: 24.3s\tremaining: 1m 26s\n",
            "1200:\tlearn: 0.8881453\ttest: 0.8353130\tbest: 0.8353237 (1198)\ttotal: 26.5s\tremaining: 1m 23s\n",
            "1300:\tlearn: 0.8917488\ttest: 0.8356566\tbest: 0.8356628 (1298)\ttotal: 28.7s\tremaining: 1m 21s\n",
            "1400:\tlearn: 0.8952290\ttest: 0.8357863\tbest: 0.8358014 (1395)\ttotal: 30.8s\tremaining: 1m 19s\n",
            "1500:\tlearn: 0.8988200\ttest: 0.8359382\tbest: 0.8359382 (1500)\ttotal: 33.1s\tremaining: 1m 17s\n",
            "1600:\tlearn: 0.9021989\ttest: 0.8360476\tbest: 0.8360558 (1575)\ttotal: 35.3s\tremaining: 1m 14s\n",
            "1700:\tlearn: 0.9055668\ttest: 0.8361523\tbest: 0.8361722 (1697)\ttotal: 37.5s\tremaining: 1m 12s\n",
            "1800:\tlearn: 0.9088304\ttest: 0.8362382\tbest: 0.8362800 (1794)\ttotal: 39.7s\tremaining: 1m 10s\n",
            "1900:\tlearn: 0.9121307\ttest: 0.8362853\tbest: 0.8362957 (1895)\ttotal: 41.9s\tremaining: 1m 8s\n",
            "2000:\tlearn: 0.9151137\ttest: 0.8361436\tbest: 0.8363428 (1916)\ttotal: 44.2s\tremaining: 1m 6s\n",
            "2100:\tlearn: 0.9179856\ttest: 0.8362560\tbest: 0.8363428 (1916)\ttotal: 46.4s\tremaining: 1m 3s\n",
            "bestTest = 0.836342752\n",
            "bestIteration = 1916\n",
            "Shrink model to first 1917 iterations.\n",
            "Fold 3 : 0.83634309935617\n",
            "0:\tlearn: 0.8164384\ttest: 0.8014535\tbest: 0.8014535 (0)\ttotal: 32.5ms\tremaining: 2m 42s\n",
            "100:\tlearn: 0.8401591\ttest: 0.8297612\tbest: 0.8297612 (100)\ttotal: 2.19s\tremaining: 1m 46s\n",
            "200:\tlearn: 0.8471771\ttest: 0.8341377\tbest: 0.8341377 (200)\ttotal: 4.41s\tremaining: 1m 45s\n",
            "300:\tlearn: 0.8526877\ttest: 0.8366467\tbest: 0.8366472 (299)\ttotal: 6.66s\tremaining: 1m 43s\n",
            "400:\tlearn: 0.8575622\ttest: 0.8379557\tbest: 0.8379557 (400)\ttotal: 8.91s\tremaining: 1m 42s\n",
            "500:\tlearn: 0.8620582\ttest: 0.8391553\tbest: 0.8391553 (500)\ttotal: 11.2s\tremaining: 1m 40s\n",
            "600:\tlearn: 0.8663660\ttest: 0.8401011\tbest: 0.8401011 (600)\ttotal: 13.5s\tremaining: 1m 38s\n",
            "700:\tlearn: 0.8700580\ttest: 0.8406505\tbest: 0.8406505 (700)\ttotal: 15.7s\tremaining: 1m 36s\n",
            "800:\tlearn: 0.8735480\ttest: 0.8411767\tbest: 0.8411767 (800)\ttotal: 18s\tremaining: 1m 34s\n",
            "900:\tlearn: 0.8770690\ttest: 0.8415648\tbest: 0.8415729 (899)\ttotal: 20.2s\tremaining: 1m 31s\n",
            "1000:\tlearn: 0.8809225\ttest: 0.8419642\tbest: 0.8419784 (998)\ttotal: 22.5s\tremaining: 1m 29s\n",
            "1100:\tlearn: 0.8844722\ttest: 0.8421734\tbest: 0.8421734 (1099)\ttotal: 24.7s\tremaining: 1m 27s\n"
          ],
          "name": "stdout"
        }
      ]
    },
    {
      "cell_type": "code",
      "metadata": {
        "scrolled": true,
        "id": "rEp1xVpysjKw",
        "trusted": true
      },
      "source": [
        "f\"{n_skf} fold CV, score: {score}\" #Increase in local cv score should probably lead to increase in Leaderboard score"
      ],
      "execution_count": null,
      "outputs": []
    },
    {
      "cell_type": "markdown",
      "metadata": {
        "id": "xH7mWCF7e_Cu"
      },
      "source": [
        "10 fold CV, score: 0.8416527820408346, LR-0.008, n_estimator = 5000, seed = 42, depth = 8, submit6.csv"
      ]
    },
    {
      "cell_type": "markdown",
      "metadata": {
        "id": "54msL5CGF1P5"
      },
      "source": [
        "'10 fold CV, score: 0.8416283637107365', LR-0.008, n_estimator = 5000, seed = 42, depth = 7, submit5.csv"
      ]
    },
    {
      "cell_type": "markdown",
      "metadata": {
        "id": "j3tgrfEoF1P6"
      },
      "source": [
        "'10 fold CV, score: 0.8404761359972677', LR-0.008, n_estimator = 5000, seed = 42, depth = 10, submit4.csv"
      ]
    },
    {
      "cell_type": "markdown",
      "metadata": {
        "id": "WZJMWmPhF1P8"
      },
      "source": [
        "'10 fold CV, score: 0.8416127641119365', LR-0.008, n_estimator = 5000, seed = 2020"
      ]
    },
    {
      "cell_type": "markdown",
      "metadata": {
        "id": "2FxLWs0LF1P9"
      },
      "source": [
        "'10 fold CV, score: 0.8415039416559706', LR-0.008, n_estimator = 5000, seed = 42"
      ]
    },
    {
      "cell_type": "markdown",
      "metadata": {
        "id": "rnU3HLczsjLA"
      },
      "source": [
        "### Since we are using cross validation, We'll have `n` different predictions (where n is the number of fold)"
      ]
    },
    {
      "cell_type": "code",
      "metadata": {
        "id": "VO7c0-a6sjLD",
        "trusted": true
      },
      "source": [
        "oof_prediction = pd.DataFrame(test_oofs).T"
      ],
      "execution_count": 21,
      "outputs": []
    },
    {
      "cell_type": "code",
      "metadata": {
        "id": "vKYZMsjWsjLU",
        "trusted": true
      },
      "source": [
        "oof_prediction.columns = ['fold_'+ str(i) for i in range(1, n_skf + 1)]"
      ],
      "execution_count": 22,
      "outputs": []
    },
    {
      "cell_type": "code",
      "metadata": {
        "id": "w6aN3-LPsjLk",
        "trusted": true,
        "outputId": "5e116a6b-6adb-4269-ab45-ca522848dbd0",
        "colab": {
          "base_uri": "https://localhost:8080/",
          "height": 197
        }
      },
      "source": [
        "oof_prediction.head()"
      ],
      "execution_count": 23,
      "outputs": [
        {
          "output_type": "execute_result",
          "data": {
            "text/html": [
              "<div>\n",
              "<style scoped>\n",
              "    .dataframe tbody tr th:only-of-type {\n",
              "        vertical-align: middle;\n",
              "    }\n",
              "\n",
              "    .dataframe tbody tr th {\n",
              "        vertical-align: top;\n",
              "    }\n",
              "\n",
              "    .dataframe thead th {\n",
              "        text-align: right;\n",
              "    }\n",
              "</style>\n",
              "<table border=\"1\" class=\"dataframe\">\n",
              "  <thead>\n",
              "    <tr style=\"text-align: right;\">\n",
              "      <th></th>\n",
              "      <th>fold_1</th>\n",
              "      <th>fold_2</th>\n",
              "      <th>fold_3</th>\n",
              "      <th>fold_4</th>\n",
              "      <th>fold_5</th>\n",
              "      <th>fold_6</th>\n",
              "      <th>fold_7</th>\n",
              "      <th>fold_8</th>\n",
              "      <th>fold_9</th>\n",
              "      <th>fold_10</th>\n",
              "    </tr>\n",
              "  </thead>\n",
              "  <tbody>\n",
              "    <tr>\n",
              "      <th>0</th>\n",
              "      <td>0.308523</td>\n",
              "      <td>0.297050</td>\n",
              "      <td>0.328651</td>\n",
              "      <td>0.318747</td>\n",
              "      <td>0.330469</td>\n",
              "      <td>0.335896</td>\n",
              "      <td>0.296729</td>\n",
              "      <td>0.318233</td>\n",
              "      <td>0.304234</td>\n",
              "      <td>0.319162</td>\n",
              "    </tr>\n",
              "    <tr>\n",
              "      <th>1</th>\n",
              "      <td>0.385282</td>\n",
              "      <td>0.338013</td>\n",
              "      <td>0.346464</td>\n",
              "      <td>0.404410</td>\n",
              "      <td>0.443095</td>\n",
              "      <td>0.376553</td>\n",
              "      <td>0.391792</td>\n",
              "      <td>0.332775</td>\n",
              "      <td>0.429403</td>\n",
              "      <td>0.371969</td>\n",
              "    </tr>\n",
              "    <tr>\n",
              "      <th>2</th>\n",
              "      <td>0.352425</td>\n",
              "      <td>0.371132</td>\n",
              "      <td>0.406337</td>\n",
              "      <td>0.404204</td>\n",
              "      <td>0.383050</td>\n",
              "      <td>0.407479</td>\n",
              "      <td>0.398560</td>\n",
              "      <td>0.394022</td>\n",
              "      <td>0.349410</td>\n",
              "      <td>0.377015</td>\n",
              "    </tr>\n",
              "    <tr>\n",
              "      <th>3</th>\n",
              "      <td>0.737164</td>\n",
              "      <td>0.755433</td>\n",
              "      <td>0.795847</td>\n",
              "      <td>0.731905</td>\n",
              "      <td>0.752634</td>\n",
              "      <td>0.760238</td>\n",
              "      <td>0.777456</td>\n",
              "      <td>0.755901</td>\n",
              "      <td>0.721503</td>\n",
              "      <td>0.757599</td>\n",
              "    </tr>\n",
              "    <tr>\n",
              "      <th>4</th>\n",
              "      <td>0.135668</td>\n",
              "      <td>0.146373</td>\n",
              "      <td>0.148061</td>\n",
              "      <td>0.160418</td>\n",
              "      <td>0.155563</td>\n",
              "      <td>0.156377</td>\n",
              "      <td>0.165380</td>\n",
              "      <td>0.156297</td>\n",
              "      <td>0.181091</td>\n",
              "      <td>0.151856</td>\n",
              "    </tr>\n",
              "  </tbody>\n",
              "</table>\n",
              "</div>"
            ],
            "text/plain": [
              "     fold_1    fold_2    fold_3  ...    fold_8    fold_9   fold_10\n",
              "0  0.308523  0.297050  0.328651  ...  0.318233  0.304234  0.319162\n",
              "1  0.385282  0.338013  0.346464  ...  0.332775  0.429403  0.371969\n",
              "2  0.352425  0.371132  0.406337  ...  0.394022  0.349410  0.377015\n",
              "3  0.737164  0.755433  0.795847  ...  0.755901  0.721503  0.757599\n",
              "4  0.135668  0.146373  0.148061  ...  0.156297  0.181091  0.151856\n",
              "\n",
              "[5 rows x 10 columns]"
            ]
          },
          "metadata": {
            "tags": []
          },
          "execution_count": 23
        }
      ]
    },
    {
      "cell_type": "code",
      "metadata": {
        "id": "LUBJMAt5sjLz",
        "trusted": true
      },
      "source": [
        "sub = pd.read_csv('/content/drive/My Drive/DSN AI Bootcamp Qualification Hackathon/SampleSubmission.csv')"
      ],
      "execution_count": 25,
      "outputs": []
    },
    {
      "cell_type": "code",
      "metadata": {
        "id": "cAb7F5E-sjMB",
        "trusted": true
      },
      "source": [
        "### We take the mean of all 5 predictions to generate submission"
      ],
      "execution_count": null,
      "outputs": []
    },
    {
      "cell_type": "code",
      "metadata": {
        "id": "bkDFca5-sjMR",
        "trusted": true
      },
      "source": [
        "sub['default_status'] = np.mean(test_oofs, axis = 0)"
      ],
      "execution_count": 26,
      "outputs": []
    },
    {
      "cell_type": "code",
      "metadata": {
        "id": "z3QdnqaSfjUs"
      },
      "source": [
        "#from google import files"
      ],
      "execution_count": 29,
      "outputs": []
    },
    {
      "cell_type": "code",
      "metadata": {
        "id": "m5ib6M4isjMk",
        "trusted": true
      },
      "source": [
        "sub.to_csv('submit6.csv', index = False)"
      ],
      "execution_count": 30,
      "outputs": []
    },
    {
      "cell_type": "markdown",
      "metadata": {
        "id": "u0VGKog9sjMz"
      },
      "source": [
        "### Suggestions:\n",
        "- Base your feature selection on the local cv score i.e When you add, remove or engineer feature check `score` (cell 17)\n",
        "- Increase number of fold to 10, 15. See how score imporve on leaderboard.\n",
        "- Try differnt value of learning rate. I'll advice anything < 0.01\n",
        "- Create as many features as possible.\n",
        "- Find code for Xgboost and lgbm using this method of modelling, or better still tweak this one (mind you, names of parameters may be slightly different."
      ]
    },
    {
      "cell_type": "code",
      "metadata": {
        "id": "7d8UrxzosjM1",
        "trusted": false
      },
      "source": [
        ""
      ],
      "execution_count": null,
      "outputs": []
    }
  ]
}