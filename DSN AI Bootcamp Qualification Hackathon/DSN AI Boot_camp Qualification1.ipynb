{
  "nbformat": 4,
  "nbformat_minor": 0,
  "metadata": {
    "kernelspec": {
      "language": "python",
      "display_name": "Python 3",
      "name": "python3"
    },
    "language_info": {
      "pygments_lexer": "ipython3",
      "nbconvert_exporter": "python",
      "version": "3.6.4",
      "file_extension": ".py",
      "codemirror_mode": {
        "name": "ipython",
        "version": 3
      },
      "name": "python",
      "mimetype": "text/x-python"
    },
    "colab": {
      "name": "DSN AI Boot camp Qualification1.ipynb",
      "provenance": [],
      "include_colab_link": true
    }
  },
  "cells": [
    {
      "cell_type": "markdown",
      "metadata": {
        "id": "view-in-github",
        "colab_type": "text"
      },
      "source": [
        "<a href=\"https://colab.research.google.com/github/Justus-coded/Competitions/blob/master/DSN%20AI%20Bootcamp%20Qualification%20Hackathon/DSN%20AI%20Boot_camp%20Qualification1.ipynb\" target=\"_parent\"><img src=\"https://colab.research.google.com/assets/colab-badge.svg\" alt=\"Open In Colab\"/></a>"
      ]
    },
    {
      "cell_type": "code",
      "metadata": {
        "id": "lTYsttC3sjHh",
        "trusted": true
      },
      "source": [
        "import pandas as pd\n",
        "import numpy as np\n",
        "import seaborn as sns\n",
        "import matplotlib.pyplot as plt\n",
        " \n",
        "%matplotlib inline\n",
        " \n",
        "import warnings\n",
        "warnings.filterwarnings('ignore')"
      ],
      "execution_count": null,
      "outputs": []
    },
    {
      "cell_type": "code",
      "metadata": {
        "id": "lJdWtcbpgDWK",
        "trusted": true
      },
      "source": [
        "#from google.colab import drive\n",
        "#drive.mount('/content/drive')"
      ],
      "execution_count": null,
      "outputs": []
    },
    {
      "cell_type": "code",
      "metadata": {
        "id": "ygKIugwesjH5",
        "trusted": true
      },
      "source": [
        "#train = pd.read_csv('/content/drive/My Drive/DSN AI Bootcamp Qualification Hackathon/Train.csv')\n",
        "#test  = pd.read_csv('/content/drive/My Drive/DSN AI Bootcamp Qualification Hackathon/Test.csv')\n",
        "\n",
        "train = pd.read_csv('../input/dsn-ai-bootcamp-data/Train.csv')\n",
        "test = pd.read_csv('../input/dsn-ai-bootcamp-data/Test.csv')\n",
        "sub = pd.read_csv('../input/dsn-ai-bootcamp-data/SampleSubmission.csv')"
      ],
      "execution_count": null,
      "outputs": []
    },
    {
      "cell_type": "code",
      "metadata": {
        "id": "ixvLHcBnsjIL",
        "trusted": true
      },
      "source": [
        "dict_ = {'charge': 1,\n",
        "         'lending': 0}\n",
        " \n",
        "target_map = {\n",
        "    'yes': 1,\n",
        "    'no': 0}\n",
        " \n",
        "train.default_status.replace(target_map, inplace = True)\n",
        " \n",
        "train['form_field47'].replace(dict_, inplace = True)\n",
        "test['form_field47'].replace(dict_, inplace = True)"
      ],
      "execution_count": null,
      "outputs": []
    },
    {
      "cell_type": "code",
      "metadata": {
        "id": "6ZJIgEJkhkqM",
        "trusted": true
      },
      "source": [
        "#pip install catboost"
      ],
      "execution_count": null,
      "outputs": []
    },
    {
      "cell_type": "code",
      "metadata": {
        "id": "nA1fJeNFsjIc",
        "trusted": true
      },
      "source": [
        "from sklearn.metrics import roc_auc_score\n",
        "from catboost import CatBoostClassifier"
      ],
      "execution_count": null,
      "outputs": []
    },
    {
      "cell_type": "code",
      "metadata": {
        "id": "kw9u6xuNsjIt",
        "trusted": true
      },
      "source": [
        "features = train.select_dtypes(exclude = object).columns.drop(['default_status'])"
      ],
      "execution_count": null,
      "outputs": []
    },
    {
      "cell_type": "code",
      "metadata": {
        "id": "WUnZZc7-sjI9",
        "trusted": true
      },
      "source": [
        "# features"
      ],
      "execution_count": null,
      "outputs": []
    },
    {
      "cell_type": "code",
      "metadata": {
        "id": "hPhK0BEosjJM",
        "trusted": true
      },
      "source": [
        "for col in features:\n",
        "    train[col].fillna(-999, inplace = True)\n",
        "    test[col].fillna(-999, inplace = True)"
      ],
      "execution_count": null,
      "outputs": []
    },
    {
      "cell_type": "code",
      "metadata": {
        "trusted": true,
        "id": "j0Q2psFZF1Oy"
      },
      "source": [
        "train['form_field1*formfield2'] = train['form_field1'] * train['form_field2']\n",
        "train['form_field1/formfield2'] = train['form_field1'] / train['form_field2']\n",
        "\n",
        "train['form_field1*formfield3'] = train['form_field1'] * train.form_field3\n",
        "train['form_field1*formfield4'] = train.form_field1 * train.form_field4\n",
        "train['form_field1*formfield5'] = train.form_field1 * train.form_field5\n",
        "\n",
        "#new_train['form_field30*formfield41'] = new_train['form_field30'] * new_train['form_field41']\n",
        "##new_train['form_field31*formfield40'] = new_train['form_field31'] * new_train['form_field40']\n",
        "\n",
        "train['form_field6+field7'] =  (train.form_field6 + train.form_field8)/2\n",
        "\n",
        "train['form_field1*formfield6'] = train['form_field1'] * train['form_field6']\n",
        "train['form_field2*formfield6'] = train['form_field2'] * train['form_field6']\n",
        "\n",
        "train['form_field1*formfield9'] = train['form_field1'] * train['form_field9']\n",
        "train['form_field2*formfield9'] = train['form_field2'] * train['form_field9']\n",
        "\n",
        "train['form_field1*formfield37'] = train['form_field1'] * train['form_field37']\n",
        "train['form_field2*formfield37'] = train['form_field2'] * train['form_field37']\n",
        "\n",
        "train['form_field9*formfield6'] = train['form_field9'] * train['form_field6']\n",
        "train['form_field37*formfield6'] = train['form_field37'] * train['form_field6']\n",
        "\n",
        "train['form_field9*formfield37'] = train['form_field9'] * train['form_field37']\n",
        "train['form_field1*formfield8'] = train['form_field1'] * train['form_field8']"
      ],
      "execution_count": null,
      "outputs": []
    },
    {
      "cell_type": "code",
      "metadata": {
        "trusted": true,
        "id": "5ilqKp6lF1O8"
      },
      "source": [
        "test['form_field1*formfield2'] = test['form_field1'] * test['form_field2']\n",
        "test['form_field1/formfield2'] = test['form_field1'] / test['form_field2']\n",
        "\n",
        "test['form_field1*formfield3'] = test['form_field1'] * test.form_field3\n",
        "test['form_field1*formfield4'] = test.form_field1 * test.form_field4\n",
        "test['form_field1*formfield5'] = test.form_field1 * test.form_field5\n",
        "\n",
        "test['form_field6+field7'] =  (test.form_field6 + test.form_field8)/2\n",
        "\n",
        "test['form_field1*formfield6'] = test['form_field1'] * test['form_field6']\n",
        "test['form_field2*formfield6'] = test['form_field2'] * test['form_field6']\n",
        "\n",
        "test['form_field1*formfield9'] = test['form_field1'] * test['form_field9']\n",
        "test['form_field2*formfield9'] = test['form_field2'] * test['form_field9']\n",
        "\n",
        "test['form_field1*formfield37'] = test['form_field1'] * test['form_field37']\n",
        "test['form_field2*formfield37'] = test['form_field2'] * test['form_field37']\n",
        "\n",
        "test['form_field9*formfield6'] = test['form_field9'] * test['form_field6']\n",
        "test['form_field37*formfield6'] = test['form_field37'] *test['form_field6']\n",
        "\n",
        "test['form_field9*formfield37'] = test['form_field9'] * test['form_field37']\n",
        "test['form_field1*formfield8'] = test['form_field1'] * test['form_field8']"
      ],
      "execution_count": null,
      "outputs": []
    },
    {
      "cell_type": "code",
      "metadata": {
        "id": "qsaVd8sGsjJi",
        "trusted": true
      },
      "source": [
        "X = train[features]\n",
        "y = train['default_status']"
      ],
      "execution_count": null,
      "outputs": []
    },
    {
      "cell_type": "code",
      "metadata": {
        "id": "2vzw4M_-sjJw",
        "trusted": true
      },
      "source": [
        "from sklearn.model_selection import StratifiedKFold"
      ],
      "execution_count": null,
      "outputs": []
    },
    {
      "cell_type": "code",
      "metadata": {
        "id": "Pqumr-QosjJ-",
        "trusted": true
      },
      "source": [
        "def metric(y, pred):\n",
        "    return roc_auc_score(y, pred, labels=[0, 1])"
      ],
      "execution_count": null,
      "outputs": []
    },
    {
      "cell_type": "code",
      "metadata": {
        "id": "mSzq68IusjKM",
        "trusted": true
      },
      "source": [
        "# Specify number of folds\n",
        "n_skf = 10\n",
        "kf = StratifiedKFold(n_skf)\n",
        " \n",
        " \n",
        "seed = 42\n",
        " \n",
        "## Manually tweak the hyperparameter, learning rate and n_estimators especially\n",
        "params = {'max_depth':7,\n",
        "    'n_estimators': 5000,\n",
        "    'learning_rate': 0.008,\n",
        "    'objective': 'CrossEntropy',\n",
        "      'eval_metric':'AUC',\n",
        "    'random_seed': seed,\n",
        "    'early_stopping_rounds': 200,\n",
        "    'use_best_model': True,\n",
        "}"
      ],
      "execution_count": null,
      "outputs": []
    },
    {
      "cell_type": "code",
      "metadata": {
        "scrolled": true,
        "id": "CVC4mh-nsjKa",
        "trusted": true,
        "outputId": "acdeb8b1-c32d-4cf9-f1b3-2018d214a55f"
      },
      "source": [
        "score_list = []\n",
        "score = 0\n",
        "test_oofs = []\n",
        " \n",
        "for i, (tr_idx, vr_idx) in enumerate(kf.split(X, y)):\n",
        "    \n",
        "    xtrain, ytrain = X.loc[tr_idx, features], y.loc[tr_idx]\n",
        "    xval, yval = X.loc[vr_idx, features], y.loc[vr_idx]\n",
        " \n",
        "    model = CatBoostClassifier(**params, task_type='GPU')\n",
        "    model.fit(xtrain, ytrain, eval_set=[(xval,yval)], verbose=100)\n",
        "    \n",
        "    p = model.predict_proba(xval)[:, 1]\n",
        "    sc = metric(yval, p)\n",
        "    score_list.append(sc)\n",
        "    score += sc/n_skf\n",
        "    \n",
        "    pred = model.predict_proba(test[features])[:, 1]\n",
        "    test_oofs.append(pred)\n",
        " \n",
        "    print('Fold {} : {}'.format(i, sc))\n",
        " \n",
        "print()\n",
        "print()\n",
        "print('Avg log : ', score)"
      ],
      "execution_count": null,
      "outputs": [
        {
          "output_type": "stream",
          "text": [
            "0:\tlearn: 0.8005818\ttest: 0.7965800\tbest: 0.7965800 (0)\ttotal: 18ms\tremaining: 1m 29s\n",
            "100:\tlearn: 0.8311888\ttest: 0.8169689\tbest: 0.8169994 (99)\ttotal: 1.58s\tremaining: 1m 16s\n",
            "200:\tlearn: 0.8370891\ttest: 0.8215050\tbest: 0.8215050 (200)\ttotal: 3.13s\tremaining: 1m 14s\n",
            "300:\tlearn: 0.8409205\ttest: 0.8239534\tbest: 0.8239534 (300)\ttotal: 4.7s\tremaining: 1m 13s\n",
            "400:\tlearn: 0.8439492\ttest: 0.8253606\tbest: 0.8253606 (400)\ttotal: 6.2s\tremaining: 1m 11s\n",
            "500:\tlearn: 0.8465233\ttest: 0.8262982\tbest: 0.8262982 (500)\ttotal: 7.7s\tremaining: 1m 9s\n",
            "600:\tlearn: 0.8490306\ttest: 0.8273727\tbest: 0.8273727 (600)\ttotal: 9.23s\tremaining: 1m 7s\n",
            "700:\tlearn: 0.8511631\ttest: 0.8281304\tbest: 0.8281304 (700)\ttotal: 11.2s\tremaining: 1m 8s\n",
            "800:\tlearn: 0.8531602\ttest: 0.8286533\tbest: 0.8286559 (799)\ttotal: 13.2s\tremaining: 1m 9s\n",
            "900:\tlearn: 0.8550197\ttest: 0.8290893\tbest: 0.8290893 (900)\ttotal: 14.8s\tremaining: 1m 7s\n",
            "1000:\tlearn: 0.8567368\ttest: 0.8295559\tbest: 0.8295683 (999)\ttotal: 16.3s\tremaining: 1m 5s\n",
            "1100:\tlearn: 0.8583706\ttest: 0.8298948\tbest: 0.8298948 (1100)\ttotal: 17.9s\tremaining: 1m 3s\n",
            "1200:\tlearn: 0.8600547\ttest: 0.8302737\tbest: 0.8302737 (1200)\ttotal: 19.6s\tremaining: 1m 1s\n",
            "1300:\tlearn: 0.8618221\ttest: 0.8306204\tbest: 0.8306290 (1299)\ttotal: 21.4s\tremaining: 1m\n",
            "1400:\tlearn: 0.8634751\ttest: 0.8308511\tbest: 0.8308853 (1387)\ttotal: 23.2s\tremaining: 59.6s\n",
            "1500:\tlearn: 0.8652353\ttest: 0.8310883\tbest: 0.8310883 (1500)\ttotal: 24.8s\tremaining: 57.7s\n",
            "1600:\tlearn: 0.8669152\ttest: 0.8312610\tbest: 0.8312677 (1589)\ttotal: 26.3s\tremaining: 55.8s\n",
            "1700:\tlearn: 0.8686046\ttest: 0.8315729\tbest: 0.8315729 (1700)\ttotal: 28.4s\tremaining: 55s\n",
            "1800:\tlearn: 0.8703089\ttest: 0.8316961\tbest: 0.8317173 (1781)\ttotal: 30s\tremaining: 53.3s\n",
            "1900:\tlearn: 0.8718656\ttest: 0.8318838\tbest: 0.8319005 (1896)\ttotal: 31.6s\tremaining: 51.5s\n",
            "2000:\tlearn: 0.8734509\ttest: 0.8319616\tbest: 0.8319624 (1999)\ttotal: 34s\tremaining: 51s\n",
            "2100:\tlearn: 0.8750243\ttest: 0.8320814\tbest: 0.8320814 (2100)\ttotal: 35.7s\tremaining: 49.2s\n",
            "2200:\tlearn: 0.8764791\ttest: 0.8321863\tbest: 0.8322127 (2194)\ttotal: 37.5s\tremaining: 47.7s\n",
            "2300:\tlearn: 0.8780038\ttest: 0.8322734\tbest: 0.8322906 (2253)\ttotal: 39.1s\tremaining: 45.9s\n",
            "2400:\tlearn: 0.8794439\ttest: 0.8323414\tbest: 0.8323453 (2380)\ttotal: 40.7s\tremaining: 44.1s\n",
            "2500:\tlearn: 0.8808703\ttest: 0.8324619\tbest: 0.8324676 (2491)\ttotal: 42.3s\tremaining: 42.3s\n",
            "2600:\tlearn: 0.8823076\ttest: 0.8326171\tbest: 0.8326171 (2600)\ttotal: 44.6s\tremaining: 41.2s\n",
            "2700:\tlearn: 0.8836800\ttest: 0.8326346\tbest: 0.8326518 (2696)\ttotal: 46.2s\tremaining: 39.3s\n",
            "2800:\tlearn: 0.8850363\ttest: 0.8327757\tbest: 0.8327757 (2800)\ttotal: 47.7s\tremaining: 37.5s\n",
            "2900:\tlearn: 0.8863799\ttest: 0.8328360\tbest: 0.8328617 (2885)\ttotal: 49.3s\tremaining: 35.7s\n",
            "3000:\tlearn: 0.8876389\ttest: 0.8329169\tbest: 0.8329253 (2997)\ttotal: 50.9s\tremaining: 33.9s\n",
            "3100:\tlearn: 0.8889956\ttest: 0.8329545\tbest: 0.8329993 (3064)\ttotal: 52.5s\tremaining: 32.1s\n",
            "3200:\tlearn: 0.8902094\ttest: 0.8329643\tbest: 0.8330289 (3149)\ttotal: 54.5s\tremaining: 30.6s\n",
            "3300:\tlearn: 0.8914438\ttest: 0.8330631\tbest: 0.8330906 (3270)\ttotal: 56.1s\tremaining: 28.9s\n",
            "3400:\tlearn: 0.8926927\ttest: 0.8330656\tbest: 0.8330966 (3309)\ttotal: 57.7s\tremaining: 27.1s\n",
            "3500:\tlearn: 0.8939882\ttest: 0.8331088\tbest: 0.8331174 (3490)\ttotal: 59.3s\tremaining: 25.4s\n",
            "3600:\tlearn: 0.8952255\ttest: 0.8332216\tbest: 0.8332627 (3583)\ttotal: 1m\tremaining: 23.6s\n",
            "3700:\tlearn: 0.8964616\ttest: 0.8332908\tbest: 0.8332908 (3700)\ttotal: 1m 2s\tremaining: 21.9s\n",
            "3800:\tlearn: 0.8976464\ttest: 0.8332728\tbest: 0.8333313 (3781)\ttotal: 1m 3s\tremaining: 20.2s\n",
            "3900:\tlearn: 0.8988487\ttest: 0.8333757\tbest: 0.8333757 (3900)\ttotal: 1m 5s\tremaining: 18.6s\n",
            "4000:\tlearn: 0.8999986\ttest: 0.8334169\tbest: 0.8334321 (3997)\ttotal: 1m 7s\tremaining: 16.9s\n",
            "4100:\tlearn: 0.9012328\ttest: 0.8334109\tbest: 0.8334445 (4080)\ttotal: 1m 9s\tremaining: 15.1s\n",
            "4200:\tlearn: 0.9023423\ttest: 0.8333927\tbest: 0.8334445 (4080)\ttotal: 1m 10s\tremaining: 13.4s\n",
            "bestTest = 0.8334444761\n",
            "bestIteration = 4080\n",
            "Shrink model to first 4081 iterations.\n",
            "Fold 0 : 0.8334441481907685\n",
            "0:\tlearn: 0.7994641\ttest: 0.8041972\tbest: 0.8041972 (0)\ttotal: 17.1ms\tremaining: 1m 25s\n",
            "100:\tlearn: 0.8297545\ttest: 0.8328288\tbest: 0.8328288 (100)\ttotal: 2s\tremaining: 1m 36s\n",
            "200:\tlearn: 0.8354428\ttest: 0.8373498\tbest: 0.8373498 (200)\ttotal: 4.07s\tremaining: 1m 37s\n",
            "300:\tlearn: 0.8392395\ttest: 0.8399671\tbest: 0.8399671 (300)\ttotal: 5.69s\tremaining: 1m 28s\n",
            "400:\tlearn: 0.8423245\ttest: 0.8414243\tbest: 0.8414256 (399)\ttotal: 7.27s\tremaining: 1m 23s\n",
            "500:\tlearn: 0.8450412\ttest: 0.8425304\tbest: 0.8425304 (500)\ttotal: 8.83s\tremaining: 1m 19s\n",
            "600:\tlearn: 0.8474092\ttest: 0.8434969\tbest: 0.8434969 (600)\ttotal: 10.4s\tremaining: 1m 16s\n",
            "700:\tlearn: 0.8495541\ttest: 0.8443056\tbest: 0.8443201 (698)\ttotal: 12s\tremaining: 1m 13s\n",
            "800:\tlearn: 0.8514250\ttest: 0.8448976\tbest: 0.8448976 (800)\ttotal: 13.5s\tremaining: 1m 10s\n",
            "900:\tlearn: 0.8533655\ttest: 0.8455091\tbest: 0.8455091 (900)\ttotal: 15.9s\tremaining: 1m 12s\n",
            "1000:\tlearn: 0.8550923\ttest: 0.8458428\tbest: 0.8458428 (1000)\ttotal: 17.5s\tremaining: 1m 10s\n",
            "1100:\tlearn: 0.8567558\ttest: 0.8461903\tbest: 0.8461903 (1100)\ttotal: 19.7s\tremaining: 1m 9s\n",
            "1200:\tlearn: 0.8584661\ttest: 0.8465348\tbest: 0.8465456 (1195)\ttotal: 21.3s\tremaining: 1m 7s\n",
            "1300:\tlearn: 0.8601928\ttest: 0.8467928\tbest: 0.8467928 (1300)\ttotal: 22.9s\tremaining: 1m 5s\n",
            "1400:\tlearn: 0.8619199\ttest: 0.8470922\tbest: 0.8470989 (1397)\ttotal: 24.6s\tremaining: 1m 3s\n",
            "1500:\tlearn: 0.8636250\ttest: 0.8472533\tbest: 0.8472533 (1500)\ttotal: 26.7s\tremaining: 1m 2s\n",
            "1600:\tlearn: 0.8654275\ttest: 0.8473796\tbest: 0.8474063 (1566)\ttotal: 28.3s\tremaining: 1m\n",
            "1700:\tlearn: 0.8671468\ttest: 0.8475575\tbest: 0.8475869 (1689)\ttotal: 29.9s\tremaining: 57.9s\n",
            "1800:\tlearn: 0.8687999\ttest: 0.8477447\tbest: 0.8477602 (1791)\ttotal: 31.5s\tremaining: 55.9s\n",
            "1900:\tlearn: 0.8704597\ttest: 0.8479096\tbest: 0.8479096 (1900)\ttotal: 33s\tremaining: 53.8s\n",
            "2000:\tlearn: 0.8720085\ttest: 0.8481133\tbest: 0.8481207 (1993)\ttotal: 34.9s\tremaining: 52.2s\n",
            "2100:\tlearn: 0.8735999\ttest: 0.8482715\tbest: 0.8482737 (2099)\ttotal: 36.7s\tremaining: 50.7s\n",
            "2200:\tlearn: 0.8751116\ttest: 0.8483797\tbest: 0.8484058 (2188)\ttotal: 38.4s\tremaining: 48.8s\n",
            "2300:\tlearn: 0.8766305\ttest: 0.8484021\tbest: 0.8484096 (2268)\ttotal: 39.9s\tremaining: 46.8s\n",
            "2400:\tlearn: 0.8781385\ttest: 0.8485105\tbest: 0.8485105 (2400)\ttotal: 41.5s\tremaining: 44.9s\n",
            "2500:\tlearn: 0.8795575\ttest: 0.8485484\tbest: 0.8485690 (2465)\ttotal: 43s\tremaining: 43s\n",
            "2600:\tlearn: 0.8810096\ttest: 0.8484922\tbest: 0.8485690 (2465)\ttotal: 44.5s\tremaining: 41.1s\n",
            "bestTest = 0.8485689759\n",
            "bestIteration = 2465\n",
            "Shrink model to first 2466 iterations.\n",
            "Fold 1 : 0.848568780841672\n",
            "0:\tlearn: 0.8009786\ttest: 0.7973039\tbest: 0.7973039 (0)\ttotal: 17.1ms\tremaining: 1m 25s\n",
            "100:\tlearn: 0.8303441\ttest: 0.8261527\tbest: 0.8261527 (100)\ttotal: 2.02s\tremaining: 1m 37s\n",
            "200:\tlearn: 0.8360542\ttest: 0.8304453\tbest: 0.8304453 (200)\ttotal: 3.55s\tremaining: 1m 24s\n",
            "300:\tlearn: 0.8401262\ttest: 0.8332978\tbest: 0.8332978 (300)\ttotal: 5.07s\tremaining: 1m 19s\n",
            "400:\tlearn: 0.8431125\ttest: 0.8348920\tbest: 0.8348920 (400)\ttotal: 6.57s\tremaining: 1m 15s\n",
            "500:\tlearn: 0.8457752\ttest: 0.8360143\tbest: 0.8360159 (499)\ttotal: 8.07s\tremaining: 1m 12s\n",
            "600:\tlearn: 0.8480789\ttest: 0.8367947\tbest: 0.8368011 (597)\ttotal: 9.59s\tremaining: 1m 10s\n",
            "700:\tlearn: 0.8502314\ttest: 0.8374351\tbest: 0.8374496 (699)\ttotal: 11.1s\tremaining: 1m 8s\n",
            "800:\tlearn: 0.8522111\ttest: 0.8379001\tbest: 0.8379001 (800)\ttotal: 13s\tremaining: 1m 8s\n",
            "900:\tlearn: 0.8541977\ttest: 0.8384067\tbest: 0.8384196 (893)\ttotal: 14.6s\tremaining: 1m 6s\n",
            "1000:\tlearn: 0.8559479\ttest: 0.8387183\tbest: 0.8387227 (998)\ttotal: 16.2s\tremaining: 1m 4s\n",
            "1100:\tlearn: 0.8575951\ttest: 0.8390117\tbest: 0.8390117 (1100)\ttotal: 17.8s\tremaining: 1m 3s\n",
            "1200:\tlearn: 0.8593051\ttest: 0.8391972\tbest: 0.8391976 (1199)\ttotal: 19.7s\tremaining: 1m 2s\n",
            "1300:\tlearn: 0.8611248\ttest: 0.8395183\tbest: 0.8395247 (1298)\ttotal: 21.3s\tremaining: 1m\n",
            "1400:\tlearn: 0.8628425\ttest: 0.8397806\tbest: 0.8397806 (1400)\ttotal: 23.1s\tremaining: 59.3s\n",
            "1500:\tlearn: 0.8646143\ttest: 0.8399865\tbest: 0.8399921 (1499)\ttotal: 24.8s\tremaining: 57.8s\n",
            "1600:\tlearn: 0.8663691\ttest: 0.8400730\tbest: 0.8400740 (1599)\ttotal: 26.4s\tremaining: 56s\n",
            "1700:\tlearn: 0.8680406\ttest: 0.8402672\tbest: 0.8402853 (1660)\ttotal: 28.6s\tremaining: 55.4s\n"
          ],
          "name": "stdout"
        },
        {
          "output_type": "stream",
          "text": [
            "1800:\tlearn: 0.8697619\ttest: 0.8405893\tbest: 0.8405893 (1800)\ttotal: 30.2s\tremaining: 53.6s\n",
            "1900:\tlearn: 0.8714205\ttest: 0.8407020\tbest: 0.8407056 (1899)\ttotal: 31.8s\tremaining: 51.9s\n",
            "2000:\tlearn: 0.8729822\ttest: 0.8407680\tbest: 0.8407773 (1996)\ttotal: 34.1s\tremaining: 51s\n",
            "2100:\tlearn: 0.8745603\ttest: 0.8407979\tbest: 0.8408132 (2090)\ttotal: 35.8s\tremaining: 49.4s\n",
            "2200:\tlearn: 0.8761445\ttest: 0.8408687\tbest: 0.8408927 (2179)\ttotal: 37.4s\tremaining: 47.6s\n",
            "2300:\tlearn: 0.8777120\ttest: 0.8408967\tbest: 0.8408967 (2300)\ttotal: 39.2s\tremaining: 45.9s\n",
            "2400:\tlearn: 0.8792587\ttest: 0.8408776\tbest: 0.8409409 (2347)\ttotal: 40.8s\tremaining: 44.2s\n",
            "2500:\tlearn: 0.8807765\ttest: 0.8409327\tbest: 0.8409527 (2499)\ttotal: 42.4s\tremaining: 42.3s\n",
            "2600:\tlearn: 0.8822640\ttest: 0.8409133\tbest: 0.8409527 (2499)\ttotal: 44s\tremaining: 40.6s\n",
            "2700:\tlearn: 0.8836103\ttest: 0.8409688\tbest: 0.8409710 (2632)\ttotal: 46s\tremaining: 39.2s\n",
            "2800:\tlearn: 0.8851086\ttest: 0.8409791\tbest: 0.8409924 (2791)\ttotal: 47.6s\tremaining: 37.3s\n",
            "2900:\tlearn: 0.8864327\ttest: 0.8410619\tbest: 0.8410647 (2870)\ttotal: 49.2s\tremaining: 35.6s\n",
            "3000:\tlearn: 0.8877553\ttest: 0.8411107\tbest: 0.8411112 (2997)\ttotal: 51s\tremaining: 34s\n",
            "3100:\tlearn: 0.8890531\ttest: 0.8410288\tbest: 0.8411195 (3023)\ttotal: 52.6s\tremaining: 32.2s\n",
            "3200:\tlearn: 0.8903015\ttest: 0.8410868\tbest: 0.8411195 (3023)\ttotal: 54.2s\tremaining: 30.5s\n",
            "bestTest = 0.841119498\n",
            "bestIteration = 3023\n",
            "Shrink model to first 3024 iterations.\n",
            "Fold 2 : 0.8411193490674909\n",
            "0:\tlearn: 0.8049273\ttest: 0.7916886\tbest: 0.7916886 (0)\ttotal: 16.9ms\tremaining: 1m 24s\n",
            "100:\tlearn: 0.8310174\ttest: 0.8193470\tbest: 0.8193470 (100)\ttotal: 1.94s\tremaining: 1m 34s\n",
            "200:\tlearn: 0.8367581\ttest: 0.8241793\tbest: 0.8241793 (200)\ttotal: 3.54s\tremaining: 1m 24s\n",
            "300:\tlearn: 0.8408424\ttest: 0.8271502\tbest: 0.8271502 (300)\ttotal: 5.11s\tremaining: 1m 19s\n",
            "400:\tlearn: 0.8438990\ttest: 0.8290009\tbest: 0.8290009 (400)\ttotal: 6.69s\tremaining: 1m 16s\n",
            "500:\tlearn: 0.8464770\ttest: 0.8303539\tbest: 0.8303539 (500)\ttotal: 8.24s\tremaining: 1m 14s\n",
            "600:\tlearn: 0.8488393\ttest: 0.8313038\tbest: 0.8313038 (600)\ttotal: 9.8s\tremaining: 1m 11s\n",
            "700:\tlearn: 0.8509784\ttest: 0.8319866\tbest: 0.8319866 (700)\ttotal: 11.6s\tremaining: 1m 11s\n",
            "800:\tlearn: 0.8529663\ttest: 0.8326808\tbest: 0.8326808 (800)\ttotal: 13.4s\tremaining: 1m 10s\n",
            "900:\tlearn: 0.8548622\ttest: 0.8332998\tbest: 0.8332999 (899)\ttotal: 15s\tremaining: 1m 8s\n",
            "1000:\tlearn: 0.8566414\ttest: 0.8336672\tbest: 0.8336685 (998)\ttotal: 16.6s\tremaining: 1m 6s\n",
            "1100:\tlearn: 0.8583231\ttest: 0.8339547\tbest: 0.8339547 (1100)\ttotal: 18.2s\tremaining: 1m 4s\n",
            "1200:\tlearn: 0.8600259\ttest: 0.8343676\tbest: 0.8343790 (1190)\ttotal: 19.7s\tremaining: 1m 2s\n",
            "1300:\tlearn: 0.8616841\ttest: 0.8346285\tbest: 0.8346285 (1300)\ttotal: 21.3s\tremaining: 1m\n",
            "1400:\tlearn: 0.8634157\ttest: 0.8348647\tbest: 0.8348671 (1394)\ttotal: 23.3s\tremaining: 59.8s\n",
            "1500:\tlearn: 0.8651783\ttest: 0.8349833\tbest: 0.8349885 (1498)\ttotal: 24.9s\tremaining: 58.1s\n",
            "1600:\tlearn: 0.8668652\ttest: 0.8351973\tbest: 0.8351973 (1600)\ttotal: 26.7s\tremaining: 56.7s\n",
            "1700:\tlearn: 0.8685381\ttest: 0.8353400\tbest: 0.8353652 (1697)\ttotal: 28.3s\tremaining: 54.8s\n",
            "1800:\tlearn: 0.8702097\ttest: 0.8353276\tbest: 0.8353689 (1714)\ttotal: 29.8s\tremaining: 53s\n",
            "1900:\tlearn: 0.8718835\ttest: 0.8355333\tbest: 0.8355430 (1886)\ttotal: 31.4s\tremaining: 51.1s\n",
            "2000:\tlearn: 0.8734022\ttest: 0.8355587\tbest: 0.8355833 (1997)\ttotal: 33.8s\tremaining: 50.7s\n",
            "2100:\tlearn: 0.8749328\ttest: 0.8355911\tbest: 0.8355911 (2100)\ttotal: 35.5s\tremaining: 49s\n",
            "2200:\tlearn: 0.8764677\ttest: 0.8357047\tbest: 0.8357284 (2195)\ttotal: 37.4s\tremaining: 47.5s\n",
            "2300:\tlearn: 0.8779562\ttest: 0.8358243\tbest: 0.8358257 (2299)\ttotal: 39s\tremaining: 45.8s\n",
            "2400:\tlearn: 0.8794370\ttest: 0.8359826\tbest: 0.8360201 (2378)\ttotal: 40.6s\tremaining: 44s\n",
            "2500:\tlearn: 0.8809016\ttest: 0.8360256\tbest: 0.8360295 (2499)\ttotal: 42.2s\tremaining: 42.2s\n",
            "2600:\tlearn: 0.8822871\ttest: 0.8360733\tbest: 0.8360865 (2553)\ttotal: 44s\tremaining: 40.5s\n",
            "2700:\tlearn: 0.8836658\ttest: 0.8361691\tbest: 0.8361860 (2648)\ttotal: 46.1s\tremaining: 39.2s\n",
            "2800:\tlearn: 0.8850680\ttest: 0.8362978\tbest: 0.8362978 (2800)\ttotal: 47.8s\tremaining: 37.5s\n",
            "2900:\tlearn: 0.8864262\ttest: 0.8363165\tbest: 0.8363715 (2888)\ttotal: 49.4s\tremaining: 35.8s\n",
            "3000:\tlearn: 0.8878040\ttest: 0.8363650\tbest: 0.8364026 (2975)\ttotal: 51s\tremaining: 34s\n",
            "3100:\tlearn: 0.8891137\ttest: 0.8364773\tbest: 0.8364773 (3100)\ttotal: 52.6s\tremaining: 32.2s\n",
            "3200:\tlearn: 0.8903683\ttest: 0.8365777\tbest: 0.8365777 (3200)\ttotal: 54.2s\tremaining: 30.5s\n",
            "3300:\tlearn: 0.8916198\ttest: 0.8365906\tbest: 0.8366087 (3287)\ttotal: 56.4s\tremaining: 29s\n",
            "3400:\tlearn: 0.8928384\ttest: 0.8366529\tbest: 0.8366724 (3370)\ttotal: 58.3s\tremaining: 27.4s\n",
            "3500:\tlearn: 0.8940960\ttest: 0.8366910\tbest: 0.8366973 (3463)\ttotal: 59.9s\tremaining: 25.7s\n",
            "3600:\tlearn: 0.8953237\ttest: 0.8366073\tbest: 0.8366973 (3463)\ttotal: 1m 1s\tremaining: 23.9s\n",
            "bestTest = 0.83669734\n",
            "bestIteration = 3463\n",
            "Shrink model to first 3464 iterations.\n",
            "Fold 3 : 0.8366970170020174\n",
            "0:\tlearn: 0.8034053\ttest: 0.7977316\tbest: 0.7977316 (0)\ttotal: 16.5ms\tremaining: 1m 22s\n",
            "100:\tlearn: 0.8303711\ttest: 0.8273880\tbest: 0.8273880 (100)\ttotal: 1.6s\tremaining: 1m 17s\n",
            "200:\tlearn: 0.8359064\ttest: 0.8320946\tbest: 0.8320946 (200)\ttotal: 3.66s\tremaining: 1m 27s\n",
            "300:\tlearn: 0.8398289\ttest: 0.8347753\tbest: 0.8347753 (300)\ttotal: 5.29s\tremaining: 1m 22s\n",
            "400:\tlearn: 0.8428941\ttest: 0.8366112\tbest: 0.8366112 (400)\ttotal: 6.86s\tremaining: 1m 18s\n",
            "500:\tlearn: 0.8455439\ttest: 0.8381581\tbest: 0.8381581 (500)\ttotal: 8.43s\tremaining: 1m 15s\n",
            "600:\tlearn: 0.8479076\ttest: 0.8391470\tbest: 0.8391501 (598)\ttotal: 10s\tremaining: 1m 13s\n",
            "700:\tlearn: 0.8500342\ttest: 0.8398085\tbest: 0.8398085 (700)\ttotal: 11.6s\tremaining: 1m 11s\n",
            "800:\tlearn: 0.8520157\ttest: 0.8406127\tbest: 0.8406127 (800)\ttotal: 13.2s\tremaining: 1m 8s\n",
            "900:\tlearn: 0.8538812\ttest: 0.8411608\tbest: 0.8411608 (900)\ttotal: 15.2s\tremaining: 1m 9s\n",
            "1000:\tlearn: 0.8556844\ttest: 0.8416065\tbest: 0.8416148 (999)\ttotal: 16.7s\tremaining: 1m 6s\n",
            "1100:\tlearn: 0.8573915\ttest: 0.8419692\tbest: 0.8419716 (1098)\ttotal: 18.3s\tremaining: 1m 4s\n",
            "1200:\tlearn: 0.8591822\ttest: 0.8423116\tbest: 0.8423116 (1200)\ttotal: 19.9s\tremaining: 1m 2s\n",
            "1300:\tlearn: 0.8609879\ttest: 0.8426250\tbest: 0.8426250 (1300)\ttotal: 21.5s\tremaining: 1m 1s\n",
            "1400:\tlearn: 0.8627152\ttest: 0.8429651\tbest: 0.8429834 (1395)\ttotal: 23.1s\tremaining: 59.2s\n",
            "1500:\tlearn: 0.8644116\ttest: 0.8431966\tbest: 0.8432000 (1499)\ttotal: 24.8s\tremaining: 57.9s\n",
            "1600:\tlearn: 0.8660871\ttest: 0.8434616\tbest: 0.8434730 (1592)\ttotal: 26.9s\tremaining: 57s\n",
            "1700:\tlearn: 0.8677734\ttest: 0.8437695\tbest: 0.8437797 (1698)\ttotal: 28.4s\tremaining: 55.1s\n",
            "1800:\tlearn: 0.8695140\ttest: 0.8439546\tbest: 0.8439566 (1798)\ttotal: 31.2s\tremaining: 55.4s\n",
            "1900:\tlearn: 0.8711583\ttest: 0.8441541\tbest: 0.8441593 (1898)\ttotal: 32.8s\tremaining: 53.5s\n",
            "2000:\tlearn: 0.8726336\ttest: 0.8442793\tbest: 0.8442793 (2000)\ttotal: 34.5s\tremaining: 51.7s\n",
            "2100:\tlearn: 0.8743116\ttest: 0.8444501\tbest: 0.8444505 (2093)\ttotal: 36.5s\tremaining: 50.4s\n",
            "2200:\tlearn: 0.8758687\ttest: 0.8444856\tbest: 0.8444896 (2196)\ttotal: 38.3s\tremaining: 48.7s\n",
            "2300:\tlearn: 0.8773594\ttest: 0.8446769\tbest: 0.8446769 (2300)\ttotal: 39.9s\tremaining: 46.8s\n",
            "2400:\tlearn: 0.8788580\ttest: 0.8447571\tbest: 0.8447983 (2373)\ttotal: 41.6s\tremaining: 45.1s\n",
            "2500:\tlearn: 0.8802480\ttest: 0.8448547\tbest: 0.8448685 (2486)\ttotal: 43.2s\tremaining: 43.2s\n",
            "2600:\tlearn: 0.8817450\ttest: 0.8449128\tbest: 0.8449265 (2574)\ttotal: 44.9s\tremaining: 41.4s\n",
            "2700:\tlearn: 0.8831806\ttest: 0.8450177\tbest: 0.8450238 (2697)\ttotal: 46.5s\tremaining: 39.5s\n",
            "2800:\tlearn: 0.8845443\ttest: 0.8450579\tbest: 0.8450591 (2799)\ttotal: 48.4s\tremaining: 38s\n",
            "2900:\tlearn: 0.8859335\ttest: 0.8450199\tbest: 0.8450844 (2837)\ttotal: 50.1s\tremaining: 36.2s\n",
            "3000:\tlearn: 0.8871793\ttest: 0.8451050\tbest: 0.8451050 (3000)\ttotal: 51.7s\tremaining: 34.4s\n",
            "3100:\tlearn: 0.8885505\ttest: 0.8451340\tbest: 0.8451712 (3054)\ttotal: 53.2s\tremaining: 32.6s\n",
            "3200:\tlearn: 0.8898867\ttest: 0.8451421\tbest: 0.8451712 (3054)\ttotal: 54.8s\tremaining: 30.8s\n",
            "3300:\tlearn: 0.8911691\ttest: 0.8451702\tbest: 0.8451950 (3289)\ttotal: 56.3s\tremaining: 29s\n",
            "3400:\tlearn: 0.8924446\ttest: 0.8452863\tbest: 0.8453004 (3398)\ttotal: 58.4s\tremaining: 27.4s\n",
            "3500:\tlearn: 0.8936900\ttest: 0.8453142\tbest: 0.8453646 (3471)\ttotal: 1m\tremaining: 25.7s\n"
          ],
          "name": "stdout"
        },
        {
          "output_type": "stream",
          "text": [
            "3600:\tlearn: 0.8949020\ttest: 0.8452739\tbest: 0.8453799 (3557)\ttotal: 1m 1s\tremaining: 23.9s\n",
            "3700:\tlearn: 0.8962035\ttest: 0.8451736\tbest: 0.8453799 (3557)\ttotal: 1m 3s\tremaining: 22.1s\n",
            "bestTest = 0.845379889\n",
            "bestIteration = 3557\n",
            "Shrink model to first 3558 iterations.\n",
            "Fold 4 : 0.8453799000648331\n",
            "0:\tlearn: 0.8012357\ttest: 0.7934641\tbest: 0.7934641 (0)\ttotal: 16.5ms\tremaining: 1m 22s\n",
            "100:\tlearn: 0.8302389\ttest: 0.8267238\tbest: 0.8267238 (100)\ttotal: 1.56s\tremaining: 1m 15s\n",
            "200:\tlearn: 0.8362135\ttest: 0.8310861\tbest: 0.8310861 (200)\ttotal: 3.12s\tremaining: 1m 14s\n",
            "300:\tlearn: 0.8402775\ttest: 0.8339104\tbest: 0.8339104 (300)\ttotal: 5.18s\tremaining: 1m 20s\n",
            "400:\tlearn: 0.8432067\ttest: 0.8358301\tbest: 0.8358301 (400)\ttotal: 6.76s\tremaining: 1m 17s\n",
            "500:\tlearn: 0.8458682\ttest: 0.8370883\tbest: 0.8370883 (500)\ttotal: 8.33s\tremaining: 1m 14s\n",
            "600:\tlearn: 0.8482124\ttest: 0.8379809\tbest: 0.8379809 (600)\ttotal: 9.94s\tremaining: 1m 12s\n",
            "700:\tlearn: 0.8503265\ttest: 0.8387557\tbest: 0.8387557 (700)\ttotal: 11.5s\tremaining: 1m 10s\n",
            "800:\tlearn: 0.8521163\ttest: 0.8393105\tbest: 0.8393105 (800)\ttotal: 13.1s\tremaining: 1m 8s\n",
            "900:\tlearn: 0.8539841\ttest: 0.8397207\tbest: 0.8397328 (898)\ttotal: 14.7s\tremaining: 1m 6s\n",
            "1000:\tlearn: 0.8557843\ttest: 0.8400582\tbest: 0.8400582 (1000)\ttotal: 16.7s\tremaining: 1m 6s\n",
            "1100:\tlearn: 0.8575016\ttest: 0.8404211\tbest: 0.8404223 (1099)\ttotal: 18.3s\tremaining: 1m 4s\n",
            "1200:\tlearn: 0.8592249\ttest: 0.8407112\tbest: 0.8407243 (1196)\ttotal: 19.9s\tremaining: 1m 2s\n",
            "1300:\tlearn: 0.8608947\ttest: 0.8410470\tbest: 0.8410537 (1299)\ttotal: 21.5s\tremaining: 1m 1s\n",
            "1400:\tlearn: 0.8626159\ttest: 0.8412604\tbest: 0.8412756 (1396)\ttotal: 23.3s\tremaining: 60s\n",
            "1500:\tlearn: 0.8644065\ttest: 0.8413775\tbest: 0.8413775 (1500)\ttotal: 25.7s\tremaining: 59.9s\n",
            "1600:\tlearn: 0.8662380\ttest: 0.8416002\tbest: 0.8416002 (1600)\ttotal: 28.1s\tremaining: 59.7s\n",
            "1700:\tlearn: 0.8679533\ttest: 0.8416412\tbest: 0.8416992 (1662)\ttotal: 29.8s\tremaining: 57.7s\n",
            "1800:\tlearn: 0.8697004\ttest: 0.8417526\tbest: 0.8417653 (1771)\ttotal: 31.4s\tremaining: 55.7s\n",
            "1900:\tlearn: 0.8713371\ttest: 0.8419060\tbest: 0.8419141 (1899)\ttotal: 33s\tremaining: 53.9s\n",
            "2000:\tlearn: 0.8729597\ttest: 0.8420714\tbest: 0.8420714 (2000)\ttotal: 34.6s\tremaining: 51.9s\n",
            "2100:\tlearn: 0.8745367\ttest: 0.8422033\tbest: 0.8422033 (2100)\ttotal: 36.3s\tremaining: 50s\n",
            "2200:\tlearn: 0.8760796\ttest: 0.8422074\tbest: 0.8422398 (2126)\ttotal: 38.3s\tremaining: 48.7s\n",
            "2300:\tlearn: 0.8776293\ttest: 0.8423380\tbest: 0.8423380 (2300)\ttotal: 39.9s\tremaining: 46.8s\n",
            "2400:\tlearn: 0.8792079\ttest: 0.8423702\tbest: 0.8424175 (2355)\ttotal: 41.5s\tremaining: 44.9s\n",
            "2500:\tlearn: 0.8806117\ttest: 0.8423929\tbest: 0.8424175 (2355)\ttotal: 43s\tremaining: 43s\n",
            "2600:\tlearn: 0.8820726\ttest: 0.8424008\tbest: 0.8424321 (2526)\ttotal: 44.6s\tremaining: 41.2s\n",
            "2700:\tlearn: 0.8835050\ttest: 0.8424018\tbest: 0.8424444 (2621)\ttotal: 46.2s\tremaining: 39.3s\n",
            "2800:\tlearn: 0.8849495\ttest: 0.8424740\tbest: 0.8424910 (2782)\ttotal: 48s\tremaining: 37.7s\n",
            "2900:\tlearn: 0.8863452\ttest: 0.8425571\tbest: 0.8425571 (2900)\ttotal: 50s\tremaining: 36.2s\n",
            "3000:\tlearn: 0.8876953\ttest: 0.8425244\tbest: 0.8425916 (2953)\ttotal: 51.6s\tremaining: 34.4s\n",
            "3100:\tlearn: 0.8890480\ttest: 0.8425345\tbest: 0.8425916 (2953)\ttotal: 53.1s\tremaining: 32.5s\n",
            "bestTest = 0.8425916433\n",
            "bestIteration = 2953\n",
            "Shrink model to first 2954 iterations.\n",
            "Fold 5 : 0.8425918008776697\n",
            "0:\tlearn: 0.8056526\ttest: 0.7812245\tbest: 0.7812245 (0)\ttotal: 18.2ms\tremaining: 1m 30s\n",
            "100:\tlearn: 0.8324278\ttest: 0.8083103\tbest: 0.8083103 (100)\ttotal: 1.73s\tremaining: 1m 23s\n",
            "200:\tlearn: 0.8380419\ttest: 0.8112081\tbest: 0.8112081 (200)\ttotal: 3.31s\tremaining: 1m 19s\n",
            "300:\tlearn: 0.8422799\ttest: 0.8134721\tbest: 0.8134721 (300)\ttotal: 5.25s\tremaining: 1m 21s\n",
            "400:\tlearn: 0.8454347\ttest: 0.8149973\tbest: 0.8149973 (400)\ttotal: 6.82s\tremaining: 1m 18s\n",
            "500:\tlearn: 0.8479657\ttest: 0.8160061\tbest: 0.8160061 (500)\ttotal: 8.39s\tremaining: 1m 15s\n",
            "600:\tlearn: 0.8504308\ttest: 0.8167894\tbest: 0.8168041 (599)\ttotal: 10s\tremaining: 1m 13s\n",
            "700:\tlearn: 0.8526102\ttest: 0.8175234\tbest: 0.8175234 (700)\ttotal: 11.6s\tremaining: 1m 10s\n",
            "800:\tlearn: 0.8546605\ttest: 0.8179880\tbest: 0.8179880 (800)\ttotal: 13.1s\tremaining: 1m 8s\n",
            "900:\tlearn: 0.8564552\ttest: 0.8183714\tbest: 0.8183785 (899)\ttotal: 14.7s\tremaining: 1m 6s\n",
            "1000:\tlearn: 0.8583184\ttest: 0.8186989\tbest: 0.8186989 (1000)\ttotal: 16.8s\tremaining: 1m 7s\n",
            "1100:\tlearn: 0.8600583\ttest: 0.8191209\tbest: 0.8191209 (1100)\ttotal: 18.3s\tremaining: 1m 4s\n",
            "1200:\tlearn: 0.8618138\ttest: 0.8193831\tbest: 0.8193966 (1198)\ttotal: 19.9s\tremaining: 1m 3s\n",
            "1300:\tlearn: 0.8634725\ttest: 0.8195388\tbest: 0.8195437 (1289)\ttotal: 21.5s\tremaining: 1m 1s\n",
            "1400:\tlearn: 0.8652502\ttest: 0.8197299\tbest: 0.8197411 (1397)\ttotal: 23s\tremaining: 59.2s\n",
            "1500:\tlearn: 0.8670644\ttest: 0.8198211\tbest: 0.8198549 (1480)\ttotal: 24.6s\tremaining: 57.3s\n",
            "1600:\tlearn: 0.8687957\ttest: 0.8199770\tbest: 0.8199826 (1596)\ttotal: 26.5s\tremaining: 56.2s\n",
            "1700:\tlearn: 0.8704935\ttest: 0.8201427\tbest: 0.8201550 (1698)\ttotal: 28.1s\tremaining: 54.5s\n",
            "1800:\tlearn: 0.8721576\ttest: 0.8203077\tbest: 0.8203077 (1800)\ttotal: 30.3s\tremaining: 53.8s\n",
            "1900:\tlearn: 0.8737167\ttest: 0.8203793\tbest: 0.8204051 (1891)\ttotal: 32.7s\tremaining: 53.3s\n",
            "2000:\tlearn: 0.8752663\ttest: 0.8204628\tbest: 0.8204665 (1938)\ttotal: 34.3s\tremaining: 51.4s\n",
            "2100:\tlearn: 0.8768840\ttest: 0.8204475\tbest: 0.8204834 (2072)\ttotal: 35.9s\tremaining: 49.6s\n",
            "2200:\tlearn: 0.8784255\ttest: 0.8204668\tbest: 0.8205001 (2115)\ttotal: 38s\tremaining: 48.4s\n",
            "2300:\tlearn: 0.8799128\ttest: 0.8204415\tbest: 0.8205158 (2245)\ttotal: 39.6s\tremaining: 46.5s\n",
            "2400:\tlearn: 0.8813890\ttest: 0.8205082\tbest: 0.8205423 (2367)\ttotal: 41.2s\tremaining: 44.6s\n",
            "2500:\tlearn: 0.8828474\ttest: 0.8205306\tbest: 0.8205709 (2482)\ttotal: 42.9s\tremaining: 42.8s\n",
            "2600:\tlearn: 0.8842762\ttest: 0.8205165\tbest: 0.8205709 (2482)\ttotal: 44.5s\tremaining: 41.1s\n",
            "bestTest = 0.8205709457\n",
            "bestIteration = 2482\n",
            "Shrink model to first 2483 iterations.\n",
            "Fold 6 : 0.820570761079131\n",
            "0:\tlearn: 0.7992730\ttest: 0.7996264\tbest: 0.7996264 (0)\ttotal: 16.8ms\tremaining: 1m 23s\n",
            "100:\tlearn: 0.8304091\ttest: 0.8233627\tbest: 0.8234087 (98)\ttotal: 1.96s\tremaining: 1m 35s\n",
            "200:\tlearn: 0.8359125\ttest: 0.8290013\tbest: 0.8290013 (200)\ttotal: 3.64s\tremaining: 1m 26s\n",
            "300:\tlearn: 0.8398340\ttest: 0.8327746\tbest: 0.8327746 (300)\ttotal: 5.2s\tremaining: 1m 21s\n",
            "400:\tlearn: 0.8428347\ttest: 0.8350053\tbest: 0.8350053 (400)\ttotal: 6.78s\tremaining: 1m 17s\n",
            "500:\tlearn: 0.8454292\ttest: 0.8365044\tbest: 0.8365044 (500)\ttotal: 8.36s\tremaining: 1m 15s\n",
            "600:\tlearn: 0.8478215\ttest: 0.8377841\tbest: 0.8377841 (600)\ttotal: 9.93s\tremaining: 1m 12s\n",
            "700:\tlearn: 0.8499294\ttest: 0.8387013\tbest: 0.8387013 (700)\ttotal: 11.5s\tremaining: 1m 10s\n",
            "800:\tlearn: 0.8517954\ttest: 0.8392582\tbest: 0.8392582 (800)\ttotal: 13.6s\tremaining: 1m 11s\n",
            "900:\tlearn: 0.8536453\ttest: 0.8398189\tbest: 0.8398227 (899)\ttotal: 15.2s\tremaining: 1m 9s\n",
            "1000:\tlearn: 0.8553907\ttest: 0.8403639\tbest: 0.8403639 (1000)\ttotal: 17.1s\tremaining: 1m 8s\n",
            "1100:\tlearn: 0.8571429\ttest: 0.8408257\tbest: 0.8408282 (1099)\ttotal: 18.6s\tremaining: 1m 5s\n",
            "1200:\tlearn: 0.8588640\ttest: 0.8412668\tbest: 0.8412682 (1199)\ttotal: 20.2s\tremaining: 1m 3s\n",
            "1300:\tlearn: 0.8605403\ttest: 0.8415623\tbest: 0.8415632 (1299)\ttotal: 21.7s\tremaining: 1m 1s\n",
            "1400:\tlearn: 0.8622980\ttest: 0.8416820\tbest: 0.8417435 (1377)\ttotal: 23.5s\tremaining: 1m\n",
            "1500:\tlearn: 0.8641156\ttest: 0.8418614\tbest: 0.8418888 (1490)\ttotal: 25.3s\tremaining: 58.9s\n",
            "1600:\tlearn: 0.8659287\ttest: 0.8421310\tbest: 0.8421463 (1597)\ttotal: 26.8s\tremaining: 57s\n",
            "1700:\tlearn: 0.8677012\ttest: 0.8423506\tbest: 0.8423506 (1700)\ttotal: 28.4s\tremaining: 55.1s\n",
            "1800:\tlearn: 0.8693444\ttest: 0.8426104\tbest: 0.8426104 (1800)\ttotal: 30s\tremaining: 53.3s\n",
            "1900:\tlearn: 0.8709934\ttest: 0.8427273\tbest: 0.8427442 (1878)\ttotal: 31.6s\tremaining: 51.5s\n",
            "2000:\tlearn: 0.8725265\ttest: 0.8429101\tbest: 0.8429101 (2000)\ttotal: 33.2s\tremaining: 49.8s\n",
            "2100:\tlearn: 0.8741502\ttest: 0.8430731\tbest: 0.8430731 (2100)\ttotal: 35.3s\tremaining: 48.7s\n",
            "2200:\tlearn: 0.8756863\ttest: 0.8431672\tbest: 0.8431703 (2193)\ttotal: 36.9s\tremaining: 46.9s\n",
            "2300:\tlearn: 0.8771374\ttest: 0.8432865\tbest: 0.8432934 (2298)\ttotal: 38.5s\tremaining: 45.2s\n",
            "2400:\tlearn: 0.8786185\ttest: 0.8434991\tbest: 0.8435010 (2389)\ttotal: 40.1s\tremaining: 43.4s\n",
            "2500:\tlearn: 0.8800589\ttest: 0.8435073\tbest: 0.8435162 (2411)\ttotal: 42.1s\tremaining: 42.1s\n"
          ],
          "name": "stdout"
        },
        {
          "output_type": "stream",
          "text": [
            "2600:\tlearn: 0.8814799\ttest: 0.8435932\tbest: 0.8435996 (2569)\ttotal: 43.8s\tremaining: 40.4s\n",
            "2700:\tlearn: 0.8828673\ttest: 0.8435563\tbest: 0.8436093 (2628)\ttotal: 45.9s\tremaining: 39.1s\n",
            "2800:\tlearn: 0.8842677\ttest: 0.8435819\tbest: 0.8436093 (2628)\ttotal: 48.3s\tremaining: 37.9s\n",
            "bestTest = 0.8436092734\n",
            "bestIteration = 2628\n",
            "Shrink model to first 2629 iterations.\n",
            "Fold 7 : 0.8436092439408525\n",
            "0:\tlearn: 0.7974082\ttest: 0.8190478\tbest: 0.8190478 (0)\ttotal: 16.9ms\tremaining: 1m 24s\n",
            "100:\tlearn: 0.8292123\ttest: 0.8462776\tbest: 0.8462776 (100)\ttotal: 1.65s\tremaining: 1m 19s\n",
            "200:\tlearn: 0.8349121\ttest: 0.8495482\tbest: 0.8495482 (200)\ttotal: 3.28s\tremaining: 1m 18s\n",
            "300:\tlearn: 0.8387992\ttest: 0.8517312\tbest: 0.8517334 (298)\ttotal: 4.93s\tremaining: 1m 17s\n",
            "400:\tlearn: 0.8418957\ttest: 0.8529946\tbest: 0.8529946 (400)\ttotal: 6.61s\tremaining: 1m 15s\n",
            "500:\tlearn: 0.8445688\ttest: 0.8538873\tbest: 0.8538873 (500)\ttotal: 8.62s\tremaining: 1m 17s\n",
            "600:\tlearn: 0.8469189\ttest: 0.8545760\tbest: 0.8545882 (598)\ttotal: 10.2s\tremaining: 1m 14s\n",
            "700:\tlearn: 0.8491582\ttest: 0.8551004\tbest: 0.8551004 (700)\ttotal: 11.8s\tremaining: 1m 12s\n",
            "800:\tlearn: 0.8511785\ttest: 0.8556272\tbest: 0.8556272 (800)\ttotal: 13.4s\tremaining: 1m 10s\n",
            "900:\tlearn: 0.8530568\ttest: 0.8559579\tbest: 0.8559579 (900)\ttotal: 15s\tremaining: 1m 8s\n",
            "1000:\tlearn: 0.8548856\ttest: 0.8562658\tbest: 0.8562813 (998)\ttotal: 16.5s\tremaining: 1m 6s\n",
            "1100:\tlearn: 0.8566298\ttest: 0.8564088\tbest: 0.8564273 (1099)\ttotal: 18.6s\tremaining: 1m 5s\n",
            "1200:\tlearn: 0.8584338\ttest: 0.8565217\tbest: 0.8565437 (1188)\ttotal: 20.2s\tremaining: 1m 4s\n",
            "1300:\tlearn: 0.8600851\ttest: 0.8565300\tbest: 0.8566045 (1227)\ttotal: 21.8s\tremaining: 1m 2s\n",
            "1400:\tlearn: 0.8618329\ttest: 0.8566105\tbest: 0.8566259 (1394)\ttotal: 23.4s\tremaining: 1m\n",
            "1500:\tlearn: 0.8636785\ttest: 0.8566779\tbest: 0.8567062 (1490)\ttotal: 25s\tremaining: 58.2s\n",
            "1600:\tlearn: 0.8654509\ttest: 0.8567553\tbest: 0.8567553 (1600)\ttotal: 26.5s\tremaining: 56.3s\n",
            "1700:\tlearn: 0.8672821\ttest: 0.8567827\tbest: 0.8567899 (1640)\ttotal: 28.1s\tremaining: 54.5s\n",
            "1800:\tlearn: 0.8689363\ttest: 0.8567613\tbest: 0.8568065 (1715)\ttotal: 30.3s\tremaining: 53.8s\n",
            "1900:\tlearn: 0.8706108\ttest: 0.8568057\tbest: 0.8568214 (1894)\ttotal: 31.8s\tremaining: 51.9s\n",
            "2000:\tlearn: 0.8722286\ttest: 0.8567868\tbest: 0.8568236 (1926)\ttotal: 33.3s\tremaining: 50s\n",
            "2100:\tlearn: 0.8738656\ttest: 0.8567493\tbest: 0.8568236 (1926)\ttotal: 34.9s\tremaining: 48.1s\n",
            "bestTest = 0.8568235636\n",
            "bestIteration = 1926\n",
            "Shrink model to first 1927 iterations.\n",
            "Fold 8 : 0.8568232469362932\n",
            "0:\tlearn: 0.7987776\ttest: 0.7995463\tbest: 0.7995463 (0)\ttotal: 16.7ms\tremaining: 1m 23s\n",
            "100:\tlearn: 0.8301738\ttest: 0.8283583\tbest: 0.8283583 (100)\ttotal: 1.56s\tremaining: 1m 15s\n",
            "200:\tlearn: 0.8357788\ttest: 0.8333056\tbest: 0.8333056 (200)\ttotal: 3.14s\tremaining: 1m 14s\n",
            "300:\tlearn: 0.8396731\ttest: 0.8363933\tbest: 0.8363933 (300)\ttotal: 5.17s\tremaining: 1m 20s\n",
            "400:\tlearn: 0.8427292\ttest: 0.8381293\tbest: 0.8381293 (400)\ttotal: 6.74s\tremaining: 1m 17s\n",
            "500:\tlearn: 0.8452468\ttest: 0.8393797\tbest: 0.8393797 (500)\ttotal: 8.31s\tremaining: 1m 14s\n",
            "600:\tlearn: 0.8474521\ttest: 0.8404604\tbest: 0.8404768 (599)\ttotal: 9.85s\tremaining: 1m 12s\n",
            "700:\tlearn: 0.8496392\ttest: 0.8413957\tbest: 0.8413957 (700)\ttotal: 11.4s\tremaining: 1m 9s\n",
            "800:\tlearn: 0.8515905\ttest: 0.8421424\tbest: 0.8421539 (798)\ttotal: 13s\tremaining: 1m 7s\n",
            "900:\tlearn: 0.8533704\ttest: 0.8428212\tbest: 0.8428212 (900)\ttotal: 14.6s\tremaining: 1m 6s\n",
            "1000:\tlearn: 0.8551925\ttest: 0.8434158\tbest: 0.8434158 (1000)\ttotal: 17.1s\tremaining: 1m 8s\n",
            "1100:\tlearn: 0.8568616\ttest: 0.8437933\tbest: 0.8437933 (1100)\ttotal: 18.7s\tremaining: 1m 6s\n",
            "1200:\tlearn: 0.8584471\ttest: 0.8441447\tbest: 0.8441447 (1200)\ttotal: 20.3s\tremaining: 1m 4s\n",
            "1300:\tlearn: 0.8601118\ttest: 0.8444781\tbest: 0.8444865 (1297)\ttotal: 22.3s\tremaining: 1m 3s\n",
            "1400:\tlearn: 0.8617607\ttest: 0.8448765\tbest: 0.8448765 (1400)\ttotal: 24s\tremaining: 1m 1s\n",
            "1500:\tlearn: 0.8635624\ttest: 0.8452618\tbest: 0.8452657 (1499)\ttotal: 26.1s\tremaining: 1m\n",
            "1600:\tlearn: 0.8652172\ttest: 0.8453681\tbest: 0.8453730 (1598)\ttotal: 28s\tremaining: 59.5s\n",
            "1700:\tlearn: 0.8668398\ttest: 0.8455272\tbest: 0.8455326 (1694)\ttotal: 29.7s\tremaining: 57.5s\n",
            "1800:\tlearn: 0.8684953\ttest: 0.8458613\tbest: 0.8458613 (1800)\ttotal: 31.3s\tremaining: 55.5s\n",
            "1900:\tlearn: 0.8701211\ttest: 0.8459928\tbest: 0.8460020 (1887)\ttotal: 32.9s\tremaining: 53.6s\n",
            "2000:\tlearn: 0.8717314\ttest: 0.8462025\tbest: 0.8462044 (1999)\ttotal: 34.4s\tremaining: 51.6s\n",
            "2100:\tlearn: 0.8733195\ttest: 0.8463961\tbest: 0.8464266 (2080)\ttotal: 36s\tremaining: 49.7s\n",
            "2200:\tlearn: 0.8748750\ttest: 0.8466469\tbest: 0.8466513 (2198)\ttotal: 38s\tremaining: 48.3s\n",
            "2300:\tlearn: 0.8764329\ttest: 0.8468016\tbest: 0.8468150 (2287)\ttotal: 39.5s\tremaining: 46.4s\n",
            "2400:\tlearn: 0.8779252\ttest: 0.8468778\tbest: 0.8468784 (2397)\ttotal: 41.2s\tremaining: 44.6s\n",
            "2500:\tlearn: 0.8793578\ttest: 0.8470153\tbest: 0.8470153 (2500)\ttotal: 42.8s\tremaining: 42.7s\n",
            "2600:\tlearn: 0.8808389\ttest: 0.8470343\tbest: 0.8470408 (2596)\ttotal: 44.4s\tremaining: 40.9s\n",
            "2700:\tlearn: 0.8822509\ttest: 0.8471512\tbest: 0.8471680 (2653)\ttotal: 46s\tremaining: 39.1s\n",
            "2800:\tlearn: 0.8835826\ttest: 0.8472930\tbest: 0.8472972 (2798)\ttotal: 48.1s\tremaining: 37.7s\n",
            "2900:\tlearn: 0.8849350\ttest: 0.8473904\tbest: 0.8474116 (2888)\ttotal: 49.8s\tremaining: 36.1s\n",
            "3000:\tlearn: 0.8863203\ttest: 0.8474506\tbest: 0.8474625 (2956)\ttotal: 51.5s\tremaining: 34.3s\n",
            "3100:\tlearn: 0.8877271\ttest: 0.8474377\tbest: 0.8474792 (3050)\ttotal: 53.1s\tremaining: 32.5s\n",
            "3200:\tlearn: 0.8890584\ttest: 0.8474194\tbest: 0.8474792 (3050)\ttotal: 54.7s\tremaining: 30.7s\n",
            "bestTest = 0.8474792242\n",
            "bestIteration = 3050\n",
            "Shrink model to first 3051 iterations.\n",
            "Fold 9 : 0.8474793891066361\n",
            "\n",
            "\n",
            "Avg log :  0.8416283637107365\n"
          ],
          "name": "stdout"
        }
      ]
    },
    {
      "cell_type": "code",
      "metadata": {
        "scrolled": true,
        "id": "rEp1xVpysjKw",
        "trusted": true,
        "outputId": "54cb662a-a5c2-4f25-dbaa-dfd81a4326d7"
      },
      "source": [
        "f\"{n_skf} fold CV, score: {score}\" #Increase in local cv score should probably lead to increase in Leaderboard score"
      ],
      "execution_count": null,
      "outputs": [
        {
          "output_type": "execute_result",
          "data": {
            "text/plain": [
              "'10 fold CV, score: 0.8416283637107365'"
            ]
          },
          "metadata": {
            "tags": []
          },
          "execution_count": 51
        }
      ]
    },
    {
      "cell_type": "markdown",
      "metadata": {
        "id": "54msL5CGF1P5"
      },
      "source": [
        "'10 fold CV, score: 0.8416283637107365', LR-0.008, n_estimator = 5000, seed = 42, depth = 7, submit5.csv"
      ]
    },
    {
      "cell_type": "markdown",
      "metadata": {
        "id": "j3tgrfEoF1P6"
      },
      "source": [
        "'10 fold CV, score: 0.8404761359972677', LR-0.008, n_estimator = 5000, seed = 42, depth = 10, submit4.csv"
      ]
    },
    {
      "cell_type": "markdown",
      "metadata": {
        "id": "WZJMWmPhF1P8"
      },
      "source": [
        "'10 fold CV, score: 0.8416127641119365', LR-0.008, n_estimator = 5000, seed = 2020"
      ]
    },
    {
      "cell_type": "markdown",
      "metadata": {
        "id": "2FxLWs0LF1P9"
      },
      "source": [
        "'10 fold CV, score: 0.8415039416559706', LR-0.008, n_estimator = 5000, seed = 42"
      ]
    },
    {
      "cell_type": "markdown",
      "metadata": {
        "id": "rnU3HLczsjLA"
      },
      "source": [
        "### Since we are using cross validation, We'll have `n` different predictions (where n is the number of fold)"
      ]
    },
    {
      "cell_type": "code",
      "metadata": {
        "id": "VO7c0-a6sjLD",
        "trusted": true
      },
      "source": [
        "oof_prediction = pd.DataFrame(test_oofs).T"
      ],
      "execution_count": null,
      "outputs": []
    },
    {
      "cell_type": "code",
      "metadata": {
        "id": "vKYZMsjWsjLU",
        "trusted": true
      },
      "source": [
        "oof_prediction.columns = ['fold_'+ str(i) for i in range(1, n_skf + 1)]"
      ],
      "execution_count": null,
      "outputs": []
    },
    {
      "cell_type": "code",
      "metadata": {
        "id": "w6aN3-LPsjLk",
        "trusted": true,
        "outputId": "80f1e14c-c9ed-4d49-cc52-7d4c3b3a47cb"
      },
      "source": [
        "oof_prediction.head()"
      ],
      "execution_count": null,
      "outputs": [
        {
          "output_type": "execute_result",
          "data": {
            "text/plain": [
              "     fold_1    fold_2    fold_3    fold_4    fold_5    fold_6    fold_7  \\\n",
              "0  0.303809  0.325865  0.317122  0.295998  0.326069  0.335429  0.313768   \n",
              "1  0.355574  0.381696  0.321014  0.378279  0.401322  0.367036  0.387918   \n",
              "2  0.368070  0.363516  0.399437  0.415677  0.396283  0.401986  0.395054   \n",
              "3  0.734844  0.753176  0.776929  0.770310  0.753804  0.757743  0.763865   \n",
              "4  0.156001  0.183129  0.181449  0.157846  0.171436  0.176964  0.171920   \n",
              "\n",
              "     fold_8    fold_9   fold_10  \n",
              "0  0.315341  0.293900  0.319507  \n",
              "1  0.350336  0.398904  0.364839  \n",
              "2  0.384818  0.350068  0.370680  \n",
              "3  0.745151  0.764903  0.753553  \n",
              "4  0.161259  0.184253  0.168552  "
            ],
            "text/html": [
              "<div>\n",
              "<style scoped>\n",
              "    .dataframe tbody tr th:only-of-type {\n",
              "        vertical-align: middle;\n",
              "    }\n",
              "\n",
              "    .dataframe tbody tr th {\n",
              "        vertical-align: top;\n",
              "    }\n",
              "\n",
              "    .dataframe thead th {\n",
              "        text-align: right;\n",
              "    }\n",
              "</style>\n",
              "<table border=\"1\" class=\"dataframe\">\n",
              "  <thead>\n",
              "    <tr style=\"text-align: right;\">\n",
              "      <th></th>\n",
              "      <th>fold_1</th>\n",
              "      <th>fold_2</th>\n",
              "      <th>fold_3</th>\n",
              "      <th>fold_4</th>\n",
              "      <th>fold_5</th>\n",
              "      <th>fold_6</th>\n",
              "      <th>fold_7</th>\n",
              "      <th>fold_8</th>\n",
              "      <th>fold_9</th>\n",
              "      <th>fold_10</th>\n",
              "    </tr>\n",
              "  </thead>\n",
              "  <tbody>\n",
              "    <tr>\n",
              "      <th>0</th>\n",
              "      <td>0.303809</td>\n",
              "      <td>0.325865</td>\n",
              "      <td>0.317122</td>\n",
              "      <td>0.295998</td>\n",
              "      <td>0.326069</td>\n",
              "      <td>0.335429</td>\n",
              "      <td>0.313768</td>\n",
              "      <td>0.315341</td>\n",
              "      <td>0.293900</td>\n",
              "      <td>0.319507</td>\n",
              "    </tr>\n",
              "    <tr>\n",
              "      <th>1</th>\n",
              "      <td>0.355574</td>\n",
              "      <td>0.381696</td>\n",
              "      <td>0.321014</td>\n",
              "      <td>0.378279</td>\n",
              "      <td>0.401322</td>\n",
              "      <td>0.367036</td>\n",
              "      <td>0.387918</td>\n",
              "      <td>0.350336</td>\n",
              "      <td>0.398904</td>\n",
              "      <td>0.364839</td>\n",
              "    </tr>\n",
              "    <tr>\n",
              "      <th>2</th>\n",
              "      <td>0.368070</td>\n",
              "      <td>0.363516</td>\n",
              "      <td>0.399437</td>\n",
              "      <td>0.415677</td>\n",
              "      <td>0.396283</td>\n",
              "      <td>0.401986</td>\n",
              "      <td>0.395054</td>\n",
              "      <td>0.384818</td>\n",
              "      <td>0.350068</td>\n",
              "      <td>0.370680</td>\n",
              "    </tr>\n",
              "    <tr>\n",
              "      <th>3</th>\n",
              "      <td>0.734844</td>\n",
              "      <td>0.753176</td>\n",
              "      <td>0.776929</td>\n",
              "      <td>0.770310</td>\n",
              "      <td>0.753804</td>\n",
              "      <td>0.757743</td>\n",
              "      <td>0.763865</td>\n",
              "      <td>0.745151</td>\n",
              "      <td>0.764903</td>\n",
              "      <td>0.753553</td>\n",
              "    </tr>\n",
              "    <tr>\n",
              "      <th>4</th>\n",
              "      <td>0.156001</td>\n",
              "      <td>0.183129</td>\n",
              "      <td>0.181449</td>\n",
              "      <td>0.157846</td>\n",
              "      <td>0.171436</td>\n",
              "      <td>0.176964</td>\n",
              "      <td>0.171920</td>\n",
              "      <td>0.161259</td>\n",
              "      <td>0.184253</td>\n",
              "      <td>0.168552</td>\n",
              "    </tr>\n",
              "  </tbody>\n",
              "</table>\n",
              "</div>"
            ]
          },
          "metadata": {
            "tags": []
          },
          "execution_count": 54
        }
      ]
    },
    {
      "cell_type": "code",
      "metadata": {
        "id": "LUBJMAt5sjLz",
        "trusted": true
      },
      "source": [
        "#sub = pd.read_csv('/content/drive/My Drive/DSN AI Bootcamp Qualification Hackathon/SampleSubmission.csv')"
      ],
      "execution_count": null,
      "outputs": []
    },
    {
      "cell_type": "code",
      "metadata": {
        "id": "cAb7F5E-sjMB",
        "trusted": true
      },
      "source": [
        "### We take the mean of all 5 predictions to generate submission"
      ],
      "execution_count": null,
      "outputs": []
    },
    {
      "cell_type": "code",
      "metadata": {
        "id": "bkDFca5-sjMR",
        "trusted": true
      },
      "source": [
        "sub['default_status'] = np.mean(test_oofs, axis = 0)"
      ],
      "execution_count": null,
      "outputs": []
    },
    {
      "cell_type": "code",
      "metadata": {
        "id": "m5ib6M4isjMk",
        "trusted": true
      },
      "source": [
        "sub.to_csv('submit5.csv', index = False)"
      ],
      "execution_count": null,
      "outputs": []
    },
    {
      "cell_type": "markdown",
      "metadata": {
        "id": "u0VGKog9sjMz"
      },
      "source": [
        "### Suggestions:\n",
        "- Base your feature selection on the local cv score i.e When you add, remove or engineer feature check `score` (cell 17)\n",
        "- Increase number of fold to 10, 15. See how score imporve on leaderboard.\n",
        "- Try differnt value of learning rate. I'll advice anything < 0.01\n",
        "- Create as many features as possible.\n",
        "- Find code for Xgboost and lgbm using this method of modelling, or better still tweak this one (mind you, names of parameters may be slightly different."
      ]
    },
    {
      "cell_type": "code",
      "metadata": {
        "id": "7d8UrxzosjM1",
        "trusted": false
      },
      "source": [
        ""
      ],
      "execution_count": null,
      "outputs": []
    }
  ]
}