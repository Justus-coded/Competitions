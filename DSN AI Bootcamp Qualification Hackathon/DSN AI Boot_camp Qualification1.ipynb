{
  "nbformat": 4,
  "nbformat_minor": 0,
  "metadata": {
    "kernelspec": {
      "display_name": "Python 3",
      "language": "python",
      "name": "python3"
    },
    "language_info": {
      "codemirror_mode": {
        "name": "ipython",
        "version": 3
      },
      "file_extension": ".py",
      "mimetype": "text/x-python",
      "name": "python",
      "nbconvert_exporter": "python",
      "pygments_lexer": "ipython3",
      "version": "3.7.6"
    },
    "colab": {
      "name": "DSN AI Boot camp Qualification1.ipynb",
      "provenance": [],
      "toc_visible": true,
      "include_colab_link": true
    },
    "accelerator": "GPU"
  },
  "cells": [
    {
      "cell_type": "markdown",
      "metadata": {
        "id": "view-in-github",
        "colab_type": "text"
      },
      "source": [
        "<a href=\"https://colab.research.google.com/github/Justus-coded/Competitions/blob/master/DSN%20AI%20Bootcamp%20Qualification%20Hackathon/DSN%20AI%20Boot_camp%20Qualification1.ipynb\" target=\"_parent\"><img src=\"https://colab.research.google.com/assets/colab-badge.svg\" alt=\"Open In Colab\"/></a>"
      ]
    },
    {
      "cell_type": "code",
      "metadata": {
        "id": "lTYsttC3sjHh",
        "colab_type": "code",
        "colab": {
          "base_uri": "https://localhost:8080/",
          "height": 72
        },
        "outputId": "f41f035f-57c3-43ad-8d32-1cdba96af942"
      },
      "source": [
        "import pandas as pd\n",
        "import numpy as np\n",
        "import seaborn as sns\n",
        "import matplotlib.pyplot as plt\n",
        " \n",
        "%matplotlib inline\n",
        " \n",
        "import warnings\n",
        "warnings.filterwarnings('ignore')"
      ],
      "execution_count": 1,
      "outputs": [
        {
          "output_type": "stream",
          "text": [
            "/usr/local/lib/python3.6/dist-packages/statsmodels/tools/_testing.py:19: FutureWarning: pandas.util.testing is deprecated. Use the functions in the public API at pandas.testing instead.\n",
            "  import pandas.util.testing as tm\n"
          ],
          "name": "stderr"
        }
      ]
    },
    {
      "cell_type": "code",
      "metadata": {
        "id": "lJdWtcbpgDWK",
        "colab_type": "code",
        "colab": {
          "base_uri": "https://localhost:8080/",
          "height": 34
        },
        "outputId": "39ce7ae7-ce17-43b9-d254-dcdb851edb59"
      },
      "source": [
        "from google.colab import drive\n",
        "drive.mount('/content/drive')"
      ],
      "execution_count": 3,
      "outputs": [
        {
          "output_type": "stream",
          "text": [
            "Mounted at /content/drive\n"
          ],
          "name": "stdout"
        }
      ]
    },
    {
      "cell_type": "code",
      "metadata": {
        "id": "ygKIugwesjH5",
        "colab_type": "code",
        "colab": {}
      },
      "source": [
        "train = pd.read_csv('/content/drive/My Drive/DSN AI Bootcamp Qualification Hackathon/Train.csv')\n",
        "test  = pd.read_csv('/content/drive/My Drive/DSN AI Bootcamp Qualification Hackathon/Test.csv')"
      ],
      "execution_count": 4,
      "outputs": []
    },
    {
      "cell_type": "code",
      "metadata": {
        "id": "ixvLHcBnsjIL",
        "colab_type": "code",
        "colab": {}
      },
      "source": [
        "dict_ = {'charge': 1,\n",
        "         'lending': 0}\n",
        " \n",
        "target_map = {\n",
        "    'yes': 1,\n",
        "    'no': 0}\n",
        " \n",
        "train.default_status.replace(target_map, inplace = True)\n",
        " \n",
        "train['form_field47'].replace(dict_, inplace = True)\n",
        "test['form_field47'].replace(dict_, inplace = True)"
      ],
      "execution_count": 5,
      "outputs": []
    },
    {
      "cell_type": "code",
      "metadata": {
        "id": "6ZJIgEJkhkqM",
        "colab_type": "code",
        "colab": {
          "base_uri": "https://localhost:8080/",
          "height": 336
        },
        "outputId": "1b64a4b2-a14e-4e9d-ac9a-021f1cb46b8a"
      },
      "source": [
        "pip install catboost"
      ],
      "execution_count": 7,
      "outputs": [
        {
          "output_type": "stream",
          "text": [
            "Collecting catboost\n",
            "\u001b[?25l  Downloading https://files.pythonhosted.org/packages/90/86/c3dcb600b4f9e7584ed90ea9d30a717fb5c0111574675f442c3e7bc19535/catboost-0.24.1-cp36-none-manylinux1_x86_64.whl (66.1MB)\n",
            "\u001b[K     |████████████████████████████████| 66.1MB 118kB/s \n",
            "\u001b[?25hRequirement already satisfied: scipy in /usr/local/lib/python3.6/dist-packages (from catboost) (1.4.1)\n",
            "Requirement already satisfied: plotly in /usr/local/lib/python3.6/dist-packages (from catboost) (4.4.1)\n",
            "Requirement already satisfied: six in /usr/local/lib/python3.6/dist-packages (from catboost) (1.15.0)\n",
            "Requirement already satisfied: matplotlib in /usr/local/lib/python3.6/dist-packages (from catboost) (3.2.2)\n",
            "Requirement already satisfied: pandas>=0.24.0 in /usr/local/lib/python3.6/dist-packages (from catboost) (1.0.5)\n",
            "Requirement already satisfied: numpy>=1.16.0 in /usr/local/lib/python3.6/dist-packages (from catboost) (1.18.5)\n",
            "Requirement already satisfied: graphviz in /usr/local/lib/python3.6/dist-packages (from catboost) (0.10.1)\n",
            "Requirement already satisfied: retrying>=1.3.3 in /usr/local/lib/python3.6/dist-packages (from plotly->catboost) (1.3.3)\n",
            "Requirement already satisfied: kiwisolver>=1.0.1 in /usr/local/lib/python3.6/dist-packages (from matplotlib->catboost) (1.2.0)\n",
            "Requirement already satisfied: pyparsing!=2.0.4,!=2.1.2,!=2.1.6,>=2.0.1 in /usr/local/lib/python3.6/dist-packages (from matplotlib->catboost) (2.4.7)\n",
            "Requirement already satisfied: python-dateutil>=2.1 in /usr/local/lib/python3.6/dist-packages (from matplotlib->catboost) (2.8.1)\n",
            "Requirement already satisfied: cycler>=0.10 in /usr/local/lib/python3.6/dist-packages (from matplotlib->catboost) (0.10.0)\n",
            "Requirement already satisfied: pytz>=2017.2 in /usr/local/lib/python3.6/dist-packages (from pandas>=0.24.0->catboost) (2018.9)\n",
            "Installing collected packages: catboost\n",
            "Successfully installed catboost-0.24.1\n"
          ],
          "name": "stdout"
        }
      ]
    },
    {
      "cell_type": "code",
      "metadata": {
        "id": "nA1fJeNFsjIc",
        "colab_type": "code",
        "colab": {}
      },
      "source": [
        "from sklearn.metrics import roc_auc_score\n",
        "from catboost import CatBoostClassifier"
      ],
      "execution_count": 8,
      "outputs": []
    },
    {
      "cell_type": "code",
      "metadata": {
        "id": "kw9u6xuNsjIt",
        "colab_type": "code",
        "colab": {}
      },
      "source": [
        "features = train.select_dtypes(exclude = object).columns.drop(['default_status'])"
      ],
      "execution_count": 9,
      "outputs": []
    },
    {
      "cell_type": "code",
      "metadata": {
        "id": "WUnZZc7-sjI9",
        "colab_type": "code",
        "colab": {}
      },
      "source": [
        "# features"
      ],
      "execution_count": 10,
      "outputs": []
    },
    {
      "cell_type": "code",
      "metadata": {
        "id": "hPhK0BEosjJM",
        "colab_type": "code",
        "colab": {}
      },
      "source": [
        "for col in features:\n",
        "    train[col].fillna(-999, inplace = True)\n",
        "    test[col].fillna(-999, inplace = True)"
      ],
      "execution_count": 11,
      "outputs": []
    },
    {
      "cell_type": "code",
      "metadata": {
        "id": "qsaVd8sGsjJi",
        "colab_type": "code",
        "colab": {}
      },
      "source": [
        "X = train[features]\n",
        "y = train['default_status']"
      ],
      "execution_count": 12,
      "outputs": []
    },
    {
      "cell_type": "code",
      "metadata": {
        "id": "2vzw4M_-sjJw",
        "colab_type": "code",
        "colab": {}
      },
      "source": [
        "from sklearn.model_selection import StratifiedKFold"
      ],
      "execution_count": 13,
      "outputs": []
    },
    {
      "cell_type": "code",
      "metadata": {
        "id": "Pqumr-QosjJ-",
        "colab_type": "code",
        "colab": {}
      },
      "source": [
        "def metric(y, pred):\n",
        "    return roc_auc_score(y, pred, labels=[0, 1])"
      ],
      "execution_count": 14,
      "outputs": []
    },
    {
      "cell_type": "code",
      "metadata": {
        "id": "mSzq68IusjKM",
        "colab_type": "code",
        "colab": {}
      },
      "source": [
        "# Specify number of folds\n",
        "n_skf = 5\n",
        "kf = StratifiedKFold(n_skf)\n",
        " \n",
        " \n",
        "seed = 2020\n",
        " \n",
        "## Manually tweak the hyperparameter, learning rate and n_estimators especially\n",
        "params = {\n",
        "    'n_estimators': 4000,\n",
        "    'learning_rate': 0.005,\n",
        "    'objective': 'CrossEntropy',\n",
        "      'eval_metric':'AUC',\n",
        "    'random_seed': seed,\n",
        "    'early_stopping_rounds': 200,\n",
        "    'use_best_model': True,\n",
        "}"
      ],
      "execution_count": 15,
      "outputs": []
    },
    {
      "cell_type": "code",
      "metadata": {
        "scrolled": true,
        "id": "CVC4mh-nsjKa",
        "colab_type": "code",
        "colab": {
          "base_uri": "https://localhost:8080/",
          "height": 1000
        },
        "outputId": "acdeb8b1-c32d-4cf9-f1b3-2018d214a55f"
      },
      "source": [
        "score_list = []\n",
        "score = 0\n",
        "test_oofs = []\n",
        " \n",
        "for i, (tr_idx, vr_idx) in enumerate(kf.split(X, y)):\n",
        "    \n",
        "    xtrain, ytrain = X.loc[tr_idx, features], y.loc[tr_idx]\n",
        "    xval, yval = X.loc[vr_idx, features], y.loc[vr_idx]\n",
        " \n",
        "    model = CatBoostClassifier(**params, task_type='GPU')\n",
        "    model.fit(xtrain, ytrain, eval_set=[(xval,yval)], verbose=100)\n",
        "    \n",
        "    p = model.predict_proba(xval)[:, 1]\n",
        "    sc = metric(yval, p)\n",
        "    score_list.append(sc)\n",
        "    score += sc/n_skf\n",
        "    \n",
        "    pred = model.predict_proba(test[features])[:, 1]\n",
        "    test_oofs.append(pred)\n",
        " \n",
        "    print('Fold {} : {}'.format(i, sc))\n",
        " \n",
        "print()\n",
        "print()\n",
        "print('Avg log : ', score)"
      ],
      "execution_count": 16,
      "outputs": [
        {
          "output_type": "stream",
          "text": [
            "0:\tlearn: 0.7882729\ttest: 0.7847513\tbest: 0.7847513 (0)\ttotal: 97.3ms\tremaining: 6m 29s\n",
            "100:\tlearn: 0.8244553\ttest: 0.8209373\tbest: 0.8209609 (99)\ttotal: 5.13s\tremaining: 3m 18s\n",
            "200:\tlearn: 0.8290535\ttest: 0.8245735\tbest: 0.8245735 (200)\ttotal: 10.1s\tremaining: 3m 11s\n",
            "300:\tlearn: 0.8323058\ttest: 0.8273006\tbest: 0.8273006 (300)\ttotal: 15s\tremaining: 3m 3s\n",
            "400:\tlearn: 0.8348172\ttest: 0.8292417\tbest: 0.8292417 (400)\ttotal: 19.8s\tremaining: 2m 58s\n",
            "500:\tlearn: 0.8367054\ttest: 0.8305719\tbest: 0.8305719 (500)\ttotal: 24.7s\tremaining: 2m 52s\n",
            "600:\tlearn: 0.8381771\ttest: 0.8314818\tbest: 0.8314818 (600)\ttotal: 29.6s\tremaining: 2m 47s\n",
            "700:\tlearn: 0.8394447\ttest: 0.8322657\tbest: 0.8322657 (700)\ttotal: 34.4s\tremaining: 2m 41s\n",
            "800:\tlearn: 0.8405741\ttest: 0.8328995\tbest: 0.8328999 (793)\ttotal: 39.3s\tremaining: 2m 36s\n",
            "900:\tlearn: 0.8414508\ttest: 0.8333935\tbest: 0.8333935 (900)\ttotal: 44.1s\tremaining: 2m 31s\n",
            "1000:\tlearn: 0.8422777\ttest: 0.8338075\tbest: 0.8338075 (1000)\ttotal: 49s\tremaining: 2m 26s\n",
            "1100:\tlearn: 0.8430532\ttest: 0.8341875\tbest: 0.8341875 (1100)\ttotal: 53.8s\tremaining: 2m 21s\n",
            "1200:\tlearn: 0.8437090\ttest: 0.8344273\tbest: 0.8344282 (1199)\ttotal: 58.6s\tremaining: 2m 16s\n",
            "1300:\tlearn: 0.8444486\ttest: 0.8347527\tbest: 0.8347545 (1297)\ttotal: 1m 3s\tremaining: 2m 11s\n",
            "1400:\tlearn: 0.8451163\ttest: 0.8350759\tbest: 0.8350759 (1400)\ttotal: 1m 8s\tremaining: 2m 6s\n",
            "1500:\tlearn: 0.8457105\ttest: 0.8353097\tbest: 0.8353097 (1500)\ttotal: 1m 12s\tremaining: 2m 1s\n",
            "1600:\tlearn: 0.8462634\ttest: 0.8355399\tbest: 0.8355399 (1600)\ttotal: 1m 17s\tremaining: 1m 56s\n",
            "1700:\tlearn: 0.8467606\ttest: 0.8356718\tbest: 0.8356718 (1700)\ttotal: 1m 22s\tremaining: 1m 51s\n",
            "1800:\tlearn: 0.8473237\ttest: 0.8358025\tbest: 0.8358040 (1791)\ttotal: 1m 27s\tremaining: 1m 46s\n",
            "1900:\tlearn: 0.8478432\ttest: 0.8359529\tbest: 0.8359529 (1900)\ttotal: 1m 31s\tremaining: 1m 41s\n",
            "2000:\tlearn: 0.8483555\ttest: 0.8360998\tbest: 0.8360998 (2000)\ttotal: 1m 36s\tremaining: 1m 36s\n",
            "2100:\tlearn: 0.8488677\ttest: 0.8362289\tbest: 0.8362289 (2100)\ttotal: 1m 41s\tremaining: 1m 31s\n",
            "2200:\tlearn: 0.8493491\ttest: 0.8363866\tbest: 0.8363866 (2200)\ttotal: 1m 46s\tremaining: 1m 26s\n",
            "2300:\tlearn: 0.8498609\ttest: 0.8364791\tbest: 0.8364796 (2297)\ttotal: 1m 51s\tremaining: 1m 21s\n",
            "2400:\tlearn: 0.8503556\ttest: 0.8365510\tbest: 0.8365624 (2394)\ttotal: 1m 55s\tremaining: 1m 17s\n",
            "2500:\tlearn: 0.8508203\ttest: 0.8366321\tbest: 0.8366321 (2500)\ttotal: 2m\tremaining: 1m 12s\n",
            "2600:\tlearn: 0.8513463\ttest: 0.8367302\tbest: 0.8367302 (2600)\ttotal: 2m 5s\tremaining: 1m 7s\n",
            "2700:\tlearn: 0.8518701\ttest: 0.8368424\tbest: 0.8368424 (2700)\ttotal: 2m 10s\tremaining: 1m 2s\n",
            "2800:\tlearn: 0.8523932\ttest: 0.8369152\tbest: 0.8369205 (2794)\ttotal: 2m 15s\tremaining: 57.8s\n",
            "2900:\tlearn: 0.8528612\ttest: 0.8369586\tbest: 0.8369611 (2895)\ttotal: 2m 19s\tremaining: 53s\n",
            "3000:\tlearn: 0.8533033\ttest: 0.8370086\tbest: 0.8370131 (2997)\ttotal: 2m 24s\tremaining: 48.2s\n",
            "3100:\tlearn: 0.8537691\ttest: 0.8370563\tbest: 0.8370596 (3097)\ttotal: 2m 29s\tremaining: 43.3s\n",
            "3200:\tlearn: 0.8541834\ttest: 0.8371072\tbest: 0.8371087 (3198)\ttotal: 2m 34s\tremaining: 38.5s\n",
            "3300:\tlearn: 0.8545992\ttest: 0.8371732\tbest: 0.8371732 (3300)\ttotal: 2m 39s\tremaining: 33.7s\n",
            "3400:\tlearn: 0.8550052\ttest: 0.8372040\tbest: 0.8372040 (3400)\ttotal: 2m 44s\tremaining: 28.9s\n",
            "3500:\tlearn: 0.8554161\ttest: 0.8372420\tbest: 0.8372497 (3496)\ttotal: 2m 48s\tremaining: 24.1s\n",
            "3600:\tlearn: 0.8558617\ttest: 0.8372747\tbest: 0.8372778 (3566)\ttotal: 2m 53s\tremaining: 19.3s\n",
            "3700:\tlearn: 0.8562598\ttest: 0.8373063\tbest: 0.8373080 (3699)\ttotal: 2m 58s\tremaining: 14.4s\n",
            "3800:\tlearn: 0.8566854\ttest: 0.8373420\tbest: 0.8373473 (3772)\ttotal: 3m 3s\tremaining: 9.61s\n",
            "3900:\tlearn: 0.8570525\ttest: 0.8373519\tbest: 0.8373610 (3848)\ttotal: 3m 8s\tremaining: 4.78s\n",
            "3999:\tlearn: 0.8574078\ttest: 0.8373858\tbest: 0.8373858 (3999)\ttotal: 3m 13s\tremaining: 0us\n",
            "bestTest = 0.8373857737\n",
            "bestIteration = 3999\n",
            "Fold 0 : 0.8373858947438029\n",
            "0:\tlearn: 0.7789893\ttest: 0.7642141\tbest: 0.7642141 (0)\ttotal: 52.3ms\tremaining: 3m 28s\n",
            "100:\tlearn: 0.8250294\ttest: 0.8165223\tbest: 0.8165223 (100)\ttotal: 5.06s\tremaining: 3m 15s\n",
            "200:\tlearn: 0.8295953\ttest: 0.8212940\tbest: 0.8212940 (200)\ttotal: 10s\tremaining: 3m 9s\n",
            "300:\tlearn: 0.8326892\ttest: 0.8243974\tbest: 0.8243974 (300)\ttotal: 15s\tremaining: 3m 3s\n",
            "400:\tlearn: 0.8352036\ttest: 0.8267675\tbest: 0.8267675 (400)\ttotal: 19.9s\tremaining: 2m 58s\n",
            "500:\tlearn: 0.8371626\ttest: 0.8285216\tbest: 0.8285216 (500)\ttotal: 24.8s\tremaining: 2m 53s\n",
            "600:\tlearn: 0.8385724\ttest: 0.8297093\tbest: 0.8297093 (600)\ttotal: 29.7s\tremaining: 2m 48s\n",
            "700:\tlearn: 0.8399141\ttest: 0.8307334\tbest: 0.8307334 (700)\ttotal: 34.7s\tremaining: 2m 43s\n",
            "800:\tlearn: 0.8409997\ttest: 0.8314911\tbest: 0.8314911 (800)\ttotal: 39.5s\tremaining: 2m 37s\n",
            "900:\tlearn: 0.8418296\ttest: 0.8320206\tbest: 0.8320253 (899)\ttotal: 44.3s\tremaining: 2m 32s\n",
            "1000:\tlearn: 0.8427128\ttest: 0.8325591\tbest: 0.8325591 (1000)\ttotal: 49.2s\tremaining: 2m 27s\n",
            "1100:\tlearn: 0.8435153\ttest: 0.8329995\tbest: 0.8329995 (1100)\ttotal: 54s\tremaining: 2m 22s\n",
            "1200:\tlearn: 0.8442032\ttest: 0.8333692\tbest: 0.8333693 (1196)\ttotal: 58.8s\tremaining: 2m 17s\n",
            "1300:\tlearn: 0.8448859\ttest: 0.8336940\tbest: 0.8336940 (1300)\ttotal: 1m 3s\tremaining: 2m 12s\n",
            "1400:\tlearn: 0.8455601\ttest: 0.8339767\tbest: 0.8339767 (1400)\ttotal: 1m 8s\tremaining: 2m 7s\n",
            "1500:\tlearn: 0.8462199\ttest: 0.8342889\tbest: 0.8342889 (1500)\ttotal: 1m 13s\tremaining: 2m 2s\n",
            "1600:\tlearn: 0.8468367\ttest: 0.8345185\tbest: 0.8345185 (1600)\ttotal: 1m 18s\tremaining: 1m 57s\n",
            "1700:\tlearn: 0.8474115\ttest: 0.8346980\tbest: 0.8347001 (1699)\ttotal: 1m 23s\tremaining: 1m 52s\n",
            "1800:\tlearn: 0.8479650\ttest: 0.8349252\tbest: 0.8349252 (1800)\ttotal: 1m 28s\tremaining: 1m 47s\n",
            "1900:\tlearn: 0.8485546\ttest: 0.8351243\tbest: 0.8351254 (1899)\ttotal: 1m 32s\tremaining: 1m 42s\n",
            "2000:\tlearn: 0.8491152\ttest: 0.8353309\tbest: 0.8353310 (1999)\ttotal: 1m 37s\tremaining: 1m 37s\n",
            "2100:\tlearn: 0.8495988\ttest: 0.8354488\tbest: 0.8354488 (2100)\ttotal: 1m 42s\tremaining: 1m 32s\n",
            "2200:\tlearn: 0.8501322\ttest: 0.8356114\tbest: 0.8356114 (2200)\ttotal: 1m 47s\tremaining: 1m 27s\n",
            "2300:\tlearn: 0.8507298\ttest: 0.8357670\tbest: 0.8357685 (2299)\ttotal: 1m 52s\tremaining: 1m 23s\n",
            "2400:\tlearn: 0.8512378\ttest: 0.8359208\tbest: 0.8359211 (2399)\ttotal: 1m 57s\tremaining: 1m 18s\n",
            "2500:\tlearn: 0.8517807\ttest: 0.8360598\tbest: 0.8360598 (2500)\ttotal: 2m 2s\tremaining: 1m 13s\n",
            "2600:\tlearn: 0.8523633\ttest: 0.8362036\tbest: 0.8362042 (2599)\ttotal: 2m 7s\tremaining: 1m 8s\n",
            "2700:\tlearn: 0.8528769\ttest: 0.8363219\tbest: 0.8363240 (2698)\ttotal: 2m 12s\tremaining: 1m 3s\n",
            "2800:\tlearn: 0.8534262\ttest: 0.8364103\tbest: 0.8364146 (2793)\ttotal: 2m 17s\tremaining: 58.6s\n",
            "2900:\tlearn: 0.8538944\ttest: 0.8365101\tbest: 0.8365142 (2897)\ttotal: 2m 21s\tremaining: 53.8s\n",
            "3000:\tlearn: 0.8543727\ttest: 0.8365939\tbest: 0.8365939 (3000)\ttotal: 2m 26s\tremaining: 48.9s\n",
            "3100:\tlearn: 0.8548012\ttest: 0.8366509\tbest: 0.8366559 (3094)\ttotal: 2m 31s\tremaining: 44s\n",
            "3200:\tlearn: 0.8552536\ttest: 0.8367301\tbest: 0.8367301 (3200)\ttotal: 2m 36s\tremaining: 39.2s\n",
            "3300:\tlearn: 0.8556436\ttest: 0.8367358\tbest: 0.8367427 (3289)\ttotal: 2m 41s\tremaining: 34.3s\n",
            "3400:\tlearn: 0.8560326\ttest: 0.8368239\tbest: 0.8368239 (3400)\ttotal: 2m 46s\tremaining: 29.4s\n",
            "3500:\tlearn: 0.8565130\ttest: 0.8368738\tbest: 0.8368738 (3500)\ttotal: 2m 51s\tremaining: 24.4s\n",
            "3600:\tlearn: 0.8569303\ttest: 0.8369247\tbest: 0.8369247 (3600)\ttotal: 2m 56s\tremaining: 19.6s\n",
            "3700:\tlearn: 0.8573510\ttest: 0.8369878\tbest: 0.8369899 (3696)\ttotal: 3m 1s\tremaining: 14.7s\n",
            "3800:\tlearn: 0.8577257\ttest: 0.8370210\tbest: 0.8370241 (3776)\ttotal: 3m 6s\tremaining: 9.76s\n",
            "3900:\tlearn: 0.8581280\ttest: 0.8370595\tbest: 0.8370625 (3879)\ttotal: 3m 11s\tremaining: 4.85s\n",
            "3999:\tlearn: 0.8585879\ttest: 0.8370872\tbest: 0.8370908 (3997)\ttotal: 3m 16s\tremaining: 0us\n",
            "bestTest = 0.8370908201\n",
            "bestIteration = 3997\n",
            "Shrink model to first 3998 iterations.\n",
            "Fold 1 : 0.8370909498162112\n",
            "0:\tlearn: 0.7871199\ttest: 0.7842184\tbest: 0.7842184 (0)\ttotal: 50.5ms\tremaining: 3m 22s\n",
            "100:\tlearn: 0.8230475\ttest: 0.8224320\tbest: 0.8224320 (100)\ttotal: 5.09s\tremaining: 3m 16s\n",
            "200:\tlearn: 0.8278713\ttest: 0.8268232\tbest: 0.8268232 (200)\ttotal: 10.2s\tremaining: 3m 12s\n",
            "300:\tlearn: 0.8314828\ttest: 0.8300180\tbest: 0.8300180 (300)\ttotal: 15.2s\tremaining: 3m 6s\n",
            "400:\tlearn: 0.8340289\ttest: 0.8320462\tbest: 0.8320462 (400)\ttotal: 20.1s\tremaining: 3m\n",
            "500:\tlearn: 0.8358897\ttest: 0.8335295\tbest: 0.8335295 (500)\ttotal: 25s\tremaining: 2m 54s\n",
            "600:\tlearn: 0.8373556\ttest: 0.8346200\tbest: 0.8346200 (600)\ttotal: 30s\tremaining: 2m 49s\n",
            "700:\tlearn: 0.8385972\ttest: 0.8355615\tbest: 0.8355615 (700)\ttotal: 34.9s\tremaining: 2m 44s\n",
            "800:\tlearn: 0.8395771\ttest: 0.8362862\tbest: 0.8362862 (800)\ttotal: 39.8s\tremaining: 2m 39s\n",
            "900:\tlearn: 0.8404610\ttest: 0.8368312\tbest: 0.8368342 (895)\ttotal: 44.7s\tremaining: 2m 33s\n",
            "1000:\tlearn: 0.8412644\ttest: 0.8372989\tbest: 0.8373037 (999)\ttotal: 49.6s\tremaining: 2m 28s\n",
            "1100:\tlearn: 0.8420054\ttest: 0.8377407\tbest: 0.8377407 (1100)\ttotal: 54.5s\tremaining: 2m 23s\n",
            "1200:\tlearn: 0.8427297\ttest: 0.8381652\tbest: 0.8381652 (1200)\ttotal: 59.4s\tremaining: 2m 18s\n",
            "1300:\tlearn: 0.8433698\ttest: 0.8385047\tbest: 0.8385047 (1300)\ttotal: 1m 4s\tremaining: 2m 13s\n",
            "1400:\tlearn: 0.8440259\ttest: 0.8388236\tbest: 0.8388236 (1400)\ttotal: 1m 9s\tremaining: 2m 8s\n",
            "1500:\tlearn: 0.8446564\ttest: 0.8391244\tbest: 0.8391244 (1500)\ttotal: 1m 14s\tremaining: 2m 3s\n",
            "1600:\tlearn: 0.8452961\ttest: 0.8394408\tbest: 0.8394408 (1600)\ttotal: 1m 18s\tremaining: 1m 58s\n",
            "1700:\tlearn: 0.8458827\ttest: 0.8396679\tbest: 0.8396701 (1696)\ttotal: 1m 23s\tremaining: 1m 53s\n",
            "1800:\tlearn: 0.8464338\ttest: 0.8398767\tbest: 0.8398767 (1800)\ttotal: 1m 28s\tremaining: 1m 48s\n",
            "1900:\tlearn: 0.8469278\ttest: 0.8400785\tbest: 0.8400785 (1900)\ttotal: 1m 33s\tremaining: 1m 43s\n",
            "2000:\tlearn: 0.8474377\ttest: 0.8402564\tbest: 0.8402566 (1998)\ttotal: 1m 38s\tremaining: 1m 38s\n",
            "2100:\tlearn: 0.8479567\ttest: 0.8404505\tbest: 0.8404510 (2099)\ttotal: 1m 43s\tremaining: 1m 33s\n",
            "2200:\tlearn: 0.8485722\ttest: 0.8406429\tbest: 0.8406429 (2200)\ttotal: 1m 48s\tremaining: 1m 28s\n",
            "2300:\tlearn: 0.8491725\ttest: 0.8408034\tbest: 0.8408034 (2300)\ttotal: 1m 53s\tremaining: 1m 23s\n",
            "2400:\tlearn: 0.8497452\ttest: 0.8409668\tbest: 0.8409688 (2399)\ttotal: 1m 58s\tremaining: 1m 18s\n",
            "2500:\tlearn: 0.8502548\ttest: 0.8411177\tbest: 0.8411177 (2500)\ttotal: 2m 3s\tremaining: 1m 13s\n",
            "2600:\tlearn: 0.8508244\ttest: 0.8412833\tbest: 0.8412833 (2600)\ttotal: 2m 8s\tremaining: 1m 8s\n",
            "2700:\tlearn: 0.8513542\ttest: 0.8414254\tbest: 0.8414254 (2700)\ttotal: 2m 13s\tremaining: 1m 3s\n",
            "2800:\tlearn: 0.8519137\ttest: 0.8415329\tbest: 0.8415357 (2793)\ttotal: 2m 18s\tremaining: 59.1s\n",
            "2900:\tlearn: 0.8524285\ttest: 0.8416581\tbest: 0.8416591 (2899)\ttotal: 2m 23s\tremaining: 54.2s\n",
            "3000:\tlearn: 0.8529368\ttest: 0.8417809\tbest: 0.8417809 (3000)\ttotal: 2m 28s\tremaining: 49.3s\n",
            "3100:\tlearn: 0.8534189\ttest: 0.8418758\tbest: 0.8418758 (3100)\ttotal: 2m 33s\tremaining: 44.4s\n",
            "3200:\tlearn: 0.8538859\ttest: 0.8419924\tbest: 0.8419924 (3200)\ttotal: 2m 38s\tremaining: 39.4s\n",
            "3300:\tlearn: 0.8543478\ttest: 0.8420807\tbest: 0.8420813 (3295)\ttotal: 2m 43s\tremaining: 34.5s\n",
            "3400:\tlearn: 0.8548149\ttest: 0.8421760\tbest: 0.8421783 (3399)\ttotal: 2m 47s\tremaining: 29.6s\n",
            "3500:\tlearn: 0.8553157\ttest: 0.8422230\tbest: 0.8422230 (3500)\ttotal: 2m 52s\tremaining: 24.7s\n",
            "3600:\tlearn: 0.8558004\ttest: 0.8423184\tbest: 0.8423217 (3596)\ttotal: 2m 58s\tremaining: 19.7s\n",
            "3700:\tlearn: 0.8561944\ttest: 0.8423554\tbest: 0.8423585 (3699)\ttotal: 3m 3s\tremaining: 14.8s\n",
            "3800:\tlearn: 0.8566395\ttest: 0.8424080\tbest: 0.8424080 (3800)\ttotal: 3m 8s\tremaining: 9.86s\n",
            "3900:\tlearn: 0.8570582\ttest: 0.8424973\tbest: 0.8425024 (3894)\ttotal: 3m 13s\tremaining: 4.91s\n",
            "3999:\tlearn: 0.8574650\ttest: 0.8425561\tbest: 0.8425561 (3999)\ttotal: 3m 18s\tremaining: 0us\n",
            "bestTest = 0.842556119\n",
            "bestIteration = 3999\n",
            "Fold 2 : 0.8425563543324035\n",
            "0:\tlearn: 0.7907878\ttest: 0.7741335\tbest: 0.7741335 (0)\ttotal: 53.2ms\tremaining: 3m 32s\n",
            "100:\tlearn: 0.8257310\ttest: 0.8102925\tbest: 0.8102925 (100)\ttotal: 5.03s\tremaining: 3m 14s\n",
            "200:\tlearn: 0.8303938\ttest: 0.8150268\tbest: 0.8150362 (199)\ttotal: 10.1s\tremaining: 3m 10s\n",
            "300:\tlearn: 0.8340004\ttest: 0.8182274\tbest: 0.8182274 (300)\ttotal: 15.1s\tremaining: 3m 5s\n",
            "400:\tlearn: 0.8364347\ttest: 0.8205687\tbest: 0.8205687 (400)\ttotal: 20.1s\tremaining: 3m\n",
            "500:\tlearn: 0.8383784\ttest: 0.8223343\tbest: 0.8223343 (500)\ttotal: 25.1s\tremaining: 2m 55s\n",
            "600:\tlearn: 0.8398432\ttest: 0.8235911\tbest: 0.8235911 (600)\ttotal: 30.1s\tremaining: 2m 50s\n",
            "700:\tlearn: 0.8410799\ttest: 0.8246127\tbest: 0.8246127 (700)\ttotal: 35.1s\tremaining: 2m 45s\n",
            "800:\tlearn: 0.8420936\ttest: 0.8253732\tbest: 0.8253732 (800)\ttotal: 40s\tremaining: 2m 39s\n",
            "900:\tlearn: 0.8429852\ttest: 0.8259795\tbest: 0.8259795 (900)\ttotal: 45s\tremaining: 2m 34s\n",
            "1000:\tlearn: 0.8438150\ttest: 0.8265581\tbest: 0.8265581 (1000)\ttotal: 50s\tremaining: 2m 29s\n",
            "1100:\tlearn: 0.8445719\ttest: 0.8269736\tbest: 0.8269736 (1100)\ttotal: 54.9s\tremaining: 2m 24s\n",
            "1200:\tlearn: 0.8453181\ttest: 0.8274009\tbest: 0.8274009 (1200)\ttotal: 59.7s\tremaining: 2m 19s\n",
            "1300:\tlearn: 0.8461022\ttest: 0.8277951\tbest: 0.8277951 (1300)\ttotal: 1m 4s\tremaining: 2m 14s\n",
            "1400:\tlearn: 0.8467851\ttest: 0.8281065\tbest: 0.8281065 (1400)\ttotal: 1m 9s\tremaining: 2m 8s\n",
            "1500:\tlearn: 0.8473747\ttest: 0.8283981\tbest: 0.8283981 (1500)\ttotal: 1m 14s\tremaining: 2m 3s\n",
            "1600:\tlearn: 0.8480120\ttest: 0.8286994\tbest: 0.8286994 (1600)\ttotal: 1m 19s\tremaining: 1m 58s\n",
            "1700:\tlearn: 0.8486192\ttest: 0.8289832\tbest: 0.8289832 (1700)\ttotal: 1m 24s\tremaining: 1m 53s\n",
            "1800:\tlearn: 0.8492214\ttest: 0.8292409\tbest: 0.8292409 (1800)\ttotal: 1m 29s\tremaining: 1m 48s\n",
            "1900:\tlearn: 0.8498666\ttest: 0.8294935\tbest: 0.8294935 (1900)\ttotal: 1m 34s\tremaining: 1m 43s\n",
            "2000:\tlearn: 0.8503886\ttest: 0.8296939\tbest: 0.8296951 (1999)\ttotal: 1m 39s\tremaining: 1m 38s\n",
            "2100:\tlearn: 0.8509625\ttest: 0.8299454\tbest: 0.8299454 (2100)\ttotal: 1m 44s\tremaining: 1m 34s\n",
            "2200:\tlearn: 0.8515314\ttest: 0.8301536\tbest: 0.8301536 (2200)\ttotal: 1m 48s\tremaining: 1m 29s\n",
            "2300:\tlearn: 0.8521220\ttest: 0.8303628\tbest: 0.8303628 (2300)\ttotal: 1m 53s\tremaining: 1m 23s\n",
            "2400:\tlearn: 0.8527356\ttest: 0.8305206\tbest: 0.8305227 (2397)\ttotal: 1m 58s\tremaining: 1m 19s\n",
            "2500:\tlearn: 0.8533154\ttest: 0.8306773\tbest: 0.8306773 (2500)\ttotal: 2m 3s\tremaining: 1m 14s\n",
            "2600:\tlearn: 0.8539184\ttest: 0.8308029\tbest: 0.8308029 (2600)\ttotal: 2m 8s\tremaining: 1m 9s\n",
            "2700:\tlearn: 0.8544967\ttest: 0.8309304\tbest: 0.8309304 (2700)\ttotal: 2m 13s\tremaining: 1m 4s\n",
            "2800:\tlearn: 0.8550419\ttest: 0.8310370\tbest: 0.8310370 (2800)\ttotal: 2m 18s\tremaining: 59.4s\n",
            "2900:\tlearn: 0.8555987\ttest: 0.8311360\tbest: 0.8311391 (2896)\ttotal: 2m 23s\tremaining: 54.4s\n",
            "3000:\tlearn: 0.8561375\ttest: 0.8312621\tbest: 0.8312621 (3000)\ttotal: 2m 28s\tremaining: 49.5s\n",
            "3100:\tlearn: 0.8566733\ttest: 0.8313429\tbest: 0.8313439 (3098)\ttotal: 2m 33s\tremaining: 44.5s\n",
            "3200:\tlearn: 0.8571680\ttest: 0.8314326\tbest: 0.8314326 (3200)\ttotal: 2m 38s\tremaining: 39.6s\n",
            "3300:\tlearn: 0.8576543\ttest: 0.8315864\tbest: 0.8315864 (3300)\ttotal: 2m 43s\tremaining: 34.6s\n",
            "3400:\tlearn: 0.8581418\ttest: 0.8316398\tbest: 0.8316406 (3392)\ttotal: 2m 48s\tremaining: 29.7s\n",
            "3500:\tlearn: 0.8586159\ttest: 0.8317174\tbest: 0.8317174 (3500)\ttotal: 2m 53s\tremaining: 24.7s\n",
            "3600:\tlearn: 0.8590962\ttest: 0.8318040\tbest: 0.8318080 (3598)\ttotal: 2m 58s\tremaining: 19.8s\n",
            "3700:\tlearn: 0.8595567\ttest: 0.8318887\tbest: 0.8318887 (3700)\ttotal: 3m 3s\tremaining: 14.8s\n",
            "3800:\tlearn: 0.8600357\ttest: 0.8319706\tbest: 0.8319750 (3794)\ttotal: 3m 8s\tremaining: 9.86s\n",
            "3900:\tlearn: 0.8604823\ttest: 0.8319913\tbest: 0.8320029 (3890)\ttotal: 3m 13s\tremaining: 4.91s\n",
            "3999:\tlearn: 0.8609166\ttest: 0.8320514\tbest: 0.8320514 (3999)\ttotal: 3m 18s\tremaining: 0us\n",
            "bestTest = 0.8320513964\n",
            "bestIteration = 3999\n",
            "Fold 3 : 0.8320514523278773\n",
            "0:\tlearn: 0.7860303\ttest: 0.7971761\tbest: 0.7971761 (0)\ttotal: 49.6ms\tremaining: 3m 18s\n",
            "100:\tlearn: 0.8218625\ttest: 0.8327393\tbest: 0.8327393 (100)\ttotal: 5.17s\tremaining: 3m 19s\n",
            "200:\tlearn: 0.8260415\ttest: 0.8362989\tbest: 0.8362989 (200)\ttotal: 10.3s\tremaining: 3m 14s\n",
            "300:\tlearn: 0.8296239\ttest: 0.8390111\tbest: 0.8390111 (300)\ttotal: 15.2s\tremaining: 3m 7s\n",
            "400:\tlearn: 0.8321273\ttest: 0.8409038\tbest: 0.8409038 (400)\ttotal: 20.3s\tremaining: 3m 2s\n",
            "500:\tlearn: 0.8339128\ttest: 0.8421303\tbest: 0.8421303 (500)\ttotal: 25.4s\tremaining: 2m 57s\n",
            "600:\tlearn: 0.8354419\ttest: 0.8431090\tbest: 0.8431090 (600)\ttotal: 30.4s\tremaining: 2m 51s\n",
            "700:\tlearn: 0.8368231\ttest: 0.8439887\tbest: 0.8439887 (700)\ttotal: 35.3s\tremaining: 2m 46s\n",
            "800:\tlearn: 0.8379512\ttest: 0.8445738\tbest: 0.8445738 (800)\ttotal: 40.3s\tremaining: 2m 40s\n",
            "900:\tlearn: 0.8388862\ttest: 0.8450140\tbest: 0.8450140 (900)\ttotal: 45.2s\tremaining: 2m 35s\n",
            "1000:\tlearn: 0.8397435\ttest: 0.8453966\tbest: 0.8453966 (1000)\ttotal: 50.1s\tremaining: 2m 30s\n",
            "1100:\tlearn: 0.8405172\ttest: 0.8457858\tbest: 0.8457858 (1100)\ttotal: 54.9s\tremaining: 2m 24s\n",
            "1200:\tlearn: 0.8412927\ttest: 0.8461128\tbest: 0.8461128 (1200)\ttotal: 59.8s\tremaining: 2m 19s\n",
            "1300:\tlearn: 0.8419737\ttest: 0.8463696\tbest: 0.8463714 (1298)\ttotal: 1m 4s\tremaining: 2m 14s\n",
            "1400:\tlearn: 0.8427006\ttest: 0.8466594\tbest: 0.8466595 (1399)\ttotal: 1m 9s\tremaining: 2m 9s\n",
            "1500:\tlearn: 0.8433291\ttest: 0.8469465\tbest: 0.8469465 (1500)\ttotal: 1m 14s\tremaining: 2m 4s\n",
            "1600:\tlearn: 0.8439171\ttest: 0.8471470\tbest: 0.8471470 (1600)\ttotal: 1m 19s\tremaining: 1m 58s\n",
            "1700:\tlearn: 0.8444422\ttest: 0.8473197\tbest: 0.8473197 (1700)\ttotal: 1m 24s\tremaining: 1m 53s\n",
            "1800:\tlearn: 0.8450181\ttest: 0.8474962\tbest: 0.8474962 (1800)\ttotal: 1m 29s\tremaining: 1m 48s\n",
            "1900:\tlearn: 0.8455875\ttest: 0.8477001\tbest: 0.8477001 (1900)\ttotal: 1m 34s\tremaining: 1m 43s\n",
            "2000:\tlearn: 0.8461431\ttest: 0.8478331\tbest: 0.8478331 (2000)\ttotal: 1m 39s\tremaining: 1m 39s\n",
            "2100:\tlearn: 0.8466814\ttest: 0.8479118\tbest: 0.8479129 (2095)\ttotal: 1m 44s\tremaining: 1m 34s\n",
            "2200:\tlearn: 0.8472521\ttest: 0.8480144\tbest: 0.8480156 (2179)\ttotal: 1m 49s\tremaining: 1m 29s\n",
            "2300:\tlearn: 0.8478737\ttest: 0.8481519\tbest: 0.8481541 (2298)\ttotal: 1m 54s\tremaining: 1m 24s\n",
            "2400:\tlearn: 0.8484564\ttest: 0.8482386\tbest: 0.8482386 (2400)\ttotal: 1m 59s\tremaining: 1m 19s\n",
            "2500:\tlearn: 0.8490464\ttest: 0.8483493\tbest: 0.8483559 (2491)\ttotal: 2m 4s\tremaining: 1m 14s\n",
            "2600:\tlearn: 0.8496151\ttest: 0.8484575\tbest: 0.8484575 (2600)\ttotal: 2m 9s\tremaining: 1m 9s\n",
            "2700:\tlearn: 0.8502024\ttest: 0.8485054\tbest: 0.8485119 (2691)\ttotal: 2m 14s\tremaining: 1m 4s\n",
            "2800:\tlearn: 0.8507543\ttest: 0.8485818\tbest: 0.8485832 (2797)\ttotal: 2m 19s\tremaining: 59.6s\n",
            "2900:\tlearn: 0.8513238\ttest: 0.8486608\tbest: 0.8486647 (2892)\ttotal: 2m 24s\tremaining: 54.7s\n",
            "3000:\tlearn: 0.8518198\ttest: 0.8487124\tbest: 0.8487125 (2999)\ttotal: 2m 29s\tremaining: 49.7s\n",
            "3100:\tlearn: 0.8523153\ttest: 0.8487661\tbest: 0.8487669 (3097)\ttotal: 2m 34s\tremaining: 44.7s\n",
            "3200:\tlearn: 0.8528414\ttest: 0.8488375\tbest: 0.8488375 (3200)\ttotal: 2m 39s\tremaining: 39.7s\n",
            "3300:\tlearn: 0.8533537\ttest: 0.8489004\tbest: 0.8489016 (3297)\ttotal: 2m 44s\tremaining: 34.8s\n",
            "3400:\tlearn: 0.8538530\ttest: 0.8489584\tbest: 0.8489618 (3399)\ttotal: 2m 49s\tremaining: 29.8s\n",
            "3500:\tlearn: 0.8543339\ttest: 0.8489798\tbest: 0.8489832 (3474)\ttotal: 2m 54s\tremaining: 24.8s\n",
            "3600:\tlearn: 0.8547706\ttest: 0.8489710\tbest: 0.8489884 (3552)\ttotal: 2m 59s\tremaining: 19.9s\n",
            "3700:\tlearn: 0.8552462\ttest: 0.8490210\tbest: 0.8490251 (3694)\ttotal: 3m 4s\tremaining: 14.9s\n",
            "3800:\tlearn: 0.8556679\ttest: 0.8490665\tbest: 0.8490762 (3774)\ttotal: 3m 9s\tremaining: 9.91s\n",
            "3900:\tlearn: 0.8561085\ttest: 0.8490750\tbest: 0.8490762 (3774)\ttotal: 3m 14s\tremaining: 4.93s\n",
            "3999:\tlearn: 0.8565604\ttest: 0.8491111\tbest: 0.8491136 (3992)\ttotal: 3m 19s\tremaining: 0us\n",
            "bestTest = 0.8491135836\n",
            "bestIteration = 3992\n",
            "Shrink model to first 3993 iterations.\n",
            "Fold 4 : 0.8491136413494684\n",
            "\n",
            "\n",
            "Avg log :  0.8396396585139527\n"
          ],
          "name": "stdout"
        }
      ]
    },
    {
      "cell_type": "code",
      "metadata": {
        "scrolled": true,
        "id": "rEp1xVpysjKw",
        "colab_type": "code",
        "colab": {
          "base_uri": "https://localhost:8080/",
          "height": 35
        },
        "outputId": "54cb662a-a5c2-4f25-dbaa-dfd81a4326d7"
      },
      "source": [
        "f\"{n_skf} fold CV, score: {score}\" #Increase in local cv score should probably lead to increase in Leaderboard score"
      ],
      "execution_count": 17,
      "outputs": [
        {
          "output_type": "execute_result",
          "data": {
            "application/vnd.google.colaboratory.intrinsic+json": {
              "type": "string"
            },
            "text/plain": [
              "'5 fold CV, score: 0.8396396585139527'"
            ]
          },
          "metadata": {
            "tags": []
          },
          "execution_count": 17
        }
      ]
    },
    {
      "cell_type": "markdown",
      "metadata": {
        "id": "rnU3HLczsjLA",
        "colab_type": "text"
      },
      "source": [
        "### Since we are using cross validation, We'll have `n` different predictions (where n is the number of fold)"
      ]
    },
    {
      "cell_type": "code",
      "metadata": {
        "id": "VO7c0-a6sjLD",
        "colab_type": "code",
        "colab": {}
      },
      "source": [
        "oof_prediction = pd.DataFrame(test_oofs).T"
      ],
      "execution_count": 18,
      "outputs": []
    },
    {
      "cell_type": "code",
      "metadata": {
        "id": "vKYZMsjWsjLU",
        "colab_type": "code",
        "colab": {}
      },
      "source": [
        "oof_prediction.columns = ['fold_'+ str(i) for i in range(1, n_skf + 1)]"
      ],
      "execution_count": 19,
      "outputs": []
    },
    {
      "cell_type": "code",
      "metadata": {
        "id": "w6aN3-LPsjLk",
        "colab_type": "code",
        "colab": {
          "base_uri": "https://localhost:8080/",
          "height": 197
        },
        "outputId": "80f1e14c-c9ed-4d49-cc52-7d4c3b3a47cb"
      },
      "source": [
        "oof_prediction.head()"
      ],
      "execution_count": 20,
      "outputs": [
        {
          "output_type": "execute_result",
          "data": {
            "text/html": [
              "<div>\n",
              "<style scoped>\n",
              "    .dataframe tbody tr th:only-of-type {\n",
              "        vertical-align: middle;\n",
              "    }\n",
              "\n",
              "    .dataframe tbody tr th {\n",
              "        vertical-align: top;\n",
              "    }\n",
              "\n",
              "    .dataframe thead th {\n",
              "        text-align: right;\n",
              "    }\n",
              "</style>\n",
              "<table border=\"1\" class=\"dataframe\">\n",
              "  <thead>\n",
              "    <tr style=\"text-align: right;\">\n",
              "      <th></th>\n",
              "      <th>fold_1</th>\n",
              "      <th>fold_2</th>\n",
              "      <th>fold_3</th>\n",
              "      <th>fold_4</th>\n",
              "      <th>fold_5</th>\n",
              "    </tr>\n",
              "  </thead>\n",
              "  <tbody>\n",
              "    <tr>\n",
              "      <th>0</th>\n",
              "      <td>0.326980</td>\n",
              "      <td>0.331161</td>\n",
              "      <td>0.347427</td>\n",
              "      <td>0.328904</td>\n",
              "      <td>0.329583</td>\n",
              "    </tr>\n",
              "    <tr>\n",
              "      <th>1</th>\n",
              "      <td>0.427933</td>\n",
              "      <td>0.383180</td>\n",
              "      <td>0.435164</td>\n",
              "      <td>0.341108</td>\n",
              "      <td>0.392141</td>\n",
              "    </tr>\n",
              "    <tr>\n",
              "      <th>2</th>\n",
              "      <td>0.335028</td>\n",
              "      <td>0.385249</td>\n",
              "      <td>0.404755</td>\n",
              "      <td>0.396653</td>\n",
              "      <td>0.350165</td>\n",
              "    </tr>\n",
              "    <tr>\n",
              "      <th>3</th>\n",
              "      <td>0.713925</td>\n",
              "      <td>0.727259</td>\n",
              "      <td>0.716759</td>\n",
              "      <td>0.734721</td>\n",
              "      <td>0.708495</td>\n",
              "    </tr>\n",
              "    <tr>\n",
              "      <th>4</th>\n",
              "      <td>0.215448</td>\n",
              "      <td>0.194006</td>\n",
              "      <td>0.195052</td>\n",
              "      <td>0.176560</td>\n",
              "      <td>0.179936</td>\n",
              "    </tr>\n",
              "  </tbody>\n",
              "</table>\n",
              "</div>"
            ],
            "text/plain": [
              "     fold_1    fold_2    fold_3    fold_4    fold_5\n",
              "0  0.326980  0.331161  0.347427  0.328904  0.329583\n",
              "1  0.427933  0.383180  0.435164  0.341108  0.392141\n",
              "2  0.335028  0.385249  0.404755  0.396653  0.350165\n",
              "3  0.713925  0.727259  0.716759  0.734721  0.708495\n",
              "4  0.215448  0.194006  0.195052  0.176560  0.179936"
            ]
          },
          "metadata": {
            "tags": []
          },
          "execution_count": 20
        }
      ]
    },
    {
      "cell_type": "code",
      "metadata": {
        "id": "LUBJMAt5sjLz",
        "colab_type": "code",
        "colab": {}
      },
      "source": [
        "sub = pd.read_csv('/content/drive/My Drive/DSN AI Bootcamp Qualification Hackathon/SampleSubmission.csv')"
      ],
      "execution_count": 21,
      "outputs": []
    },
    {
      "cell_type": "code",
      "metadata": {
        "id": "cAb7F5E-sjMB",
        "colab_type": "code",
        "colab": {}
      },
      "source": [
        "### We take the mean of all 5 predictions to generate submission"
      ],
      "execution_count": 22,
      "outputs": []
    },
    {
      "cell_type": "code",
      "metadata": {
        "id": "bkDFca5-sjMR",
        "colab_type": "code",
        "colab": {}
      },
      "source": [
        "sub['default_status'] = np.mean(test_oofs, axis = 0)"
      ],
      "execution_count": 23,
      "outputs": []
    },
    {
      "cell_type": "code",
      "metadata": {
        "id": "m5ib6M4isjMk",
        "colab_type": "code",
        "colab": {}
      },
      "source": [
        "sub.to_csv('submit2.csv', index = False)"
      ],
      "execution_count": 24,
      "outputs": []
    },
    {
      "cell_type": "markdown",
      "metadata": {
        "id": "u0VGKog9sjMz",
        "colab_type": "text"
      },
      "source": [
        "### Suggestions:\n",
        "- Base your feature selection on the local cv score i.e When you add, remove or engineer feature check `score` (cell 17)\n",
        "- Increase number of fold to 10, 15. See how score imporve on leaderboard.\n",
        "- Try differnt value of learning rate. I'll advice anything < 0.01\n",
        "- Create as many features as possible.\n",
        "- Find code for Xgboost and lgbm using this method of modelling, or better still tweak this one (mind you, names of parameters may be slightly different."
      ]
    },
    {
      "cell_type": "code",
      "metadata": {
        "id": "7d8UrxzosjM1",
        "colab_type": "code",
        "colab": {}
      },
      "source": [
        ""
      ],
      "execution_count": null,
      "outputs": []
    }
  ]
}