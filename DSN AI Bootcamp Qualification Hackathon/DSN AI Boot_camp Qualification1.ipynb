{
  "nbformat": 4,
  "nbformat_minor": 0,
  "metadata": {
    "kernelspec": {
      "display_name": "Python 3",
      "language": "python",
      "name": "python3"
    },
    "language_info": {
      "codemirror_mode": {
        "name": "ipython",
        "version": 3
      },
      "file_extension": ".py",
      "mimetype": "text/x-python",
      "name": "python",
      "nbconvert_exporter": "python",
      "pygments_lexer": "ipython3",
      "version": "3.7.6"
    },
    "colab": {
      "name": "DSN AI Boot camp Qualification1.ipynb",
      "provenance": [],
      "include_colab_link": true
    },
    "accelerator": "GPU"
  },
  "cells": [
    {
      "cell_type": "markdown",
      "metadata": {
        "id": "view-in-github",
        "colab_type": "text"
      },
      "source": [
        "<a href=\"https://colab.research.google.com/github/Justus-coded/Competitions/blob/master/DSN%20AI%20Bootcamp%20Qualification%20Hackathon/DSN%20AI%20Boot_camp%20Qualification1.ipynb\" target=\"_parent\"><img src=\"https://colab.research.google.com/assets/colab-badge.svg\" alt=\"Open In Colab\"/></a>"
      ]
    },
    {
      "cell_type": "code",
      "metadata": {
        "id": "lTYsttC3sjHh",
        "colab_type": "code",
        "colab": {
          "base_uri": "https://localhost:8080/",
          "height": 71
        },
        "outputId": "272e678c-4252-4fb3-8b47-05cf61361601"
      },
      "source": [
        "import pandas as pd\n",
        "import numpy as np\n",
        "import seaborn as sns\n",
        "import matplotlib.pyplot as plt\n",
        " \n",
        "%matplotlib inline\n",
        " \n",
        "import warnings\n",
        "warnings.filterwarnings('ignore')"
      ],
      "execution_count": null,
      "outputs": [
        {
          "output_type": "stream",
          "text": [
            "/usr/local/lib/python3.6/dist-packages/statsmodels/tools/_testing.py:19: FutureWarning: pandas.util.testing is deprecated. Use the functions in the public API at pandas.testing instead.\n",
            "  import pandas.util.testing as tm\n"
          ],
          "name": "stderr"
        }
      ]
    },
    {
      "cell_type": "code",
      "metadata": {
        "id": "lJdWtcbpgDWK",
        "colab_type": "code",
        "colab": {
          "base_uri": "https://localhost:8080/",
          "height": 34
        },
        "outputId": "cd16c4a3-e436-41c9-bb11-74ee90899857"
      },
      "source": [
        "from google.colab import drive\n",
        "drive.mount('/content/drive')"
      ],
      "execution_count": null,
      "outputs": [
        {
          "output_type": "stream",
          "text": [
            "Mounted at /content/drive\n"
          ],
          "name": "stdout"
        }
      ]
    },
    {
      "cell_type": "code",
      "metadata": {
        "id": "ygKIugwesjH5",
        "colab_type": "code",
        "colab": {}
      },
      "source": [
        "train = pd.read_csv('/content/drive/My Drive/DSN AI Bootcamp Qualification Hackathon/Train.csv')\n",
        "test  = pd.read_csv('/content/drive/My Drive/DSN AI Bootcamp Qualification Hackathon/Test.csv')"
      ],
      "execution_count": null,
      "outputs": []
    },
    {
      "cell_type": "code",
      "metadata": {
        "id": "ixvLHcBnsjIL",
        "colab_type": "code",
        "colab": {}
      },
      "source": [
        "dict_ = {'charge': 1,\n",
        "         'lending': 0}\n",
        " \n",
        "target_map = {\n",
        "    'yes': 1,\n",
        "    'no': 0}\n",
        " \n",
        "train.default_status.replace(target_map, inplace = True)\n",
        " \n",
        "train['form_field47'].replace(dict_, inplace = True)\n",
        "test['form_field47'].replace(dict_, inplace = True)"
      ],
      "execution_count": null,
      "outputs": []
    },
    {
      "cell_type": "code",
      "metadata": {
        "id": "6ZJIgEJkhkqM",
        "colab_type": "code",
        "colab": {
          "base_uri": "https://localhost:8080/",
          "height": 343
        },
        "outputId": "e6896de8-7d93-417f-a70f-3263dcd7932c"
      },
      "source": [
        "pip install catboost"
      ],
      "execution_count": null,
      "outputs": [
        {
          "output_type": "stream",
          "text": [
            "Collecting catboost\n",
            "\u001b[?25l  Downloading https://files.pythonhosted.org/packages/90/86/c3dcb600b4f9e7584ed90ea9d30a717fb5c0111574675f442c3e7bc19535/catboost-0.24.1-cp36-none-manylinux1_x86_64.whl (66.1MB)\n",
            "\u001b[K     |████████████████████████████████| 66.1MB 45kB/s \n",
            "\u001b[?25hRequirement already satisfied: pandas>=0.24.0 in /usr/local/lib/python3.6/dist-packages (from catboost) (1.0.5)\n",
            "Requirement already satisfied: plotly in /usr/local/lib/python3.6/dist-packages (from catboost) (4.4.1)\n",
            "Requirement already satisfied: matplotlib in /usr/local/lib/python3.6/dist-packages (from catboost) (3.2.2)\n",
            "Requirement already satisfied: numpy>=1.16.0 in /usr/local/lib/python3.6/dist-packages (from catboost) (1.18.5)\n",
            "Requirement already satisfied: six in /usr/local/lib/python3.6/dist-packages (from catboost) (1.15.0)\n",
            "Requirement already satisfied: scipy in /usr/local/lib/python3.6/dist-packages (from catboost) (1.4.1)\n",
            "Requirement already satisfied: graphviz in /usr/local/lib/python3.6/dist-packages (from catboost) (0.10.1)\n",
            "Requirement already satisfied: python-dateutil>=2.6.1 in /usr/local/lib/python3.6/dist-packages (from pandas>=0.24.0->catboost) (2.8.1)\n",
            "Requirement already satisfied: pytz>=2017.2 in /usr/local/lib/python3.6/dist-packages (from pandas>=0.24.0->catboost) (2018.9)\n",
            "Requirement already satisfied: retrying>=1.3.3 in /usr/local/lib/python3.6/dist-packages (from plotly->catboost) (1.3.3)\n",
            "Requirement already satisfied: pyparsing!=2.0.4,!=2.1.2,!=2.1.6,>=2.0.1 in /usr/local/lib/python3.6/dist-packages (from matplotlib->catboost) (2.4.7)\n",
            "Requirement already satisfied: kiwisolver>=1.0.1 in /usr/local/lib/python3.6/dist-packages (from matplotlib->catboost) (1.2.0)\n",
            "Requirement already satisfied: cycler>=0.10 in /usr/local/lib/python3.6/dist-packages (from matplotlib->catboost) (0.10.0)\n",
            "Installing collected packages: catboost\n",
            "Successfully installed catboost-0.24.1\n"
          ],
          "name": "stdout"
        }
      ]
    },
    {
      "cell_type": "code",
      "metadata": {
        "id": "nA1fJeNFsjIc",
        "colab_type": "code",
        "colab": {}
      },
      "source": [
        "from sklearn.metrics import roc_auc_score\n",
        "from catboost import CatBoostClassifier"
      ],
      "execution_count": null,
      "outputs": []
    },
    {
      "cell_type": "code",
      "metadata": {
        "id": "kw9u6xuNsjIt",
        "colab_type": "code",
        "colab": {}
      },
      "source": [
        "features = train.select_dtypes(exclude = object).columns.drop(['default_status'])"
      ],
      "execution_count": null,
      "outputs": []
    },
    {
      "cell_type": "code",
      "metadata": {
        "id": "WUnZZc7-sjI9",
        "colab_type": "code",
        "colab": {}
      },
      "source": [
        "# features"
      ],
      "execution_count": null,
      "outputs": []
    },
    {
      "cell_type": "code",
      "metadata": {
        "id": "hPhK0BEosjJM",
        "colab_type": "code",
        "colab": {}
      },
      "source": [
        "for col in features:\n",
        "    train[col].fillna(-999, inplace = True)\n",
        "    test[col].fillna(-999, inplace = True)"
      ],
      "execution_count": null,
      "outputs": []
    },
    {
      "cell_type": "code",
      "metadata": {
        "id": "qsaVd8sGsjJi",
        "colab_type": "code",
        "colab": {}
      },
      "source": [
        "X = train[features]\n",
        "y = train['default_status']"
      ],
      "execution_count": null,
      "outputs": []
    },
    {
      "cell_type": "code",
      "metadata": {
        "id": "2vzw4M_-sjJw",
        "colab_type": "code",
        "colab": {}
      },
      "source": [
        "from sklearn.model_selection import StratifiedKFold"
      ],
      "execution_count": null,
      "outputs": []
    },
    {
      "cell_type": "code",
      "metadata": {
        "id": "Pqumr-QosjJ-",
        "colab_type": "code",
        "colab": {}
      },
      "source": [
        "def metric(y, pred):\n",
        "    return roc_auc_score(y, pred, labels=[0, 1])"
      ],
      "execution_count": null,
      "outputs": []
    },
    {
      "cell_type": "code",
      "metadata": {
        "id": "mSzq68IusjKM",
        "colab_type": "code",
        "colab": {}
      },
      "source": [
        "# Specify number of folds\n",
        "n_skf = 5\n",
        "kf = StratifiedKFold(n_skf)\n",
        " \n",
        " \n",
        "seed = 2020\n",
        " \n",
        "## Manually tweak the hyperparameter, learning rate and n_estimators especially\n",
        "params = {\n",
        "    'n_estimators': 4000,\n",
        "    'learning_rate': 0.01,\n",
        "    'objective': 'CrossEntropy',\n",
        "      'eval_metric':'AUC',\n",
        "    'random_seed': seed,\n",
        "    'early_stopping_rounds': 200,\n",
        "    'use_best_model': True,\n",
        "}"
      ],
      "execution_count": null,
      "outputs": []
    },
    {
      "cell_type": "code",
      "metadata": {
        "scrolled": true,
        "id": "CVC4mh-nsjKa",
        "colab_type": "code",
        "colab": {
          "base_uri": "https://localhost:8080/",
          "height": 1000
        },
        "outputId": "eba23e24-001c-4de4-884b-276e2a1e9e88"
      },
      "source": [
        "score_list = []\n",
        "score = 0\n",
        "test_oofs = []\n",
        " \n",
        "for i, (tr_idx, vr_idx) in enumerate(kf.split(X, y)):\n",
        "    \n",
        "    xtrain, ytrain = X.loc[tr_idx, features], y.loc[tr_idx]\n",
        "    xval, yval = X.loc[vr_idx, features], y.loc[vr_idx]\n",
        " \n",
        "    model = CatBoostClassifier(**params, task_type='GPU')\n",
        "    model.fit(xtrain, ytrain, eval_set=[(xval,yval)], verbose=100)\n",
        "    \n",
        "    p = model.predict_proba(xval)[:, 1]\n",
        "    sc = metric(yval, p)\n",
        "    score_list.append(sc)\n",
        "    score += sc/n_skf\n",
        "    \n",
        "    pred = model.predict_proba(test[features])[:, 1]\n",
        "    test_oofs.append(pred)\n",
        " \n",
        "    print('Fold {} : {}'.format(i, sc))\n",
        " \n",
        "print()\n",
        "print()\n",
        "print('Avg log : ', score)"
      ],
      "execution_count": null,
      "outputs": [
        {
          "output_type": "stream",
          "text": [
            "0:\tlearn: 0.7882729\ttest: 0.7847513\tbest: 0.7847513 (0)\ttotal: 99.2ms\tremaining: 6m 36s\n",
            "100:\tlearn: 0.8290880\ttest: 0.8248354\tbest: 0.8248354 (100)\ttotal: 5.3s\tremaining: 3m 24s\n",
            "200:\tlearn: 0.8348939\ttest: 0.8293202\tbest: 0.8293202 (200)\ttotal: 10.4s\tremaining: 3m 15s\n",
            "300:\tlearn: 0.8380512\ttest: 0.8316320\tbest: 0.8316320 (300)\ttotal: 15.3s\tremaining: 3m 8s\n",
            "400:\tlearn: 0.8403282\ttest: 0.8329767\tbest: 0.8329767 (400)\ttotal: 20.2s\tremaining: 3m 1s\n",
            "500:\tlearn: 0.8421736\ttest: 0.8339559\tbest: 0.8339559 (500)\ttotal: 25.3s\tremaining: 2m 56s\n",
            "600:\tlearn: 0.8436579\ttest: 0.8346310\tbest: 0.8346310 (600)\ttotal: 30.2s\tremaining: 2m 50s\n",
            "700:\tlearn: 0.8449304\ttest: 0.8351660\tbest: 0.8351660 (700)\ttotal: 35.1s\tremaining: 2m 45s\n",
            "800:\tlearn: 0.8461992\ttest: 0.8356704\tbest: 0.8356712 (795)\ttotal: 40s\tremaining: 2m 39s\n",
            "900:\tlearn: 0.8471835\ttest: 0.8359593\tbest: 0.8359604 (898)\ttotal: 44.9s\tremaining: 2m 34s\n",
            "1000:\tlearn: 0.8481769\ttest: 0.8362668\tbest: 0.8362668 (1000)\ttotal: 49.9s\tremaining: 2m 29s\n",
            "1100:\tlearn: 0.8490931\ttest: 0.8364585\tbest: 0.8364627 (1099)\ttotal: 54.8s\tremaining: 2m 24s\n",
            "1200:\tlearn: 0.8501993\ttest: 0.8366854\tbest: 0.8366928 (1199)\ttotal: 59.8s\tremaining: 2m 19s\n",
            "1300:\tlearn: 0.8512105\ttest: 0.8368767\tbest: 0.8368773 (1298)\ttotal: 1m 4s\tremaining: 2m 14s\n",
            "1400:\tlearn: 0.8521370\ttest: 0.8370107\tbest: 0.8370131 (1399)\ttotal: 1m 9s\tremaining: 2m 9s\n",
            "1500:\tlearn: 0.8530304\ttest: 0.8371775\tbest: 0.8371779 (1499)\ttotal: 1m 14s\tremaining: 2m 4s\n",
            "1600:\tlearn: 0.8538988\ttest: 0.8373037\tbest: 0.8373037 (1600)\ttotal: 1m 19s\tremaining: 1m 59s\n",
            "1700:\tlearn: 0.8548052\ttest: 0.8374236\tbest: 0.8374274 (1699)\ttotal: 1m 24s\tremaining: 1m 54s\n",
            "1800:\tlearn: 0.8556407\ttest: 0.8375134\tbest: 0.8375134 (1800)\ttotal: 1m 29s\tremaining: 1m 49s\n",
            "1900:\tlearn: 0.8564119\ttest: 0.8375657\tbest: 0.8375704 (1886)\ttotal: 1m 34s\tremaining: 1m 44s\n",
            "2000:\tlearn: 0.8572803\ttest: 0.8376597\tbest: 0.8376685 (1991)\ttotal: 1m 39s\tremaining: 1m 39s\n",
            "2100:\tlearn: 0.8579446\ttest: 0.8377365\tbest: 0.8377380 (2097)\ttotal: 1m 44s\tremaining: 1m 34s\n",
            "2200:\tlearn: 0.8585952\ttest: 0.8377915\tbest: 0.8377915 (2196)\ttotal: 1m 49s\tremaining: 1m 29s\n",
            "2300:\tlearn: 0.8592864\ttest: 0.8378329\tbest: 0.8378365 (2299)\ttotal: 1m 54s\tremaining: 1m 24s\n",
            "2400:\tlearn: 0.8599745\ttest: 0.8378665\tbest: 0.8378720 (2397)\ttotal: 1m 59s\tremaining: 1m 19s\n",
            "2500:\tlearn: 0.8605775\ttest: 0.8379133\tbest: 0.8379310 (2491)\ttotal: 2m 4s\tremaining: 1m 14s\n",
            "2600:\tlearn: 0.8612459\ttest: 0.8379325\tbest: 0.8379576 (2538)\ttotal: 2m 9s\tremaining: 1m 9s\n",
            "2700:\tlearn: 0.8619207\ttest: 0.8379256\tbest: 0.8379576 (2538)\ttotal: 2m 15s\tremaining: 1m 4s\n",
            "bestTest = 0.8379575908\n",
            "bestIteration = 2538\n",
            "Shrink model to first 2539 iterations.\n",
            "Fold 0 : 0.8379577223475012\n",
            "0:\tlearn: 0.7789893\ttest: 0.7642141\tbest: 0.7642141 (0)\ttotal: 52.2ms\tremaining: 3m 28s\n",
            "100:\tlearn: 0.8293154\ttest: 0.8209242\tbest: 0.8209242 (100)\ttotal: 5.26s\tremaining: 3m 23s\n",
            "200:\tlearn: 0.8353141\ttest: 0.8268490\tbest: 0.8268490 (200)\ttotal: 10.5s\tremaining: 3m 17s\n",
            "300:\tlearn: 0.8387043\ttest: 0.8299900\tbest: 0.8299900 (300)\ttotal: 15.6s\tremaining: 3m 11s\n",
            "400:\tlearn: 0.8409934\ttest: 0.8316325\tbest: 0.8316325 (400)\ttotal: 20.7s\tremaining: 3m 5s\n",
            "500:\tlearn: 0.8427253\ttest: 0.8326527\tbest: 0.8326527 (500)\ttotal: 25.7s\tremaining: 2m 59s\n",
            "600:\tlearn: 0.8442097\ttest: 0.8334533\tbest: 0.8334533 (600)\ttotal: 30.6s\tremaining: 2m 53s\n",
            "700:\tlearn: 0.8456259\ttest: 0.8340414\tbest: 0.8340414 (700)\ttotal: 35.7s\tremaining: 2m 48s\n",
            "800:\tlearn: 0.8470009\ttest: 0.8346135\tbest: 0.8346137 (799)\ttotal: 40.7s\tremaining: 2m 42s\n",
            "900:\tlearn: 0.8480690\ttest: 0.8350088\tbest: 0.8350088 (900)\ttotal: 45.7s\tremaining: 2m 37s\n",
            "1000:\tlearn: 0.8491296\ttest: 0.8352951\tbest: 0.8352951 (1000)\ttotal: 50.7s\tremaining: 2m 31s\n",
            "1100:\tlearn: 0.8502728\ttest: 0.8357016\tbest: 0.8357016 (1100)\ttotal: 55.8s\tremaining: 2m 26s\n",
            "1200:\tlearn: 0.8513888\ttest: 0.8359542\tbest: 0.8359542 (1200)\ttotal: 1m\tremaining: 2m 21s\n",
            "1300:\tlearn: 0.8525042\ttest: 0.8361773\tbest: 0.8361773 (1300)\ttotal: 1m 5s\tremaining: 2m 16s\n",
            "1400:\tlearn: 0.8535682\ttest: 0.8363739\tbest: 0.8363742 (1399)\ttotal: 1m 10s\tremaining: 2m 11s\n",
            "1500:\tlearn: 0.8545198\ttest: 0.8365844\tbest: 0.8365877 (1498)\ttotal: 1m 16s\tremaining: 2m 6s\n",
            "1600:\tlearn: 0.8555192\ttest: 0.8367436\tbest: 0.8367562 (1593)\ttotal: 1m 21s\tremaining: 2m 1s\n",
            "1700:\tlearn: 0.8563643\ttest: 0.8368865\tbest: 0.8368945 (1698)\ttotal: 1m 26s\tremaining: 1m 56s\n",
            "1800:\tlearn: 0.8570949\ttest: 0.8369949\tbest: 0.8369960 (1799)\ttotal: 1m 31s\tremaining: 1m 51s\n",
            "1900:\tlearn: 0.8578713\ttest: 0.8370841\tbest: 0.8370854 (1898)\ttotal: 1m 36s\tremaining: 1m 46s\n",
            "2000:\tlearn: 0.8586201\ttest: 0.8371251\tbest: 0.8371285 (1999)\ttotal: 1m 41s\tremaining: 1m 41s\n",
            "2100:\tlearn: 0.8593146\ttest: 0.8371643\tbest: 0.8371829 (2088)\ttotal: 1m 46s\tremaining: 1m 36s\n",
            "2200:\tlearn: 0.8599389\ttest: 0.8372168\tbest: 0.8372227 (2189)\ttotal: 1m 51s\tremaining: 1m 31s\n",
            "2300:\tlearn: 0.8605398\ttest: 0.8373331\tbest: 0.8373375 (2297)\ttotal: 1m 56s\tremaining: 1m 26s\n",
            "2400:\tlearn: 0.8612438\ttest: 0.8373800\tbest: 0.8373871 (2399)\ttotal: 2m 1s\tremaining: 1m 20s\n",
            "2500:\tlearn: 0.8618749\ttest: 0.8374545\tbest: 0.8374545 (2500)\ttotal: 2m 6s\tremaining: 1m 15s\n",
            "2600:\tlearn: 0.8624281\ttest: 0.8374858\tbest: 0.8374858 (2600)\ttotal: 2m 11s\tremaining: 1m 10s\n",
            "2700:\tlearn: 0.8629722\ttest: 0.8374708\tbest: 0.8374858 (2600)\ttotal: 2m 16s\tremaining: 1m 5s\n",
            "2800:\tlearn: 0.8635234\ttest: 0.8375100\tbest: 0.8375116 (2797)\ttotal: 2m 21s\tremaining: 1m\n",
            "2900:\tlearn: 0.8641281\ttest: 0.8375522\tbest: 0.8375730 (2867)\ttotal: 2m 26s\tremaining: 55.6s\n",
            "3000:\tlearn: 0.8646900\ttest: 0.8375106\tbest: 0.8375730 (2867)\ttotal: 2m 31s\tremaining: 50.5s\n",
            "bestTest = 0.837572962\n",
            "bestIteration = 2867\n",
            "Shrink model to first 2868 iterations.\n",
            "Fold 1 : 0.8375730265664681\n",
            "0:\tlearn: 0.7871199\ttest: 0.7842184\tbest: 0.7842184 (0)\ttotal: 52.8ms\tremaining: 3m 30s\n",
            "100:\tlearn: 0.8282412\ttest: 0.8271993\tbest: 0.8271993 (100)\ttotal: 5.21s\tremaining: 3m 20s\n",
            "200:\tlearn: 0.8341450\ttest: 0.8321391\tbest: 0.8321391 (200)\ttotal: 10.3s\tremaining: 3m 14s\n",
            "300:\tlearn: 0.8374983\ttest: 0.8348630\tbest: 0.8348630 (300)\ttotal: 15.5s\tremaining: 3m 10s\n",
            "400:\tlearn: 0.8397223\ttest: 0.8363575\tbest: 0.8363575 (400)\ttotal: 20.5s\tremaining: 3m 4s\n",
            "500:\tlearn: 0.8414312\ttest: 0.8374449\tbest: 0.8374449 (500)\ttotal: 25.4s\tremaining: 2m 57s\n",
            "600:\tlearn: 0.8427484\ttest: 0.8381984\tbest: 0.8382061 (599)\ttotal: 30.4s\tremaining: 2m 51s\n",
            "700:\tlearn: 0.8441490\ttest: 0.8389133\tbest: 0.8389133 (700)\ttotal: 35.4s\tremaining: 2m 46s\n",
            "800:\tlearn: 0.8455052\ttest: 0.8395920\tbest: 0.8395920 (800)\ttotal: 40.4s\tremaining: 2m 41s\n",
            "900:\tlearn: 0.8465893\ttest: 0.8400447\tbest: 0.8400447 (900)\ttotal: 45.4s\tremaining: 2m 36s\n",
            "1000:\tlearn: 0.8476742\ttest: 0.8403745\tbest: 0.8403745 (1000)\ttotal: 50.3s\tremaining: 2m 30s\n",
            "1100:\tlearn: 0.8487493\ttest: 0.8407874\tbest: 0.8407874 (1100)\ttotal: 55.4s\tremaining: 2m 25s\n",
            "1200:\tlearn: 0.8497525\ttest: 0.8411680\tbest: 0.8411680 (1199)\ttotal: 1m\tremaining: 2m 20s\n",
            "1300:\tlearn: 0.8507685\ttest: 0.8414478\tbest: 0.8414478 (1300)\ttotal: 1m 5s\tremaining: 2m 15s\n",
            "1400:\tlearn: 0.8517013\ttest: 0.8416300\tbest: 0.8416316 (1399)\ttotal: 1m 10s\tremaining: 2m 10s\n",
            "1500:\tlearn: 0.8526782\ttest: 0.8418776\tbest: 0.8418794 (1497)\ttotal: 1m 15s\tremaining: 2m 6s\n",
            "1600:\tlearn: 0.8536732\ttest: 0.8420742\tbest: 0.8420795 (1598)\ttotal: 1m 20s\tremaining: 2m\n",
            "1700:\tlearn: 0.8546293\ttest: 0.8422206\tbest: 0.8422206 (1700)\ttotal: 1m 25s\tremaining: 1m 55s\n",
            "1800:\tlearn: 0.8555546\ttest: 0.8423645\tbest: 0.8423653 (1796)\ttotal: 1m 30s\tremaining: 1m 50s\n",
            "1900:\tlearn: 0.8563857\ttest: 0.8425223\tbest: 0.8425223 (1900)\ttotal: 1m 35s\tremaining: 1m 45s\n",
            "2000:\tlearn: 0.8572944\ttest: 0.8426526\tbest: 0.8426610 (1991)\ttotal: 1m 40s\tremaining: 1m 40s\n",
            "2100:\tlearn: 0.8580798\ttest: 0.8427922\tbest: 0.8427924 (2098)\ttotal: 1m 45s\tremaining: 1m 35s\n",
            "2200:\tlearn: 0.8587688\ttest: 0.8428904\tbest: 0.8428927 (2194)\ttotal: 1m 50s\tremaining: 1m 30s\n",
            "2300:\tlearn: 0.8594881\ttest: 0.8429641\tbest: 0.8429677 (2297)\ttotal: 1m 56s\tremaining: 1m 25s\n",
            "2400:\tlearn: 0.8603085\ttest: 0.8430638\tbest: 0.8430698 (2395)\ttotal: 2m 1s\tremaining: 1m 20s\n",
            "2500:\tlearn: 0.8610834\ttest: 0.8430728\tbest: 0.8431035 (2442)\ttotal: 2m 6s\tremaining: 1m 15s\n",
            "2600:\tlearn: 0.8618190\ttest: 0.8431584\tbest: 0.8431699 (2590)\ttotal: 2m 11s\tremaining: 1m 10s\n",
            "2700:\tlearn: 0.8625444\ttest: 0.8432583\tbest: 0.8432583 (2700)\ttotal: 2m 16s\tremaining: 1m 5s\n",
            "2800:\tlearn: 0.8632536\ttest: 0.8433135\tbest: 0.8433142 (2736)\ttotal: 2m 21s\tremaining: 1m\n",
            "2900:\tlearn: 0.8639260\ttest: 0.8433514\tbest: 0.8433754 (2846)\ttotal: 2m 26s\tremaining: 55.4s\n",
            "3000:\tlearn: 0.8645267\ttest: 0.8434016\tbest: 0.8434144 (2992)\ttotal: 2m 31s\tremaining: 50.4s\n",
            "3100:\tlearn: 0.8651710\ttest: 0.8434195\tbest: 0.8434407 (3042)\ttotal: 2m 36s\tremaining: 45.4s\n",
            "3200:\tlearn: 0.8658512\ttest: 0.8435180\tbest: 0.8435181 (3199)\ttotal: 2m 41s\tremaining: 40.4s\n",
            "3300:\tlearn: 0.8664327\ttest: 0.8434978\tbest: 0.8435276 (3265)\ttotal: 2m 46s\tremaining: 35.3s\n",
            "3400:\tlearn: 0.8669640\ttest: 0.8435307\tbest: 0.8435390 (3395)\ttotal: 2m 51s\tremaining: 30.3s\n",
            "3500:\tlearn: 0.8675879\ttest: 0.8435650\tbest: 0.8435702 (3475)\ttotal: 2m 56s\tremaining: 25.2s\n",
            "3600:\tlearn: 0.8681347\ttest: 0.8435525\tbest: 0.8435878 (3527)\ttotal: 3m 1s\tremaining: 20.2s\n",
            "3700:\tlearn: 0.8686849\ttest: 0.8435975\tbest: 0.8436050 (3690)\ttotal: 3m 7s\tremaining: 15.1s\n",
            "3800:\tlearn: 0.8691909\ttest: 0.8435955\tbest: 0.8436080 (3743)\ttotal: 3m 12s\tremaining: 10.1s\n",
            "3900:\tlearn: 0.8697530\ttest: 0.8436227\tbest: 0.8436230 (3857)\ttotal: 3m 17s\tremaining: 5s\n",
            "3999:\tlearn: 0.8702888\ttest: 0.8436077\tbest: 0.8436376 (3914)\ttotal: 3m 22s\tremaining: 0us\n",
            "bestTest = 0.8436376452\n",
            "bestIteration = 3914\n",
            "Shrink model to first 3915 iterations.\n",
            "Fold 2 : 0.8436376753735773\n",
            "0:\tlearn: 0.7907878\ttest: 0.7741335\tbest: 0.7741335 (0)\ttotal: 51.4ms\tremaining: 3m 25s\n",
            "100:\tlearn: 0.8310197\ttest: 0.8154964\tbest: 0.8154964 (100)\ttotal: 5.13s\tremaining: 3m 18s\n",
            "200:\tlearn: 0.8368652\ttest: 0.8210411\tbest: 0.8210411 (200)\ttotal: 10.3s\tremaining: 3m 14s\n",
            "300:\tlearn: 0.8399782\ttest: 0.8237498\tbest: 0.8237498 (300)\ttotal: 15.4s\tremaining: 3m 9s\n",
            "400:\tlearn: 0.8422645\ttest: 0.8254372\tbest: 0.8254372 (400)\ttotal: 20.5s\tremaining: 3m 3s\n",
            "500:\tlearn: 0.8440900\ttest: 0.8265547\tbest: 0.8265547 (500)\ttotal: 25.5s\tremaining: 2m 58s\n",
            "600:\tlearn: 0.8454623\ttest: 0.8273406\tbest: 0.8273406 (600)\ttotal: 30.6s\tremaining: 2m 52s\n",
            "700:\tlearn: 0.8468315\ttest: 0.8280737\tbest: 0.8280737 (700)\ttotal: 35.7s\tremaining: 2m 47s\n",
            "800:\tlearn: 0.8483022\ttest: 0.8287228\tbest: 0.8287228 (800)\ttotal: 40.7s\tremaining: 2m 42s\n",
            "900:\tlearn: 0.8495474\ttest: 0.8292139\tbest: 0.8292139 (900)\ttotal: 45.6s\tremaining: 2m 36s\n",
            "1000:\tlearn: 0.8507273\ttest: 0.8296035\tbest: 0.8296035 (1000)\ttotal: 50.7s\tremaining: 2m 31s\n",
            "1100:\tlearn: 0.8518282\ttest: 0.8299472\tbest: 0.8299472 (1100)\ttotal: 55.7s\tremaining: 2m 26s\n",
            "1200:\tlearn: 0.8530537\ttest: 0.8303105\tbest: 0.8303105 (1200)\ttotal: 1m\tremaining: 2m 21s\n",
            "1300:\tlearn: 0.8541885\ttest: 0.8306329\tbest: 0.8306329 (1300)\ttotal: 1m 5s\tremaining: 2m 16s\n",
            "1400:\tlearn: 0.8553941\ttest: 0.8308562\tbest: 0.8308562 (1400)\ttotal: 1m 10s\tremaining: 2m 11s\n",
            "1500:\tlearn: 0.8564761\ttest: 0.8310893\tbest: 0.8310893 (1500)\ttotal: 1m 16s\tremaining: 2m 6s\n",
            "1600:\tlearn: 0.8575103\ttest: 0.8312472\tbest: 0.8312472 (1599)\ttotal: 1m 21s\tremaining: 2m 1s\n",
            "1700:\tlearn: 0.8585007\ttest: 0.8314108\tbest: 0.8314151 (1695)\ttotal: 1m 26s\tremaining: 1m 56s\n",
            "1800:\tlearn: 0.8594080\ttest: 0.8315750\tbest: 0.8315750 (1800)\ttotal: 1m 31s\tremaining: 1m 51s\n",
            "1900:\tlearn: 0.8603379\ttest: 0.8317310\tbest: 0.8317310 (1900)\ttotal: 1m 36s\tremaining: 1m 46s\n",
            "2000:\tlearn: 0.8611447\ttest: 0.8318104\tbest: 0.8318108 (1990)\ttotal: 1m 41s\tremaining: 1m 41s\n",
            "2100:\tlearn: 0.8620129\ttest: 0.8319411\tbest: 0.8319411 (2100)\ttotal: 1m 46s\tremaining: 1m 36s\n",
            "2200:\tlearn: 0.8628662\ttest: 0.8320730\tbest: 0.8320749 (2198)\ttotal: 1m 52s\tremaining: 1m 31s\n",
            "2300:\tlearn: 0.8636532\ttest: 0.8321787\tbest: 0.8321819 (2290)\ttotal: 1m 57s\tremaining: 1m 26s\n",
            "2400:\tlearn: 0.8644077\ttest: 0.8322592\tbest: 0.8322594 (2377)\ttotal: 2m 2s\tremaining: 1m 21s\n",
            "2500:\tlearn: 0.8651958\ttest: 0.8323779\tbest: 0.8323812 (2499)\ttotal: 2m 7s\tremaining: 1m 16s\n",
            "2600:\tlearn: 0.8659860\ttest: 0.8324546\tbest: 0.8324618 (2599)\ttotal: 2m 12s\tremaining: 1m 11s\n",
            "2700:\tlearn: 0.8666763\ttest: 0.8325444\tbest: 0.8325462 (2698)\ttotal: 2m 17s\tremaining: 1m 6s\n",
            "2800:\tlearn: 0.8672813\ttest: 0.8326021\tbest: 0.8326021 (2799)\ttotal: 2m 22s\tremaining: 1m 1s\n",
            "2900:\tlearn: 0.8679242\ttest: 0.8326611\tbest: 0.8326797 (2886)\ttotal: 2m 27s\tremaining: 55.9s\n",
            "3000:\tlearn: 0.8686448\ttest: 0.8327096\tbest: 0.8327151 (2997)\ttotal: 2m 32s\tremaining: 50.8s\n",
            "3100:\tlearn: 0.8692264\ttest: 0.8327253\tbest: 0.8327265 (3092)\ttotal: 2m 37s\tremaining: 45.7s\n",
            "3200:\tlearn: 0.8698600\ttest: 0.8327276\tbest: 0.8327400 (3185)\ttotal: 2m 42s\tremaining: 40.6s\n",
            "3300:\tlearn: 0.8704832\ttest: 0.8327616\tbest: 0.8327842 (3282)\ttotal: 2m 47s\tremaining: 35.6s\n",
            "3400:\tlearn: 0.8710917\ttest: 0.8328074\tbest: 0.8328251 (3389)\ttotal: 2m 53s\tremaining: 30.5s\n",
            "3500:\tlearn: 0.8716526\ttest: 0.8327976\tbest: 0.8328332 (3418)\ttotal: 2m 58s\tremaining: 25.4s\n",
            "3600:\tlearn: 0.8721783\ttest: 0.8328221\tbest: 0.8328332 (3418)\ttotal: 3m 3s\tremaining: 20.3s\n",
            "bestTest = 0.8328331709\n",
            "bestIteration = 3418\n",
            "Shrink model to first 3419 iterations.\n",
            "Fold 3 : 0.8328330865615944\n",
            "0:\tlearn: 0.7860303\ttest: 0.7971761\tbest: 0.7971761 (0)\ttotal: 61.3ms\tremaining: 4m 5s\n",
            "100:\tlearn: 0.8266855\ttest: 0.8368183\tbest: 0.8368183 (100)\ttotal: 5.29s\tremaining: 3m 24s\n",
            "200:\tlearn: 0.8323671\ttest: 0.8411300\tbest: 0.8411300 (200)\ttotal: 10.4s\tremaining: 3m 16s\n",
            "300:\tlearn: 0.8355932\ttest: 0.8433182\tbest: 0.8433182 (300)\ttotal: 15.5s\tremaining: 3m 10s\n",
            "400:\tlearn: 0.8379708\ttest: 0.8445544\tbest: 0.8445544 (400)\ttotal: 20.6s\tremaining: 3m 4s\n",
            "500:\tlearn: 0.8397624\ttest: 0.8454255\tbest: 0.8454255 (500)\ttotal: 25.6s\tremaining: 2m 58s\n",
            "600:\tlearn: 0.8413926\ttest: 0.8461613\tbest: 0.8461613 (600)\ttotal: 30.6s\tremaining: 2m 53s\n",
            "700:\tlearn: 0.8427378\ttest: 0.8467347\tbest: 0.8467394 (698)\ttotal: 35.6s\tremaining: 2m 47s\n",
            "800:\tlearn: 0.8440838\ttest: 0.8472403\tbest: 0.8472403 (800)\ttotal: 40.6s\tremaining: 2m 42s\n",
            "900:\tlearn: 0.8452075\ttest: 0.8476491\tbest: 0.8476505 (899)\ttotal: 45.6s\tremaining: 2m 36s\n",
            "1000:\tlearn: 0.8463098\ttest: 0.8479589\tbest: 0.8479596 (999)\ttotal: 50.6s\tremaining: 2m 31s\n",
            "1100:\tlearn: 0.8474172\ttest: 0.8482041\tbest: 0.8482041 (1100)\ttotal: 55.5s\tremaining: 2m 26s\n",
            "1200:\tlearn: 0.8486274\ttest: 0.8484882\tbest: 0.8484882 (1200)\ttotal: 1m\tremaining: 2m 21s\n",
            "1300:\tlearn: 0.8498337\ttest: 0.8486404\tbest: 0.8486404 (1300)\ttotal: 1m 5s\tremaining: 2m 16s\n",
            "1400:\tlearn: 0.8509389\ttest: 0.8488454\tbest: 0.8488537 (1390)\ttotal: 1m 10s\tremaining: 2m 11s\n",
            "1500:\tlearn: 0.8519995\ttest: 0.8489506\tbest: 0.8489511 (1498)\ttotal: 1m 15s\tremaining: 2m 6s\n",
            "1600:\tlearn: 0.8529533\ttest: 0.8490254\tbest: 0.8490254 (1600)\ttotal: 1m 20s\tremaining: 2m 1s\n",
            "1700:\tlearn: 0.8539821\ttest: 0.8491281\tbest: 0.8491281 (1700)\ttotal: 1m 25s\tremaining: 1m 56s\n",
            "1800:\tlearn: 0.8550633\ttest: 0.8492537\tbest: 0.8492586 (1798)\ttotal: 1m 31s\tremaining: 1m 51s\n",
            "1900:\tlearn: 0.8559710\ttest: 0.8493405\tbest: 0.8493531 (1886)\ttotal: 1m 36s\tremaining: 1m 46s\n",
            "2000:\tlearn: 0.8568698\ttest: 0.8493881\tbest: 0.8494021 (1998)\ttotal: 1m 41s\tremaining: 1m 41s\n",
            "2100:\tlearn: 0.8577422\ttest: 0.8494110\tbest: 0.8494180 (2009)\ttotal: 1m 46s\tremaining: 1m 36s\n",
            "2200:\tlearn: 0.8585988\ttest: 0.8494510\tbest: 0.8494620 (2195)\ttotal: 1m 51s\tremaining: 1m 31s\n",
            "2300:\tlearn: 0.8593688\ttest: 0.8495156\tbest: 0.8495156 (2300)\ttotal: 1m 56s\tremaining: 1m 25s\n",
            "2400:\tlearn: 0.8600691\ttest: 0.8495572\tbest: 0.8495572 (2400)\ttotal: 2m 1s\tremaining: 1m 20s\n",
            "2500:\tlearn: 0.8607327\ttest: 0.8496000\tbest: 0.8496051 (2484)\ttotal: 2m 6s\tremaining: 1m 15s\n",
            "2600:\tlearn: 0.8615278\ttest: 0.8496398\tbest: 0.8496416 (2595)\ttotal: 2m 11s\tremaining: 1m 10s\n",
            "2700:\tlearn: 0.8621309\ttest: 0.8496674\tbest: 0.8496681 (2694)\ttotal: 2m 16s\tremaining: 1m 5s\n",
            "2800:\tlearn: 0.8627768\ttest: 0.8496909\tbest: 0.8497007 (2790)\ttotal: 2m 21s\tremaining: 1m\n",
            "2900:\tlearn: 0.8634209\ttest: 0.8497266\tbest: 0.8497302 (2896)\ttotal: 2m 27s\tremaining: 55.7s\n",
            "3000:\tlearn: 0.8640862\ttest: 0.8497431\tbest: 0.8497441 (2970)\ttotal: 2m 32s\tremaining: 50.7s\n",
            "3100:\tlearn: 0.8647299\ttest: 0.8497298\tbest: 0.8497441 (2970)\ttotal: 2m 37s\tremaining: 45.6s\n",
            "bestTest = 0.8497441411\n",
            "bestIteration = 2970\n",
            "Shrink model to first 2971 iterations.\n",
            "Fold 4 : 0.8497442251554918\n",
            "\n",
            "\n",
            "Avg log :  0.8403491472009266\n"
          ],
          "name": "stdout"
        }
      ]
    },
    {
      "cell_type": "code",
      "metadata": {
        "scrolled": true,
        "id": "rEp1xVpysjKw",
        "colab_type": "code",
        "colab": {
          "base_uri": "https://localhost:8080/",
          "height": 52
        },
        "outputId": "10d67524-1c99-4201-f93c-1b0497ce4209"
      },
      "source": [
        "f\"{n_skf} fold CV, score: {score}\" #Increase in local cv score should probably lead to increase in Leaderboard score"
      ],
      "execution_count": null,
      "outputs": [
        {
          "output_type": "execute_result",
          "data": {
            "application/vnd.google.colaboratory.intrinsic+json": {
              "type": "string"
            },
            "text/plain": [
              "'5 fold CV, score: 0.8403491472009266'"
            ]
          },
          "metadata": {
            "tags": []
          },
          "execution_count": 18
        }
      ]
    },
    {
      "cell_type": "markdown",
      "metadata": {
        "id": "rnU3HLczsjLA",
        "colab_type": "text"
      },
      "source": [
        "### Since we are using cross validation, We'll have `n` different predictions (where n is the number of fold)"
      ]
    },
    {
      "cell_type": "code",
      "metadata": {
        "id": "VO7c0-a6sjLD",
        "colab_type": "code",
        "colab": {}
      },
      "source": [
        "oof_prediction = pd.DataFrame(test_oofs).T"
      ],
      "execution_count": null,
      "outputs": []
    },
    {
      "cell_type": "code",
      "metadata": {
        "id": "vKYZMsjWsjLU",
        "colab_type": "code",
        "colab": {}
      },
      "source": [
        "oof_prediction.columns = ['fold_'+ str(i) for i in range(1, n_skf + 1)]"
      ],
      "execution_count": null,
      "outputs": []
    },
    {
      "cell_type": "code",
      "metadata": {
        "id": "w6aN3-LPsjLk",
        "colab_type": "code",
        "colab": {
          "base_uri": "https://localhost:8080/",
          "height": 224
        },
        "outputId": "be4c559a-f9a7-4ca2-879a-22163185a813"
      },
      "source": [
        "oof_prediction.head()"
      ],
      "execution_count": null,
      "outputs": [
        {
          "output_type": "execute_result",
          "data": {
            "text/html": [
              "<div>\n",
              "<style scoped>\n",
              "    .dataframe tbody tr th:only-of-type {\n",
              "        vertical-align: middle;\n",
              "    }\n",
              "\n",
              "    .dataframe tbody tr th {\n",
              "        vertical-align: top;\n",
              "    }\n",
              "\n",
              "    .dataframe thead th {\n",
              "        text-align: right;\n",
              "    }\n",
              "</style>\n",
              "<table border=\"1\" class=\"dataframe\">\n",
              "  <thead>\n",
              "    <tr style=\"text-align: right;\">\n",
              "      <th></th>\n",
              "      <th>fold_1</th>\n",
              "      <th>fold_2</th>\n",
              "      <th>fold_3</th>\n",
              "      <th>fold_4</th>\n",
              "      <th>fold_5</th>\n",
              "    </tr>\n",
              "  </thead>\n",
              "  <tbody>\n",
              "    <tr>\n",
              "      <th>0</th>\n",
              "      <td>0.333799</td>\n",
              "      <td>0.336533</td>\n",
              "      <td>0.368278</td>\n",
              "      <td>0.349320</td>\n",
              "      <td>0.340148</td>\n",
              "    </tr>\n",
              "    <tr>\n",
              "      <th>1</th>\n",
              "      <td>0.453731</td>\n",
              "      <td>0.379594</td>\n",
              "      <td>0.378314</td>\n",
              "      <td>0.321132</td>\n",
              "      <td>0.360573</td>\n",
              "    </tr>\n",
              "    <tr>\n",
              "      <th>2</th>\n",
              "      <td>0.338883</td>\n",
              "      <td>0.390586</td>\n",
              "      <td>0.429316</td>\n",
              "      <td>0.399253</td>\n",
              "      <td>0.345758</td>\n",
              "    </tr>\n",
              "    <tr>\n",
              "      <th>3</th>\n",
              "      <td>0.724276</td>\n",
              "      <td>0.715292</td>\n",
              "      <td>0.717721</td>\n",
              "      <td>0.745203</td>\n",
              "      <td>0.729277</td>\n",
              "    </tr>\n",
              "    <tr>\n",
              "      <th>4</th>\n",
              "      <td>0.215902</td>\n",
              "      <td>0.197030</td>\n",
              "      <td>0.166876</td>\n",
              "      <td>0.141364</td>\n",
              "      <td>0.166670</td>\n",
              "    </tr>\n",
              "  </tbody>\n",
              "</table>\n",
              "</div>"
            ],
            "text/plain": [
              "     fold_1    fold_2    fold_3    fold_4    fold_5\n",
              "0  0.333799  0.336533  0.368278  0.349320  0.340148\n",
              "1  0.453731  0.379594  0.378314  0.321132  0.360573\n",
              "2  0.338883  0.390586  0.429316  0.399253  0.345758\n",
              "3  0.724276  0.715292  0.717721  0.745203  0.729277\n",
              "4  0.215902  0.197030  0.166876  0.141364  0.166670"
            ]
          },
          "metadata": {
            "tags": []
          },
          "execution_count": 21
        }
      ]
    },
    {
      "cell_type": "code",
      "metadata": {
        "id": "LUBJMAt5sjLz",
        "colab_type": "code",
        "colab": {}
      },
      "source": [
        "sub = pd.read_csv('/content/drive/My Drive/DSN AI Bootcamp Qualification Hackathon/SampleSubmission.csv')"
      ],
      "execution_count": null,
      "outputs": []
    },
    {
      "cell_type": "code",
      "metadata": {
        "id": "cAb7F5E-sjMB",
        "colab_type": "code",
        "colab": {}
      },
      "source": [
        "### We take the mean of all 5 predictions to generate submission"
      ],
      "execution_count": null,
      "outputs": []
    },
    {
      "cell_type": "code",
      "metadata": {
        "id": "bkDFca5-sjMR",
        "colab_type": "code",
        "colab": {}
      },
      "source": [
        "sub['default_status'] = np.mean(test_oofs, axis = 0)"
      ],
      "execution_count": null,
      "outputs": []
    },
    {
      "cell_type": "code",
      "metadata": {
        "id": "m5ib6M4isjMk",
        "colab_type": "code",
        "colab": {}
      },
      "source": [
        "sub.to_csv('submit1.csv', index = False)"
      ],
      "execution_count": null,
      "outputs": []
    },
    {
      "cell_type": "markdown",
      "metadata": {
        "id": "u0VGKog9sjMz",
        "colab_type": "text"
      },
      "source": [
        "### Suggestions:\n",
        "- Base your feature selection on the local cv score i.e When you add, remove or engineer feature check `score` (cell 17)\n",
        "- Increase number of fold to 10, 15. See how score imporve on leaderboard.\n",
        "- Try differnt value of learning rate. I'll advice anything < 0.01\n",
        "- Create as many features as possible.\n",
        "- Find code for Xgboost and lgbm using this method of modelling, or better still tweak this one (mind you, names of parameters may be slightly different."
      ]
    },
    {
      "cell_type": "code",
      "metadata": {
        "id": "7d8UrxzosjM1",
        "colab_type": "code",
        "colab": {}
      },
      "source": [
        ""
      ],
      "execution_count": null,
      "outputs": []
    }
  ]
}