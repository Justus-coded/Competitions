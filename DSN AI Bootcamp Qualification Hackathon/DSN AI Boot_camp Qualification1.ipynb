{
  "nbformat": 4,
  "nbformat_minor": 0,
  "metadata": {
    "kernelspec": {
      "language": "python",
      "display_name": "Python 3",
      "name": "python3"
    },
    "language_info": {
      "pygments_lexer": "ipython3",
      "nbconvert_exporter": "python",
      "version": "3.6.4",
      "file_extension": ".py",
      "codemirror_mode": {
        "name": "ipython",
        "version": 3
      },
      "name": "python",
      "mimetype": "text/x-python"
    },
    "colab": {
      "name": "DSN AI Boot camp Qualification1.ipynb",
      "provenance": [],
      "include_colab_link": true
    },
    "accelerator": "GPU"
  },
  "cells": [
    {
      "cell_type": "markdown",
      "metadata": {
        "id": "view-in-github",
        "colab_type": "text"
      },
      "source": [
        "<a href=\"https://colab.research.google.com/github/Justus-coded/Competitions/blob/master/DSN%20AI%20Bootcamp%20Qualification%20Hackathon/DSN%20AI%20Boot_camp%20Qualification1.ipynb\" target=\"_parent\"><img src=\"https://colab.research.google.com/assets/colab-badge.svg\" alt=\"Open In Colab\"/></a>"
      ]
    },
    {
      "cell_type": "code",
      "metadata": {
        "id": "lTYsttC3sjHh",
        "trusted": true,
        "outputId": "62128a16-a45f-4b09-8e4c-580e3783a591",
        "colab": {
          "base_uri": "https://localhost:8080/",
          "height": 72
        }
      },
      "source": [
        "import pandas as pd\n",
        "import numpy as np\n",
        "import seaborn as sns\n",
        "import matplotlib.pyplot as plt\n",
        " \n",
        "%matplotlib inline\n",
        " \n",
        "import warnings\n",
        "warnings.filterwarnings('ignore')"
      ],
      "execution_count": 1,
      "outputs": [
        {
          "output_type": "stream",
          "text": [
            "/usr/local/lib/python3.6/dist-packages/statsmodels/tools/_testing.py:19: FutureWarning: pandas.util.testing is deprecated. Use the functions in the public API at pandas.testing instead.\n",
            "  import pandas.util.testing as tm\n"
          ],
          "name": "stderr"
        }
      ]
    },
    {
      "cell_type": "code",
      "metadata": {
        "id": "lJdWtcbpgDWK",
        "trusted": true,
        "outputId": "a50c6088-0b2a-4e43-a89e-1d104f522ee0",
        "colab": {
          "base_uri": "https://localhost:8080/",
          "height": 34
        }
      },
      "source": [
        "from google.colab import drive\n",
        "drive.mount('/content/drive')"
      ],
      "execution_count": 2,
      "outputs": [
        {
          "output_type": "stream",
          "text": [
            "Mounted at /content/drive\n"
          ],
          "name": "stdout"
        }
      ]
    },
    {
      "cell_type": "code",
      "metadata": {
        "id": "ygKIugwesjH5",
        "trusted": true
      },
      "source": [
        "train = pd.read_csv('/content/drive/My Drive/DSN AI Bootcamp Qualification Hackathon/Train.csv')\n",
        "test  = pd.read_csv('/content/drive/My Drive/DSN AI Bootcamp Qualification Hackathon/Test.csv')\n",
        "\n",
        "#train = pd.read_csv('../input/dsn-ai-bootcamp-data/Train.csv')\n",
        "#test = pd.read_csv('../input/dsn-ai-bootcamp-data/Test.csv')\n",
        "#sub = pd.read_csv('../input/dsn-ai-bootcamp-data/SampleSubmission.csv')"
      ],
      "execution_count": 3,
      "outputs": []
    },
    {
      "cell_type": "code",
      "metadata": {
        "id": "ixvLHcBnsjIL",
        "trusted": true
      },
      "source": [
        "dict_ = {'charge': 1,\n",
        "         'lending': 0}\n",
        " \n",
        "target_map = {\n",
        "    'yes': 1,\n",
        "    'no': 0}\n",
        " \n",
        "train.default_status.replace(target_map, inplace = True)\n",
        " \n",
        "train['form_field47'].replace(dict_, inplace = True)\n",
        "test['form_field47'].replace(dict_, inplace = True)"
      ],
      "execution_count": 4,
      "outputs": []
    },
    {
      "cell_type": "code",
      "metadata": {
        "id": "6ZJIgEJkhkqM",
        "trusted": true,
        "outputId": "d61f7ecd-f18a-416d-e651-430b964df968",
        "colab": {
          "base_uri": "https://localhost:8080/",
          "height": 356
        }
      },
      "source": [
        "pip install catboost"
      ],
      "execution_count": 7,
      "outputs": [
        {
          "output_type": "stream",
          "text": [
            "Collecting catboost\n",
            "\u001b[?25l  Downloading https://files.pythonhosted.org/packages/90/86/c3dcb600b4f9e7584ed90ea9d30a717fb5c0111574675f442c3e7bc19535/catboost-0.24.1-cp36-none-manylinux1_x86_64.whl (66.1MB)\n",
            "\u001b[K     |████████████████████████████████| 66.1MB 44kB/s \n",
            "\u001b[?25hRequirement already satisfied: matplotlib in /usr/local/lib/python3.6/dist-packages (from catboost) (3.2.2)\n",
            "Requirement already satisfied: plotly in /usr/local/lib/python3.6/dist-packages (from catboost) (4.4.1)\n",
            "Requirement already satisfied: scipy in /usr/local/lib/python3.6/dist-packages (from catboost) (1.4.1)\n",
            "Requirement already satisfied: graphviz in /usr/local/lib/python3.6/dist-packages (from catboost) (0.10.1)\n",
            "Requirement already satisfied: numpy>=1.16.0 in /usr/local/lib/python3.6/dist-packages (from catboost) (1.18.5)\n",
            "Requirement already satisfied: six in /usr/local/lib/python3.6/dist-packages (from catboost) (1.15.0)\n",
            "Requirement already satisfied: pandas>=0.24.0 in /usr/local/lib/python3.6/dist-packages (from catboost) (1.0.5)\n",
            "Requirement already satisfied: kiwisolver>=1.0.1 in /usr/local/lib/python3.6/dist-packages (from matplotlib->catboost) (1.2.0)\n",
            "Requirement already satisfied: python-dateutil>=2.1 in /usr/local/lib/python3.6/dist-packages (from matplotlib->catboost) (2.8.1)\n",
            "Requirement already satisfied: cycler>=0.10 in /usr/local/lib/python3.6/dist-packages (from matplotlib->catboost) (0.10.0)\n",
            "Requirement already satisfied: pyparsing!=2.0.4,!=2.1.2,!=2.1.6,>=2.0.1 in /usr/local/lib/python3.6/dist-packages (from matplotlib->catboost) (2.4.7)\n",
            "Requirement already satisfied: retrying>=1.3.3 in /usr/local/lib/python3.6/dist-packages (from plotly->catboost) (1.3.3)\n",
            "Requirement already satisfied: pytz>=2017.2 in /usr/local/lib/python3.6/dist-packages (from pandas>=0.24.0->catboost) (2018.9)\n",
            "Installing collected packages: catboost\n",
            "Successfully installed catboost-0.24.1\n"
          ],
          "name": "stdout"
        }
      ]
    },
    {
      "cell_type": "code",
      "metadata": {
        "id": "nA1fJeNFsjIc",
        "trusted": true
      },
      "source": [
        "from sklearn.metrics import roc_auc_score\n",
        "from catboost import CatBoostClassifier"
      ],
      "execution_count": 8,
      "outputs": []
    },
    {
      "cell_type": "code",
      "metadata": {
        "id": "kw9u6xuNsjIt",
        "trusted": true
      },
      "source": [
        "features = train.select_dtypes(exclude = object).columns.drop(['default_status'])"
      ],
      "execution_count": 9,
      "outputs": []
    },
    {
      "cell_type": "code",
      "metadata": {
        "id": "WUnZZc7-sjI9",
        "trusted": true
      },
      "source": [
        "# features"
      ],
      "execution_count": 10,
      "outputs": []
    },
    {
      "cell_type": "code",
      "metadata": {
        "id": "hPhK0BEosjJM",
        "trusted": true
      },
      "source": [
        "for col in features:\n",
        "    train[col].fillna(-999, inplace = True)\n",
        "    test[col].fillna(-999, inplace = True)"
      ],
      "execution_count": 11,
      "outputs": []
    },
    {
      "cell_type": "code",
      "metadata": {
        "trusted": true,
        "id": "j0Q2psFZF1Oy"
      },
      "source": [
        "train['form_field1*formfield2'] = train['form_field1'] * train['form_field2']\n",
        "train['form_field1/formfield2'] = train['form_field1'] / train['form_field2']\n",
        "\n",
        "train['form_field1*formfield3'] = train['form_field1'] * train.form_field3\n",
        "train['form_field1*formfield4'] = train.form_field1 * train.form_field4\n",
        "train['form_field1*formfield5'] = train.form_field1 * train.form_field5\n",
        "\n",
        "#new_train['form_field30*formfield41'] = new_train['form_field30'] * new_train['form_field41']\n",
        "##new_train['form_field31*formfield40'] = new_train['form_field31'] * new_train['form_field40']\n",
        "\n",
        "train['form_field6+field7'] =  (train.form_field6 + train.form_field8)/2\n",
        "\n",
        "train['form_field1*formfield6'] = train['form_field1'] * train['form_field6']\n",
        "train['form_field2*formfield6'] = train['form_field2'] * train['form_field6']\n",
        "\n",
        "train['form_field1*formfield9'] = train['form_field1'] * train['form_field9']\n",
        "train['form_field2*formfield9'] = train['form_field2'] * train['form_field9']\n",
        "\n",
        "train['form_field1*formfield37'] = train['form_field1'] * train['form_field37']\n",
        "train['form_field2*formfield37'] = train['form_field2'] * train['form_field37']\n",
        "\n",
        "train['form_field9*formfield6'] = train['form_field9'] * train['form_field6']\n",
        "train['form_field37*formfield6'] = train['form_field37'] * train['form_field6']\n",
        "\n",
        "train['form_field9*formfield37'] = train['form_field9'] * train['form_field37']\n",
        "train['form_field1*formfield8'] = train['form_field1'] * train['form_field8']"
      ],
      "execution_count": 12,
      "outputs": []
    },
    {
      "cell_type": "code",
      "metadata": {
        "trusted": true,
        "id": "5ilqKp6lF1O8"
      },
      "source": [
        "test['form_field1*formfield2'] = test['form_field1'] * test['form_field2']\n",
        "test['form_field1/formfield2'] = test['form_field1'] / test['form_field2']\n",
        "\n",
        "test['form_field1*formfield3'] = test['form_field1'] * test.form_field3\n",
        "test['form_field1*formfield4'] = test.form_field1 * test.form_field4\n",
        "test['form_field1*formfield5'] = test.form_field1 * test.form_field5\n",
        "\n",
        "test['form_field6+field7'] =  (test.form_field6 + test.form_field8)/2\n",
        "\n",
        "test['form_field1*formfield6'] = test['form_field1'] * test['form_field6']\n",
        "test['form_field2*formfield6'] = test['form_field2'] * test['form_field6']\n",
        "\n",
        "test['form_field1*formfield9'] = test['form_field1'] * test['form_field9']\n",
        "test['form_field2*formfield9'] = test['form_field2'] * test['form_field9']\n",
        "\n",
        "test['form_field1*formfield37'] = test['form_field1'] * test['form_field37']\n",
        "test['form_field2*formfield37'] = test['form_field2'] * test['form_field37']\n",
        "\n",
        "test['form_field9*formfield6'] = test['form_field9'] * test['form_field6']\n",
        "test['form_field37*formfield6'] = test['form_field37'] *test['form_field6']\n",
        "\n",
        "test['form_field9*formfield37'] = test['form_field9'] * test['form_field37']\n",
        "test['form_field1*formfield8'] = test['form_field1'] * test['form_field8']"
      ],
      "execution_count": 13,
      "outputs": []
    },
    {
      "cell_type": "code",
      "metadata": {
        "id": "qsaVd8sGsjJi",
        "trusted": true
      },
      "source": [
        "X = train[features]\n",
        "y = train['default_status']"
      ],
      "execution_count": 14,
      "outputs": []
    },
    {
      "cell_type": "code",
      "metadata": {
        "id": "2vzw4M_-sjJw",
        "trusted": true
      },
      "source": [
        "from sklearn.model_selection import StratifiedKFold"
      ],
      "execution_count": 15,
      "outputs": []
    },
    {
      "cell_type": "code",
      "metadata": {
        "id": "Pqumr-QosjJ-",
        "trusted": true
      },
      "source": [
        "def metric(y, pred):\n",
        "    return roc_auc_score(y, pred, labels=[0, 1])"
      ],
      "execution_count": 16,
      "outputs": []
    },
    {
      "cell_type": "code",
      "metadata": {
        "id": "mSzq68IusjKM",
        "trusted": true
      },
      "source": [
        "# Specify number of folds\n",
        "n_skf = 10\n",
        "kf = StratifiedKFold(n_skf)\n",
        " \n",
        " \n",
        "#seed = 42\n",
        " \n",
        "## Manually tweak the hyperparameter, learning rate and n_estimators especially\n",
        "params = {'max_depth':8,\n",
        "    'n_estimators': 5000,\n",
        "    'learning_rate': 0.008,\n",
        "    'objective': 'CrossEntropy',\n",
        "      'eval_metric':'AUC',\n",
        "    \n",
        "    'early_stopping_rounds': 200,\n",
        "    'use_best_model': True,\n",
        "}"
      ],
      "execution_count": 34,
      "outputs": []
    },
    {
      "cell_type": "code",
      "metadata": {
        "scrolled": true,
        "id": "CVC4mh-nsjKa",
        "trusted": true,
        "outputId": "e9e9650e-b198-431d-a559-660c1510c6f5",
        "colab": {
          "base_uri": "https://localhost:8080/",
          "height": 1000
        }
      },
      "source": [
        "score_list = []\n",
        "score = 0\n",
        "test_oofs = []\n",
        " \n",
        "for i, (tr_idx, vr_idx) in enumerate(kf.split(X, y)):\n",
        "    \n",
        "    xtrain, ytrain = X.loc[tr_idx, features], y.loc[tr_idx]\n",
        "    xval, yval = X.loc[vr_idx, features], y.loc[vr_idx]\n",
        " \n",
        "    model = CatBoostClassifier(**params, task_type='GPU', random_seed = i)\n",
        "    model.fit(xtrain, ytrain, eval_set=[(xval,yval)], verbose=100)\n",
        "    \n",
        "    p = model.predict_proba(xval)[:, 1]\n",
        "    sc = metric(yval, p)\n",
        "    score_list.append(sc)\n",
        "    score += sc/n_skf\n",
        "    \n",
        "    pred = model.predict_proba(test[features])[:, 1]\n",
        "    test_oofs.append(pred)\n",
        " \n",
        "    print('Fold {} : {}'.format(i, sc))\n",
        " \n",
        "print()\n",
        "print()\n",
        "print('Avg log : ', score)"
      ],
      "execution_count": 35,
      "outputs": [
        {
          "output_type": "stream",
          "text": [
            "0:\tlearn: 0.8053272\ttest: 0.7915943\tbest: 0.7915943 (0)\ttotal: 28.5ms\tremaining: 2m 22s\n",
            "100:\tlearn: 0.8354975\ttest: 0.8185585\tbest: 0.8185585 (100)\ttotal: 1.92s\tremaining: 1m 33s\n",
            "200:\tlearn: 0.8415570\ttest: 0.8226679\tbest: 0.8226879 (199)\ttotal: 3.71s\tremaining: 1m 28s\n",
            "300:\tlearn: 0.8461711\ttest: 0.8249180\tbest: 0.8249180 (300)\ttotal: 5.45s\tremaining: 1m 25s\n",
            "400:\tlearn: 0.8499628\ttest: 0.8262463\tbest: 0.8262523 (398)\ttotal: 7.18s\tremaining: 1m 22s\n",
            "500:\tlearn: 0.8533267\ttest: 0.8272718\tbest: 0.8272718 (500)\ttotal: 8.92s\tremaining: 1m 20s\n",
            "600:\tlearn: 0.8566343\ttest: 0.8283615\tbest: 0.8283615 (600)\ttotal: 10.7s\tremaining: 1m 18s\n",
            "700:\tlearn: 0.8594416\ttest: 0.8290035\tbest: 0.8290073 (699)\ttotal: 12.4s\tremaining: 1m 15s\n",
            "800:\tlearn: 0.8621363\ttest: 0.8295240\tbest: 0.8295240 (800)\ttotal: 14.1s\tremaining: 1m 14s\n",
            "900:\tlearn: 0.8646711\ttest: 0.8299640\tbest: 0.8299645 (899)\ttotal: 15.9s\tremaining: 1m 12s\n",
            "1000:\tlearn: 0.8672019\ttest: 0.8302915\tbest: 0.8303413 (995)\ttotal: 17.7s\tremaining: 1m 10s\n",
            "1100:\tlearn: 0.8696694\ttest: 0.8306851\tbest: 0.8306851 (1100)\ttotal: 19.4s\tremaining: 1m 8s\n",
            "1200:\tlearn: 0.8720608\ttest: 0.8309290\tbest: 0.8309470 (1192)\ttotal: 21.2s\tremaining: 1m 7s\n",
            "1300:\tlearn: 0.8744673\ttest: 0.8312739\tbest: 0.8312739 (1300)\ttotal: 22.9s\tremaining: 1m 5s\n",
            "1400:\tlearn: 0.8769721\ttest: 0.8315423\tbest: 0.8315423 (1400)\ttotal: 24.7s\tremaining: 1m 3s\n",
            "1500:\tlearn: 0.8795005\ttest: 0.8318030\tbest: 0.8318089 (1497)\ttotal: 26.4s\tremaining: 1m 1s\n",
            "1600:\tlearn: 0.8818853\ttest: 0.8321297\tbest: 0.8321297 (1600)\ttotal: 28.1s\tremaining: 59.8s\n",
            "1700:\tlearn: 0.8843538\ttest: 0.8323082\tbest: 0.8323407 (1682)\ttotal: 29.9s\tremaining: 58s\n",
            "1800:\tlearn: 0.8867165\ttest: 0.8323966\tbest: 0.8323966 (1800)\ttotal: 31.7s\tremaining: 56.4s\n",
            "1900:\tlearn: 0.8890795\ttest: 0.8325717\tbest: 0.8325717 (1900)\ttotal: 33.5s\tremaining: 54.5s\n",
            "2000:\tlearn: 0.8913450\ttest: 0.8325395\tbest: 0.8325923 (1903)\ttotal: 35.2s\tremaining: 52.8s\n",
            "2100:\tlearn: 0.8936259\ttest: 0.8328020\tbest: 0.8328083 (2098)\ttotal: 37s\tremaining: 51.1s\n",
            "2200:\tlearn: 0.8957992\ttest: 0.8329660\tbest: 0.8329861 (2195)\ttotal: 38.8s\tremaining: 49.3s\n",
            "2300:\tlearn: 0.8978735\ttest: 0.8330466\tbest: 0.8330598 (2299)\ttotal: 40.5s\tremaining: 47.5s\n",
            "2400:\tlearn: 0.8998606\ttest: 0.8330534\tbest: 0.8330808 (2323)\ttotal: 42.3s\tremaining: 45.8s\n",
            "2500:\tlearn: 0.9018752\ttest: 0.8331264\tbest: 0.8331287 (2498)\ttotal: 44.1s\tremaining: 44s\n",
            "2600:\tlearn: 0.9038035\ttest: 0.8333093\tbest: 0.8333093 (2600)\ttotal: 45.9s\tremaining: 42.3s\n",
            "2700:\tlearn: 0.9056769\ttest: 0.8333567\tbest: 0.8333614 (2682)\ttotal: 47.7s\tremaining: 40.6s\n",
            "2800:\tlearn: 0.9075753\ttest: 0.8334585\tbest: 0.8334960 (2752)\ttotal: 49.4s\tremaining: 38.8s\n",
            "2900:\tlearn: 0.9094179\ttest: 0.8335169\tbest: 0.8335301 (2899)\ttotal: 51.1s\tremaining: 37s\n",
            "3000:\tlearn: 0.9112436\ttest: 0.8335801\tbest: 0.8336044 (2981)\ttotal: 52.9s\tremaining: 35.3s\n",
            "3100:\tlearn: 0.9129760\ttest: 0.8336523\tbest: 0.8336523 (3100)\ttotal: 54.7s\tremaining: 33.5s\n",
            "3200:\tlearn: 0.9146062\ttest: 0.8335847\tbest: 0.8336809 (3128)\ttotal: 56.4s\tremaining: 31.7s\n",
            "3300:\tlearn: 0.9162673\ttest: 0.8335923\tbest: 0.8336809 (3128)\ttotal: 58.2s\tremaining: 30s\n",
            "bestTest = 0.8336809278\n",
            "bestIteration = 3128\n",
            "Shrink model to first 3129 iterations.\n",
            "Fold 0 : 0.8336811281349179\n",
            "0:\tlearn: 0.8084332\ttest: 0.8116413\tbest: 0.8116413 (0)\ttotal: 18ms\tremaining: 1m 29s\n",
            "100:\tlearn: 0.8337348\ttest: 0.8338082\tbest: 0.8338082 (100)\ttotal: 1.75s\tremaining: 1m 24s\n",
            "200:\tlearn: 0.8398705\ttest: 0.8380123\tbest: 0.8380141 (199)\ttotal: 3.49s\tremaining: 1m 23s\n",
            "300:\tlearn: 0.8444965\ttest: 0.8401988\tbest: 0.8401988 (300)\ttotal: 5.21s\tremaining: 1m 21s\n",
            "400:\tlearn: 0.8483860\ttest: 0.8420948\tbest: 0.8420948 (400)\ttotal: 6.98s\tremaining: 1m 20s\n",
            "500:\tlearn: 0.8517861\ttest: 0.8433842\tbest: 0.8433842 (500)\ttotal: 8.82s\tremaining: 1m 19s\n",
            "600:\tlearn: 0.8547307\ttest: 0.8442009\tbest: 0.8442009 (600)\ttotal: 10.6s\tremaining: 1m 17s\n",
            "700:\tlearn: 0.8578083\ttest: 0.8449216\tbest: 0.8449216 (700)\ttotal: 12.4s\tremaining: 1m 15s\n",
            "800:\tlearn: 0.8604285\ttest: 0.8455039\tbest: 0.8455039 (800)\ttotal: 14.1s\tremaining: 1m 14s\n",
            "900:\tlearn: 0.8630022\ttest: 0.8460232\tbest: 0.8460232 (900)\ttotal: 15.9s\tremaining: 1m 12s\n",
            "1000:\tlearn: 0.8655758\ttest: 0.8463846\tbest: 0.8463891 (999)\ttotal: 17.7s\tremaining: 1m 10s\n",
            "1100:\tlearn: 0.8680642\ttest: 0.8468297\tbest: 0.8468297 (1100)\ttotal: 19.5s\tremaining: 1m 8s\n",
            "1200:\tlearn: 0.8704769\ttest: 0.8470677\tbest: 0.8470691 (1198)\ttotal: 21.2s\tremaining: 1m 7s\n",
            "1300:\tlearn: 0.8727446\ttest: 0.8473715\tbest: 0.8473797 (1290)\ttotal: 23s\tremaining: 1m 5s\n",
            "1400:\tlearn: 0.8753243\ttest: 0.8476350\tbest: 0.8476350 (1400)\ttotal: 24.7s\tremaining: 1m 3s\n",
            "1500:\tlearn: 0.8778822\ttest: 0.8478320\tbest: 0.8478499 (1496)\ttotal: 26.4s\tremaining: 1m 1s\n",
            "1600:\tlearn: 0.8804591\ttest: 0.8480546\tbest: 0.8480546 (1600)\ttotal: 28.2s\tremaining: 59.8s\n",
            "1700:\tlearn: 0.8829092\ttest: 0.8480755\tbest: 0.8481078 (1634)\ttotal: 29.9s\tremaining: 58s\n",
            "1800:\tlearn: 0.8852576\ttest: 0.8481319\tbest: 0.8481390 (1794)\ttotal: 31.7s\tremaining: 56.3s\n",
            "1900:\tlearn: 0.8875353\ttest: 0.8482413\tbest: 0.8482650 (1893)\ttotal: 33.5s\tremaining: 54.6s\n",
            "2000:\tlearn: 0.8897621\ttest: 0.8483737\tbest: 0.8483756 (1995)\ttotal: 35.3s\tremaining: 52.9s\n",
            "2100:\tlearn: 0.8919665\ttest: 0.8484563\tbest: 0.8484812 (2077)\ttotal: 37s\tremaining: 51.1s\n",
            "2200:\tlearn: 0.8942836\ttest: 0.8485610\tbest: 0.8485652 (2194)\ttotal: 38.8s\tremaining: 49.3s\n",
            "2300:\tlearn: 0.8964365\ttest: 0.8486567\tbest: 0.8486711 (2284)\ttotal: 40.5s\tremaining: 47.5s\n",
            "2400:\tlearn: 0.8984723\ttest: 0.8486943\tbest: 0.8487329 (2385)\ttotal: 42.3s\tremaining: 45.8s\n",
            "2500:\tlearn: 0.9004934\ttest: 0.8487551\tbest: 0.8487827 (2459)\ttotal: 44s\tremaining: 44s\n",
            "2600:\tlearn: 0.9025938\ttest: 0.8488649\tbest: 0.8489070 (2585)\ttotal: 45.8s\tremaining: 42.2s\n",
            "2700:\tlearn: 0.9044590\ttest: 0.8488632\tbest: 0.8489070 (2585)\ttotal: 47.5s\tremaining: 40.5s\n",
            "2800:\tlearn: 0.9064117\ttest: 0.8488830\tbest: 0.8489341 (2730)\ttotal: 49.3s\tremaining: 38.7s\n",
            "2900:\tlearn: 0.9082237\ttest: 0.8489348\tbest: 0.8489348 (2900)\ttotal: 51.1s\tremaining: 36.9s\n",
            "3000:\tlearn: 0.9102221\ttest: 0.8489291\tbest: 0.8489789 (2990)\ttotal: 52.8s\tremaining: 35.2s\n",
            "3100:\tlearn: 0.9120703\ttest: 0.8488577\tbest: 0.8489789 (2990)\ttotal: 54.6s\tremaining: 33.4s\n",
            "bestTest = 0.8489789367\n",
            "bestIteration = 2990\n",
            "Shrink model to first 2991 iterations.\n",
            "Fold 1 : 0.8489790976445333\n",
            "0:\tlearn: 0.8065353\ttest: 0.8052201\tbest: 0.8052201 (0)\ttotal: 18.2ms\tremaining: 1m 30s\n",
            "100:\tlearn: 0.8347555\ttest: 0.8278944\tbest: 0.8278944 (100)\ttotal: 1.78s\tremaining: 1m 26s\n",
            "200:\tlearn: 0.8408114\ttest: 0.8317501\tbest: 0.8317501 (200)\ttotal: 3.53s\tremaining: 1m 24s\n",
            "300:\tlearn: 0.8453218\ttest: 0.8343291\tbest: 0.8343291 (300)\ttotal: 5.28s\tremaining: 1m 22s\n",
            "400:\tlearn: 0.8491745\ttest: 0.8359206\tbest: 0.8359206 (400)\ttotal: 7.02s\tremaining: 1m 20s\n",
            "500:\tlearn: 0.8526390\ttest: 0.8369956\tbest: 0.8369956 (500)\ttotal: 8.74s\tremaining: 1m 18s\n",
            "600:\tlearn: 0.8558543\ttest: 0.8377255\tbest: 0.8377290 (598)\ttotal: 10.5s\tremaining: 1m 17s\n",
            "700:\tlearn: 0.8587220\ttest: 0.8383568\tbest: 0.8383568 (700)\ttotal: 12.3s\tremaining: 1m 15s\n",
            "800:\tlearn: 0.8614819\ttest: 0.8387687\tbest: 0.8387742 (784)\ttotal: 14.1s\tremaining: 1m 14s\n",
            "900:\tlearn: 0.8640698\ttest: 0.8390121\tbest: 0.8390132 (877)\ttotal: 15.8s\tremaining: 1m 12s\n",
            "1000:\tlearn: 0.8664092\ttest: 0.8391780\tbest: 0.8391795 (998)\ttotal: 17.6s\tremaining: 1m 10s\n",
            "1100:\tlearn: 0.8689042\ttest: 0.8394593\tbest: 0.8394598 (1098)\ttotal: 19.3s\tremaining: 1m 8s\n",
            "1200:\tlearn: 0.8712714\ttest: 0.8397101\tbest: 0.8397182 (1195)\ttotal: 21.1s\tremaining: 1m 6s\n",
            "1300:\tlearn: 0.8736230\ttest: 0.8400272\tbest: 0.8400317 (1290)\ttotal: 22.9s\tremaining: 1m 5s\n",
            "1400:\tlearn: 0.8759926\ttest: 0.8401397\tbest: 0.8401397 (1400)\ttotal: 24.6s\tremaining: 1m 3s\n",
            "1500:\tlearn: 0.8786184\ttest: 0.8403370\tbest: 0.8403370 (1500)\ttotal: 26.4s\tremaining: 1m 1s\n",
            "1600:\tlearn: 0.8812746\ttest: 0.8405047\tbest: 0.8405047 (1600)\ttotal: 28.1s\tremaining: 59.6s\n",
            "1700:\tlearn: 0.8837440\ttest: 0.8406850\tbest: 0.8406906 (1696)\ttotal: 29.8s\tremaining: 57.8s\n",
            "1800:\tlearn: 0.8860976\ttest: 0.8408230\tbest: 0.8408644 (1781)\ttotal: 31.6s\tremaining: 56.2s\n",
            "1900:\tlearn: 0.8883896\ttest: 0.8408957\tbest: 0.8409122 (1896)\ttotal: 33.4s\tremaining: 54.4s\n",
            "2000:\tlearn: 0.8908096\ttest: 0.8408291\tbest: 0.8409122 (1896)\ttotal: 35.2s\tremaining: 52.7s\n",
            "2100:\tlearn: 0.8929981\ttest: 0.8409348\tbest: 0.8409348 (2100)\ttotal: 36.9s\tremaining: 50.9s\n",
            "2200:\tlearn: 0.8952329\ttest: 0.8409801\tbest: 0.8409938 (2135)\ttotal: 38.6s\tremaining: 49.1s\n",
            "2300:\tlearn: 0.8973331\ttest: 0.8408706\tbest: 0.8409952 (2201)\ttotal: 40.4s\tremaining: 47.4s\n",
            "2400:\tlearn: 0.8993244\ttest: 0.8409498\tbest: 0.8409952 (2201)\ttotal: 42.2s\tremaining: 45.6s\n",
            "bestTest = 0.8409951627\n",
            "bestIteration = 2201\n",
            "Shrink model to first 2202 iterations.\n",
            "Fold 2 : 0.8409948224883962\n",
            "0:\tlearn: 0.8099423\ttest: 0.7971875\tbest: 0.7971875 (0)\ttotal: 18.3ms\tremaining: 1m 31s\n",
            "100:\tlearn: 0.8347761\ttest: 0.8203900\tbest: 0.8204227 (99)\ttotal: 1.81s\tremaining: 1m 27s\n",
            "200:\tlearn: 0.8410704\ttest: 0.8249244\tbest: 0.8249244 (200)\ttotal: 3.57s\tremaining: 1m 25s\n",
            "300:\tlearn: 0.8460562\ttest: 0.8280446\tbest: 0.8280510 (299)\ttotal: 5.29s\tremaining: 1m 22s\n",
            "400:\tlearn: 0.8497612\ttest: 0.8299487\tbest: 0.8299487 (400)\ttotal: 7.04s\tremaining: 1m 20s\n",
            "500:\tlearn: 0.8530215\ttest: 0.8312065\tbest: 0.8312065 (500)\ttotal: 8.8s\tremaining: 1m 19s\n",
            "600:\tlearn: 0.8562612\ttest: 0.8321679\tbest: 0.8321703 (598)\ttotal: 10.6s\tremaining: 1m 17s\n",
            "700:\tlearn: 0.8590638\ttest: 0.8327890\tbest: 0.8327890 (700)\ttotal: 12.3s\tremaining: 1m 15s\n",
            "800:\tlearn: 0.8618500\ttest: 0.8334507\tbest: 0.8334507 (800)\ttotal: 14.1s\tremaining: 1m 13s\n",
            "900:\tlearn: 0.8645335\ttest: 0.8338604\tbest: 0.8338608 (899)\ttotal: 15.8s\tremaining: 1m 11s\n",
            "1000:\tlearn: 0.8668982\ttest: 0.8342026\tbest: 0.8342092 (998)\ttotal: 17.5s\tremaining: 1m 9s\n",
            "1100:\tlearn: 0.8692425\ttest: 0.8343395\tbest: 0.8343395 (1100)\ttotal: 19.2s\tremaining: 1m 8s\n",
            "1200:\tlearn: 0.8717296\ttest: 0.8345634\tbest: 0.8345866 (1193)\ttotal: 21s\tremaining: 1m 6s\n",
            "1300:\tlearn: 0.8740361\ttest: 0.8347965\tbest: 0.8348008 (1284)\ttotal: 22.8s\tremaining: 1m 4s\n",
            "1400:\tlearn: 0.8765088\ttest: 0.8351323\tbest: 0.8351323 (1400)\ttotal: 24.5s\tremaining: 1m 2s\n",
            "1500:\tlearn: 0.8790573\ttest: 0.8352571\tbest: 0.8352652 (1493)\ttotal: 26.2s\tremaining: 1m 1s\n",
            "1600:\tlearn: 0.8815051\ttest: 0.8353395\tbest: 0.8353886 (1580)\ttotal: 28s\tremaining: 59.4s\n",
            "1700:\tlearn: 0.8838896\ttest: 0.8355533\tbest: 0.8355533 (1700)\ttotal: 29.8s\tremaining: 57.7s\n",
            "1800:\tlearn: 0.8863153\ttest: 0.8355432\tbest: 0.8355842 (1722)\ttotal: 31.6s\tremaining: 56s\n",
            "1900:\tlearn: 0.8886054\ttest: 0.8356234\tbest: 0.8356380 (1893)\ttotal: 33.3s\tremaining: 54.3s\n",
            "2000:\tlearn: 0.8909635\ttest: 0.8356158\tbest: 0.8356675 (1959)\ttotal: 35.1s\tremaining: 52.6s\n",
            "2100:\tlearn: 0.8933780\ttest: 0.8355978\tbest: 0.8356675 (1959)\ttotal: 36.9s\tremaining: 50.9s\n",
            "bestTest = 0.835667491\n",
            "bestIteration = 1959\n",
            "Shrink model to first 1960 iterations.\n",
            "Fold 3 : 0.8356675167934096\n",
            "0:\tlearn: 0.8098582\ttest: 0.8100421\tbest: 0.8100421 (0)\ttotal: 18.5ms\tremaining: 1m 32s\n",
            "100:\tlearn: 0.8339024\ttest: 0.8282900\tbest: 0.8282900 (100)\ttotal: 1.76s\tremaining: 1m 25s\n",
            "200:\tlearn: 0.8402514\ttest: 0.8331194\tbest: 0.8331194 (200)\ttotal: 3.53s\tremaining: 1m 24s\n",
            "300:\tlearn: 0.8450592\ttest: 0.8354990\tbest: 0.8354990 (300)\ttotal: 5.29s\tremaining: 1m 22s\n",
            "400:\tlearn: 0.8487678\ttest: 0.8370975\tbest: 0.8370975 (400)\ttotal: 7.02s\tremaining: 1m 20s\n",
            "500:\tlearn: 0.8522671\ttest: 0.8383364\tbest: 0.8383364 (500)\ttotal: 8.79s\tremaining: 1m 18s\n",
            "600:\tlearn: 0.8555534\ttest: 0.8396417\tbest: 0.8396417 (600)\ttotal: 10.6s\tremaining: 1m 17s\n",
            "700:\tlearn: 0.8584358\ttest: 0.8404188\tbest: 0.8404337 (699)\ttotal: 12.3s\tremaining: 1m 15s\n",
            "800:\tlearn: 0.8610220\ttest: 0.8408738\tbest: 0.8408738 (800)\ttotal: 14s\tremaining: 1m 13s\n",
            "900:\tlearn: 0.8637342\ttest: 0.8413031\tbest: 0.8413150 (897)\ttotal: 15.8s\tremaining: 1m 11s\n",
            "1000:\tlearn: 0.8662645\ttest: 0.8417219\tbest: 0.8417219 (1000)\ttotal: 17.6s\tremaining: 1m 10s\n",
            "1100:\tlearn: 0.8685694\ttest: 0.8420206\tbest: 0.8420206 (1100)\ttotal: 19.3s\tremaining: 1m 8s\n",
            "1200:\tlearn: 0.8710809\ttest: 0.8423216\tbest: 0.8423245 (1199)\ttotal: 21.1s\tremaining: 1m 6s\n",
            "1300:\tlearn: 0.8734029\ttest: 0.8426080\tbest: 0.8426080 (1300)\ttotal: 22.8s\tremaining: 1m 4s\n",
            "1400:\tlearn: 0.8758029\ttest: 0.8427929\tbest: 0.8427929 (1400)\ttotal: 24.6s\tremaining: 1m 3s\n",
            "1500:\tlearn: 0.8782387\ttest: 0.8429730\tbest: 0.8429730 (1500)\ttotal: 26.4s\tremaining: 1m 1s\n",
            "1600:\tlearn: 0.8807285\ttest: 0.8431367\tbest: 0.8431808 (1573)\ttotal: 28.1s\tremaining: 59.7s\n",
            "1700:\tlearn: 0.8832551\ttest: 0.8432797\tbest: 0.8432860 (1698)\ttotal: 30s\tremaining: 58.1s\n",
            "1800:\tlearn: 0.8856572\ttest: 0.8435146\tbest: 0.8435182 (1796)\ttotal: 31.7s\tremaining: 56.4s\n",
            "1900:\tlearn: 0.8880095\ttest: 0.8435194\tbest: 0.8435500 (1863)\ttotal: 33.5s\tremaining: 54.6s\n",
            "2000:\tlearn: 0.8902276\ttest: 0.8436403\tbest: 0.8436524 (1997)\ttotal: 35.2s\tremaining: 52.8s\n",
            "2100:\tlearn: 0.8924903\ttest: 0.8436105\tbest: 0.8436546 (2030)\ttotal: 37s\tremaining: 51.1s\n",
            "2200:\tlearn: 0.8947344\ttest: 0.8436432\tbest: 0.8437040 (2187)\ttotal: 38.8s\tremaining: 49.3s\n",
            "2300:\tlearn: 0.8968368\ttest: 0.8437243\tbest: 0.8437824 (2270)\ttotal: 40.5s\tremaining: 47.5s\n",
            "2400:\tlearn: 0.8987971\ttest: 0.8437724\tbest: 0.8437895 (2398)\ttotal: 42.2s\tremaining: 45.7s\n",
            "2500:\tlearn: 0.9007069\ttest: 0.8437464\tbest: 0.8438026 (2445)\ttotal: 44s\tremaining: 43.9s\n",
            "2600:\tlearn: 0.9027050\ttest: 0.8438552\tbest: 0.8438599 (2588)\ttotal: 45.7s\tremaining: 42.2s\n",
            "2700:\tlearn: 0.9047520\ttest: 0.8439318\tbest: 0.8439380 (2684)\ttotal: 47.5s\tremaining: 40.4s\n",
            "2800:\tlearn: 0.9067281\ttest: 0.8438333\tbest: 0.8439444 (2735)\ttotal: 49.3s\tremaining: 38.7s\n",
            "2900:\tlearn: 0.9086100\ttest: 0.8437928\tbest: 0.8439444 (2735)\ttotal: 51.1s\tremaining: 37s\n",
            "bestTest = 0.8439443707\n",
            "bestIteration = 2735\n",
            "Shrink model to first 2736 iterations.\n",
            "Fold 4 : 0.843944222441035\n",
            "0:\tlearn: 0.8090332\ttest: 0.8051813\tbest: 0.8051813 (0)\ttotal: 19.4ms\tremaining: 1m 36s\n",
            "100:\tlearn: 0.8347023\ttest: 0.8286029\tbest: 0.8286029 (100)\ttotal: 1.84s\tremaining: 1m 29s\n",
            "200:\tlearn: 0.8411076\ttest: 0.8324324\tbest: 0.8324324 (200)\ttotal: 3.59s\tremaining: 1m 25s\n",
            "300:\tlearn: 0.8454872\ttest: 0.8351085\tbest: 0.8351085 (300)\ttotal: 5.33s\tremaining: 1m 23s\n",
            "400:\tlearn: 0.8492762\ttest: 0.8368255\tbest: 0.8368343 (399)\ttotal: 7.14s\tremaining: 1m 21s\n",
            "500:\tlearn: 0.8525720\ttest: 0.8379802\tbest: 0.8379802 (500)\ttotal: 8.91s\tremaining: 1m 20s\n",
            "600:\tlearn: 0.8558555\ttest: 0.8388542\tbest: 0.8388542 (600)\ttotal: 10.7s\tremaining: 1m 18s\n",
            "700:\tlearn: 0.8587016\ttest: 0.8393809\tbest: 0.8393884 (699)\ttotal: 12.4s\tremaining: 1m 16s\n",
            "800:\tlearn: 0.8612853\ttest: 0.8399754\tbest: 0.8399754 (800)\ttotal: 14.1s\tremaining: 1m 14s\n",
            "900:\tlearn: 0.8638974\ttest: 0.8402687\tbest: 0.8402887 (896)\ttotal: 15.9s\tremaining: 1m 12s\n",
            "1000:\tlearn: 0.8663070\ttest: 0.8406078\tbest: 0.8406155 (999)\ttotal: 17.7s\tremaining: 1m 10s\n",
            "1100:\tlearn: 0.8688216\ttest: 0.8409155\tbest: 0.8409155 (1100)\ttotal: 19.4s\tremaining: 1m 8s\n",
            "1200:\tlearn: 0.8712320\ttest: 0.8411618\tbest: 0.8411644 (1197)\ttotal: 21.1s\tremaining: 1m 6s\n",
            "1300:\tlearn: 0.8736067\ttest: 0.8413058\tbest: 0.8413290 (1296)\ttotal: 22.9s\tremaining: 1m 5s\n",
            "1400:\tlearn: 0.8761104\ttest: 0.8414823\tbest: 0.8414823 (1400)\ttotal: 24.6s\tremaining: 1m 3s\n",
            "1500:\tlearn: 0.8786303\ttest: 0.8416219\tbest: 0.8416440 (1496)\ttotal: 26.4s\tremaining: 1m 1s\n",
            "1600:\tlearn: 0.8811987\ttest: 0.8417414\tbest: 0.8417414 (1600)\ttotal: 28.1s\tremaining: 59.8s\n",
            "1700:\tlearn: 0.8837577\ttest: 0.8418860\tbest: 0.8418919 (1697)\ttotal: 29.9s\tremaining: 58s\n",
            "1800:\tlearn: 0.8861154\ttest: 0.8419809\tbest: 0.8419848 (1799)\ttotal: 31.7s\tremaining: 56.3s\n",
            "1900:\tlearn: 0.8885448\ttest: 0.8421299\tbest: 0.8421412 (1899)\ttotal: 33.4s\tremaining: 54.5s\n",
            "2000:\tlearn: 0.8908190\ttest: 0.8421810\tbest: 0.8421850 (1999)\ttotal: 35.2s\tremaining: 52.7s\n",
            "2100:\tlearn: 0.8930380\ttest: 0.8421922\tbest: 0.8422180 (2042)\ttotal: 36.9s\tremaining: 50.9s\n",
            "2200:\tlearn: 0.8952460\ttest: 0.8420603\tbest: 0.8422180 (2042)\ttotal: 38.6s\tremaining: 49.1s\n",
            "bestTest = 0.8422180414\n",
            "bestIteration = 2042\n",
            "Shrink model to first 2043 iterations.\n",
            "Fold 5 : 0.8422180603556465\n",
            "0:\tlearn: 0.8117430\ttest: 0.7871749\tbest: 0.7871749 (0)\ttotal: 17.7ms\tremaining: 1m 28s\n",
            "100:\tlearn: 0.8365537\ttest: 0.8089996\tbest: 0.8089996 (100)\ttotal: 1.77s\tremaining: 1m 25s\n",
            "200:\tlearn: 0.8429906\ttest: 0.8124189\tbest: 0.8124189 (200)\ttotal: 3.49s\tremaining: 1m 23s\n",
            "300:\tlearn: 0.8474087\ttest: 0.8142046\tbest: 0.8142046 (300)\ttotal: 5.29s\tremaining: 1m 22s\n",
            "400:\tlearn: 0.8512988\ttest: 0.8155513\tbest: 0.8155628 (399)\ttotal: 7.02s\tremaining: 1m 20s\n",
            "500:\tlearn: 0.8545966\ttest: 0.8165442\tbest: 0.8165442 (500)\ttotal: 8.76s\tremaining: 1m 18s\n",
            "600:\tlearn: 0.8575849\ttest: 0.8173621\tbest: 0.8173755 (599)\ttotal: 10.5s\tremaining: 1m 16s\n",
            "700:\tlearn: 0.8605856\ttest: 0.8179968\tbest: 0.8179997 (699)\ttotal: 12.2s\tremaining: 1m 15s\n",
            "800:\tlearn: 0.8632617\ttest: 0.8183724\tbest: 0.8183724 (800)\ttotal: 14s\tremaining: 1m 13s\n",
            "900:\tlearn: 0.8657918\ttest: 0.8188121\tbest: 0.8188137 (899)\ttotal: 15.8s\tremaining: 1m 11s\n",
            "1000:\tlearn: 0.8683646\ttest: 0.8192837\tbest: 0.8193032 (999)\ttotal: 17.5s\tremaining: 1m 9s\n",
            "1100:\tlearn: 0.8707982\ttest: 0.8195620\tbest: 0.8195620 (1100)\ttotal: 19.3s\tremaining: 1m 8s\n",
            "1200:\tlearn: 0.8731336\ttest: 0.8199751\tbest: 0.8199857 (1199)\ttotal: 21s\tremaining: 1m 6s\n",
            "1300:\tlearn: 0.8756292\ttest: 0.8201055\tbest: 0.8201092 (1299)\ttotal: 22.8s\tremaining: 1m 4s\n",
            "1400:\tlearn: 0.8781068\ttest: 0.8203048\tbest: 0.8203048 (1400)\ttotal: 24.5s\tremaining: 1m 2s\n",
            "1500:\tlearn: 0.8805492\ttest: 0.8203803\tbest: 0.8204103 (1493)\ttotal: 26.3s\tremaining: 1m 1s\n",
            "1600:\tlearn: 0.8831151\ttest: 0.8205364\tbest: 0.8205469 (1586)\ttotal: 28.1s\tremaining: 59.7s\n",
            "1700:\tlearn: 0.8855928\ttest: 0.8205658\tbest: 0.8206130 (1663)\ttotal: 29.9s\tremaining: 57.9s\n",
            "1800:\tlearn: 0.8878876\ttest: 0.8205830\tbest: 0.8206287 (1770)\ttotal: 31.6s\tremaining: 56.2s\n",
            "1900:\tlearn: 0.8901975\ttest: 0.8206999\tbest: 0.8207664 (1876)\ttotal: 33.4s\tremaining: 54.4s\n",
            "2000:\tlearn: 0.8925000\ttest: 0.8206673\tbest: 0.8207664 (1876)\ttotal: 35.1s\tremaining: 52.7s\n",
            "bestTest = 0.820766449\n",
            "bestIteration = 1876\n",
            "Shrink model to first 1877 iterations.\n",
            "Fold 6 : 0.8207662508171264\n",
            "0:\tlearn: 0.8074011\ttest: 0.7996281\tbest: 0.7996281 (0)\ttotal: 19.7ms\tremaining: 1m 38s\n",
            "100:\tlearn: 0.8347057\ttest: 0.8259047\tbest: 0.8259047 (100)\ttotal: 1.8s\tremaining: 1m 27s\n",
            "200:\tlearn: 0.8408937\ttest: 0.8309783\tbest: 0.8309783 (200)\ttotal: 3.53s\tremaining: 1m 24s\n",
            "300:\tlearn: 0.8453150\ttest: 0.8341509\tbest: 0.8341584 (298)\ttotal: 5.27s\tremaining: 1m 22s\n",
            "400:\tlearn: 0.8491141\ttest: 0.8363642\tbest: 0.8363658 (399)\ttotal: 7.01s\tremaining: 1m 20s\n",
            "500:\tlearn: 0.8524674\ttest: 0.8377349\tbest: 0.8377349 (500)\ttotal: 8.75s\tremaining: 1m 18s\n",
            "600:\tlearn: 0.8554713\ttest: 0.8386431\tbest: 0.8386431 (600)\ttotal: 10.5s\tremaining: 1m 16s\n",
            "700:\tlearn: 0.8584766\ttest: 0.8395145\tbest: 0.8395145 (700)\ttotal: 12.2s\tremaining: 1m 14s\n",
            "800:\tlearn: 0.8612890\ttest: 0.8399663\tbest: 0.8399663 (800)\ttotal: 14s\tremaining: 1m 13s\n",
            "900:\tlearn: 0.8637968\ttest: 0.8404275\tbest: 0.8404430 (898)\ttotal: 15.8s\tremaining: 1m 11s\n",
            "1000:\tlearn: 0.8661960\ttest: 0.8408920\tbest: 0.8408920 (1000)\ttotal: 17.5s\tremaining: 1m 9s\n",
            "1100:\tlearn: 0.8686140\ttest: 0.8412111\tbest: 0.8412111 (1100)\ttotal: 19.2s\tremaining: 1m 8s\n",
            "1200:\tlearn: 0.8708810\ttest: 0.8415611\tbest: 0.8415633 (1196)\ttotal: 21s\tremaining: 1m 6s\n",
            "1300:\tlearn: 0.8733334\ttest: 0.8418629\tbest: 0.8418785 (1295)\ttotal: 22.7s\tremaining: 1m 4s\n",
            "1400:\tlearn: 0.8759218\ttest: 0.8420417\tbest: 0.8420632 (1398)\ttotal: 24.5s\tremaining: 1m 2s\n",
            "1500:\tlearn: 0.8783810\ttest: 0.8421615\tbest: 0.8421687 (1498)\ttotal: 26.2s\tremaining: 1m 1s\n",
            "1600:\tlearn: 0.8809051\ttest: 0.8423666\tbest: 0.8423687 (1597)\ttotal: 28.1s\tremaining: 59.6s\n",
            "1700:\tlearn: 0.8833950\ttest: 0.8424876\tbest: 0.8424970 (1668)\ttotal: 29.9s\tremaining: 57.9s\n",
            "1800:\tlearn: 0.8858160\ttest: 0.8426949\tbest: 0.8426962 (1795)\ttotal: 31.6s\tremaining: 56.2s\n",
            "1900:\tlearn: 0.8881719\ttest: 0.8428754\tbest: 0.8428904 (1896)\ttotal: 33.4s\tremaining: 54.4s\n",
            "2000:\tlearn: 0.8904504\ttest: 0.8429663\tbest: 0.8429829 (1949)\ttotal: 35.1s\tremaining: 52.7s\n",
            "2100:\tlearn: 0.8926053\ttest: 0.8430685\tbest: 0.8430776 (2098)\ttotal: 36.9s\tremaining: 50.9s\n",
            "2200:\tlearn: 0.8947283\ttest: 0.8430971\tbest: 0.8431219 (2134)\ttotal: 38.7s\tremaining: 49.2s\n",
            "2300:\tlearn: 0.8968802\ttest: 0.8431810\tbest: 0.8431947 (2287)\ttotal: 40.5s\tremaining: 47.5s\n",
            "2400:\tlearn: 0.8990328\ttest: 0.8433164\tbest: 0.8433363 (2392)\ttotal: 42.2s\tremaining: 45.7s\n",
            "2500:\tlearn: 0.9010333\ttest: 0.8433693\tbest: 0.8433693 (2500)\ttotal: 44s\tremaining: 43.9s\n",
            "2600:\tlearn: 0.9030445\ttest: 0.8434051\tbest: 0.8434532 (2546)\ttotal: 45.7s\tremaining: 42.2s\n",
            "2700:\tlearn: 0.9049771\ttest: 0.8434413\tbest: 0.8434532 (2546)\ttotal: 47.5s\tremaining: 40.4s\n",
            "2800:\tlearn: 0.9068110\ttest: 0.8433996\tbest: 0.8435127 (2760)\ttotal: 49.2s\tremaining: 38.6s\n",
            "2900:\tlearn: 0.9087545\ttest: 0.8433562\tbest: 0.8435127 (2760)\ttotal: 51s\tremaining: 36.9s\n",
            "bestTest = 0.8435127139\n",
            "bestIteration = 2760\n",
            "Shrink model to first 2761 iterations.\n",
            "Fold 7 : 0.8435130505777119\n",
            "0:\tlearn: 0.8074346\ttest: 0.8294424\tbest: 0.8294424 (0)\ttotal: 17.7ms\tremaining: 1m 28s\n",
            "100:\tlearn: 0.8328536\ttest: 0.8471132\tbest: 0.8471132 (100)\ttotal: 1.78s\tremaining: 1m 26s\n",
            "200:\tlearn: 0.8394614\ttest: 0.8506223\tbest: 0.8506223 (200)\ttotal: 3.53s\tremaining: 1m 24s\n",
            "300:\tlearn: 0.8442489\ttest: 0.8524864\tbest: 0.8524864 (300)\ttotal: 5.26s\tremaining: 1m 22s\n",
            "400:\tlearn: 0.8480546\ttest: 0.8535780\tbest: 0.8535780 (400)\ttotal: 7.07s\tremaining: 1m 21s\n",
            "500:\tlearn: 0.8514140\ttest: 0.8542731\tbest: 0.8542733 (498)\ttotal: 8.83s\tremaining: 1m 19s\n",
            "600:\tlearn: 0.8544967\ttest: 0.8549517\tbest: 0.8549517 (600)\ttotal: 10.6s\tremaining: 1m 17s\n",
            "700:\tlearn: 0.8574255\ttest: 0.8555514\tbest: 0.8555560 (698)\ttotal: 12.3s\tremaining: 1m 15s\n",
            "800:\tlearn: 0.8601074\ttest: 0.8559039\tbest: 0.8559297 (792)\ttotal: 14.1s\tremaining: 1m 13s\n",
            "900:\tlearn: 0.8627207\ttest: 0.8562638\tbest: 0.8562638 (900)\ttotal: 15.8s\tremaining: 1m 11s\n",
            "1000:\tlearn: 0.8651625\ttest: 0.8564469\tbest: 0.8564475 (997)\ttotal: 17.6s\tremaining: 1m 10s\n",
            "1100:\tlearn: 0.8675631\ttest: 0.8564956\tbest: 0.8565466 (1085)\ttotal: 19.4s\tremaining: 1m 8s\n",
            "1200:\tlearn: 0.8699678\ttest: 0.8565292\tbest: 0.8565466 (1085)\ttotal: 21.1s\tremaining: 1m 6s\n",
            "bestTest = 0.8565465808\n",
            "bestIteration = 1085\n",
            "Shrink model to first 1086 iterations.\n",
            "Fold 8 : 0.8565467341146487\n",
            "0:\tlearn: 0.7947662\ttest: 0.7937581\tbest: 0.7937581 (0)\ttotal: 14.9ms\tremaining: 1m 14s\n",
            "100:\tlearn: 0.8347256\ttest: 0.8298901\tbest: 0.8298901 (100)\ttotal: 1.8s\tremaining: 1m 27s\n",
            "200:\tlearn: 0.8405676\ttest: 0.8346319\tbest: 0.8346319 (200)\ttotal: 3.55s\tremaining: 1m 24s\n",
            "300:\tlearn: 0.8450679\ttest: 0.8372396\tbest: 0.8372396 (300)\ttotal: 5.28s\tremaining: 1m 22s\n",
            "400:\tlearn: 0.8487960\ttest: 0.8388247\tbest: 0.8388247 (400)\ttotal: 7.03s\tremaining: 1m 20s\n",
            "500:\tlearn: 0.8521214\ttest: 0.8401303\tbest: 0.8401303 (500)\ttotal: 8.81s\tremaining: 1m 19s\n",
            "600:\tlearn: 0.8551869\ttest: 0.8411862\tbest: 0.8411905 (599)\ttotal: 10.6s\tremaining: 1m 17s\n",
            "700:\tlearn: 0.8579229\ttest: 0.8421282\tbest: 0.8421293 (699)\ttotal: 12.3s\tremaining: 1m 15s\n",
            "800:\tlearn: 0.8605424\ttest: 0.8428836\tbest: 0.8428836 (800)\ttotal: 14s\tremaining: 1m 13s\n",
            "900:\tlearn: 0.8629419\ttest: 0.8434494\tbest: 0.8434494 (900)\ttotal: 15.7s\tremaining: 1m 11s\n",
            "1000:\tlearn: 0.8654233\ttest: 0.8440152\tbest: 0.8440202 (999)\ttotal: 17.4s\tremaining: 1m 9s\n",
            "1100:\tlearn: 0.8679735\ttest: 0.8445334\tbest: 0.8445441 (1098)\ttotal: 19.1s\tremaining: 1m 7s\n",
            "1200:\tlearn: 0.8701846\ttest: 0.8448403\tbest: 0.8448418 (1199)\ttotal: 20.9s\tremaining: 1m 6s\n",
            "1300:\tlearn: 0.8726296\ttest: 0.8451787\tbest: 0.8451787 (1300)\ttotal: 22.6s\tremaining: 1m 4s\n",
            "1400:\tlearn: 0.8750889\ttest: 0.8453817\tbest: 0.8453995 (1386)\ttotal: 24.4s\tremaining: 1m 2s\n",
            "1500:\tlearn: 0.8775468\ttest: 0.8455414\tbest: 0.8455414 (1500)\ttotal: 26.1s\tremaining: 1m\n",
            "1600:\tlearn: 0.8800445\ttest: 0.8458500\tbest: 0.8458500 (1600)\ttotal: 27.8s\tremaining: 59.1s\n",
            "1700:\tlearn: 0.8825972\ttest: 0.8460356\tbest: 0.8460356 (1700)\ttotal: 29.6s\tremaining: 57.3s\n",
            "1800:\tlearn: 0.8851030\ttest: 0.8462867\tbest: 0.8462867 (1800)\ttotal: 31.3s\tremaining: 55.7s\n",
            "1900:\tlearn: 0.8873896\ttest: 0.8464564\tbest: 0.8464875 (1864)\ttotal: 33.1s\tremaining: 54s\n",
            "2000:\tlearn: 0.8897303\ttest: 0.8465511\tbest: 0.8465511 (2000)\ttotal: 35s\tremaining: 52.4s\n",
            "2100:\tlearn: 0.8920484\ttest: 0.8467140\tbest: 0.8467264 (2090)\ttotal: 36.7s\tremaining: 50.6s\n",
            "2200:\tlearn: 0.8942816\ttest: 0.8467649\tbest: 0.8467779 (2194)\ttotal: 38.5s\tremaining: 48.9s\n",
            "2300:\tlearn: 0.8964258\ttest: 0.8468447\tbest: 0.8468805 (2278)\ttotal: 40.2s\tremaining: 47.2s\n",
            "2400:\tlearn: 0.8985167\ttest: 0.8468893\tbest: 0.8468994 (2397)\ttotal: 42s\tremaining: 45.5s\n",
            "2500:\tlearn: 0.9006020\ttest: 0.8469767\tbest: 0.8469872 (2497)\ttotal: 43.7s\tremaining: 43.7s\n",
            "2600:\tlearn: 0.9026236\ttest: 0.8470736\tbest: 0.8470736 (2600)\ttotal: 45.5s\tremaining: 42s\n",
            "2700:\tlearn: 0.9046248\ttest: 0.8470426\tbest: 0.8470853 (2634)\ttotal: 47.3s\tremaining: 40.2s\n",
            "2800:\tlearn: 0.9064869\ttest: 0.8471269\tbest: 0.8471299 (2798)\ttotal: 49.1s\tremaining: 38.5s\n",
            "2900:\tlearn: 0.9084669\ttest: 0.8471598\tbest: 0.8472041 (2857)\ttotal: 50.8s\tremaining: 36.8s\n",
            "3000:\tlearn: 0.9104190\ttest: 0.8472084\tbest: 0.8472261 (2972)\ttotal: 52.6s\tremaining: 35s\n",
            "3100:\tlearn: 0.9122484\ttest: 0.8472475\tbest: 0.8472622 (3089)\ttotal: 54.4s\tremaining: 33.3s\n",
            "3200:\tlearn: 0.9140193\ttest: 0.8472679\tbest: 0.8473260 (3144)\ttotal: 56.1s\tremaining: 31.5s\n",
            "3300:\tlearn: 0.9158006\ttest: 0.8473042\tbest: 0.8473260 (3144)\ttotal: 57.8s\tremaining: 29.8s\n",
            "bestTest = 0.8473259807\n",
            "bestIteration = 3144\n",
            "Shrink model to first 3145 iterations.\n",
            "Fold 9 : 0.8473261348058618\n",
            "\n",
            "\n",
            "Avg log :  0.8413637018173287\n"
          ],
          "name": "stdout"
        }
      ]
    },
    {
      "cell_type": "code",
      "metadata": {
        "scrolled": true,
        "id": "rEp1xVpysjKw",
        "trusted": true,
        "outputId": "40cfdaa4-df8a-4b53-9b2a-5d248f0a0cff",
        "colab": {
          "base_uri": "https://localhost:8080/",
          "height": 35
        }
      },
      "source": [
        "f\"{n_skf} fold CV, score: {score}\" #Increase in local cv score should probably lead to increase in Leaderboard score"
      ],
      "execution_count": 36,
      "outputs": [
        {
          "output_type": "execute_result",
          "data": {
            "application/vnd.google.colaboratory.intrinsic+json": {
              "type": "string"
            },
            "text/plain": [
              "'10 fold CV, score: 0.8413637018173287'"
            ]
          },
          "metadata": {
            "tags": []
          },
          "execution_count": 36
        }
      ]
    },
    {
      "cell_type": "markdown",
      "metadata": {
        "id": "S4VGCe_ajP6B"
      },
      "source": [
        "10 fold CV, score: 0.8410868999561003, LR-0.008, n_estimator = 5000, seed = 42, depth = 9, "
      ]
    },
    {
      "cell_type": "markdown",
      "metadata": {
        "id": "e7cdGXz6jTfC"
      },
      "source": [
        "10 fold CV, score: 0.8413637018173287, LR-0.008, n_estimator = 5000, seed = i, depth = 8,"
      ]
    },
    {
      "cell_type": "markdown",
      "metadata": {
        "id": "xH7mWCF7e_Cu"
      },
      "source": [
        "10 fold CV, score: 0.8416527820408346, LR-0.008, n_estimator = 5000, seed = 42, depth = 8, submit6.csv"
      ]
    },
    {
      "cell_type": "markdown",
      "metadata": {
        "id": "54msL5CGF1P5"
      },
      "source": [
        "'10 fold CV, score: 0.8416283637107365', LR-0.008, n_estimator = 5000, seed = 42, depth = 7, submit5.csv"
      ]
    },
    {
      "cell_type": "markdown",
      "metadata": {
        "id": "j3tgrfEoF1P6"
      },
      "source": [
        "'10 fold CV, score: 0.8404761359972677', LR-0.008, n_estimator = 5000, seed = 42, depth = 10, submit4.csv"
      ]
    },
    {
      "cell_type": "markdown",
      "metadata": {
        "id": "WZJMWmPhF1P8"
      },
      "source": [
        "'10 fold CV, score: 0.8416127641119365', LR-0.008, n_estimator = 5000, seed = 2020"
      ]
    },
    {
      "cell_type": "markdown",
      "metadata": {
        "id": "2FxLWs0LF1P9"
      },
      "source": [
        "'10 fold CV, score: 0.8415039416559706', LR-0.008, n_estimator = 5000, seed = 42"
      ]
    },
    {
      "cell_type": "markdown",
      "metadata": {
        "id": "rnU3HLczsjLA"
      },
      "source": [
        "### Since we are using cross validation, We'll have `n` different predictions (where n is the number of fold)"
      ]
    },
    {
      "cell_type": "code",
      "metadata": {
        "id": "VO7c0-a6sjLD",
        "trusted": true
      },
      "source": [
        "oof_prediction = pd.DataFrame(test_oofs).T"
      ],
      "execution_count": 21,
      "outputs": []
    },
    {
      "cell_type": "code",
      "metadata": {
        "id": "vKYZMsjWsjLU",
        "trusted": true
      },
      "source": [
        "oof_prediction.columns = ['fold_'+ str(i) for i in range(1, n_skf + 1)]"
      ],
      "execution_count": 22,
      "outputs": []
    },
    {
      "cell_type": "code",
      "metadata": {
        "id": "w6aN3-LPsjLk",
        "trusted": true,
        "outputId": "5e116a6b-6adb-4269-ab45-ca522848dbd0",
        "colab": {
          "base_uri": "https://localhost:8080/",
          "height": 197
        }
      },
      "source": [
        "oof_prediction.head()"
      ],
      "execution_count": 23,
      "outputs": [
        {
          "output_type": "execute_result",
          "data": {
            "text/html": [
              "<div>\n",
              "<style scoped>\n",
              "    .dataframe tbody tr th:only-of-type {\n",
              "        vertical-align: middle;\n",
              "    }\n",
              "\n",
              "    .dataframe tbody tr th {\n",
              "        vertical-align: top;\n",
              "    }\n",
              "\n",
              "    .dataframe thead th {\n",
              "        text-align: right;\n",
              "    }\n",
              "</style>\n",
              "<table border=\"1\" class=\"dataframe\">\n",
              "  <thead>\n",
              "    <tr style=\"text-align: right;\">\n",
              "      <th></th>\n",
              "      <th>fold_1</th>\n",
              "      <th>fold_2</th>\n",
              "      <th>fold_3</th>\n",
              "      <th>fold_4</th>\n",
              "      <th>fold_5</th>\n",
              "      <th>fold_6</th>\n",
              "      <th>fold_7</th>\n",
              "      <th>fold_8</th>\n",
              "      <th>fold_9</th>\n",
              "      <th>fold_10</th>\n",
              "    </tr>\n",
              "  </thead>\n",
              "  <tbody>\n",
              "    <tr>\n",
              "      <th>0</th>\n",
              "      <td>0.308523</td>\n",
              "      <td>0.297050</td>\n",
              "      <td>0.328651</td>\n",
              "      <td>0.318747</td>\n",
              "      <td>0.330469</td>\n",
              "      <td>0.335896</td>\n",
              "      <td>0.296729</td>\n",
              "      <td>0.318233</td>\n",
              "      <td>0.304234</td>\n",
              "      <td>0.319162</td>\n",
              "    </tr>\n",
              "    <tr>\n",
              "      <th>1</th>\n",
              "      <td>0.385282</td>\n",
              "      <td>0.338013</td>\n",
              "      <td>0.346464</td>\n",
              "      <td>0.404410</td>\n",
              "      <td>0.443095</td>\n",
              "      <td>0.376553</td>\n",
              "      <td>0.391792</td>\n",
              "      <td>0.332775</td>\n",
              "      <td>0.429403</td>\n",
              "      <td>0.371969</td>\n",
              "    </tr>\n",
              "    <tr>\n",
              "      <th>2</th>\n",
              "      <td>0.352425</td>\n",
              "      <td>0.371132</td>\n",
              "      <td>0.406337</td>\n",
              "      <td>0.404204</td>\n",
              "      <td>0.383050</td>\n",
              "      <td>0.407479</td>\n",
              "      <td>0.398560</td>\n",
              "      <td>0.394022</td>\n",
              "      <td>0.349410</td>\n",
              "      <td>0.377015</td>\n",
              "    </tr>\n",
              "    <tr>\n",
              "      <th>3</th>\n",
              "      <td>0.737164</td>\n",
              "      <td>0.755433</td>\n",
              "      <td>0.795847</td>\n",
              "      <td>0.731905</td>\n",
              "      <td>0.752634</td>\n",
              "      <td>0.760238</td>\n",
              "      <td>0.777456</td>\n",
              "      <td>0.755901</td>\n",
              "      <td>0.721503</td>\n",
              "      <td>0.757599</td>\n",
              "    </tr>\n",
              "    <tr>\n",
              "      <th>4</th>\n",
              "      <td>0.135668</td>\n",
              "      <td>0.146373</td>\n",
              "      <td>0.148061</td>\n",
              "      <td>0.160418</td>\n",
              "      <td>0.155563</td>\n",
              "      <td>0.156377</td>\n",
              "      <td>0.165380</td>\n",
              "      <td>0.156297</td>\n",
              "      <td>0.181091</td>\n",
              "      <td>0.151856</td>\n",
              "    </tr>\n",
              "  </tbody>\n",
              "</table>\n",
              "</div>"
            ],
            "text/plain": [
              "     fold_1    fold_2    fold_3  ...    fold_8    fold_9   fold_10\n",
              "0  0.308523  0.297050  0.328651  ...  0.318233  0.304234  0.319162\n",
              "1  0.385282  0.338013  0.346464  ...  0.332775  0.429403  0.371969\n",
              "2  0.352425  0.371132  0.406337  ...  0.394022  0.349410  0.377015\n",
              "3  0.737164  0.755433  0.795847  ...  0.755901  0.721503  0.757599\n",
              "4  0.135668  0.146373  0.148061  ...  0.156297  0.181091  0.151856\n",
              "\n",
              "[5 rows x 10 columns]"
            ]
          },
          "metadata": {
            "tags": []
          },
          "execution_count": 23
        }
      ]
    },
    {
      "cell_type": "code",
      "metadata": {
        "id": "LUBJMAt5sjLz",
        "trusted": true
      },
      "source": [
        "sub = pd.read_csv('/content/drive/My Drive/DSN AI Bootcamp Qualification Hackathon/SampleSubmission.csv')"
      ],
      "execution_count": 25,
      "outputs": []
    },
    {
      "cell_type": "code",
      "metadata": {
        "id": "cAb7F5E-sjMB",
        "trusted": true
      },
      "source": [
        "### We take the mean of all 5 predictions to generate submission"
      ],
      "execution_count": null,
      "outputs": []
    },
    {
      "cell_type": "code",
      "metadata": {
        "id": "bkDFca5-sjMR",
        "trusted": true
      },
      "source": [
        "sub['default_status'] = np.mean(test_oofs, axis = 0)"
      ],
      "execution_count": 26,
      "outputs": []
    },
    {
      "cell_type": "code",
      "metadata": {
        "id": "z3QdnqaSfjUs"
      },
      "source": [
        "#from google import files"
      ],
      "execution_count": 29,
      "outputs": []
    },
    {
      "cell_type": "code",
      "metadata": {
        "id": "m5ib6M4isjMk",
        "trusted": true
      },
      "source": [
        "sub.to_csv('submit6.csv', index = False)"
      ],
      "execution_count": 30,
      "outputs": []
    },
    {
      "cell_type": "markdown",
      "metadata": {
        "id": "u0VGKog9sjMz"
      },
      "source": [
        "### Suggestions:\n",
        "- Base your feature selection on the local cv score i.e When you add, remove or engineer feature check `score` (cell 17)\n",
        "- Increase number of fold to 10, 15. See how score imporve on leaderboard.\n",
        "- Try differnt value of learning rate. I'll advice anything < 0.01\n",
        "- Create as many features as possible.\n",
        "- Find code for Xgboost and lgbm using this method of modelling, or better still tweak this one (mind you, names of parameters may be slightly different."
      ]
    },
    {
      "cell_type": "code",
      "metadata": {
        "id": "7d8UrxzosjM1",
        "trusted": false
      },
      "source": [
        ""
      ],
      "execution_count": null,
      "outputs": []
    }
  ]
}