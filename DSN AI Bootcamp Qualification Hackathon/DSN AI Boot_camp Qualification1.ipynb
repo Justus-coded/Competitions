{
  "nbformat": 4,
  "nbformat_minor": 0,
  "metadata": {
    "kernelspec": {
      "language": "python",
      "display_name": "Python 3",
      "name": "python3"
    },
    "language_info": {
      "name": "python",
      "version": "3.7.6",
      "mimetype": "text/x-python",
      "codemirror_mode": {
        "name": "ipython",
        "version": 3
      },
      "pygments_lexer": "ipython3",
      "nbconvert_exporter": "python",
      "file_extension": ".py"
    },
    "colab": {
      "name": "DSN AI Boot camp Qualification1.ipynb",
      "provenance": [],
      "include_colab_link": true
    },
    "accelerator": "GPU"
  },
  "cells": [
    {
      "cell_type": "markdown",
      "metadata": {
        "id": "view-in-github",
        "colab_type": "text"
      },
      "source": [
        "<a href=\"https://colab.research.google.com/github/Justus-coded/Competitions/blob/master/DSN%20AI%20Bootcamp%20Qualification%20Hackathon/DSN%20AI%20Boot_camp%20Qualification1.ipynb\" target=\"_parent\"><img src=\"https://colab.research.google.com/assets/colab-badge.svg\" alt=\"Open In Colab\"/></a>"
      ]
    },
    {
      "cell_type": "code",
      "metadata": {
        "id": "lTYsttC3sjHh",
        "trusted": true,
        "outputId": "6d01338c-beaf-4559-9f34-6faff15235bd",
        "colab": {
          "base_uri": "https://localhost:8080/",
          "height": 71
        }
      },
      "source": [
        "import pandas as pd\n",
        "import numpy as np\n",
        "import seaborn as sns\n",
        "import matplotlib.pyplot as plt\n",
        " \n",
        "%matplotlib inline\n",
        " \n",
        "import warnings\n",
        "warnings.filterwarnings('ignore')"
      ],
      "execution_count": 1,
      "outputs": [
        {
          "output_type": "stream",
          "text": [
            "/usr/local/lib/python3.6/dist-packages/statsmodels/tools/_testing.py:19: FutureWarning: pandas.util.testing is deprecated. Use the functions in the public API at pandas.testing instead.\n",
            "  import pandas.util.testing as tm\n"
          ],
          "name": "stderr"
        }
      ]
    },
    {
      "cell_type": "code",
      "metadata": {
        "id": "lJdWtcbpgDWK",
        "trusted": true,
        "outputId": "b7f443bc-be38-4dc4-c2e0-6f3cf2fabf9a",
        "colab": {
          "base_uri": "https://localhost:8080/",
          "height": 34
        }
      },
      "source": [
        "from google.colab import drive\n",
        "drive.mount('/content/drive')"
      ],
      "execution_count": 2,
      "outputs": [
        {
          "output_type": "stream",
          "text": [
            "Mounted at /content/drive\n"
          ],
          "name": "stdout"
        }
      ]
    },
    {
      "cell_type": "code",
      "metadata": {
        "id": "ygKIugwesjH5",
        "trusted": true
      },
      "source": [
        "train = pd.read_csv('/content/drive/My Drive/DSN AI Bootcamp Qualification Hackathon/Train.csv')\n",
        "test  = pd.read_csv('/content/drive/My Drive/DSN AI Bootcamp Qualification Hackathon/Test.csv')\n",
        " \n",
        "#train = pd.read_csv('../input/dsn-ai-bootcamp-data/Train.csv')\n",
        "#test = pd.read_csv('../input/dsn-ai-bootcamp-data/Test.csv')\n",
        "#sub = pd.read_csv('../input/dsn-ai-bootcamp-data/SampleSubmission.csv')"
      ],
      "execution_count": 3,
      "outputs": []
    },
    {
      "cell_type": "code",
      "metadata": {
        "id": "ixvLHcBnsjIL",
        "trusted": true
      },
      "source": [
        "dict_ = {'charge': 1,\n",
        "         'lending': 0}\n",
        " \n",
        "target_map = {\n",
        "    'yes': 1,\n",
        "    'no': 0}\n",
        " \n",
        "train.default_status.replace(target_map, inplace = True)\n",
        " \n",
        "train['form_field47'].replace(dict_, inplace = True)\n",
        "test['form_field47'].replace(dict_, inplace = True)"
      ],
      "execution_count": 4,
      "outputs": []
    },
    {
      "cell_type": "code",
      "metadata": {
        "id": "6ZJIgEJkhkqM",
        "trusted": true
      },
      "source": [
        "#pip install catboost"
      ],
      "execution_count": 7,
      "outputs": []
    },
    {
      "cell_type": "code",
      "metadata": {
        "id": "nA1fJeNFsjIc",
        "trusted": true
      },
      "source": [
        "from sklearn.metrics import roc_auc_score\n",
        "from catboost import CatBoostClassifier"
      ],
      "execution_count": 8,
      "outputs": []
    },
    {
      "cell_type": "code",
      "metadata": {
        "id": "kw9u6xuNsjIt",
        "trusted": true
      },
      "source": [
        "features = train.select_dtypes(exclude = object).columns.drop(['default_status'])"
      ],
      "execution_count": 9,
      "outputs": []
    },
    {
      "cell_type": "code",
      "metadata": {
        "id": "WUnZZc7-sjI9",
        "trusted": true
      },
      "source": [
        "# features"
      ],
      "execution_count": null,
      "outputs": []
    },
    {
      "cell_type": "code",
      "metadata": {
        "id": "hPhK0BEosjJM",
        "trusted": true
      },
      "source": [
        "for col in features:\n",
        "    train[col].fillna(-999, inplace = True)\n",
        "    test[col].fillna(-999, inplace = True)"
      ],
      "execution_count": 10,
      "outputs": []
    },
    {
      "cell_type": "code",
      "metadata": {
        "trusted": true,
        "id": "uJ8ym8YKEZBd"
      },
      "source": [
        "train['form_field1*formfield2'] = train['form_field1'] * train['form_field2']\n",
        "train['form_field1/formfield2'] = train['form_field1'] / train['form_field2']\n",
        " \n",
        "train['form_field1*formfield3'] = train['form_field1'] * train.form_field3\n",
        "train['form_field1*formfield4'] = train.form_field1 * train.form_field4\n",
        "train['form_field1*formfield5'] = train.form_field1 * train.form_field5\n",
        " \n",
        "#train['form_field30*formfield41'] = train['form_field30'] * train['form_field41']\n",
        "#train['form_field31*formfield40'] = train['form_field31'] * train['form_field40']\n",
        " \n",
        "train['form_field6+field7'] =  (train.form_field6 + train.form_field8)/2\n",
        " \n",
        "train['form_field1*formfield6'] = train['form_field1'] * train['form_field6']\n",
        "train['form_field2*formfield6'] = train['form_field2'] * train['form_field6']\n",
        " \n",
        "train['form_field1*formfield9'] = train['form_field1'] * train['form_field9']\n",
        "train['form_field2*formfield9'] = train['form_field2'] * train['form_field9']\n",
        " \n",
        "train['form_field1*formfield37'] = train['form_field1'] * train['form_field37']\n",
        "train['form_field2*formfield37'] = train['form_field2'] * train['form_field37']\n",
        " \n",
        "train['form_field9*formfield6'] = train['form_field9'] * train['form_field6']\n",
        "train['form_field37*formfield6'] = train['form_field37'] * train['form_field6']\n",
        " \n",
        "train['form_field9*formfield37'] = train['form_field9'] * train['form_field37']\n",
        "train['form_field1*formfield8'] = train['form_field1'] * train['form_field8']\n",
        " \n",
        " \n",
        " \n",
        " \n",
        "#train['form_field13/field14'] =(train.form_field13 / train.form_field14)*100\n",
        " \n",
        "#train['form_field32/field33'] = (train['form_field32']+ train['form_field33'])/2\n",
        "#train['form_field36/field38'] = train['form_field36'] / train['form_field38']\n",
        "#train['form_field36/field39'] = train['form_field36'] / train['form_field39']\n",
        "#train['form_field36/field18'] = train['form_field36'] / train['form_field18']\n",
        "#train['form_field36/field20'] = train['form_field36'] / train['form_field20']\n",
        "#train['form_field44*field50'] = train['form_field44'] * train['form_field50']"
      ],
      "execution_count": 31,
      "outputs": []
    },
    {
      "cell_type": "code",
      "metadata": {
        "trusted": true,
        "id": "wmDTpph2EZBk"
      },
      "source": [
        "test['form_field1*formfield2'] = test['form_field1'] * test['form_field2']\n",
        "test['form_field1/formfield2'] = test['form_field1'] / test['form_field2']\n",
        " \n",
        "test['form_field1*formfield3'] = test['form_field1'] * test.form_field3\n",
        "test['form_field1*formfield4'] = test.form_field1 * test.form_field4\n",
        "test['form_field1*formfield5'] = test.form_field1 * test.form_field5\n",
        " \n",
        "#test['form_field30*formfield41'] = test['form_field30'] * test['form_field41']\n",
        "#test['form_field31*formfield40'] = test['form_field31'] * test['form_field40']\n",
        " \n",
        "test['form_field6+field7'] =  (test.form_field6 + test.form_field8)/2\n",
        " \n",
        "test['form_field1*formfield6'] = test['form_field1'] * test['form_field6']\n",
        "test['form_field2*formfield6'] = test['form_field2'] * test['form_field6']\n",
        " \n",
        "test['form_field1*formfield9'] = test['form_field1'] * test['form_field9']\n",
        "test['form_field2*formfield9'] = test['form_field2'] * test['form_field9']\n",
        " \n",
        "test['form_field1*formfield37'] = test['form_field1'] * test['form_field37']\n",
        "test['form_field2*formfield37'] = test['form_field2'] * test['form_field37']\n",
        " \n",
        "test['form_field9*formfield6'] = test['form_field9'] * test['form_field6']\n",
        "test['form_field37*formfield6'] = test['form_field37'] *test['form_field6']\n",
        " \n",
        "test['form_field9*formfield37'] = test['form_field9'] * test['form_field37']\n",
        "test['form_field1*formfield8'] = test['form_field1'] * test['form_field8']\n",
        " \n",
        " \n",
        " \n",
        "#test['form_field13/field14'] = (test.form_field13 / test.form_field14)*100\n",
        "#test['form_field32/field33'] = (test['form_field32']+ test['form_field33'])/2\n",
        "#test['form_field36/field38'] = test['form_field36'] / test['form_field38']\n",
        "#test['form_field36/field39'] = test['form_field36'] / test['form_field39']\n",
        "#test['form_field36/field18'] = test['form_field36'] / test['form_field18']\n",
        " \n",
        "#test['form_field36/field20'] = test['form_field36'] / test['form_field20']\n",
        "#test['form_field44*field50'] =test['form_field44'] * test['form_field50']"
      ],
      "execution_count": 33,
      "outputs": []
    },
    {
      "cell_type": "code",
      "metadata": {
        "id": "9TnwCrB94icR"
      },
      "source": [
        ""
      ],
      "execution_count": null,
      "outputs": []
    },
    {
      "cell_type": "code",
      "metadata": {
        "id": "r-ufe1354lL8"
      },
      "source": [
        " for col in features: \n",
        "   \n",
        " \n",
        "    new_train[col + '_mean_on_field1_'] = new_train[col].groupby([new_train['form_field47'],new_train['form_field1']]).transform('mean')\n",
        "    new_train[col + '_mean_on_field2_'] = new_train[col].groupby([new_train['form_field47'],new_train['form_field2']]).transform('mean')\n",
        " \n",
        "    new_train[col + '_sum_on_field1_'] = new_train[col].groupby([new_train['form_field47'],new_train['form_field1']]).transform('sum')\n",
        "    new_train[col + '_sum_on_field2_'] = new_train[col].groupby([new_train['form_field47'],new_train['form_field2']]).transform('sum')"
      ],
      "execution_count": null,
      "outputs": []
    },
    {
      "cell_type": "code",
      "metadata": {
        "id": "qsaVd8sGsjJi",
        "trusted": true
      },
      "source": [
        "X = train[features]\n",
        "y = train['default_status']"
      ],
      "execution_count": 34,
      "outputs": []
    },
    {
      "cell_type": "code",
      "metadata": {
        "id": "2vzw4M_-sjJw",
        "trusted": true
      },
      "source": [
        "from sklearn.model_selection import StratifiedKFold"
      ],
      "execution_count": 35,
      "outputs": []
    },
    {
      "cell_type": "code",
      "metadata": {
        "id": "Pqumr-QosjJ-",
        "trusted": true
      },
      "source": [
        "def metric(y, pred):\n",
        "    return roc_auc_score(y, pred, labels=[0, 1])"
      ],
      "execution_count": 36,
      "outputs": []
    },
    {
      "cell_type": "code",
      "metadata": {
        "id": "mSzq68IusjKM",
        "trusted": true
      },
      "source": [
        "# Specify number of folds\n",
        "n_skf = 15\n",
        "kf = StratifiedKFold(n_skf)\n",
        " \n",
        "#seed = 42\n",
        " \n",
        "## Manually tweak the hyperparameter, learning rate and n_estimators especially\n",
        "params = {'max_depth':10,\n",
        "    'n_estimators': 5000,\n",
        "    'learning_rate': 0.008,\n",
        "    'objective': 'CrossEntropy',\n",
        "      'eval_metric':'AUC',\n",
        "    \n",
        "    'early_stopping_rounds': 200,\n",
        "    'use_best_model': True,\n",
        "}"
      ],
      "execution_count": 37,
      "outputs": []
    },
    {
      "cell_type": "code",
      "metadata": {
        "scrolled": true,
        "id": "CVC4mh-nsjKa",
        "trusted": true,
        "outputId": "43e1e126-983f-4dcc-e377-5f55847baadf",
        "colab": {
          "base_uri": "https://localhost:8080/",
          "height": 323
        }
      },
      "source": [
        "score_list = []\n",
        "score = 0\n",
        "test_oofs = []\n",
        " \n",
        "for i, (tr_idx, vr_idx) in enumerate(kf.split(X, y)):\n",
        "    \n",
        "    xtrain, ytrain = X.loc[tr_idx, features], y.loc[tr_idx]\n",
        "    xval, yval = X.loc[vr_idx, features], y.loc[vr_idx]\n",
        " \n",
        "    model = CatBoostClassifier(**params, task_type='GPU',random_seed = i)\n",
        "    model.fit(xtrain, ytrain, eval_set=[(xval,yval)], verbose=0)\n",
        "    \n",
        "    p = model.predict_proba(xval)[:, 1]\n",
        "    sc = metric(yval, p)\n",
        "    score_list.append(sc)\n",
        "    score += sc/n_skf\n",
        "    \n",
        "    pred = model.predict_proba(test[features])[:, 1]\n",
        "    test_oofs.append(pred)\n",
        " \n",
        "    print('Fold {} : {}'.format(i, sc))\n",
        " \n",
        "print()\n",
        "print()\n",
        "print('Avg log : ', score)"
      ],
      "execution_count": 29,
      "outputs": [
        {
          "output_type": "stream",
          "text": [
            "Fold 0 : 0.8298943352775953\n",
            "Fold 1 : 0.8511385465915325\n",
            "Fold 2 : 0.8406387569129851\n",
            "Fold 3 : 0.8471893493991784\n",
            "Fold 4 : 0.8239886639644721\n",
            "Fold 5 : 0.8450740248842841\n",
            "Fold 6 : 0.8432417411391753\n",
            "Fold 7 : 0.8416679409725968\n",
            "Fold 8 : 0.8418903299973686\n",
            "Fold 9 : 0.8246068604491406\n",
            "Fold 10 : 0.8205398192788386\n",
            "Fold 11 : 0.850269311944658\n",
            "Fold 12 : 0.8674134487531078\n",
            "Fold 13 : 0.8368557219182431\n",
            "Fold 14 : 0.8489338134555839\n",
            "\n",
            "\n",
            "Avg log :  0.8408895109959174\n"
          ],
          "name": "stdout"
        }
      ]
    },
    {
      "cell_type": "code",
      "metadata": {
        "scrolled": true,
        "id": "rEp1xVpysjKw",
        "trusted": true,
        "outputId": "a60f41e5-47dd-47d0-af95-f8946bd0ca1f",
        "colab": {
          "base_uri": "https://localhost:8080/",
          "height": 52
        }
      },
      "source": [
        "f\"{n_skf} fold CV, score: {score}\" #Increase in local cv score should probably lead to increase in Leaderboard score"
      ],
      "execution_count": 30,
      "outputs": [
        {
          "output_type": "execute_result",
          "data": {
            "application/vnd.google.colaboratory.intrinsic+json": {
              "type": "string"
            },
            "text/plain": [
              "'15 fold CV, score: 0.8408895109959174'"
            ]
          },
          "metadata": {
            "tags": []
          },
          "execution_count": 30
        }
      ]
    },
    {
      "cell_type": "markdown",
      "metadata": {
        "id": "2tvXmEs5EZCb"
      },
      "source": [
        "'15 fold CV, score: 0.8416762360251805', LR-0.005, n_estimator = 10000, seed = i, depth = 7, submit10.csv"
      ]
    },
    {
      "cell_type": "markdown",
      "metadata": {
        "id": "LEOZcyX8EZCc"
      },
      "source": [
        "'15 fold CV, score: 0.8416215384358319', LR-0.008, n_estimator = 5000, seed = i, depth = 8"
      ]
    },
    {
      "cell_type": "markdown",
      "metadata": {
        "id": "bXCoakuiEZCe"
      },
      "source": [
        "'20 fold CV, score: 0.8419991965085709',LR-0.008, n_estimator = 5000, seed = i, depth = 7, submit9.csv"
      ]
    },
    {
      "cell_type": "markdown",
      "metadata": {
        "id": "fY0XdYylEZCf"
      },
      "source": [
        "'15 fold CV, score: 0.8419018702724905', LR-0.008, n_estimator = 5000, seed = i, depth = 7, submit8.csv, Best score on LB"
      ]
    },
    {
      "cell_type": "markdown",
      "metadata": {
        "id": "GJyuNaq0EZCh"
      },
      "source": [
        "'15 fold CV, score: 0.8418325697189986, LR-0.008, n_estimator = 5000, seed = 42, depth = 7, submit7.csv"
      ]
    },
    {
      "cell_type": "markdown",
      "metadata": {
        "id": "Br93cxfnEZCi"
      },
      "source": [
        "'10 fold CV, score: 0.8416283637107365', LR-0.008, n_estimator = 5000, seed = 42, depth = 7, submit5.csv"
      ]
    },
    {
      "cell_type": "markdown",
      "metadata": {
        "id": "4vsUl6wxEZCk"
      },
      "source": [
        "'10 fold CV, score: 0.8404761359972677', LR-0.008, n_estimator = 5000, seed = 42, depth = 10, submit4.csv"
      ]
    },
    {
      "cell_type": "markdown",
      "metadata": {
        "id": "4A-JXnsTEZCl"
      },
      "source": [
        "'10 fold CV, score: 0.8416127641119365', LR-0.008, n_estimator = 5000, seed = 2020"
      ]
    },
    {
      "cell_type": "markdown",
      "metadata": {
        "id": "L5-0vhtIEZCn"
      },
      "source": [
        "'10 fold CV, score: 0.8415039416559706', LR-0.008, n_estimator = 5000, seed = 42"
      ]
    },
    {
      "cell_type": "markdown",
      "metadata": {
        "id": "rnU3HLczsjLA"
      },
      "source": [
        "### Since we are using cross validation, We'll have `n` different predictions (where n is the number of fold)"
      ]
    },
    {
      "cell_type": "code",
      "metadata": {
        "id": "VO7c0-a6sjLD",
        "trusted": true
      },
      "source": [
        "oof_prediction = pd.DataFrame(test_oofs).T"
      ],
      "execution_count": 21,
      "outputs": []
    },
    {
      "cell_type": "code",
      "metadata": {
        "id": "vKYZMsjWsjLU",
        "trusted": true
      },
      "source": [
        "oof_prediction.columns = ['fold_'+ str(i) for i in range(1, n_skf + 1)]"
      ],
      "execution_count": 22,
      "outputs": []
    },
    {
      "cell_type": "code",
      "metadata": {
        "id": "w6aN3-LPsjLk",
        "trusted": true,
        "outputId": "be264a8a-01ea-4bb5-ceae-d8bc9148aa4c",
        "colab": {
          "base_uri": "https://localhost:8080/",
          "height": 224
        }
      },
      "source": [
        "oof_prediction.head()"
      ],
      "execution_count": 23,
      "outputs": [
        {
          "output_type": "execute_result",
          "data": {
            "text/html": [
              "<div>\n",
              "<style scoped>\n",
              "    .dataframe tbody tr th:only-of-type {\n",
              "        vertical-align: middle;\n",
              "    }\n",
              "\n",
              "    .dataframe tbody tr th {\n",
              "        vertical-align: top;\n",
              "    }\n",
              "\n",
              "    .dataframe thead th {\n",
              "        text-align: right;\n",
              "    }\n",
              "</style>\n",
              "<table border=\"1\" class=\"dataframe\">\n",
              "  <thead>\n",
              "    <tr style=\"text-align: right;\">\n",
              "      <th></th>\n",
              "      <th>fold_1</th>\n",
              "      <th>fold_2</th>\n",
              "      <th>fold_3</th>\n",
              "      <th>fold_4</th>\n",
              "      <th>fold_5</th>\n",
              "      <th>fold_6</th>\n",
              "      <th>fold_7</th>\n",
              "      <th>fold_8</th>\n",
              "      <th>fold_9</th>\n",
              "      <th>fold_10</th>\n",
              "      <th>fold_11</th>\n",
              "      <th>fold_12</th>\n",
              "      <th>fold_13</th>\n",
              "      <th>fold_14</th>\n",
              "      <th>fold_15</th>\n",
              "    </tr>\n",
              "  </thead>\n",
              "  <tbody>\n",
              "    <tr>\n",
              "      <th>0</th>\n",
              "      <td>0.314115</td>\n",
              "      <td>0.292056</td>\n",
              "      <td>0.342378</td>\n",
              "      <td>0.320132</td>\n",
              "      <td>0.310555</td>\n",
              "      <td>0.307088</td>\n",
              "      <td>0.314581</td>\n",
              "      <td>0.349372</td>\n",
              "      <td>0.331286</td>\n",
              "      <td>0.302720</td>\n",
              "      <td>0.328746</td>\n",
              "      <td>0.316901</td>\n",
              "      <td>0.293201</td>\n",
              "      <td>0.322182</td>\n",
              "      <td>0.304439</td>\n",
              "    </tr>\n",
              "    <tr>\n",
              "      <th>1</th>\n",
              "      <td>0.425213</td>\n",
              "      <td>0.341592</td>\n",
              "      <td>0.377943</td>\n",
              "      <td>0.394663</td>\n",
              "      <td>0.331499</td>\n",
              "      <td>0.398646</td>\n",
              "      <td>0.396911</td>\n",
              "      <td>0.444832</td>\n",
              "      <td>0.384766</td>\n",
              "      <td>0.376909</td>\n",
              "      <td>0.384882</td>\n",
              "      <td>0.352310</td>\n",
              "      <td>0.384718</td>\n",
              "      <td>0.397946</td>\n",
              "      <td>0.351174</td>\n",
              "    </tr>\n",
              "    <tr>\n",
              "      <th>2</th>\n",
              "      <td>0.354195</td>\n",
              "      <td>0.389987</td>\n",
              "      <td>0.381181</td>\n",
              "      <td>0.368937</td>\n",
              "      <td>0.395171</td>\n",
              "      <td>0.418407</td>\n",
              "      <td>0.415784</td>\n",
              "      <td>0.374056</td>\n",
              "      <td>0.396557</td>\n",
              "      <td>0.397112</td>\n",
              "      <td>0.410189</td>\n",
              "      <td>0.386720</td>\n",
              "      <td>0.358726</td>\n",
              "      <td>0.359079</td>\n",
              "      <td>0.369657</td>\n",
              "    </tr>\n",
              "    <tr>\n",
              "      <th>3</th>\n",
              "      <td>0.729698</td>\n",
              "      <td>0.739634</td>\n",
              "      <td>0.763501</td>\n",
              "      <td>0.741557</td>\n",
              "      <td>0.752966</td>\n",
              "      <td>0.764886</td>\n",
              "      <td>0.742584</td>\n",
              "      <td>0.752692</td>\n",
              "      <td>0.729274</td>\n",
              "      <td>0.761641</td>\n",
              "      <td>0.759470</td>\n",
              "      <td>0.751393</td>\n",
              "      <td>0.740636</td>\n",
              "      <td>0.725104</td>\n",
              "      <td>0.738868</td>\n",
              "    </tr>\n",
              "    <tr>\n",
              "      <th>4</th>\n",
              "      <td>0.167424</td>\n",
              "      <td>0.162916</td>\n",
              "      <td>0.173079</td>\n",
              "      <td>0.177167</td>\n",
              "      <td>0.158162</td>\n",
              "      <td>0.158191</td>\n",
              "      <td>0.158758</td>\n",
              "      <td>0.174698</td>\n",
              "      <td>0.185564</td>\n",
              "      <td>0.166953</td>\n",
              "      <td>0.154338</td>\n",
              "      <td>0.177701</td>\n",
              "      <td>0.187672</td>\n",
              "      <td>0.174128</td>\n",
              "      <td>0.151464</td>\n",
              "    </tr>\n",
              "  </tbody>\n",
              "</table>\n",
              "</div>"
            ],
            "text/plain": [
              "     fold_1    fold_2    fold_3  ...   fold_13   fold_14   fold_15\n",
              "0  0.314115  0.292056  0.342378  ...  0.293201  0.322182  0.304439\n",
              "1  0.425213  0.341592  0.377943  ...  0.384718  0.397946  0.351174\n",
              "2  0.354195  0.389987  0.381181  ...  0.358726  0.359079  0.369657\n",
              "3  0.729698  0.739634  0.763501  ...  0.740636  0.725104  0.738868\n",
              "4  0.167424  0.162916  0.173079  ...  0.187672  0.174128  0.151464\n",
              "\n",
              "[5 rows x 15 columns]"
            ]
          },
          "metadata": {
            "tags": []
          },
          "execution_count": 23
        }
      ]
    },
    {
      "cell_type": "code",
      "metadata": {
        "id": "LUBJMAt5sjLz",
        "trusted": true
      },
      "source": [
        "sub = pd.read_csv('/content/drive/My Drive/DSN AI Bootcamp Qualification Hackathon/SampleSubmission.csv')"
      ],
      "execution_count": 24,
      "outputs": []
    },
    {
      "cell_type": "code",
      "metadata": {
        "id": "cAb7F5E-sjMB",
        "trusted": true
      },
      "source": [
        "### We take the mean of all 5 predictions to generate submission"
      ],
      "execution_count": null,
      "outputs": []
    },
    {
      "cell_type": "code",
      "metadata": {
        "id": "bkDFca5-sjMR",
        "trusted": true
      },
      "source": [
        "sub['default_status'] = np.mean(test_oofs, axis = 0)"
      ],
      "execution_count": 25,
      "outputs": []
    },
    {
      "cell_type": "code",
      "metadata": {
        "id": "m5ib6M4isjMk",
        "trusted": true
      },
      "source": [
        "sub.to_csv('submit11.csv', index = False)"
      ],
      "execution_count": 26,
      "outputs": []
    },
    {
      "cell_type": "markdown",
      "metadata": {
        "id": "u0VGKog9sjMz"
      },
      "source": [
        "### Suggestions:\n",
        "- Base your feature selection on the local cv score i.e When you add, remove or engineer feature check `score` (cell 17)\n",
        "- Increase number of fold to 10, 15. See how score imporve on leaderboard.\n",
        "- Try differnt value of learning rate. I'll advice anything < 0.01\n",
        "- Create as many features as possible.\n",
        "- Find code for Xgboost and lgbm using this method of modelling, or better still tweak this one (mind you, names of parameters may be slightly different."
      ]
    },
    {
      "cell_type": "code",
      "metadata": {
        "id": "7d8UrxzosjM1",
        "trusted": false
      },
      "source": [
        ""
      ],
      "execution_count": null,
      "outputs": []
    }
  ]
}