{
  "nbformat": 4,
  "nbformat_minor": 0,
  "metadata": {
    "kernelspec": {
      "name": "python3",
      "display_name": "Python 3",
      "language": "python"
    },
    "language_info": {
      "name": "python",
      "version": "3.7.6",
      "mimetype": "text/x-python",
      "codemirror_mode": {
        "name": "ipython",
        "version": 3
      },
      "pygments_lexer": "ipython3",
      "nbconvert_exporter": "python",
      "file_extension": ".py"
    },
    "colab": {
      "name": "DSN AI Bootcamp Qualification.ipynb",
      "provenance": [],
      "include_colab_link": true
    }
  },
  "cells": [
    {
      "cell_type": "markdown",
      "metadata": {
        "id": "view-in-github",
        "colab_type": "text"
      },
      "source": [
        "<a href=\"https://colab.research.google.com/github/Justus-coded/Competitions/blob/master/DSN%20AI%20Bootcamp%20Qualification%20Hackathon/DSN%20AI%20Bootcamp%20Qualification.ipynb\" target=\"_parent\"><img src=\"https://colab.research.google.com/assets/colab-badge.svg\" alt=\"Open In Colab\"/></a>"
      ]
    },
    {
      "cell_type": "code",
      "metadata": {
        "cell_id": "00000-40abb050-6d43-4361-b0ee-fec76327f83f",
        "output_cleared": false,
        "id": "qJophfW4pn8T",
        "trusted": true,
        "colab_type": "code",
        "colab": {}
      },
      "source": [
        "import pandas as pd\n",
        "import numpy as np\n",
        "import matplotlib.pyplot as plt\n",
        "import seaborn as sns"
      ],
      "execution_count": null,
      "outputs": []
    },
    {
      "cell_type": "code",
      "metadata": {
        "id": "_V6R8-_mqWrN",
        "trusted": true,
        "colab_type": "code",
        "colab": {}
      },
      "source": [
        "#from google.colab import drive\n",
        "#drive.mount('/content/drive')"
      ],
      "execution_count": null,
      "outputs": []
    },
    {
      "cell_type": "code",
      "metadata": {
        "cell_id": "00001-9449df06-9eb5-4c8a-a26e-05150a882352",
        "output_cleared": false,
        "id": "C3AvYL8Upn8j",
        "trusted": true,
        "colab_type": "code",
        "colab": {}
      },
      "source": [
        "#train = pd.read_csv(\"/content/drive/My Drive/DSN AI Bootcamp Qualification Hackathon/Train.csv\")\n",
        "#test = pd.read_csv('/content/drive/My Drive/DSN AI Bootcamp Qualification Hackathon/Test.csv')\n",
        "#submission = pd.read_csv('/content/drive/My Drive/DSN AI Bootcamp Qualification Hackathon/submission.csv')\n",
        "train = pd.read_csv(\"../input/dsn-ai-bootcamp-data/Train.csv\")\n",
        "test = pd.read_csv('../input/dsn-ai-bootcamp-data/Test.csv')\n",
        "submission = pd.read_csv('../input/dsn-ai-bootcamp-data/SampleSubmission.csv')"
      ],
      "execution_count": null,
      "outputs": []
    },
    {
      "cell_type": "code",
      "metadata": {
        "cell_id": "00002-daa6a73a-b6af-4018-be11-00d2b79efb84",
        "output_cleared": false,
        "id": "uiLfXy8tpn8v",
        "trusted": true,
        "colab_type": "code",
        "colab": {}
      },
      "source": [
        "#train.info()"
      ],
      "execution_count": null,
      "outputs": []
    },
    {
      "cell_type": "code",
      "metadata": {
        "cell_id": "00003-dfc64efe-8193-4680-90a6-059099238071",
        "output_cleared": false,
        "id": "txlo_QIPpn88",
        "trusted": true,
        "colab_type": "code",
        "colab": {},
        "outputId": "a4c4396e-e962-406e-91b2-97911275bd72"
      },
      "source": [
        "train.describe()"
      ],
      "execution_count": null,
      "outputs": [
        {
          "output_type": "execute_result",
          "data": {
            "text/plain": [
              "        form_field1   form_field2   form_field3   form_field4   form_field5  \\\n",
              "count  53471.000000  52156.000000  55645.000000  55645.000000  55645.000000   \n",
              "mean    3491.795665      0.550737      1.052225      0.851979      1.956317   \n",
              "std      188.462426      0.820979      2.147768      3.157692     10.512396   \n",
              "min     2990.000000      0.000000      0.000000      0.000000      0.000000   \n",
              "25%     3358.000000      0.070788      0.000000      0.000000      0.000000   \n",
              "50%     3484.000000      0.267575      0.062000      0.000000      0.000000   \n",
              "75%     3620.000000      0.719512      1.282000      0.000000      0.000000   \n",
              "max     3900.000000     18.015050     57.371600     91.672200    407.748600   \n",
              "\n",
              "        form_field6   form_field7   form_field8   form_field9  form_field10  \\\n",
              "count  4.264000e+04  5.083700e+04  4.264000e+04  4.799200e+04  5.564500e+04   \n",
              "mean   6.244479e+05  6.865210e+06  2.626690e+06  1.316002e+07  1.185585e+07   \n",
              "std    1.433422e+06  1.912729e+07  3.927355e+06  1.977963e+07  2.669459e+07   \n",
              "min    0.000000e+00  0.000000e+00  0.000000e+00  0.000000e+00  0.000000e+00   \n",
              "25%    1.400400e+04  6.869740e+05  1.929440e+05  1.368502e+06  4.500730e+05   \n",
              "50%    1.155330e+05  2.704328e+06  9.639420e+05  5.506295e+06  3.707559e+06   \n",
              "75%    5.259280e+05  6.993831e+06  3.751516e+06  1.694552e+07  1.326101e+07   \n",
              "max    5.313546e+07  2.158794e+09  1.037397e+08  3.200533e+08  2.191361e+09   \n",
              "\n",
              "       ...  form_field40  form_field41  form_field42  form_field43  \\\n",
              "count  ...  12271.000000  17771.000000  54677.000000  55432.000000   \n",
              "mean   ...    147.797977    108.117363      0.368215      6.634511   \n",
              "std    ...     45.085889     36.765769      0.412858      6.378946   \n",
              "min    ...      0.021000      0.000000      0.000000      0.000000   \n",
              "25%    ...    136.191750     87.055500      0.000000      2.020000   \n",
              "50%    ...    150.000000    118.441500      0.220000      5.050000   \n",
              "75%    ...    167.754000    137.496750      0.628573     10.100000   \n",
              "max    ...    645.450000    255.000000      2.200000     91.910000   \n",
              "\n",
              "       form_field44  form_field45  form_field46  form_field48  form_field49  \\\n",
              "count  50617.000000  24683.000000  40096.000000  3.511100e+04  55645.000000   \n",
              "mean       0.563377      0.072520      0.095371  3.052449e+05      1.049061   \n",
              "std        0.196973      0.291146      0.335210  1.647757e+06      1.806160   \n",
              "min        0.048528      0.000000      0.000000  0.000000e+00      0.000000   \n",
              "25%        0.411672      0.000000      0.000000  7.710079e+01      0.000000   \n",
              "50%        0.588648      0.000000      0.000000  3.181243e+02      0.000000   \n",
              "75%        0.753840      0.000000      0.000000  1.153022e+03      1.181754   \n",
              "max        0.800000      5.000000      5.000000  5.321014e+07     28.000000   \n",
              "\n",
              "       form_field50  \n",
              "count  4.494400e+04  \n",
              "mean   6.005862e+05  \n",
              "std    5.842405e+06  \n",
              "min    0.000000e+00  \n",
              "25%    4.560141e-02  \n",
              "50%    1.703996e-01  \n",
              "75%    4.993370e-01  \n",
              "max    2.307571e+08  \n",
              "\n",
              "[8 rows x 49 columns]"
            ],
            "text/html": [
              "<div>\n",
              "<style scoped>\n",
              "    .dataframe tbody tr th:only-of-type {\n",
              "        vertical-align: middle;\n",
              "    }\n",
              "\n",
              "    .dataframe tbody tr th {\n",
              "        vertical-align: top;\n",
              "    }\n",
              "\n",
              "    .dataframe thead th {\n",
              "        text-align: right;\n",
              "    }\n",
              "</style>\n",
              "<table border=\"1\" class=\"dataframe\">\n",
              "  <thead>\n",
              "    <tr style=\"text-align: right;\">\n",
              "      <th></th>\n",
              "      <th>form_field1</th>\n",
              "      <th>form_field2</th>\n",
              "      <th>form_field3</th>\n",
              "      <th>form_field4</th>\n",
              "      <th>form_field5</th>\n",
              "      <th>form_field6</th>\n",
              "      <th>form_field7</th>\n",
              "      <th>form_field8</th>\n",
              "      <th>form_field9</th>\n",
              "      <th>form_field10</th>\n",
              "      <th>...</th>\n",
              "      <th>form_field40</th>\n",
              "      <th>form_field41</th>\n",
              "      <th>form_field42</th>\n",
              "      <th>form_field43</th>\n",
              "      <th>form_field44</th>\n",
              "      <th>form_field45</th>\n",
              "      <th>form_field46</th>\n",
              "      <th>form_field48</th>\n",
              "      <th>form_field49</th>\n",
              "      <th>form_field50</th>\n",
              "    </tr>\n",
              "  </thead>\n",
              "  <tbody>\n",
              "    <tr>\n",
              "      <th>count</th>\n",
              "      <td>53471.000000</td>\n",
              "      <td>52156.000000</td>\n",
              "      <td>55645.000000</td>\n",
              "      <td>55645.000000</td>\n",
              "      <td>55645.000000</td>\n",
              "      <td>4.264000e+04</td>\n",
              "      <td>5.083700e+04</td>\n",
              "      <td>4.264000e+04</td>\n",
              "      <td>4.799200e+04</td>\n",
              "      <td>5.564500e+04</td>\n",
              "      <td>...</td>\n",
              "      <td>12271.000000</td>\n",
              "      <td>17771.000000</td>\n",
              "      <td>54677.000000</td>\n",
              "      <td>55432.000000</td>\n",
              "      <td>50617.000000</td>\n",
              "      <td>24683.000000</td>\n",
              "      <td>40096.000000</td>\n",
              "      <td>3.511100e+04</td>\n",
              "      <td>55645.000000</td>\n",
              "      <td>4.494400e+04</td>\n",
              "    </tr>\n",
              "    <tr>\n",
              "      <th>mean</th>\n",
              "      <td>3491.795665</td>\n",
              "      <td>0.550737</td>\n",
              "      <td>1.052225</td>\n",
              "      <td>0.851979</td>\n",
              "      <td>1.956317</td>\n",
              "      <td>6.244479e+05</td>\n",
              "      <td>6.865210e+06</td>\n",
              "      <td>2.626690e+06</td>\n",
              "      <td>1.316002e+07</td>\n",
              "      <td>1.185585e+07</td>\n",
              "      <td>...</td>\n",
              "      <td>147.797977</td>\n",
              "      <td>108.117363</td>\n",
              "      <td>0.368215</td>\n",
              "      <td>6.634511</td>\n",
              "      <td>0.563377</td>\n",
              "      <td>0.072520</td>\n",
              "      <td>0.095371</td>\n",
              "      <td>3.052449e+05</td>\n",
              "      <td>1.049061</td>\n",
              "      <td>6.005862e+05</td>\n",
              "    </tr>\n",
              "    <tr>\n",
              "      <th>std</th>\n",
              "      <td>188.462426</td>\n",
              "      <td>0.820979</td>\n",
              "      <td>2.147768</td>\n",
              "      <td>3.157692</td>\n",
              "      <td>10.512396</td>\n",
              "      <td>1.433422e+06</td>\n",
              "      <td>1.912729e+07</td>\n",
              "      <td>3.927355e+06</td>\n",
              "      <td>1.977963e+07</td>\n",
              "      <td>2.669459e+07</td>\n",
              "      <td>...</td>\n",
              "      <td>45.085889</td>\n",
              "      <td>36.765769</td>\n",
              "      <td>0.412858</td>\n",
              "      <td>6.378946</td>\n",
              "      <td>0.196973</td>\n",
              "      <td>0.291146</td>\n",
              "      <td>0.335210</td>\n",
              "      <td>1.647757e+06</td>\n",
              "      <td>1.806160</td>\n",
              "      <td>5.842405e+06</td>\n",
              "    </tr>\n",
              "    <tr>\n",
              "      <th>min</th>\n",
              "      <td>2990.000000</td>\n",
              "      <td>0.000000</td>\n",
              "      <td>0.000000</td>\n",
              "      <td>0.000000</td>\n",
              "      <td>0.000000</td>\n",
              "      <td>0.000000e+00</td>\n",
              "      <td>0.000000e+00</td>\n",
              "      <td>0.000000e+00</td>\n",
              "      <td>0.000000e+00</td>\n",
              "      <td>0.000000e+00</td>\n",
              "      <td>...</td>\n",
              "      <td>0.021000</td>\n",
              "      <td>0.000000</td>\n",
              "      <td>0.000000</td>\n",
              "      <td>0.000000</td>\n",
              "      <td>0.048528</td>\n",
              "      <td>0.000000</td>\n",
              "      <td>0.000000</td>\n",
              "      <td>0.000000e+00</td>\n",
              "      <td>0.000000</td>\n",
              "      <td>0.000000e+00</td>\n",
              "    </tr>\n",
              "    <tr>\n",
              "      <th>25%</th>\n",
              "      <td>3358.000000</td>\n",
              "      <td>0.070788</td>\n",
              "      <td>0.000000</td>\n",
              "      <td>0.000000</td>\n",
              "      <td>0.000000</td>\n",
              "      <td>1.400400e+04</td>\n",
              "      <td>6.869740e+05</td>\n",
              "      <td>1.929440e+05</td>\n",
              "      <td>1.368502e+06</td>\n",
              "      <td>4.500730e+05</td>\n",
              "      <td>...</td>\n",
              "      <td>136.191750</td>\n",
              "      <td>87.055500</td>\n",
              "      <td>0.000000</td>\n",
              "      <td>2.020000</td>\n",
              "      <td>0.411672</td>\n",
              "      <td>0.000000</td>\n",
              "      <td>0.000000</td>\n",
              "      <td>7.710079e+01</td>\n",
              "      <td>0.000000</td>\n",
              "      <td>4.560141e-02</td>\n",
              "    </tr>\n",
              "    <tr>\n",
              "      <th>50%</th>\n",
              "      <td>3484.000000</td>\n",
              "      <td>0.267575</td>\n",
              "      <td>0.062000</td>\n",
              "      <td>0.000000</td>\n",
              "      <td>0.000000</td>\n",
              "      <td>1.155330e+05</td>\n",
              "      <td>2.704328e+06</td>\n",
              "      <td>9.639420e+05</td>\n",
              "      <td>5.506295e+06</td>\n",
              "      <td>3.707559e+06</td>\n",
              "      <td>...</td>\n",
              "      <td>150.000000</td>\n",
              "      <td>118.441500</td>\n",
              "      <td>0.220000</td>\n",
              "      <td>5.050000</td>\n",
              "      <td>0.588648</td>\n",
              "      <td>0.000000</td>\n",
              "      <td>0.000000</td>\n",
              "      <td>3.181243e+02</td>\n",
              "      <td>0.000000</td>\n",
              "      <td>1.703996e-01</td>\n",
              "    </tr>\n",
              "    <tr>\n",
              "      <th>75%</th>\n",
              "      <td>3620.000000</td>\n",
              "      <td>0.719512</td>\n",
              "      <td>1.282000</td>\n",
              "      <td>0.000000</td>\n",
              "      <td>0.000000</td>\n",
              "      <td>5.259280e+05</td>\n",
              "      <td>6.993831e+06</td>\n",
              "      <td>3.751516e+06</td>\n",
              "      <td>1.694552e+07</td>\n",
              "      <td>1.326101e+07</td>\n",
              "      <td>...</td>\n",
              "      <td>167.754000</td>\n",
              "      <td>137.496750</td>\n",
              "      <td>0.628573</td>\n",
              "      <td>10.100000</td>\n",
              "      <td>0.753840</td>\n",
              "      <td>0.000000</td>\n",
              "      <td>0.000000</td>\n",
              "      <td>1.153022e+03</td>\n",
              "      <td>1.181754</td>\n",
              "      <td>4.993370e-01</td>\n",
              "    </tr>\n",
              "    <tr>\n",
              "      <th>max</th>\n",
              "      <td>3900.000000</td>\n",
              "      <td>18.015050</td>\n",
              "      <td>57.371600</td>\n",
              "      <td>91.672200</td>\n",
              "      <td>407.748600</td>\n",
              "      <td>5.313546e+07</td>\n",
              "      <td>2.158794e+09</td>\n",
              "      <td>1.037397e+08</td>\n",
              "      <td>3.200533e+08</td>\n",
              "      <td>2.191361e+09</td>\n",
              "      <td>...</td>\n",
              "      <td>645.450000</td>\n",
              "      <td>255.000000</td>\n",
              "      <td>2.200000</td>\n",
              "      <td>91.910000</td>\n",
              "      <td>0.800000</td>\n",
              "      <td>5.000000</td>\n",
              "      <td>5.000000</td>\n",
              "      <td>5.321014e+07</td>\n",
              "      <td>28.000000</td>\n",
              "      <td>2.307571e+08</td>\n",
              "    </tr>\n",
              "  </tbody>\n",
              "</table>\n",
              "<p>8 rows × 49 columns</p>\n",
              "</div>"
            ]
          },
          "metadata": {
            "tags": []
          },
          "execution_count": 7
        }
      ]
    },
    {
      "cell_type": "code",
      "metadata": {
        "cell_id": "00004-39d41c22-16dc-401f-8779-9d1f76a73dac",
        "output_cleared": false,
        "id": "UlA3rZH8pn9H",
        "trusted": true,
        "colab_type": "code",
        "colab": {}
      },
      "source": [
        "#train.isnull().sum()/len(train) * 100"
      ],
      "execution_count": null,
      "outputs": []
    },
    {
      "cell_type": "code",
      "metadata": {
        "cell_id": "00005-d5dcfaf0-2187-47ae-ad58-8c1921afe2c7",
        "output_cleared": false,
        "id": "2snyyVgipn9R",
        "trusted": true,
        "colab_type": "code",
        "colab": {}
      },
      "source": [
        "new_train = train.drop(columns=['form_field31','form_field40','form_field41'])\n",
        "#new_train = train\n",
        "#print(new_train.head())"
      ],
      "execution_count": null,
      "outputs": []
    },
    {
      "cell_type": "code",
      "metadata": {
        "cell_id": "00006-51bdfddc-21a4-48fb-a814-0e00bcbd7afb",
        "output_cleared": false,
        "id": "zj53ATegpn9e",
        "trusted": true,
        "colab_type": "code",
        "colab": {}
      },
      "source": [
        "#test.isnull().sum()/len(test) * 100"
      ],
      "execution_count": null,
      "outputs": []
    },
    {
      "cell_type": "code",
      "metadata": {
        "cell_id": "00007-c0bf3716-bd68-4200-b459-00600df0bf9b",
        "output_cleared": false,
        "id": "cKvSlM6Wpn9p",
        "trusted": true,
        "colab_type": "code",
        "colab": {}
      },
      "source": [
        "new_test = test.drop(columns=['form_field31','form_field40','form_field41'])\n",
        "#new_test = test"
      ],
      "execution_count": null,
      "outputs": []
    },
    {
      "cell_type": "markdown",
      "metadata": {
        "id": "83hasiU9SmZH",
        "colab_type": "text"
      },
      "source": [
        "# Training Catboost Algorithm with less preprocessing and feature engineering"
      ]
    },
    {
      "cell_type": "markdown",
      "metadata": {
        "id": "j9icMtCmx2Sk",
        "colab_type": "text"
      },
      "source": [
        "## Feature Engineering"
      ]
    },
    {
      "cell_type": "code",
      "metadata": {
        "cell_id": "00008-f56bb32a-d54b-4148-9a48-4092eef6711c",
        "output_cleared": false,
        "id": "d4kJCv-Lpn9y",
        "trusted": true,
        "colab_type": "code",
        "colab": {}
      },
      "source": [
        "new_train.fillna(-999, inplace=True)"
      ],
      "execution_count": null,
      "outputs": []
    },
    {
      "cell_type": "code",
      "metadata": {
        "cell_id": "00009-85e72b5d-48e7-48ac-9af4-1105ad35c722",
        "output_cleared": false,
        "id": "ofaoPDwupn97",
        "trusted": true,
        "colab_type": "code",
        "colab": {}
      },
      "source": [
        "new_test.fillna(-999, inplace=True)"
      ],
      "execution_count": null,
      "outputs": []
    },
    {
      "cell_type": "markdown",
      "metadata": {
        "id": "vxt60r6kwZ70",
        "colab_type": "text"
      },
      "source": [
        "**Added new features**"
      ]
    },
    {
      "cell_type": "code",
      "metadata": {
        "trusted": true,
        "id": "_NfIF87mwZ72",
        "colab_type": "code",
        "colab": {}
      },
      "source": [
        "#new_train['form_field1*form_field2'] = new_train.form_field1 * new_train.form_field2\n",
        "#new_test['form_field1*form_field2'] = new_test.form_field1 * new_test.form_field2"
      ],
      "execution_count": null,
      "outputs": []
    },
    {
      "cell_type": "markdown",
      "metadata": {
        "id": "d4kz8QXYwZ8C",
        "colab_type": "text"
      },
      "source": [
        "Adding more Features"
      ]
    },
    {
      "cell_type": "code",
      "metadata": {
        "trusted": true,
        "id": "f3g_WR2DwZ8E",
        "colab_type": "code",
        "colab": {}
      },
      "source": [
        "new_train['form_field1*formfield2'] = new_train['form_field1'] * new_train['form_field2']\n",
        "new_train['form_field1/formfield2'] = new_train['form_field1'] / new_train['form_field2']\n",
        "\n",
        "new_train['form_field1*formfield3'] = new_train['form_field1'] * new_train.form_field3\n",
        "new_train['form_field1*formfield4'] = new_train.form_field1 * new_train.form_field4\n",
        "new_train['form_field1*formfield5'] = new_train.form_field1 * new_train.form_field5\n",
        "\n",
        "#new_train['form_field30*formfield41'] = new_train['form_field30'] * new_train['form_field41']\n",
        "##new_train['form_field31*formfield40'] = new_train['form_field31'] * new_train['form_field40']\n",
        "\n",
        "new_train['form_field6+field7'] =  (new_train.form_field6 + new_train.form_field8)/2\n",
        "new_train['form_field13/field14'] = (new_train.form_field13 / new_train.form_field14)*100\n",
        "new_train['form_field32/field33'] = (new_train['form_field32']+ new_train['form_field33'])/2\n",
        "new_train['form_field36/field38'] = new_train['form_field36'] / new_train['form_field38']\n",
        "new_train['form_field36/field39'] = new_train['form_field36'] / new_train['form_field39']\n",
        "new_train['form_field36/field18'] = new_train['form_field36'] / new_train['form_field18']\n",
        "new_train['form_field36/field20'] = new_train['form_field36'] / new_train['form_field20']\n",
        "new_train['form_field44*field50'] = new_train['form_field44'] * new_train['form_field50']\n",
        "\n",
        "new_train['form_field1*formfield6'] = new_train['form_field1'] * new_train['form_field6']\n",
        "new_train['form_field2*formfield6'] = new_train['form_field2'] * new_train['form_field6']\n",
        "\n",
        "new_train['form_field1*formfield9'] = new_train['form_field1'] * new_train['form_field9']\n",
        "new_train['form_field2*formfield9'] = new_train['form_field2'] * new_train['form_field9']\n",
        "\n",
        "new_train['form_field1*formfield37'] = new_train['form_field1'] * new_train['form_field37']\n",
        "new_train['form_field2*formfield37'] = new_train['form_field2'] * new_train['form_field37']\n",
        "\n",
        "new_train['form_field9*formfield6'] = new_train['form_field9'] * new_train['form_field6']\n",
        "new_train['form_field37*formfield6'] = new_train['form_field37'] * new_train['form_field6']\n",
        "\n",
        "new_train['form_field9*formfield37'] = new_train['form_field9'] * new_train['form_field37']\n",
        "new_train['form_field1*formfield8'] = new_train['form_field1'] * new_train['form_field8']\n",
        "\n"
      ],
      "execution_count": null,
      "outputs": []
    },
    {
      "cell_type": "code",
      "metadata": {
        "trusted": true,
        "id": "edZE7-QhwZ8M",
        "colab_type": "code",
        "colab": {}
      },
      "source": [
        "new_test['form_field1*formfield2'] = new_test['form_field1'] * new_test['form_field2']\n",
        "new_test['form_field1/formfield2'] = new_test['form_field1'] / new_test['form_field2']\n",
        "\n",
        "new_test['form_field1*formfield3'] = new_test['form_field1'] * new_test.form_field3\n",
        "new_test['form_field1*formfield4'] = new_test.form_field1 * new_test.form_field4\n",
        "new_test['form_field1*formfield5'] = new_test.form_field1 * new_test.form_field5\n",
        "\n",
        "#new_train['form_field30*formfield41'] = new_train['form_field30'] * new_train['form_field41']\n",
        "##new_train['form_field31*formfield40'] = new_train['form_field31'] * new_train['form_field40']\n",
        "\n",
        "new_test['form_field6+field7'] =  (new_test.form_field6 + new_test.form_field8)/2\n",
        "new_test['form_field13/field14'] = (new_test.form_field13 / new_test.form_field14)*100\n",
        "new_test['form_field32/field33'] = (new_test['form_field32']+ new_test['form_field33'])/2\n",
        "new_test['form_field36/field38'] = new_test['form_field36'] / new_test['form_field38']\n",
        "new_test['form_field36/field39'] = new_test['form_field36'] / new_test['form_field39']\n",
        "new_test['form_field36/field18'] = new_test['form_field36'] / new_test['form_field18']\n",
        "new_test['form_field36/field20'] = new_test['form_field36'] / new_test['form_field20']\n",
        "new_test['form_field44*field50'] = new_test['form_field44'] * new_test['form_field50']\n",
        "\n",
        "\n",
        "\n",
        "new_test['form_field1*formfield6'] = new_test['form_field1'] * new_test['form_field6']\n",
        "new_test['form_field2*formfield6'] = new_test['form_field2'] * new_test['form_field6']\n",
        "\n",
        "new_test['form_field1*formfield9'] = new_test['form_field1'] * new_test['form_field9']\n",
        "new_test['form_field2*formfield9'] = new_test['form_field2'] * new_test['form_field9']\n",
        "\n",
        "new_test['form_field1*formfield37'] = new_test['form_field1'] * new_test['form_field37']\n",
        "new_test['form_field2*formfield37'] = new_test['form_field2'] * new_test['form_field37']\n",
        "\n",
        "new_test['form_field9*formfield6'] = new_test['form_field9'] * new_test['form_field6']\n",
        "new_test['form_field37*formfield6'] = new_test['form_field37'] *new_test['form_field6']\n",
        "\n",
        "new_test['form_field9*formfield37'] = new_test['form_field9'] * new_test['form_field37']\n",
        "new_test['form_field1*formfield8'] = new_test['form_field1'] * new_test['form_field8']\n",
        "\n"
      ],
      "execution_count": null,
      "outputs": []
    },
    {
      "cell_type": "markdown",
      "metadata": {
        "id": "kyG5SsHUJCyc",
        "colab_type": "text"
      },
      "source": [
        "## Modelling"
      ]
    },
    {
      "cell_type": "code",
      "metadata": {
        "id": "wdg0TqroJF-J",
        "trusted": true,
        "colab_type": "code",
        "colab": {}
      },
      "source": [
        "from sklearn.model_selection import train_test_split\n",
        "from sklearn.metrics import roc_auc_score\n",
        "from sklearn.preprocessing import LabelEncoder\n"
      ],
      "execution_count": null,
      "outputs": []
    },
    {
      "cell_type": "code",
      "metadata": {
        "id": "kPQn4scmVNNp",
        "trusted": true,
        "colab_type": "code",
        "colab": {}
      },
      "source": [
        "num_cols = new_train.select_dtypes(include=np.number).columns"
      ],
      "execution_count": null,
      "outputs": []
    },
    {
      "cell_type": "code",
      "metadata": {
        "id": "D2pUdl6HVKwk",
        "trusted": true,
        "colab_type": "code",
        "colab": {}
      },
      "source": [
        "#for col in num_cols:\n",
        " # new_train[col] = np.sqrt(new_train[col])\n",
        "  #new_test[col] = np.sqrt(new_test[col])"
      ],
      "execution_count": null,
      "outputs": []
    },
    {
      "cell_type": "code",
      "metadata": {
        "id": "heuwD9BoJwWR",
        "trusted": true,
        "colab_type": "code",
        "colab": {},
        "outputId": "c4c74d7c-753e-4cdc-a138-e71a46017d06"
      },
      "source": [
        "pip install --quiet catboost"
      ],
      "execution_count": null,
      "outputs": [
        {
          "output_type": "stream",
          "text": [
            "\u001b[33mWARNING: You are using pip version 20.2.2; however, version 20.2.3 is available.\n",
            "You should consider upgrading via the '/opt/conda/bin/python3.7 -m pip install --upgrade pip' command.\u001b[0m\n",
            "Note: you may need to restart the kernel to use updated packages.\n"
          ],
          "name": "stdout"
        }
      ]
    },
    {
      "cell_type": "code",
      "metadata": {
        "id": "faFJ10QcJzPk",
        "trusted": true,
        "colab_type": "code",
        "colab": {}
      },
      "source": [
        "X = new_train.drop(['default_status','Applicant_ID'], axis=1)\n",
        "y =new_train.default_status"
      ],
      "execution_count": null,
      "outputs": []
    },
    {
      "cell_type": "code",
      "metadata": {
        "id": "ctHEHKvfKmvr",
        "trusted": true,
        "colab_type": "code",
        "colab": {}
      },
      "source": [
        "le = LabelEncoder()"
      ],
      "execution_count": null,
      "outputs": []
    },
    {
      "cell_type": "code",
      "metadata": {
        "id": "hucd_B8-Kt1P",
        "trusted": true,
        "colab_type": "code",
        "colab": {},
        "outputId": "c5c339da-4b53-4f74-9590-b11ca2436d8e"
      },
      "source": [
        "X.form_field47.value_counts()"
      ],
      "execution_count": null,
      "outputs": [
        {
          "output_type": "execute_result",
          "data": {
            "text/plain": [
              "charge     36373\n",
              "lending    19627\n",
              "Name: form_field47, dtype: int64"
            ]
          },
          "metadata": {
            "tags": []
          },
          "execution_count": 23
        }
      ]
    },
    {
      "cell_type": "code",
      "metadata": {
        "id": "2dR2IczeKmrK",
        "trusted": true,
        "colab_type": "code",
        "colab": {}
      },
      "source": [
        "X.form_field47 = le.fit_transform(X.form_field47)\n",
        "new_test.form_field47 = le.fit_transform(new_test.form_field47)\n"
      ],
      "execution_count": null,
      "outputs": []
    },
    {
      "cell_type": "code",
      "metadata": {
        "id": "RnbUAT6cK_tA",
        "trusted": true,
        "colab_type": "code",
        "colab": {}
      },
      "source": [
        "#X_ = (X)\n",
        "test_ = (new_test.drop('Applicant_ID', axis=1))"
      ],
      "execution_count": null,
      "outputs": []
    },
    {
      "cell_type": "code",
      "metadata": {
        "id": "sWBtICl-WBmX",
        "trusted": true,
        "colab_type": "code",
        "colab": {}
      },
      "source": [
        "from sklearn.preprocessing import MinMaxScaler\n",
        "min_max = MinMaxScaler()"
      ],
      "execution_count": null,
      "outputs": []
    },
    {
      "cell_type": "code",
      "metadata": {
        "id": "uZ-tivx3WJoN",
        "trusted": true,
        "colab_type": "code",
        "colab": {}
      },
      "source": [
        "#X = min_max.fit_transform(X)\n",
        "#test_ = min_max.fit_transform(test_)"
      ],
      "execution_count": null,
      "outputs": []
    },
    {
      "cell_type": "code",
      "metadata": {
        "id": "wFqJ0Tw_LDUt",
        "trusted": true,
        "colab_type": "code",
        "colab": {},
        "outputId": "97d04b1f-1bfc-413a-dc23-d4d596928afd"
      },
      "source": [
        "X.shape, y.shape, test_.shape"
      ],
      "execution_count": null,
      "outputs": [
        {
          "output_type": "execute_result",
          "data": {
            "text/plain": [
              "((56000, 60), (56000,), (24000, 60))"
            ]
          },
          "metadata": {
            "tags": []
          },
          "execution_count": 27
        }
      ]
    },
    {
      "cell_type": "code",
      "metadata": {
        "id": "BaoQ8_ReLP_5",
        "trusted": true,
        "colab_type": "code",
        "colab": {}
      },
      "source": [
        "X_train, X_test, y_train, y_test = train_test_split(X, y, stratify=y,test_size= 0.2, random_state=42)"
      ],
      "execution_count": null,
      "outputs": []
    },
    {
      "cell_type": "markdown",
      "metadata": {
        "id": "qMwRIClGSVxM",
        "colab_type": "text"
      },
      "source": [
        "## Prediction"
      ]
    },
    {
      "cell_type": "code",
      "metadata": {
        "id": "QVbUPnUMLQG7",
        "trusted": true,
        "colab_type": "code",
        "colab": {}
      },
      "source": [
        "from catboost import CatBoostClassifier\n"
      ],
      "execution_count": null,
      "outputs": []
    },
    {
      "cell_type": "code",
      "metadata": {
        "id": "-3MjhpH0Lvvd",
        "trusted": false,
        "colab_type": "code",
        "colab": {}
      },
      "source": [
        "#cat.fit(X_train, y_train , verbose=0)"
      ],
      "execution_count": null,
      "outputs": []
    },
    {
      "cell_type": "code",
      "metadata": {
        "id": "OiNOWLEJMEsg",
        "trusted": false,
        "colab_type": "code",
        "colab": {}
      },
      "source": [
        "y_pred = cat.predict_proba(X_test)[:,1]\n",
        "roc_auc_score(y_test, y_pred)"
      ],
      "execution_count": null,
      "outputs": []
    },
    {
      "cell_type": "code",
      "metadata": {
        "id": "b-7wcmS5ROdg",
        "trusted": false,
        "colab_type": "code",
        "colab": {}
      },
      "source": [
        "pred = cat.predict_proba(test_)\n",
        "submission['default_status']= pred\n",
        "submission.to_csv('sub12.csv', index=False)"
      ],
      "execution_count": null,
      "outputs": []
    },
    {
      "cell_type": "markdown",
      "metadata": {
        "id": "WqUhUrF9wZ-s",
        "colab_type": "text"
      },
      "source": [
        "### CatBoost Classifier with 0.008 LR and 4000 n_estimator with new feature"
      ]
    },
    {
      "cell_type": "code",
      "metadata": {
        "trusted": true,
        "id": "3bgQIbtUwZ-u",
        "colab_type": "code",
        "colab": {}
      },
      "source": [
        "from sklearn.model_selection import KFold"
      ],
      "execution_count": null,
      "outputs": []
    },
    {
      "cell_type": "code",
      "metadata": {
        "trusted": true,
        "id": "TqgjzBZ6wZ-1",
        "colab_type": "code",
        "colab": {}
      },
      "source": [
        "kf = KFold(n_splits=5)"
      ],
      "execution_count": null,
      "outputs": []
    },
    {
      "cell_type": "code",
      "metadata": {
        "id": "v7Z2jSjyLP2D",
        "trusted": true,
        "colab_type": "code",
        "colab": {}
      },
      "source": [
        "cat = CatBoostClassifier(task_type='GPU', n_estimators=7000, learning_rate=0.008, early_stopping_rounds=200, verbose=0)"
      ],
      "execution_count": null,
      "outputs": []
    },
    {
      "cell_type": "code",
      "metadata": {
        "trusted": true,
        "id": "Sqr85du3wZ_I",
        "colab_type": "code",
        "colab": {}
      },
      "source": [
        "#X_= pd.DataFrame(X)\n",
        "\n",
        "roc_score = []\n",
        "test_pred = []\n",
        "\n",
        "for train_index, test_index in kf.split(X,y):\n",
        "    x_train, x_test = X.iloc[train_index],X.iloc[test_index]\n",
        "    y_train, y_test = y.iloc[train_index],y.iloc[test_index]\n",
        "    \n",
        "    model = cat.fit(x_train, y_train)\n",
        "    y_pred = model.predict_proba(x_test)[:,1]\n",
        "    score = roc_auc_score(y_test,y_pred)\n",
        "    pred = model.predict_proba(test_)[:,1]\n",
        "    roc_score.append(score)\n",
        "    test_pred.append(pred)"
      ],
      "execution_count": null,
      "outputs": []
    },
    {
      "cell_type": "markdown",
      "metadata": {
        "id": "sjgVuXC2wZ_P",
        "colab_type": "text"
      },
      "source": [
        "#### ADded more feature with n_estimators of 7000"
      ]
    },
    {
      "cell_type": "code",
      "metadata": {
        "trusted": true,
        "id": "kHvfP7qzwZ_R",
        "colab_type": "code",
        "colab": {},
        "outputId": "63805866-837a-4cd1-9821-5b47b9cb4525"
      },
      "source": [
        "#with more feature interaction, lower but perfromed better on LB\n",
        "np.mean(roc_score)"
      ],
      "execution_count": null,
      "outputs": [
        {
          "output_type": "execute_result",
          "data": {
            "text/plain": [
              "0.8388996040071941"
            ]
          },
          "metadata": {
            "tags": []
          },
          "execution_count": 33
        }
      ]
    },
    {
      "cell_type": "code",
      "metadata": {
        "trusted": true,
        "id": "Y8yGw1NZwZ_Z",
        "colab_type": "code",
        "colab": {}
      },
      "source": [
        "submission['default_status']= np.mean(test_pred, axis=0)\n",
        "submission.to_csv('kaggle_cat4.csv', index=False)"
      ],
      "execution_count": null,
      "outputs": []
    },
    {
      "cell_type": "code",
      "metadata": {
        "trusted": true,
        "id": "uL9cCJ3UwZ_g",
        "colab_type": "code",
        "colab": {},
        "outputId": "9eb4883a-205e-4b46-939f-436daa84dda3"
      },
      "source": [
        "feature_importance_df = pd.DataFrame(model.feature_importances_, columns=['importance'])\n",
        "feature_importance_df['feature'] = test_.columns\n",
        "\n",
        "plt.figure(figsize=(12, 6));\n",
        "sns.barplot(x=\"importance\", y=\"feature\", data=feature_importance_df.sort_values(by = ['importance'], ascending = False).head(40))\n",
        "plt.title('CatBoostClassifier features importance:');"
      ],
      "execution_count": null,
      "outputs": [
        {
          "output_type": "display_data",
          "data": {
            "text/plain": [
              "<Figure size 864x432 with 1 Axes>"
            ],
            "image/png": "[encoded data removed]"
          },
          "metadata": {
            "tags": [],
            "needs_background": "light"
          }
        }
      ]
    },
    {
      "cell_type": "code",
      "metadata": {
        "trusted": true,
        "id": "Z1S1r8eNwZ_n",
        "colab_type": "code",
        "colab": {},
        "outputId": "fee9fe89-802d-48e0-d2c4-fffeccad2667"
      },
      "source": [
        "#with more feature interaction, lower but perfromed better on LB\n",
        "np.mean(roc_score)"
      ],
      "execution_count": null,
      "outputs": [
        {
          "output_type": "execute_result",
          "data": {
            "text/plain": [
              "0.8392980292270122"
            ]
          },
          "metadata": {
            "tags": []
          },
          "execution_count": 34
        }
      ]
    },
    {
      "cell_type": "code",
      "metadata": {
        "trusted": true,
        "id": "YXleZfazwZ_u",
        "colab_type": "code",
        "colab": {}
      },
      "source": [
        "\n",
        "submission['default_status']= np.mean(test_pred, axis=0)\n",
        "submission.to_csv('kaggle_cat3.csv', index=False)"
      ],
      "execution_count": null,
      "outputs": []
    },
    {
      "cell_type": "code",
      "metadata": {
        "trusted": true,
        "id": "Mv4sP7HCwZ_6",
        "colab_type": "code",
        "colab": {},
        "outputId": "cf10a1be-179d-4afa-b325-e921d41507c0"
      },
      "source": [
        "feature_importance_df = pd.DataFrame(model.feature_importances_, columns=['importance'])\n",
        "feature_importance_df['feature'] = test_.columns\n",
        "\n",
        "plt.figure(figsize=(12, 6));\n",
        "sns.barplot(x=\"importance\", y=\"feature\", data=feature_importance_df.sort_values(by = ['importance'], ascending = False).head(40))\n",
        "plt.title('CatBoostClassifier features importance:');"
      ],
      "execution_count": null,
      "outputs": [
        {
          "output_type": "error",
          "ename": "NameError",
          "evalue": "name 'model' is not defined",
          "traceback": [
            "\u001b[0;31m---------------------------------------------------------------------------\u001b[0m",
            "\u001b[0;31mNameError\u001b[0m                                 Traceback (most recent call last)",
            "\u001b[0;32m<ipython-input-3-f10f63fc398d>\u001b[0m in \u001b[0;36m<module>\u001b[0;34m\u001b[0m\n\u001b[0;32m----> 1\u001b[0;31m \u001b[0mfeature_importance_df\u001b[0m \u001b[0;34m=\u001b[0m \u001b[0mpd\u001b[0m\u001b[0;34m.\u001b[0m\u001b[0mDataFrame\u001b[0m\u001b[0;34m(\u001b[0m\u001b[0mmodel\u001b[0m\u001b[0;34m.\u001b[0m\u001b[0mfeature_importances_\u001b[0m\u001b[0;34m,\u001b[0m \u001b[0mcolumns\u001b[0m\u001b[0;34m=\u001b[0m\u001b[0;34m[\u001b[0m\u001b[0;34m'importance'\u001b[0m\u001b[0;34m]\u001b[0m\u001b[0;34m)\u001b[0m\u001b[0;34m\u001b[0m\u001b[0;34m\u001b[0m\u001b[0m\n\u001b[0m\u001b[1;32m      2\u001b[0m \u001b[0mfeature_importance_df\u001b[0m\u001b[0;34m[\u001b[0m\u001b[0;34m'feature'\u001b[0m\u001b[0;34m]\u001b[0m \u001b[0;34m=\u001b[0m \u001b[0mtest_\u001b[0m\u001b[0;34m.\u001b[0m\u001b[0mcolumns\u001b[0m\u001b[0;34m\u001b[0m\u001b[0;34m\u001b[0m\u001b[0m\n\u001b[1;32m      3\u001b[0m \u001b[0;34m\u001b[0m\u001b[0m\n\u001b[1;32m      4\u001b[0m \u001b[0mplt\u001b[0m\u001b[0;34m.\u001b[0m\u001b[0mfigure\u001b[0m\u001b[0;34m(\u001b[0m\u001b[0mfigsize\u001b[0m\u001b[0;34m=\u001b[0m\u001b[0;34m(\u001b[0m\u001b[0;36m12\u001b[0m\u001b[0;34m,\u001b[0m \u001b[0;36m6\u001b[0m\u001b[0;34m)\u001b[0m\u001b[0;34m)\u001b[0m\u001b[0;34m;\u001b[0m\u001b[0;34m\u001b[0m\u001b[0;34m\u001b[0m\u001b[0m\n\u001b[1;32m      5\u001b[0m \u001b[0msns\u001b[0m\u001b[0;34m.\u001b[0m\u001b[0mbarplot\u001b[0m\u001b[0;34m(\u001b[0m\u001b[0mx\u001b[0m\u001b[0;34m=\u001b[0m\u001b[0;34m\"importance\"\u001b[0m\u001b[0;34m,\u001b[0m \u001b[0my\u001b[0m\u001b[0;34m=\u001b[0m\u001b[0;34m\"feature\"\u001b[0m\u001b[0;34m,\u001b[0m \u001b[0mdata\u001b[0m\u001b[0;34m=\u001b[0m\u001b[0mfeature_importance_df\u001b[0m\u001b[0;34m.\u001b[0m\u001b[0msort_values\u001b[0m\u001b[0;34m(\u001b[0m\u001b[0mby\u001b[0m \u001b[0;34m=\u001b[0m \u001b[0;34m[\u001b[0m\u001b[0;34m'importance'\u001b[0m\u001b[0;34m]\u001b[0m\u001b[0;34m,\u001b[0m \u001b[0mascending\u001b[0m \u001b[0;34m=\u001b[0m \u001b[0;32mFalse\u001b[0m\u001b[0;34m)\u001b[0m\u001b[0;34m.\u001b[0m\u001b[0mhead\u001b[0m\u001b[0;34m(\u001b[0m\u001b[0;36m40\u001b[0m\u001b[0;34m)\u001b[0m\u001b[0;34m)\u001b[0m\u001b[0;34m\u001b[0m\u001b[0;34m\u001b[0m\u001b[0m\n",
            "\u001b[0;31mNameError\u001b[0m: name 'model' is not defined"
          ]
        }
      ]
    },
    {
      "cell_type": "code",
      "metadata": {
        "trusted": true,
        "id": "zUoqm_TkwaAB",
        "colab_type": "code",
        "colab": {},
        "outputId": "5e2dd7e3-7c8d-4c2d-ad3a-71ca777f88f1"
      },
      "source": [
        "#with one feature interaction, lower but perfromed better on LB\n",
        "np.mean(roc_score)"
      ],
      "execution_count": null,
      "outputs": [
        {
          "output_type": "execute_result",
          "data": {
            "text/plain": [
              "0.8393362307865291"
            ]
          },
          "metadata": {
            "tags": []
          },
          "execution_count": 69
        }
      ]
    },
    {
      "cell_type": "code",
      "metadata": {
        "trusted": true,
        "id": "Dro74jSJwaAM",
        "colab_type": "code",
        "colab": {}
      },
      "source": [
        "submission['default_status']= np.mean(test_pred, axis=0)\n",
        "submission.to_csv('kaggle_cat2.csv', index=False)"
      ],
      "execution_count": null,
      "outputs": []
    },
    {
      "cell_type": "markdown",
      "metadata": {
        "id": "QzIv9frVwaAU",
        "colab_type": "text"
      },
      "source": [
        "#### Filling nan values with -999"
      ]
    },
    {
      "cell_type": "code",
      "metadata": {
        "trusted": true,
        "id": "eWU-1gaRwaAW",
        "colab_type": "code",
        "colab": {},
        "outputId": "80d26ec6-4f1f-4636-818b-6625fe68390b"
      },
      "source": [
        "#score without feature interaction\n",
        "np.mean(roc_score)"
      ],
      "execution_count": null,
      "outputs": [
        {
          "output_type": "execute_result",
          "data": {
            "text/plain": [
              "0.8394334827495037"
            ]
          },
          "metadata": {
            "tags": []
          },
          "execution_count": 52
        }
      ]
    },
    {
      "cell_type": "code",
      "metadata": {
        "trusted": true,
        "id": "lVhbNnAywaAe",
        "colab_type": "code",
        "colab": {}
      },
      "source": [
        "submission['default_status']= np.mean(test_pred, axis=0)\n",
        "submission.to_csv('kaggle_cat1.csv', index=False)"
      ],
      "execution_count": null,
      "outputs": []
    },
    {
      "cell_type": "code",
      "metadata": {
        "trusted": true,
        "id": "l1oGvE8vwaAk",
        "colab_type": "code",
        "colab": {},
        "outputId": "fa291761-821e-4180-ad3a-48525d605fbb"
      },
      "source": [
        "feature_importance_df = pd.DataFrame(model.feature_importances_, columns=['importance'])\n",
        "feature_importance_df['feature'] = test_.columns\n",
        "\n",
        "plt.figure(figsize=(12, 6));\n",
        "sns.barplot(x=\"importance\", y=\"feature\", data=feature_importance_df.sort_values(by = ['importance'], ascending = False).head(30))\n",
        "plt.title('CatBoostClassifier features importance:');"
      ],
      "execution_count": null,
      "outputs": [
        {
          "output_type": "display_data",
          "data": {
            "text/plain": [
              "<Figure size 864x432 with 1 Axes>"
            ],
            "image/png": "[encoded data removed]"
          },
          "metadata": {
            "tags": [],
            "needs_background": "light"
          }
        }
      ]
    },
    {
      "cell_type": "markdown",
      "metadata": {
        "id": "mEUKWRbZwaAt",
        "colab_type": "text"
      },
      "source": [
        "#### Filling Nan values with median"
      ]
    },
    {
      "cell_type": "code",
      "metadata": {
        "trusted": true,
        "id": "xWofaLH4waAu",
        "colab_type": "code",
        "colab": {},
        "outputId": "e5843c50-3ee8-4976-9971-edb0944929ab"
      },
      "source": [
        "np.mean(roc_score)"
      ],
      "execution_count": null,
      "outputs": [
        {
          "output_type": "execute_result",
          "data": {
            "text/plain": [
              "0.838164390501938"
            ]
          },
          "metadata": {
            "tags": []
          },
          "execution_count": 31
        }
      ]
    },
    {
      "cell_type": "code",
      "metadata": {
        "trusted": true,
        "id": "78lI2lUIwaA2",
        "colab_type": "code",
        "colab": {}
      },
      "source": [
        "submission['default_status']= np.mean(test_pred, axis=0)\n",
        "submission.to_csv('kaggle_cat.csv', index=False)"
      ],
      "execution_count": null,
      "outputs": []
    },
    {
      "cell_type": "markdown",
      "metadata": {
        "id": "3AFu2xn--M5-",
        "colab_type": "text"
      },
      "source": [
        "## GridSearch "
      ]
    },
    {
      "cell_type": "code",
      "metadata": {
        "id": "gQcCKv2Z-Pso",
        "trusted": false,
        "colab_type": "code",
        "colab": {}
      },
      "source": [
        "from sklearn.model_selection import RandomizedSearchCV,GridSearchCV"
      ],
      "execution_count": null,
      "outputs": []
    },
    {
      "cell_type": "code",
      "metadata": {
        "id": "7Nh0ip15-hk5",
        "trusted": false,
        "colab_type": "code",
        "colab": {}
      },
      "source": [
        "grid = {'n_estimators': [ 1000] }\n",
        "#'depth': [4,6]}\n",
        "       \n",
        "        \n",
        "        #'l2_leaf_reg': [3, 5]}\n",
        "        #{'learning_rate': [ 0.02, 0.03],\n",
        "cat = CatBoostClassifier(task_type='GPU', learning_rate=0.02,  verbose=0, early_stopping_rounds=100)"
      ],
      "execution_count": null,
      "outputs": []
    },
    {
      "cell_type": "code",
      "metadata": {
        "id": "96-xtKX9-X6X",
        "trusted": false,
        "colab_type": "code",
        "colab": {}
      },
      "source": [
        "rscv = RandomizedSearchCV(cat, grid )"
      ],
      "execution_count": null,
      "outputs": []
    },
    {
      "cell_type": "markdown",
      "metadata": {
        "id": "El1vhDlq_DEX",
        "colab_type": "text"
      },
      "source": [
        "### Randomized Search with Train_test_split"
      ]
    },
    {
      "cell_type": "code",
      "metadata": {
        "id": "LzhWZ93L_CUJ",
        "trusted": false,
        "colab_type": "code",
        "colab": {}
      },
      "source": [
        "model =rscv.fit(X_train, y_train)"
      ],
      "execution_count": null,
      "outputs": []
    },
    {
      "cell_type": "code",
      "metadata": {
        "id": "zUQZCfKlpgZ2",
        "trusted": false,
        "colab_type": "code",
        "colab": {}
      },
      "source": [
        "rscv.best_estimator_, model.best_params_\n"
      ],
      "execution_count": null,
      "outputs": []
    },
    {
      "cell_type": "code",
      "metadata": {
        "id": "OXDb3rzepaMc",
        "trusted": false,
        "colab_type": "code",
        "colab": {}
      },
      "source": [
        "y_pred = model.predict_proba(X_test)[:,1]\n",
        "roc_auc_score(y_test, y_pred)"
      ],
      "execution_count": null,
      "outputs": []
    },
    {
      "cell_type": "code",
      "metadata": {
        "id": "vYbtasr10cSR",
        "trusted": false,
        "colab_type": "code",
        "colab": {}
      },
      "source": [
        "submission.head()"
      ],
      "execution_count": null,
      "outputs": []
    },
    {
      "cell_type": "code",
      "metadata": {
        "id": "QXTuSZrx0lg5",
        "trusted": false,
        "colab_type": "code",
        "colab": {}
      },
      "source": [
        "submission.to_csv('prediction_results04.csv')         \n"
      ],
      "execution_count": null,
      "outputs": []
    },
    {
      "cell_type": "code",
      "metadata": {
        "id": "4tXuuO26rM0i",
        "trusted": false,
        "colab_type": "code",
        "colab": {}
      },
      "source": [
        "from google.colab import files\n",
        "pred = model.predict_proba(test_)[:,1]\n",
        "submission.Applicant_ID = test.Applicant_ID\n",
        "submission['default_status']= pred\n",
        "submission.to_csv('prediction_results05.csv', lindex=Fase)         \n",
        "files.download('prediction_results05.csv')"
      ],
      "execution_count": null,
      "outputs": []
    },
    {
      "cell_type": "code",
      "metadata": {
        "id": "LjMvNdTG-XvF",
        "trusted": false,
        "colab_type": "code",
        "colab": {}
      },
      "source": [
        "y_pred = rscv.predict_proba(X_test)[:,1]\n",
        "roc_auc_score(y_test, y_pred)"
      ],
      "execution_count": null,
      "outputs": []
    },
    {
      "cell_type": "code",
      "metadata": {
        "id": "mPmUoKIaFeGM",
        "trusted": false,
        "colab_type": "code",
        "colab": {}
      },
      "source": [
        "rscv.best_estimator_, rscv.best_params_"
      ],
      "execution_count": null,
      "outputs": []
    },
    {
      "cell_type": "code",
      "metadata": {
        "id": "EIfh7-bbNiQK",
        "trusted": false,
        "colab_type": "code",
        "colab": {}
      },
      "source": [
        "pred = rscv.predict_proba(test_)[:,1]\n",
        "submission['default_status']= pred\n",
        "submission.to_csv('sub17.csv', index=False)"
      ],
      "execution_count": null,
      "outputs": []
    },
    {
      "cell_type": "markdown",
      "metadata": {
        "id": "mPP0hO8jj8dX",
        "colab_type": "text"
      },
      "source": [
        "## Using Parameters from Randomized SearchCV with KFold"
      ]
    },
    {
      "cell_type": "code",
      "metadata": {
        "id": "rLdBBBqij8AD",
        "trusted": false,
        "colab_type": "code",
        "colab": {}
      },
      "source": [
        "from sklearn.model_selection import KFold"
      ],
      "execution_count": null,
      "outputs": []
    },
    {
      "cell_type": "code",
      "metadata": {
        "id": "d8jx0fhRj75I",
        "trusted": false,
        "colab_type": "code",
        "colab": {}
      },
      "source": [
        "kf = KFold(n_splits=5)"
      ],
      "execution_count": null,
      "outputs": []
    },
    {
      "cell_type": "code",
      "metadata": {
        "id": "v-TUn97rkKKK",
        "trusted": false,
        "colab_type": "code",
        "colab": {}
      },
      "source": [
        "cat = CatBoostClassifier(task_type='GPU', learning_rate=0.02, n_estimators=1000)\n"
      ],
      "execution_count": null,
      "outputs": []
    },
    {
      "cell_type": "code",
      "metadata": {
        "id": "oYBHhRg6kKAm",
        "trusted": false,
        "colab_type": "code",
        "colab": {}
      },
      "source": [
        "#X_= pd.DataFrame(X)\n",
        "\n",
        "roc_score = []\n",
        "test_pred = []\n",
        "\n",
        "for train_index, test_index in kf.split(X,y):\n",
        "    x_train, x_test = X.iloc[train_index],X.iloc[test_index]\n",
        "    y_train, y_test = y.iloc[train_index],y.iloc[test_index]\n",
        "    \n",
        "    model = cat.fit(x_train, y_train)\n",
        "    y_pred = model.predict_proba(x_test)[:,1]\n",
        "    score = roc_auc_score(y_test,y_pred)\n",
        "    pred = model.predict_proba(test_)[:,1]\n",
        "    roc_score.append(score)\n",
        "    test_pred.append(pred)"
      ],
      "execution_count": null,
      "outputs": []
    },
    {
      "cell_type": "code",
      "metadata": {
        "id": "kbR3MtpflGNr",
        "trusted": false,
        "colab_type": "code",
        "colab": {}
      },
      "source": [
        "np.mean(roc_score)"
      ],
      "execution_count": null,
      "outputs": []
    },
    {
      "cell_type": "code",
      "metadata": {
        "id": "qGc7NP5tlFrN",
        "trusted": false,
        "colab_type": "code",
        "colab": {}
      },
      "source": [
        "submission['default_status']= np.mean(test_pred, axis=0)\n",
        "submission.to_csv('sub18.csv', index=False)"
      ],
      "execution_count": null,
      "outputs": []
    },
    {
      "cell_type": "code",
      "metadata": {
        "id": "XT0ceLkloD-j",
        "trusted": false,
        "colab_type": "code",
        "colab": {}
      },
      "source": [
        "#from google.colab import files\n",
        "res.to_csv('prediction_results.csv')         \n",
        "#files.download('prediction_results.csv')"
      ],
      "execution_count": null,
      "outputs": []
    },
    {
      "cell_type": "markdown",
      "metadata": {
        "id": "fRf04Kf8788L",
        "colab_type": "text"
      },
      "source": [
        "## Trying ensemble techniques"
      ]
    },
    {
      "cell_type": "code",
      "metadata": {
        "id": "YaoRh7Gb710P",
        "trusted": false,
        "colab_type": "code",
        "colab": {}
      },
      "source": [
        "from sklearn.ensemble import AdaBoostClassifier, GradientBoostingClassifier, RandomForestClassifier, ExtraTreesClassifier\n",
        "from xgboost import XGBClassifier\n",
        "from lightgbm import LGBMClassifier"
      ],
      "execution_count": null,
      "outputs": []
    },
    {
      "cell_type": "code",
      "metadata": {
        "id": "s_vnJ8G57trH",
        "trusted": false,
        "colab_type": "code",
        "colab": {}
      },
      "source": [
        "xgb = XGBClassifier()\n",
        "lgb = LGBMClassifier()\n",
        "ada = AdaBoostClassifier()\n",
        "rf = RandomForestClassifier()\n",
        "\n",
        "gb = GradientBoostingClassifier()"
      ],
      "execution_count": null,
      "outputs": []
    },
    {
      "cell_type": "code",
      "metadata": {
        "id": "mAygPeUmTBlT",
        "trusted": false,
        "colab_type": "code",
        "colab": {}
      },
      "source": [
        "from sklearn.linear_model import LogisticRegression"
      ],
      "execution_count": null,
      "outputs": []
    },
    {
      "cell_type": "code",
      "metadata": {
        "id": "lCgUskDeTF5z",
        "trusted": false,
        "colab_type": "code",
        "colab": {}
      },
      "source": [
        "lr = LogisticRegression()"
      ],
      "execution_count": null,
      "outputs": []
    },
    {
      "cell_type": "markdown",
      "metadata": {
        "id": "J38i2RRAC7hA",
        "colab_type": "text"
      },
      "source": [
        "### USing XGBoost for prediction"
      ]
    },
    {
      "cell_type": "code",
      "metadata": {
        "id": "4belf3fOCzs0",
        "trusted": false,
        "colab_type": "code",
        "colab": {}
      },
      "source": [
        "kf = KFold(n_splits=5)\n",
        "#X_= pd.DataFrame(X)\n",
        "\n",
        "roc_score = []\n",
        "test_pred = []\n",
        "\n",
        "for train_index, test_index in kf.split(X,y):\n",
        "    x_train, x_test = X.iloc[train_index],X.iloc[test_index]\n",
        "    y_train, y_test = y.iloc[train_index],y.iloc[test_index]\n",
        "    \n",
        "    model = xgb.fit(x_train, y_train)\n",
        "    y_pred = model.predict_proba(x_test)[:,1]\n",
        "    score = roc_auc_score(y_test,y_pred)\n",
        "    pred = model.predict_proba(test_)[:,1]\n",
        "    roc_score.append(score)\n",
        "    test_pred.append(pred)"
      ],
      "execution_count": null,
      "outputs": []
    },
    {
      "cell_type": "code",
      "metadata": {
        "id": "Zj5whZmUDlnq",
        "trusted": false,
        "colab_type": "code",
        "colab": {}
      },
      "source": [
        "np.mean(roc_score)"
      ],
      "execution_count": null,
      "outputs": []
    },
    {
      "cell_type": "code",
      "metadata": {
        "id": "PW4Nv6pnEIXT",
        "trusted": false,
        "colab_type": "code",
        "colab": {}
      },
      "source": [
        "from google.colab import files\n",
        "submission['default_status']= np.mean(test_pred, axis=0)\n",
        "submission.to_csv('xgb.csv', index=False)\n",
        "files.download('xgb.csv')\n"
      ],
      "execution_count": null,
      "outputs": []
    },
    {
      "cell_type": "markdown",
      "metadata": {
        "id": "HT1TgO_lFigC",
        "colab_type": "text"
      },
      "source": [
        "### Prediction with LGBMClassifier"
      ]
    },
    {
      "cell_type": "code",
      "metadata": {
        "id": "fsS4SABhFgQO",
        "trusted": false,
        "colab_type": "code",
        "colab": {}
      },
      "source": [
        "kf = KFold(n_splits=5)\n",
        "#X_= pd.DataFrame(X)\n",
        "\n",
        "roc_score = []\n",
        "test_pred = []\n",
        "\n",
        "for train_index, test_index in kf.split(X,y):\n",
        "    x_train, x_test = X.iloc[train_index],X.iloc[test_index]\n",
        "    y_train, y_test = y.iloc[train_index],y.iloc[test_index]\n",
        "    \n",
        "    model = lgb.fit(x_train, y_train)\n",
        "    y_pred = model.predict_proba(x_test)[:,1]\n",
        "    score = roc_auc_score(y_test,y_pred)\n",
        "    pred = model.predict_proba(test_)[:,1]\n",
        "    roc_score.append(score)\n",
        "    test_pred.append(pred)"
      ],
      "execution_count": null,
      "outputs": []
    },
    {
      "cell_type": "code",
      "metadata": {
        "id": "txXSdJuqFvxG",
        "trusted": false,
        "colab_type": "code",
        "colab": {}
      },
      "source": [
        "np.mean(roc_score)\n"
      ],
      "execution_count": null,
      "outputs": []
    },
    {
      "cell_type": "code",
      "metadata": {
        "id": "iemNho4MF4j0",
        "trusted": false,
        "colab_type": "code",
        "colab": {}
      },
      "source": [
        "from google.colab import files\n",
        "submission['default_status']= np.mean(test_pred, axis=0)\n",
        "submission.to_csv('lgb.csv', index=False)\n",
        "files.download('lgb.csv')"
      ],
      "execution_count": null,
      "outputs": []
    },
    {
      "cell_type": "code",
      "metadata": {
        "id": "tM5NhOLXIx10",
        "trusted": false,
        "colab_type": "code",
        "colab": {}
      },
      "source": [
        "from sklearn.ensemble import VotingClassifier, StackingClassifier\n",
        "from sklearn.linear_model import LogisticRegression"
      ],
      "execution_count": null,
      "outputs": []
    },
    {
      "cell_type": "markdown",
      "metadata": {
        "id": "01lfpveqIadE",
        "colab_type": "text"
      },
      "source": [
        "### Voting Classifier"
      ]
    },
    {
      "cell_type": "code",
      "metadata": {
        "id": "v8RpFtc0JePI",
        "trusted": false,
        "colab_type": "code",
        "colab": {}
      },
      "source": [
        "cat = CatBoostClassifier(task_type='GPU', verbose=0)"
      ],
      "execution_count": null,
      "outputs": []
    },
    {
      "cell_type": "code",
      "metadata": {
        "id": "5K5vM6cZGAq6",
        "trusted": false,
        "colab_type": "code",
        "colab": {}
      },
      "source": [
        "# Defning the ensemble model using VotingClassifer\n",
        "voting = VotingClassifier(estimators=[('xgb', xgb),('lgb', lgb),('cat',cat)],\n",
        "voting= 'soft')"
      ],
      "execution_count": null,
      "outputs": []
    },
    {
      "cell_type": "code",
      "metadata": {
        "id": "NhPrw2imJo6f",
        "trusted": false,
        "colab_type": "code",
        "colab": {}
      },
      "source": [
        "kf = KFold(n_splits=5)\n",
        "#X_= pd.DataFrame(X)\n",
        "\n",
        "roc_score = []\n",
        "test_pred = []\n",
        "\n",
        "for train_index, test_index in kf.split(X,y):\n",
        "    x_train, x_test = X.iloc[train_index],X.iloc[test_index]\n",
        "    y_train, y_test = y.iloc[train_index],y.iloc[test_index]\n",
        "    \n",
        "    model = voting.fit(x_train, y_train)\n",
        "    y_pred = model.predict_proba(x_test)[:,1]\n",
        "    score = roc_auc_score(y_test,y_pred)\n",
        "    pred = model.predict_proba(test_)[:,1]\n",
        "    roc_score.append(score)\n",
        "    test_pred.append(pred)"
      ],
      "execution_count": null,
      "outputs": []
    },
    {
      "cell_type": "code",
      "metadata": {
        "id": "OlgXeCgkJtR2",
        "trusted": false,
        "colab_type": "code",
        "colab": {}
      },
      "source": [
        "np.mean(roc_score)"
      ],
      "execution_count": null,
      "outputs": []
    },
    {
      "cell_type": "code",
      "metadata": {
        "id": "DM7nXBvcJ3Nu",
        "trusted": false,
        "colab_type": "code",
        "colab": {}
      },
      "source": [
        "from google.colab import files\n",
        "submission['default_status']= np.mean(test_pred, axis=0)\n",
        "submission.to_csv('voting.csv', index=False)\n",
        "files.download('voting.csv')"
      ],
      "execution_count": null,
      "outputs": []
    },
    {
      "cell_type": "markdown",
      "metadata": {
        "id": "VUv8_2UxR6MF",
        "colab_type": "text"
      },
      "source": [
        "### Prediction with StackingClassifier"
      ]
    },
    {
      "cell_type": "code",
      "metadata": {
        "id": "tWf2467bKPlL",
        "trusted": false,
        "colab_type": "code",
        "colab": {}
      },
      "source": [
        "sc = StackingClassifier([('lgb',lgb), ('xgb',xgb), ('cat', cat)], final_estimator=lr)"
      ],
      "execution_count": null,
      "outputs": []
    },
    {
      "cell_type": "code",
      "metadata": {
        "id": "Kp2M21VZKPeI",
        "trusted": false,
        "colab_type": "code",
        "colab": {}
      },
      "source": [
        "kf = KFold(n_splits=5)\n",
        "#X_= pd.DataFrame(X)\n",
        "\n",
        "roc_score = []\n",
        "test_pred = []\n",
        "\n",
        "for train_index, test_index in kf.split(X,y):\n",
        "    x_train, x_test = X.iloc[train_index],X.iloc[test_index]\n",
        "    y_train, y_test = y.iloc[train_index],y.iloc[test_index]\n",
        "    \n",
        "    model = sc.fit(x_train, y_train)\n",
        "    y_pred = model.predict_proba(x_test)[:,1]\n",
        "    score = roc_auc_score(y_test,y_pred)\n",
        "    pred = model.predict_proba(test_)[:,1]\n",
        "    roc_score.append(score)\n",
        "    test_pred.append(pred)"
      ],
      "execution_count": null,
      "outputs": []
    },
    {
      "cell_type": "code",
      "metadata": {
        "id": "XIo3rH8TKPVJ",
        "trusted": false,
        "colab_type": "code",
        "colab": {}
      },
      "source": [
        "np.mean(roc_score)"
      ],
      "execution_count": null,
      "outputs": []
    },
    {
      "cell_type": "code",
      "metadata": {
        "id": "-x8W4UbOUl6J",
        "trusted": false,
        "colab_type": "code",
        "colab": {}
      },
      "source": [
        "from google.colab import files\n",
        "submission['default_status']= np.mean(test_pred, axis=0)\n",
        "submission.to_csv('stacking.csv', index=False)\n",
        "files.download('stacking.csv')"
      ],
      "execution_count": null,
      "outputs": []
    },
    {
      "cell_type": "code",
      "metadata": {
        "id": "ivQS0FcCDYo0",
        "trusted": false,
        "colab_type": "code",
        "colab": {}
      },
      "source": [
        "\"\"\"from google.colab import files\n",
        "pred = model.predict_proba(test_)[:,1]\n",
        "submission.Applicant_ID = test.Applicant_ID\n",
        "submission['default_status']= pred\n",
        "submission.to_csv('prediction_results05.csv', index=False)         \n",
        "files.download('prediction_results05.csv')\"\"\""
      ],
      "execution_count": null,
      "outputs": []
    },
    {
      "cell_type": "markdown",
      "metadata": {
        "id": "_OLR0hNnSb3K",
        "colab_type": "text"
      },
      "source": [
        "### Kfold CV with 3 and 5 splits"
      ]
    },
    {
      "cell_type": "markdown",
      "metadata": {
        "id": "KovIWf6OTGcY",
        "colab_type": "text"
      },
      "source": [
        "3 splits showed improvement in roc score over 5 splits, but 5 splits performed better on LB"
      ]
    },
    {
      "cell_type": "code",
      "metadata": {
        "id": "G_CVfnO6M72b",
        "trusted": false,
        "colab_type": "code",
        "colab": {}
      },
      "source": [
        "from sklearn.model_selection import KFold"
      ],
      "execution_count": null,
      "outputs": []
    },
    {
      "cell_type": "code",
      "metadata": {
        "id": "3I-lBPbKNBmX",
        "trusted": false,
        "colab_type": "code",
        "colab": {}
      },
      "source": [
        "kf = KFold(n_splits=5)"
      ],
      "execution_count": null,
      "outputs": []
    },
    {
      "cell_type": "code",
      "metadata": {
        "id": "eSOg-7foMtYq",
        "trusted": false,
        "colab_type": "code",
        "colab": {}
      },
      "source": [
        "X_= pd.DataFrame(X)\n",
        "\n",
        "roc_score = []\n",
        "test_pred = []\n",
        "\n",
        "for train_index, test_index in kf.split(X_,y):\n",
        "    x_train, x_test = X_.iloc[train_index],X_.iloc[test_index]\n",
        "    y_train, y_test = y.iloc[train_index],y.iloc[test_index]\n",
        "    \n",
        "    model = cat.fit(x_train, y_train)\n",
        "    y_pred = model.predict_proba(x_test)[:,1]\n",
        "    score = roc_auc_score(y_test,y_pred)\n",
        "    pred = model.predict_proba(test_)[:,1]\n",
        "    roc_score.append(score)\n",
        "    test_pred.append(pred)"
      ],
      "execution_count": null,
      "outputs": []
    },
    {
      "cell_type": "code",
      "metadata": {
        "id": "Zu00I3e5OsLJ",
        "trusted": false,
        "colab_type": "code",
        "colab": {}
      },
      "source": [
        "#prediction = gscv.predict_proba(test_sc)[:,1]\n",
        "np.mean(roc_score)\n"
      ],
      "execution_count": null,
      "outputs": []
    },
    {
      "cell_type": "code",
      "metadata": {
        "id": "dVgEGNRSOr5k",
        "trusted": false,
        "colab_type": "code",
        "colab": {}
      },
      "source": [
        "submission['default_status']= np.mean(test_pred, axis=0)\n",
        "submission.to_csv('sub16.csv', index=False)"
      ],
      "execution_count": null,
      "outputs": []
    },
    {
      "cell_type": "markdown",
      "metadata": {
        "id": "xCmSvMokx6I6",
        "colab_type": "text"
      },
      "source": [
        "### Binning"
      ]
    },
    {
      "cell_type": "code",
      "metadata": {
        "id": "0zxy2lzixoBl",
        "trusted": false,
        "colab_type": "code",
        "colab": {}
      },
      "source": [
        "num_cols = new_train.select_dtypes(exclude='object').columns"
      ],
      "execution_count": null,
      "outputs": []
    },
    {
      "cell_type": "code",
      "metadata": {
        "id": "UI_ycRGBx0HK",
        "trusted": false,
        "colab_type": "code",
        "colab": {}
      },
      "source": [
        "#for num in num_cols:\n",
        " # new_train[num + '_bin'] = pd.cut(new_train[num],bins=4)# duplicates='drop' \n",
        " # new_test[num + '_bin'] = pd.cut(new_test[num],bins=4 )#duplicates='drop' \n",
        "\n",
        "#new_train['form_field1_bin'] = pd.cut(new_train.form_field1, bins=4)\n",
        "#sns.countplot(s)"
      ],
      "execution_count": null,
      "outputs": []
    },
    {
      "cell_type": "code",
      "metadata": {
        "id": "D1oz2sUWFj53",
        "trusted": false,
        "colab_type": "code",
        "colab": {}
      },
      "source": [
        "#sns.countplot(new_train.form_field18_bin)"
      ],
      "execution_count": null,
      "outputs": []
    },
    {
      "cell_type": "markdown",
      "metadata": {
        "id": "GUQksdOqyyAp",
        "colab_type": "text"
      },
      "source": [
        "### Feature Interaction"
      ]
    },
    {
      "cell_type": "code",
      "metadata": {
        "id": "JY18iw9iyxKM",
        "trusted": false,
        "colab_type": "code",
        "colab": {}
      },
      "source": [
        "new_train['form_field1*formfield2'] = new_train['form_field1'] * new_train['form_field2']\n",
        "new_train['form_field1/formfield2'] = new_train['form_field1'] / new_train['form_field2']\n",
        "\n",
        "new_train['form_field1*formfield3'] = new_train['form_field1'] * new_train.form_field3\n",
        "new_train['form_field1*formfield4'] = new_train.form_field1 * new_train.form_field4\n",
        "new_train['form_field1*formfield5'] = new_train.form_field1 * new_train.form_field5\n",
        "\n",
        "#new_train['form_field30*formfield41'] = new_train['form_field30'] * new_train['form_field41']\n",
        "##new_train['form_field31*formfield40'] = new_train['form_field31'] * new_train['form_field40']\n",
        "\n",
        "new_train['form_field6+field7'] =  (new_train.form_field6 + new_train.form_field8)/2\n",
        "new_train['form_field13/field14'] = (new_train.form_field13 / new_train.form_field14)*100\n",
        "new_train['form_field32/field33'] = (new_train['form_field32']+ new_train['form_field33'])/2\n",
        "new_train['form_field36/field38'] = new_train['form_field36'] / new_train['form_field38']\n",
        "new_train['form_field36/field39'] = new_train['form_field36'] / new_train['form_field39']\n",
        "new_train['form_field36/field18'] = new_train['form_field36'] / new_train['form_field18']\n",
        "new_train['form_field36/field20'] = new_train['form_field36'] / new_train['form_field20']\n",
        "new_train['form_field44*field50'] = new_train['form_field44'] * new_train['form_field50']\n",
        "\n",
        "\n"
      ],
      "execution_count": null,
      "outputs": []
    },
    {
      "cell_type": "code",
      "metadata": {
        "id": "diufHrTb9FxM",
        "trusted": false,
        "colab_type": "code",
        "colab": {}
      },
      "source": [
        "new_test['form_field1*formfield2'] = new_test['form_field1'] * new_test['form_field2']\n",
        "new_test['form_field1/formfield2'] = new_test['form_field1'] / new_test['form_field2']\n",
        "\n",
        "new_test['form_field1*formfield3'] = new_test['form_field1'] * new_test.form_field3\n",
        "new_test['form_field1*formfield4'] = new_test.form_field1 * new_test.form_field4\n",
        "new_test['form_field1*formfield5'] = new_test.form_field1 * new_test.form_field5\n",
        "\n",
        "#new_train['form_field30*formfield41'] = new_train['form_field30'] * new_train['form_field41']\n",
        "##new_train['form_field31*formfield40'] = new_train['form_field31'] * new_train['form_field40']\n",
        "\n",
        "new_test['form_field6+field7'] =  (new_test.form_field6 + new_test.form_field8)/2\n",
        "new_test['form_field13/field14'] = (new_test.form_field13 / new_test.form_field14)*100\n",
        "new_test['form_field32/field33'] = (new_test['form_field32']+ new_test['form_field33'])/2\n",
        "new_test['form_field36/field38'] = new_test['form_field36'] / new_test['form_field38']\n",
        "new_test['form_field36/field39'] = new_test['form_field36'] / new_test['form_field39']\n",
        "new_test['form_field36/field18'] = new_test['form_field36'] / new_test['form_field18']\n",
        "new_test['form_field36/field20'] = new_test['form_field36'] / new_test['form_field20']\n",
        "new_test['form_field44*field50'] = new_test['form_field44'] * new_test['form_field50']\n",
        "\n",
        "\n"
      ],
      "execution_count": null,
      "outputs": []
    },
    {
      "cell_type": "markdown",
      "metadata": {
        "id": "-qjfpdS65Va1",
        "colab_type": "text"
      },
      "source": [
        "### Data Aggregation"
      ]
    },
    {
      "cell_type": "code",
      "metadata": {
        "id": "j50-pyo81Qgl",
        "trusted": false,
        "colab_type": "code",
        "colab": {}
      },
      "source": [
        "for col in num_cols:\n",
        "    new_train[col + '_mean_on_field1'] = new_train[col].groupby(new_train['form_field1']).transform('mean')\n",
        "    new_train[col + '_mean_on_field2'] = new_train[col].groupby(new_train['form_field2']).transform('mean')\n",
        "\n",
        "    new_train[col + '_sum_on_field1'] = new_train[col].groupby(new_train['form_field1']).transform('sum')\n",
        "    new_train[col + '_sum_on_field2'] = new_train[col].groupby(new_train['form_field2']).transform('sum')\n",
        "\n",
        "    new_train[col + '_mean_on_field1'] = new_train[col].groupby(new_train['form_field1']).transform('max')\n",
        "    new_train[col + '_mean_on_field2'] = new_train[col].groupby(new_train['form_field2']).transform('max')\n",
        "\n",
        "    new_train[col + '_sum_on_field1'] = new_train[col].groupby(new_train['form_field1']).transform('min')\n",
        "    new_train[col + '_sum_on_field2'] = new_train[col].groupby(new_train['form_field2']).transform('min')\n",
        "\n",
        "\n",
        "    new_test[col + '_mean_on_field1'] = new_test[col].groupby(new_test['form_field1']).transform('mean')\n",
        "    new_test[col + '_mean_on_field2'] = new_test[col].groupby(new_test['form_field2']).transform('mean')\n",
        "\n",
        "    new_test[col + '_sum_on_field1'] = new_test[col].groupby(new_test['form_field1']).transform('sum')\n",
        "    new_test[col + '_sum_on_field2'] = new_test[col].groupby(new_test['form_field2']).transform('sum')\n",
        "\n",
        "    new_test[col + '_mean_on_field1'] = new_test[col].groupby(new_test['form_field1']).transform('max')\n",
        "    new_test[col + '_mean_on_field2'] = new_test[col].groupby(new_test['form_field2']).transform('max')\n",
        "\n",
        "    new_test[col + '_sum_on_field1'] = new_test[col].groupby(new_test['form_field1']).transform('min')\n",
        "    new_test[col + '_sum_on_field2'] = new_test[col].groupby(new_test['form_field2']).transform('min')\n",
        "\n",
        "\n",
        "\n",
        "\n",
        "    new_train[col + '_mean_on_field1_'] = new_train[col].groupby([new_train['form_field47'],new_train['form_field1']]).transform('mean')\n",
        "    new_train[col + '_mean_on_field2_'] = new_train[col].groupby([new_train['form_field47'],new_train['form_field2']]).transform('mean')\n",
        "\n",
        "    new_train[col + '_sum_on_field1_'] = new_train[col].groupby([new_train['form_field47'],new_train['form_field1']]).transform('sum')\n",
        "    new_train[col + '_sum_on_field2_'] = new_train[col].groupby([new_train['form_field47'],new_train['form_field2']]).transform('sum')\n",
        "\n",
        "    new_train[col + '_mean_on_field1_'] = new_train[col].groupby([new_train['form_field47'],new_train['form_field1']]).transform('max')\n",
        "    new_train[col + '_mean_on_field2_'] = new_train[col].groupby([new_train['form_field47'],new_train['form_field2']]).transform('max')\n",
        "\n",
        "    new_train[col + '_sum_on_field1_'] = new_train[col].groupby([new_train['form_field47'],new_train['form_field1']]).transform('min')\n",
        "    new_train[col + '_sum_on_field2_'] = new_train[col].groupby([new_train['form_field47'],new_train['form_field2']]).transform('min')\n",
        "\n",
        "\n",
        "    new_test[col + '_mean_on_field1_'] = new_test[col].groupby([new_train['form_field47'],new_test['form_field1']]).transform('mean')\n",
        "    new_test[col + '_mean_on_field2_'] = new_test[col].groupby([new_train['form_field47'],new_test['form_field2']]).transform('mean')\n",
        "\n",
        "    new_test[col + '_sum_on_field1_'] = new_test[col].groupby([new_train['form_field47'],new_test['form_field1']]).transform('sum')\n",
        "    new_test[col + '_sum_on_field2_'] = new_test[col].groupby([new_train['form_field47'],new_test['form_field2']]).transform('sum')\n",
        "\n",
        "    new_test[col + '_mean_on_field1_'] = new_test[col].groupby([new_train['form_field47'],new_test['form_field1']]).transform('max')\n",
        "    new_test[col + '_mean_on_field2_'] = new_test[col].groupby([new_train['form_field47'],new_test['form_field2']]).transform('max')\n",
        "\n",
        "    new_test[col + '_sum_on_field1_'] = new_test[col].groupby([new_train['form_field47'],new_test['form_field1']]).transform('min')\n",
        "    new_test[col + '_sum_on_field2_'] = new_test[col].groupby([new_train['form_field47'],new_test['form_field2']]).transform('min')\n",
        "    \n",
        "    \n",
        "    "
      ],
      "execution_count": null,
      "outputs": []
    },
    {
      "cell_type": "code",
      "metadata": {
        "id": "gXorEgXcwXf7",
        "trusted": false,
        "colab_type": "code",
        "colab": {}
      },
      "source": [
        "#new_train[col].groupby([new_train['form_field1'],new_train['form_field47']]).transform('mean')"
      ],
      "execution_count": null,
      "outputs": []
    },
    {
      "cell_type": "code",
      "metadata": {
        "id": "97uJXKi0bfaq",
        "trusted": false,
        "colab_type": "code",
        "colab": {}
      },
      "source": [
        "from sklearn.preprocessing import LabelEncoder\n",
        "le = LabelEncoder()"
      ],
      "execution_count": null,
      "outputs": []
    },
    {
      "cell_type": "code",
      "metadata": {
        "cell_id": "00010-f4471b78-70e7-48e0-94d2-08a1896605b8",
        "output_cleared": false,
        "id": "eHmKYwj_pn-R",
        "trusted": false,
        "colab_type": "code",
        "colab": {}
      },
      "source": [
        "X = new_train.drop(['default_status','Applicant_ID'], axis=1)\n",
        "y =new_train.default_status"
      ],
      "execution_count": null,
      "outputs": []
    },
    {
      "cell_type": "code",
      "metadata": {
        "cell_id": "00011-6cd868e7-0885-4d2a-9560-ef95466371f7",
        "output_cleared": false,
        "id": "xqnbkUQwpn-b",
        "trusted": false,
        "colab_type": "code",
        "colab": {}
      },
      "source": [
        "#y_ = pd.get_dummies(y)"
      ],
      "execution_count": null,
      "outputs": []
    },
    {
      "cell_type": "code",
      "metadata": {
        "scrolled": true,
        "cell_id": "00012-817b20b2-1f81-401d-8829-07f6cbb4ec49",
        "output_cleared": false,
        "id": "wTlA7L55pn-j",
        "trusted": false,
        "colab_type": "code",
        "colab": {}
      },
      "source": [
        "X.form_field47 = le.fit_transform(X.form_field47)\n",
        "new_test.form_field47 = le.fit_transform(new_test.form_field47)\n"
      ],
      "execution_count": null,
      "outputs": []
    },
    {
      "cell_type": "code",
      "metadata": {
        "cell_id": "00013-a8269050-599e-48a9-a051-2fbae9e752af",
        "output_cleared": false,
        "id": "WwC5BOfCpn-t",
        "trusted": false,
        "colab_type": "code",
        "colab": {}
      },
      "source": [
        "X_ = (X)\n",
        "test_ = (new_test.drop('Applicant_ID', axis=1))"
      ],
      "execution_count": null,
      "outputs": []
    },
    {
      "cell_type": "code",
      "metadata": {
        "id": "Q4dCC-Ulty6v",
        "trusted": false,
        "colab_type": "code",
        "colab": {}
      },
      "source": [
        "#cat_cols = X_.select_dtypes(include='category').columns\n",
        "#cat_cols"
      ],
      "execution_count": null,
      "outputs": []
    },
    {
      "cell_type": "code",
      "metadata": {
        "cell_id": "00014-7caae869-e451-4543-81df-3b6041fc2039",
        "output_cleared": false,
        "id": "P4n_ZPfApn-2",
        "trusted": false,
        "colab_type": "code",
        "colab": {}
      },
      "source": [
        "test_.shape"
      ],
      "execution_count": null,
      "outputs": []
    },
    {
      "cell_type": "code",
      "metadata": {
        "cell_id": "00015-45863e5e-8d92-4b4a-889d-b5c7778da98e",
        "output_cleared": false,
        "id": "Aep9nlKipn--",
        "trusted": false,
        "colab_type": "code",
        "colab": {}
      },
      "source": [
        "from sklearn.preprocessing import MinMaxScaler"
      ],
      "execution_count": null,
      "outputs": []
    },
    {
      "cell_type": "code",
      "metadata": {
        "cell_id": "00016-80fa1d92-c071-4751-9634-1a6da55b99e3",
        "output_cleared": false,
        "id": "w75F0xpKpn_G",
        "trusted": false,
        "colab_type": "code",
        "colab": {}
      },
      "source": [
        "minmax = MinMaxScaler()"
      ],
      "execution_count": null,
      "outputs": []
    },
    {
      "cell_type": "code",
      "metadata": {
        "cell_id": "00017-0d0da469-c39b-4577-8a66-2f8ddd93a081",
        "output_cleared": false,
        "id": "-Md4Hu5tpn_P",
        "trusted": false,
        "colab_type": "code",
        "colab": {}
      },
      "source": [
        "#X_scaled = minmax.fit_transform(X_)\n",
        "#test_sc = minmax.fit_transform(test_)"
      ],
      "execution_count": null,
      "outputs": []
    },
    {
      "cell_type": "code",
      "metadata": {
        "tags": [],
        "cell_id": "00018-72c16375-4c17-4c80-a074-7a208365d753",
        "output_cleared": false,
        "id": "80RwEIfwpn_c",
        "trusted": false,
        "colab_type": "code",
        "colab": {}
      },
      "source": [
        "pip install --quiet catboost"
      ],
      "execution_count": null,
      "outputs": []
    },
    {
      "cell_type": "code",
      "metadata": {
        "cell_id": "00018-a323a68a-31a4-42c6-af56-26b642fd5ea3",
        "output_cleared": false,
        "id": "DN-3n1twpn_m",
        "trusted": false,
        "colab_type": "code",
        "colab": {}
      },
      "source": [
        "from sklearn.model_selection import train_test_split\n",
        "from catboost import CatBoostClassifier\n",
        "from xgboost import XGBClassifier\n",
        "from sklearn.linear_model import LogisticRegression\n",
        "from sklearn.ensemble import AdaBoostClassifier, RandomForestClassifier\n",
        "\n"
      ],
      "execution_count": null,
      "outputs": []
    },
    {
      "cell_type": "code",
      "metadata": {
        "cell_id": "00019-630efeba-17ce-4078-a0de-3e8768c25186",
        "output_cleared": false,
        "id": "U1NsFLk5pn_u",
        "trusted": false,
        "colab_type": "code",
        "colab": {}
      },
      "source": [
        "from lightgbm import LGBMClassifier"
      ],
      "execution_count": null,
      "outputs": []
    },
    {
      "cell_type": "code",
      "metadata": {
        "cell_id": "00020-2f0b88d2-26bc-4ae5-b27a-fbe60d1c44f7",
        "output_cleared": false,
        "id": "WRkprhs6pn_4",
        "trusted": false,
        "colab_type": "code",
        "colab": {}
      },
      "source": [
        "X_train, X_test, y_train, y_test = train_test_split(X_, y, test_size=0.2, stratify=y, random_state=42)"
      ],
      "execution_count": null,
      "outputs": []
    },
    {
      "cell_type": "code",
      "metadata": {
        "cell_id": "00021-7c1cbd55-5d1a-41b4-ba7d-9a02b7596bc0",
        "output_cleared": false,
        "id": "qJZXhrv2poAC",
        "trusted": false,
        "colab_type": "code",
        "colab": {}
      },
      "source": [
        "cat = CatBoostClassifier()\n",
        "xgb = XGBClassifier()\n",
        "lgb = LGBMClassifier()\n",
        "ada = AdaBoostClassifier()\n",
        "rf = RandomForestClassifier()\n",
        "lr = LogisticRegression()"
      ],
      "execution_count": null,
      "outputs": []
    },
    {
      "cell_type": "code",
      "metadata": {
        "id": "Y8ycVOXes3QP",
        "trusted": false,
        "colab_type": "code",
        "colab": {}
      },
      "source": [
        "from sklearn.model_selection import GridSearchCV, KFold, StratifiedKFold, RandomizedSearchCV, cross_val_score"
      ],
      "execution_count": null,
      "outputs": []
    },
    {
      "cell_type": "code",
      "metadata": {
        "id": "syiuVU1LDx1E",
        "trusted": false,
        "colab_type": "code",
        "colab": {}
      },
      "source": [
        "from sklearn.metrics import roc_auc_score"
      ],
      "execution_count": null,
      "outputs": []
    },
    {
      "cell_type": "markdown",
      "metadata": {
        "id": "C2kXN10pVwOq",
        "colab_type": "text"
      },
      "source": [
        "## Applied Kfold CV"
      ]
    },
    {
      "cell_type": "code",
      "metadata": {
        "id": "8FSE_30sCiax",
        "trusted": false,
        "colab_type": "code",
        "colab": {}
      },
      "source": [
        "kf = KFold(n_splits=5)\n",
        "cat = CatBoostClassifier(task_type='GPU')#, cat_features=cat_cols)#, learning_rate=0.02, n_estimators=2000, depth=7, early_stopping_rounds=50)\n"
      ],
      "execution_count": null,
      "outputs": []
    },
    {
      "cell_type": "code",
      "metadata": {
        "id": "QhrlviLuDKVY",
        "trusted": false,
        "colab_type": "code",
        "colab": {}
      },
      "source": [
        ""
      ],
      "execution_count": null,
      "outputs": []
    },
    {
      "cell_type": "code",
      "metadata": {
        "id": "b1-a-ruO-rYU",
        "trusted": false,
        "colab_type": "code",
        "colab": {}
      },
      "source": [
        "X_scaled1 = pd.DataFrame(X_)\n",
        "\n",
        "roc_score = []\n",
        "test_pred = []\n",
        "\n",
        "for train_index, test_index in kf.split(X_scaled1,y):\n",
        "    x_train, x_test = X_scaled1.iloc[train_index],X_scaled1.iloc[test_index]\n",
        "    y_train, y_test = y.iloc[train_index],y.iloc[test_index]\n",
        "    \n",
        "    model = cat.fit(x_train, y_train)\n",
        "    y_pred = model.predict_proba(x_test)[:,1]\n",
        "    score = roc_auc_score(y_test,y_pred)\n",
        "    pred = model.predict_proba(test_)[:,1]\n",
        "    roc_score.append(score)\n",
        "    test_pred.append(pred)\n",
        "  #save result to list"
      ],
      "execution_count": null,
      "outputs": []
    },
    {
      "cell_type": "code",
      "metadata": {
        "id": "Dz8yfuB6I5X3",
        "trusted": false,
        "colab_type": "code",
        "colab": {}
      },
      "source": [
        "np.mean(roc_score)"
      ],
      "execution_count": null,
      "outputs": []
    },
    {
      "cell_type": "code",
      "metadata": {
        "id": "xWbqFnBr8e4u",
        "trusted": false,
        "colab_type": "code",
        "colab": {}
      },
      "source": [
        "test"
      ],
      "execution_count": null,
      "outputs": []
    },
    {
      "cell_type": "code",
      "metadata": {
        "id": "t9aMO9MB8vhQ",
        "trusted": false,
        "colab_type": "code",
        "colab": {}
      },
      "source": [
        "submission['Applicant_ID'] = test['Applicant_ID']"
      ],
      "execution_count": null,
      "outputs": []
    },
    {
      "cell_type": "code",
      "metadata": {
        "id": "FW4e6-dbK9O2",
        "trusted": false,
        "colab_type": "code",
        "colab": {}
      },
      "source": [
        "#prediction = gscv.predict_proba(test_sc)[:,1]\n",
        "np.mean(roc_score)\n",
        "submission['default_status']= np.mean(test_pred, axis=0)\n",
        "submission.to_csv('sub10.csv', index=False)"
      ],
      "execution_count": null,
      "outputs": []
    },
    {
      "cell_type": "code",
      "metadata": {
        "id": "i5RCTjGmiHKz",
        "trusted": false,
        "colab_type": "code",
        "colab": {}
      },
      "source": [
        "cat.feature_importances_"
      ],
      "execution_count": null,
      "outputs": []
    },
    {
      "cell_type": "code",
      "metadata": {
        "id": "Fx1H3c62LdeZ",
        "trusted": false,
        "colab_type": "code",
        "colab": {}
      },
      "source": [
        "feature_importance_df = pd.DataFrame(cat.feature_importances_, columns=['importance'])\n",
        "feature_importance_df['feature'] = test_.columns\n",
        "\n",
        "plt.figure(figsize=(12, 6));\n",
        "sns.barplot(x=\"importance\", y=\"feature\", data=feature_importance_df.sort_values(by = ['importance'], ascending = False).head(30))\n",
        "plt.title('RandomForestClassifier features importance:');"
      ],
      "execution_count": null,
      "outputs": []
    },
    {
      "cell_type": "code",
      "metadata": {
        "id": "OVwm3B5stjmE",
        "trusted": false,
        "colab_type": "code",
        "colab": {}
      },
      "source": [
        "grid = {'learning_rate': [ 0.05],}\n",
        "        #'n_estimators': [300, 500] }\n",
        "       # 'depth': [4,6],}\n",
        "        #'l2_leaf_reg': [3, 5]}\n",
        "\n",
        "\"\"\"grid_search_result = cat.grid_search(grid, \n",
        "                                       X=X_train, \n",
        "                                       y=y_train, \n",
        "                                       plot=True)\"\"\""
      ],
      "execution_count": null,
      "outputs": []
    },
    {
      "cell_type": "code",
      "metadata": {
        "id": "QzyxuqR9tyIT",
        "trusted": false,
        "colab_type": "code",
        "colab": {}
      },
      "source": [
        "cat = CatBoostClassifier(task_type='GPU', depth=7, n_estimators=1500, early_stopping_rounds=50)\n",
        "\n",
        "\n",
        "gscv = GridSearchCV(cat, param_grid=grid)"
      ],
      "execution_count": null,
      "outputs": []
    },
    {
      "cell_type": "markdown",
      "metadata": {
        "id": "PF9BbvPQV_hC",
        "colab_type": "text"
      },
      "source": [
        "Tried GridSearch CV"
      ]
    },
    {
      "cell_type": "code",
      "metadata": {
        "id": "cJrRXiXWt-ze",
        "trusted": false,
        "colab_type": "code",
        "colab": {}
      },
      "source": [
        "gscv.fit(X_train, y_train)"
      ],
      "execution_count": null,
      "outputs": []
    },
    {
      "cell_type": "code",
      "metadata": {
        "id": "OgANjP7ruGlf",
        "trusted": false,
        "colab_type": "code",
        "colab": {}
      },
      "source": [
        "gscv_pred = gscv.predict_proba(X_test)[:,1]\n",
        "roc_auc_score(y_test, gscv_pred)\n"
      ],
      "execution_count": null,
      "outputs": []
    },
    {
      "cell_type": "code",
      "metadata": {
        "id": "pZs_yDMa0xC-",
        "trusted": false,
        "colab_type": "code",
        "colab": {}
      },
      "source": [
        "\\\\prediction = gscv.predict_proba(test_sc)[:,1]\n",
        "\n",
        "submission['default_status']=prediction\n",
        "submission.to_csv('submission4.csv', index=False)\n"
      ],
      "execution_count": null,
      "outputs": []
    },
    {
      "cell_type": "code",
      "metadata": {
        "cell_id": "00022-ed784579-ec7f-4fe2-968c-94970318005c",
        "output_cleared": false,
        "id": "fyTOrWoPpoAM",
        "trusted": false,
        "colab_type": "code",
        "colab": {}
      },
      "source": [
        "cat = CatBoostClassifier(task_type='GPU', learning_rate=0.03, depth=4, n_estimators=3000, early_stopping_rounds=50)\n",
        "\n",
        "cat.fit(X_train, y_train, eval_set=(X_test, y_test))"
      ],
      "execution_count": null,
      "outputs": []
    },
    {
      "cell_type": "code",
      "metadata": {
        "cell_id": "00023-c3e5a3f3-86dd-4d29-bc01-60897d6d303a",
        "output_cleared": false,
        "id": "5Z9LugB7poAW",
        "trusted": false,
        "colab_type": "code",
        "colab": {}
      },
      "source": [
        "from sklearn.metrics import roc_auc_score, log_loss"
      ],
      "execution_count": null,
      "outputs": []
    },
    {
      "cell_type": "code",
      "metadata": {
        "cell_id": "00024-1b918bd3-443b-41fe-9105-118f2acebb55",
        "output_cleared": false,
        "id": "X0s4WxSZpoAe",
        "trusted": false,
        "colab_type": "code",
        "colab": {}
      },
      "source": [
        "pred = cat.predict_proba(X_test)[:,1]"
      ],
      "execution_count": null,
      "outputs": []
    },
    {
      "cell_type": "code",
      "metadata": {
        "id": "1478Ft-jsge5",
        "trusted": false,
        "colab_type": "code",
        "colab": {}
      },
      "source": [
        "roc_auc_score(y_test, pred)\n"
      ],
      "execution_count": null,
      "outputs": []
    },
    {
      "cell_type": "code",
      "metadata": {
        "id": "-EhVGjqWsPJe",
        "trusted": false,
        "colab_type": "code",
        "colab": {}
      },
      "source": [
        "roc_auc_score(y_test, pred)\n"
      ],
      "execution_count": null,
      "outputs": []
    },
    {
      "cell_type": "code",
      "metadata": {
        "cell_id": "00025-ad1d394c-adf5-4d50-b154-43973b756ab9",
        "output_cleared": false,
        "id": "StcSMU6FpoAo",
        "trusted": false,
        "colab_type": "code",
        "colab": {}
      },
      "source": [
        "roc_auc_score(y_test, pred)"
      ],
      "execution_count": null,
      "outputs": []
    },
    {
      "cell_type": "code",
      "metadata": {
        "cell_id": "00026-524433ba-005a-41eb-b5bd-97c267631d64",
        "id": "8nVf8zd9poAx",
        "trusted": false,
        "colab_type": "code",
        "colab": {}
      },
      "source": [
        "models = [cat, xgb, lgb, ada, rf, lr]\n",
        "\n",
        "for model in models:\n",
        "    model.fit(X_train, y_train)\n",
        "    pred = model.predict_proba(X_test)[:,1]\n",
        "    score = roc_auc_score(y_test,pred)\n",
        "    print(f'the auc score for {model} is {score}')"
      ],
      "execution_count": null,
      "outputs": []
    },
    {
      "cell_type": "code",
      "metadata": {
        "cell_id": "00027-b3ec66b1-25c1-4cd9-919a-5b99bf78daf5",
        "output_cleared": false,
        "id": "9lWyBXQDpoA4",
        "trusted": false,
        "colab_type": "code",
        "colab": {}
      },
      "source": [
        "prediction = cat.predict_proba(test_sc)[:,1]"
      ],
      "execution_count": null,
      "outputs": []
    },
    {
      "cell_type": "code",
      "metadata": {
        "cell_id": "00028-9fd177bf-2101-427c-b735-d29be62662f6",
        "output_cleared": false,
        "id": "a9oUgvKrpoA_",
        "trusted": false,
        "colab_type": "code",
        "colab": {}
      },
      "source": [
        "submission.head()"
      ],
      "execution_count": null,
      "outputs": []
    },
    {
      "cell_type": "code",
      "metadata": {
        "cell_id": "00029-ab2c0608-46aa-4752-b9e7-bf57a501fedb",
        "output_cleared": false,
        "id": "2haXu0VVpoBG",
        "trusted": false,
        "colab_type": "code",
        "colab": {}
      },
      "source": [
        "prediction = cat.predict_proba(test_sc)[:,1]\n",
        "\n",
        "submission['default_status']=prediction\n",
        "submission.to_csv('submission3.csv', index=False)\n"
      ],
      "execution_count": null,
      "outputs": []
    },
    {
      "cell_type": "code",
      "metadata": {
        "cell_id": "00030-978c22e6-1dac-41dd-b360-9db2e33f2cf4",
        "output_cleared": false,
        "id": "CtnbGk6dpoBQ",
        "trusted": false,
        "colab_type": "code",
        "colab": {}
      },
      "source": [
        "submission.to_csv('submission3.csv', index=False)"
      ],
      "execution_count": null,
      "outputs": []
    },
    {
      "cell_type": "code",
      "metadata": {
        "tags": [],
        "cell_id": "00032-2664202d-0bbf-4370-9d61-38e0b5f2a07c",
        "output_cleared": false,
        "id": "T-WrasyopoBX",
        "trusted": false,
        "colab_type": "code",
        "colab": {}
      },
      "source": [
        "len(cat.feature_importances_)\n",
        "len(test_.columns)"
      ],
      "execution_count": null,
      "outputs": []
    },
    {
      "cell_type": "code",
      "metadata": {
        "tags": [],
        "cell_id": "00033-5132b603-577c-4067-bfce-8d65b87fcd43",
        "output_cleared": false,
        "id": "SPSZTYQJpoBe",
        "trusted": false,
        "colab_type": "code",
        "colab": {}
      },
      "source": [
        "pip install seaborn"
      ],
      "execution_count": null,
      "outputs": []
    },
    {
      "cell_type": "code",
      "metadata": {
        "tags": [],
        "cell_id": "00034-ff4d01d0-b3d1-402c-bde8-ce6b71136276",
        "output_cleared": false,
        "id": "MQmFsFwKpoBk",
        "trusted": false,
        "colab_type": "code",
        "colab": {}
      },
      "source": [
        "import seaborn as sns"
      ],
      "execution_count": null,
      "outputs": []
    },
    {
      "cell_type": "code",
      "metadata": {
        "cell_id": "00031-43d8b5f0-2fb1-4357-a423-9970dcd9c2a7",
        "output_cleared": false,
        "id": "ejtTricupoBs",
        "trusted": false,
        "colab_type": "code",
        "colab": {}
      },
      "source": [
        "feature_importance_df = pd.DataFrame(cat.feature_importances_, columns=['importance'])\n",
        "feature_importance_df['feature'] = test_.columns\n",
        "\n",
        "plt.figure(figsize=(12, 6));\n",
        "sns.barplot(x=\"importance\", y=\"feature\", data=feature_importance_df.sort_values(by = ['importance'], ascending = False).head(30))\n",
        "plt.title('RandomForestClassifier features importance:');"
      ],
      "execution_count": null,
      "outputs": []
    },
    {
      "cell_type": "markdown",
      "metadata": {
        "tags": [],
        "cell_id": "00037-3c197a38-7c4b-4b57-8296-e11952ce06a5",
        "id": "j8Y4Y3MepoBz",
        "colab_type": "text"
      },
      "source": [
        "## Feature Engineering"
      ]
    },
    {
      "cell_type": "code",
      "metadata": {
        "tags": [],
        "cell_id": "00039-0ecb7e6e-27c5-4038-9097-753a0e38f717",
        "id": "n1rTTyjFpoB1",
        "trusted": false,
        "colab_type": "code",
        "colab": {}
      },
      "source": [
        "new_train.loc[new_train.form_field1>=3500,'form_field1']=1"
      ],
      "execution_count": null,
      "outputs": []
    }
  ]
}